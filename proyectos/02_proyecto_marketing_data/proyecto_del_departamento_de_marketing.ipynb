{
 "cells": [
  {
   "cell_type": "markdown",
   "metadata": {},
   "source": [
    "<div align=\"center\">\n",
    "    <h1> <b>DEPARTAMENTO DE MARKETING</b></h1>\n",
    "    <h1> <b>PROYECTO DE SEGMENTACIÓN DE CLIENTES BANCARIOS</b></h1><br>\n",
    "</div>\n",
    "<div>\n",
    "    <h3> <b>Algoritmos: clustering con K-Means y Analisis de las Componentes Principales (PCA).</b></h3>\n",
    "</div>"
   ]
  },
  {
   "cell_type": "markdown",
   "metadata": {
    "id": "M27qF7CTrBqc",
    "jp-MarkdownHeadingCollapsed": true,
    "tags": []
   },
   "source": [
    "# 1. ENUNCIADO DEL PROBLEMA Y CASO PRÁCTICO."
   ]
  },
  {
   "cell_type": "markdown",
   "metadata": {
    "id": "Z2ZMlH-gtOxf"
   },
   "source": [
    "\n",
    "<table>\n",
    "  <tr><td>\n",
    "    <img src=\"https://drive.google.com/uc?id=1OjWCpwRHlCSNYaJoUUd2QGryT9CoQJ5e\"\n",
    "         alt=\"Fashion MNIST sprite\"  width=\"1000\">\n",
    "  </td></tr>\n",
    "  <tr><td align=\"center\">\n",
    "    <b>Figura 1. Segmentación de Clientes\n",
    "  </td></tr>\n",
    "</table>\n"
   ]
  },
  {
   "cell_type": "markdown",
   "metadata": {},
   "source": [
    "## 1.1 Entendimiento del Negocio."
   ]
  },
  {
   "cell_type": "markdown",
   "metadata": {
    "id": "yz94HFrMh28F"
   },
   "source": [
    "![alt text](https://drive.google.com/uc?id=1TlILFEVGZHessjmKkUMWL4NHlZ0DcHQb)"
   ]
  },
  {
   "cell_type": "markdown",
   "metadata": {
    "id": "O3vkL3mvlEh3"
   },
   "source": [
    "![alt text](https://drive.google.com/uc?id=1KaI1zjhARTFAs6X6VwqdsYZecd5EYDMw)"
   ]
  },
  {
   "cell_type": "markdown",
   "metadata": {},
   "source": [
    "## 1.2 Objetivo del Estudio."
   ]
  },
  {
   "cell_type": "markdown",
   "metadata": {
    "id": "vWfXjUMslMbQ"
   },
   "source": [
    "![alt text](https://drive.google.com/uc?id=1Q46sKROZf7jqKus0TfL7agQ5ZnzECiws)"
   ]
  },
  {
   "cell_type": "markdown",
   "metadata": {},
   "source": [
    "## 1.3 Características del Cliente."
   ]
  },
  {
   "cell_type": "markdown",
   "metadata": {
    "id": "j6EjJbb0lT10"
   },
   "source": [
    "![alt text](https://drive.google.com/uc?id=1zJX7y-J2jhIL17Lh7OroOZvrlblI0u1s)"
   ]
  },
  {
   "cell_type": "markdown",
   "metadata": {
    "id": "LoahpVBUldg5"
   },
   "source": [
    "![alt text](https://drive.google.com/uc?id=1L03HfNPXpLdLlKHk_I6FIj_ahPCuPL0S)"
   ]
  },
  {
   "cell_type": "markdown",
   "metadata": {
    "id": "BN1kxUYplkYJ"
   },
   "source": [
    "![alt text](https://drive.google.com/uc?id=1i-OPyUph2PGuuZ5FtN0hGX3BkEXCAQNM)"
   ]
  },
  {
   "cell_type": "markdown",
   "metadata": {
    "id": "G6tcZoAqIBS4"
   },
   "source": [
    "Data Source: https://www.kaggle.com/arjunbhasin2013/ccdata"
   ]
  },
  {
   "cell_type": "markdown",
   "metadata": {
    "id": "zKmFmyaGunc7",
    "jp-MarkdownHeadingCollapsed": true,
    "tags": []
   },
   "source": [
    "# 2. IMPORTAR LAS LIBRERÍAS. OBSERVACIONES PRINCIPALES DEL DATASET."
   ]
  },
  {
   "cell_type": "markdown",
   "metadata": {},
   "source": [
    "## 2.1 Importe de librerías."
   ]
  },
  {
   "cell_type": "code",
   "execution_count": null,
   "metadata": {
    "colab": {
     "base_uri": "https://localhost:8080/",
     "height": 52
    },
    "id": "S0Cx3743urFY",
    "outputId": "a80ea0ee-4e37-4d8e-bcce-8f09e1d78a94"
   },
   "outputs": [],
   "source": [
    "import pandas as pd\n",
    "import numpy as np\n",
    "import seaborn as sns\n",
    "import matplotlib.pyplot as plt\n",
    "from sklearn.preprocessing import StandardScaler, normalize # para escalar los datos\n",
    "from sklearn.cluster import KMeans # para realizar la reducción de dimension\n",
    "from sklearn.decomposition import PCA # analisis de componmentes principales"
   ]
  },
  {
   "cell_type": "markdown",
   "metadata": {},
   "source": [
    "## 2.2 Cargar y Leer el Dataset. Configuración de la vista."
   ]
  },
  {
   "cell_type": "code",
   "execution_count": null,
   "metadata": {
    "colab": {
     "base_uri": "https://localhost:8080/",
     "height": 35
    },
    "id": "5P_ciLXawMZg",
    "outputId": "d040e175-5619-4a1b-af23-3935b9b4744b"
   },
   "outputs": [],
   "source": [
    "# Leer el dataset\n",
    "df = pd.read_csv(\"marketing_data.csv\")\n",
    "# A mi me gusta ver todas las columnas, así que realizaré una modificación en la configuración de pandas.\n",
    "# Esta función recibe dos argumentos: el nombre de la opción y la cantidad de columnas que queremos visualizar. \n",
    "pd.set_option('display.max_columns',100) # lo mismo para las filas con max_rows\n",
    "df.head()"
   ]
  },
  {
   "cell_type": "markdown",
   "metadata": {},
   "source": [
    "## 2.3 Leyenda en español de las Columnas."
   ]
  },
  {
   "cell_type": "markdown",
   "metadata": {
    "id": "tjIiJdM4u1IE"
   },
   "source": [
    "##### CUSTID: Identificación del titular de la tarjeta de crédito\n",
    "##### BALANCE: Cantidad de saldo que queda en la cuenta del cliente para hacer compras\n",
    "##### BALANCE_FREQUENCY: Frecuencia de la actualización del saldo, puntuación entre 0 y 1 (1 = actualizado con frecuencia, 0 = no actualizado con frecuencia)\n",
    "##### PURCHASES: Cantidad de compras realizadas desde la cuenta\n",
    "##### ONEOFFPURCHASES: Importe máximo de compra realizado en una sola vez\n",
    "##### INSTALLMENTS_PURCHASES: Importe de la compra realizada en cuotas\n",
    "##### CASH_ADVANCE: Anticipo otorgado al usuario\n",
    "##### PURCHASES_FREQUENCY: frecuencia con la que se realizan las compras, puntuación entre 0 y 1 (1 = compras frecuentes, 0 = compras no frecuentes)\n",
    "##### PURCHASES_FREQUENCY: Frecuencia de las Compras se están realizando, puntuación entre 0 y 1 (1 = compra con frecuencia, 0 = no compra con frecuencia)\n",
    "##### ONEOFF_PURCHASES_FREQUENCY: Con qué frecuencia las compras se realizan de una sola vez (1 = compra con frecuencia, 0 = no compra con frecuencia)\n",
    "##### PURCHASES_INSTALLMENTS_FREQUENCY: Con qué frecuencia se realizan las compras a plazos (1 = se realizan con frecuencia, 0 = no se realizan con frecuencia)\n",
    "##### CASH_ADVANCE_FREQUENCY: con qué frecuencia el gasto se paga por adelantado\n",
    "##### CASH_ADVANCE_TRX: número de transacciones realizadas con \"Efectivo por adelantado\"\n",
    "##### PURCHASES_TRX: número de transacciones de compras realizadas\n",
    "##### CREDIT_LIMIT: límite de tarjeta de crédito para el usuario\n",
    "##### PAYMENTS: Número de pagos realizados por el usuario\n",
    "##### MINIMUM_PAYMENTS: cantidad mínima de pagos realizados por el usuario\n",
    "##### PRC_FULL_PAYMENT: porcentaje del pago total pagado por el usuario\n",
    "##### TENURE: Años que el usuario lleva usando el servicio de tarjeta de crédito"
   ]
  },
  {
   "cell_type": "markdown",
   "metadata": {},
   "source": [
    "## 2.4 Primeras descripciones y conclusiones."
   ]
  },
  {
   "cell_type": "code",
   "execution_count": null,
   "metadata": {
    "colab": {
     "base_uri": "https://localhost:8080/",
     "height": 435
    },
    "id": "6eNlcsldDYZY",
    "outputId": "7b7d506d-8294-4286-fb2e-6537ef5d57a6"
   },
   "outputs": [],
   "source": [
    "df.info()"
   ]
  },
  {
   "cell_type": "code",
   "execution_count": null,
   "metadata": {
    "colab": {
     "base_uri": "https://localhost:8080/",
     "height": 451
    },
    "id": "-0tFiVYSFSCV",
    "outputId": "452640df-791e-4791-b119-bb48b7945cea"
   },
   "outputs": [],
   "source": [
    "df.describe()"
   ]
  },
  {
   "cell_type": "code",
   "execution_count": null,
   "metadata": {},
   "outputs": [],
   "source": [
    "# La compra más alta efectuada de una sola vez es de 40761 dólares. ¿Quién hizo esta compra?\n",
    "df[df['ONEOFF_PURCHASES'] == 40761.25]"
   ]
  },
  {
   "cell_type": "code",
   "execution_count": null,
   "metadata": {
    "colab": {
     "base_uri": "https://localhost:8080/",
     "height": 35
    },
    "id": "RBiutRGLL9HH",
    "outputId": "61beb88b-ab24-480f-f354-8fb56503d3d3"
   },
   "outputs": [],
   "source": [
    "# El avance en efectovo más alto es de 47133 dólares. ¡Vamos a investigar quien ha hecho este avance!\n",
    "df[df['CASH_ADVANCE'] == 47137.21176]"
   ]
  },
  {
   "cell_type": "markdown",
   "metadata": {},
   "source": [
    "#### Al ejecutar el último código podemos observar:\n",
    "#####\n",
    "##### 1.- El cliente que hizo el avance más alto de todos.\n",
    "##### 2.- Realizó un total de 123 transacciones por adelantado.\n",
    "##### 3.- Tiene un saldo cómodo.\n",
    "##### 4.- Siempre mantiene un saldo actualizado.\n",
    "##### 5.- Ha realizado solo 432 vs las 49039 compras que realizó el cliente que más ha pagado por una sola compra.\n",
    "##### 6.- Pidió mucho dinero, si hablamos de 47137 dólares (aprox 41,6M de pesos).\n",
    "##### 7.- Reaiza compras con una frecuencia del 58%.\n",
    "##### 8.- La mitad del tiempo hace uso de sus tarjetas en compras vs el cliente anterior, que usa crédito para comprar el 92% de las veces.\n",
    "##### 9.- Paga siempre por adelantado vs el otro cliente que ha pagado por adelantado el 8% de las veces.\n",
    "#####\n",
    "##### Conclusión: podemos definir qué tipo de cliente es una persona al analizar sus datos. Por ejemplo, en este caso tenemos un cliente que siempre mantiene actualizada su tarjeta de crédito con bastante dinero. No es un cliente frecuente, pero si compra bastante, aunque solo la mitad de sus compras son realizadas con su tarjeta de crédito. Finalmente, realizó el avance más alto entre los 8950 clientes del dataset, pero se sabe que este cliente siempre paga por adelantado. ¿Qué tal? ¿Sabemos suficiente sobre este cliente?"
   ]
  },
  {
   "cell_type": "markdown",
   "metadata": {
    "id": "LlszUhNNyrl_",
    "tags": []
   },
   "source": [
    "# 3. VISUALIZACIÓN DEL DATASET"
   ]
  },
  {
   "cell_type": "markdown",
   "metadata": {},
   "source": [
    "## 3.1 Transformar entradas de texto en entradas numéricas."
   ]
  },
  {
   "cell_type": "code",
   "execution_count": null,
   "metadata": {},
   "outputs": [],
   "source": [
    "# En este data set no hay datos de tipo texto, sin contar a CUST_ID que será eliminado. \n",
    "\n",
    "# Si hubiera:\n",
    "# Ya que a veces algunas columnas son objetos, debemos cambiarlas a entero para poder visualizar.\n",
    "# Ejemplo: el data set \"jugadores\"\n",
    "# tiene una columna llamada \"seleccionado\" y las respuestas son YES and NO, entonces:\n",
    "# Primero revisamos cuántas respuestas del tipo texto hay en cada columna con el código:\n",
    "# jugadores['seleccionado'].value_counts()\n",
    "# Luego reemplazamos la columna en cuestión por enteros usando la función lambda.\n",
    "# jugadores['seleccionado'] = jugadores['seleccionado'].apply(lambda x: 1 if x == 'Yes' else 0)"
   ]
  },
  {
   "cell_type": "markdown",
   "metadata": {},
   "source": [
    "## 3.2 Revisión e imputación de nulos."
   ]
  },
  {
   "cell_type": "code",
   "execution_count": null,
   "metadata": {},
   "outputs": [],
   "source": []
  },
  {
   "cell_type": "markdown",
   "metadata": {},
   "source": [
    "### 3.2.1 Hallar nulos."
   ]
  },
  {
   "cell_type": "code",
   "execution_count": null,
   "metadata": {
    "colab": {
     "base_uri": "https://localhost:8080/",
     "height": 478
    },
    "id": "ICj3NLbqqmve",
    "outputId": "7db55ecc-738d-4b3d-9c1f-ef02f63f840c"
   },
   "outputs": [],
   "source": [
    "df.isna().sum().sort_values(ascending = False) # se buscan, se suman y se ordenan"
   ]
  },
  {
   "cell_type": "markdown",
   "metadata": {},
   "source": [
    "### 3.2.2 Mapa de calor de nulos."
   ]
  },
  {
   "cell_type": "code",
   "execution_count": null,
   "metadata": {
    "colab": {
     "base_uri": "https://localhost:8080/",
     "height": 363
    },
    "id": "70XopgWwMmHG",
    "outputId": "ba802af0-ce0d-4760-a691-f7fed3c16a9d"
   },
   "outputs": [],
   "source": [
    "sns.heatmap(df.isnull(), yticklabels=False, cbar=False, cmap='Reds') # no es muy útil a mi parecer"
   ]
  },
  {
   "cell_type": "markdown",
   "metadata": {},
   "source": [
    "### 3.2.3 Imputación de nulos."
   ]
  },
  {
   "cell_type": "markdown",
   "metadata": {},
   "source": [
    "##### 1.- Solo para datos numéricos se reemplazan los datos nulos directamente por la media o la media armónica según sea el caso.\n",
    "##### 2.- Para datos categóricos es conveniente reemplazar por la moda si es categórico nominal u ordinal, aunque también se podría reemplazar por la media, si fueran datos categóricos ordinales. Esto se debe decidir con cuidado para no alterar demasiado los resultados.\n",
    "##### 3.- También se puede eliminar la columna pero, generalmente, se perderían muchos datos importantes para el estudio.\n",
    "\n",
    "##### Existen dos formas de hacerlo:"
   ]
  },
  {
   "cell_type": "code",
   "execution_count": null,
   "metadata": {},
   "outputs": [],
   "source": [
    "# Forma 1: automática\n",
    "df.loc[(df['MINIMUM_PAYMENTS'].isnull() == True), 'MINIMUM_PAYMENTS'] = df['MINIMUM_PAYMENTS'].mean()\n",
    "df.loc[(df['CREDIT_LIMIT'].isnull() == True), 'CREDIT_LIMIT'] = df['CREDIT_LIMIT'].mean()"
   ]
  },
  {
   "cell_type": "code",
   "execution_count": null,
   "metadata": {},
   "outputs": [],
   "source": [
    "# Forma 2: manual\n",
    "# df['MINIMUM_PAYMENTS'].mean()\n",
    "# df['CREDIT_LIMIT'].mean()\n",
    "# Reemplazo en datos nulos de MINIMUM_PAYMENTS y CREDIT_LIMIT\n",
    "#data['MINIMUM_PAYMENTS'] = data['MINIMUM_PAYMENTS'].replace(np.nan,864.2065422944161)\n",
    "#data['CREDIT_LIMIT'] = data['CREDIT_LIMIT'].replace(np.nan,4494.449450364581)\n",
    "# Esto no es automático"
   ]
  },
  {
   "cell_type": "code",
   "execution_count": null,
   "metadata": {},
   "outputs": [],
   "source": [
    "# comprobar:\n",
    "df.isna().sum().sort_values(ascending = False)"
   ]
  },
  {
   "cell_type": "markdown",
   "metadata": {
    "id": "ciOq-cYxMw8P"
   },
   "source": [
    "## 3.3 Datos duplicados."
   ]
  },
  {
   "cell_type": "code",
   "execution_count": null,
   "metadata": {
    "colab": {
     "base_uri": "https://localhost:8080/",
     "height": 478
    },
    "id": "H-c9kqOSUU1t",
    "outputId": "bb072e83-00c0-40b1-e6fb-9b1b62d47771"
   },
   "outputs": [],
   "source": [
    "df.duplicated().sum()"
   ]
  },
  {
   "cell_type": "markdown",
   "metadata": {
    "colab": {
     "base_uri": "https://localhost:8080/",
     "height": 35
    },
    "id": "zFIXGFrucdCl",
    "outputId": "89f22519-6e04-4a95-e4d8-183d6ed67d7d"
   },
   "source": [
    "## 3.4 Eliminar datos inservibles."
   ]
  },
  {
   "cell_type": "code",
   "execution_count": null,
   "metadata": {
    "id": "onSLJRBtcohW"
   },
   "outputs": [],
   "source": [
    "# Podemos deshacernos del campo Customer ID porque no posee valor estadístico\n",
    "df.drop(['CUST_ID'], axis=1, inplace = True)"
   ]
  },
  {
   "cell_type": "code",
   "execution_count": null,
   "metadata": {
    "colab": {
     "base_uri": "https://localhost:8080/",
     "height": 218
    },
    "id": "PSzpvJgWcxnu",
    "outputId": "3666d1cf-3644-4732-f26b-923ff893889c"
   },
   "outputs": [],
   "source": [
    "# Revisar\n",
    "df.head()"
   ]
  },
  {
   "cell_type": "markdown",
   "metadata": {
    "colab": {
     "base_uri": "https://localhost:8080/",
     "height": 35
    },
    "id": "QIw-jGI9NOCg",
    "outputId": "0d1b2a7f-edbb-44bc-c346-134b5d46bf60"
   },
   "source": [
    "## 3.5 Observación de las columnas (variables, atributos, etc)."
   ]
  },
  {
   "cell_type": "code",
   "execution_count": null,
   "metadata": {
    "colab": {
     "base_uri": "https://localhost:8080/",
     "height": 145
    },
    "id": "fIOb3930ONKS",
    "outputId": "2acfc29e-7bb3-4454-cbbf-4a318dd50299"
   },
   "outputs": [],
   "source": [
    "# Cantidad de columnas\n",
    "cantidad_columnas = len(df.columns)\n",
    "cantidad_columnas"
   ]
  },
  {
   "cell_type": "code",
   "execution_count": null,
   "metadata": {},
   "outputs": [],
   "source": [
    "# Nombre de cada columna\n",
    "df.columns"
   ]
  },
  {
   "cell_type": "markdown",
   "metadata": {},
   "source": [
    "## 3.6 Graficos."
   ]
  },
  {
   "cell_type": "markdown",
   "metadata": {},
   "source": [
    "### 3.6.1 Gráfico KERNEL DENSITY ESTIMATE o gráfico de densidad de probabilidad de variable continua."
   ]
  },
  {
   "cell_type": "code",
   "execution_count": null,
   "metadata": {
    "colab": {
     "base_uri": "https://localhost:8080/",
     "height": 1000
    },
    "id": "rFmjikf6ONgu",
    "outputId": "2213ff5a-9b6a-4949-edf4-d43f5a56fe86"
   },
   "outputs": [],
   "source": [
    "# distplot combina la función matplotlib.hist con la de seaborn kdeplot()\n",
    "# KDE Plot representa la Kernel Density Estimate\n",
    "# KDE se utiliza para visualizar la densidad de una probabilidad de una variable continua. \n",
    "# KDE nos muestra la densidad de una probabilidad para diferentes valores de una variable continua. \n",
    "\n",
    "plt.figure(figsize=(10,25))\n",
    "for i in range(cantidad_columnas):\n",
    "    plt.subplot(cantidad_columnas,2,i+1) # filas, columnas, actual\n",
    "    sns.distplot(df[df.columns[i]], kde_kws = {'color':'r', 'lw':3, 'label': 'KDE'}, hist_kws = {'color':'b'})\n",
    "    plt.title(df.columns[i])\n",
    "\n",
    "    plt.tight_layout()\n",
    "    plt.legend()"
   ]
  },
  {
   "cell_type": "markdown",
   "metadata": {},
   "source": [
    "### 3.6.2 Histogramas."
   ]
  },
  {
   "cell_type": "code",
   "execution_count": null,
   "metadata": {},
   "outputs": [],
   "source": [
    "# Ahora que tenemos la seguridad de que no hay datos nulos, realizaremos un mapa global de nuestros datos.\n",
    "df.hist(bins = 30, figsize = (20, 20), color ='r')"
   ]
  },
  {
   "cell_type": "markdown",
   "metadata": {},
   "source": [
    "### 3.6.3 Conclusiones."
   ]
  },
  {
   "cell_type": "markdown",
   "metadata": {},
   "source": [
    "##### 1.- La mayoría  de los clientes tiene un saldo de 1000 dólares. Este saldo se distribuye de 0 a 5000 dólares entre todos los clientes y la mayoría de ellos, lo mantienen siempre actualizado.\n",
    "##### 2.- Los clientes realizan entre 0 y 3500 compras en este rango de tiempo, pero la mayoría de ellos no supera las 1000 compras. El importe máximo en una sola venta está entre 0 y 3000 dólares, pero nuevamente, la mayoría no supera los 1000 dólares.\n",
    "##### 4.- Las ventas que se producen usando la tarjeta de crédito rondan entre las 0 y 1500, estando la mayoría por debajo de las 500 ventas.\n",
    "##### 5.- Los avances en efectivos rondan entre 0 y 3000 dólares, estando la mayoría en torno a los 1500 dólares.\n",
    "##### 6.- La frecuencia de compras y la frecuencia de compras por adelantado son bimodales, dónde la gran mayoría de usuarios no compran o compran siempre\n",
    "##### 7.- Los clientes no hacen compras de grandes sumas de valor, la mayoría está entre 0 y 2%.\n",
    "##### 8.- Los clientes no piden avances en efectivo, encontrándose la mayoría entre 0 y 2%.\n",
    "##### 9.- La cantidad de transacciones realizadas es de 0 a 50 y las transacciones con dinero en efectivo por adelantado, entre 0 y 16.\n",
    "##### 10.- El límite de las tarjetas de crédito de los clientes en su mayoría es de 1500 dólares, pero se distribuyen entre los 1000 y los 10K dólares.\n",
    "##### 11.- Los pagos se distribuyen entre los 0 y los 5000 pagos aproximadamente y los pagos minimos entre 0 y 3000. Por otra parte, muy pocos clientes pagan su deuda por completo.\n",
    "##### 12.- La mayoría de clientes llevan 12 años usando el servicio."
   ]
  },
  {
   "cell_type": "markdown",
   "metadata": {},
   "source": [
    "## 3.7 Correlaciones."
   ]
  },
  {
   "cell_type": "markdown",
   "metadata": {},
   "source": [
    "### 3.7.1 Matriz de Correlación."
   ]
  },
  {
   "cell_type": "code",
   "execution_count": null,
   "metadata": {},
   "outputs": [],
   "source": [
    "correlations = df.corr()\n",
    "f, ax = plt.subplots(figsize = (12,7)) # grafico en forma de mapa de calor\n",
    "sns.heatmap(correlations, annot = True) # Pintar las correlations"
   ]
  },
  {
   "cell_type": "markdown",
   "metadata": {},
   "source": [
    "### 3.7.2 Correlaciones graficadas."
   ]
  },
  {
   "cell_type": "code",
   "execution_count": null,
   "metadata": {},
   "outputs": [],
   "source": [
    "sns.lmplot(x ='ONEOFF_PURCHASES', y ='PURCHASES', data = df, aspect = 1.5)\n",
    "sns.lmplot(x='PURCHASES_INSTALLMENTS_FREQUENCY', y='PURCHASES_FREQUENCY', data = df, aspect = 1.5)\n",
    "sns.lmplot(x='CASH_ADVANCE_TRX', y='CASH_ADVANCE_FREQUENCY', data = df, aspect = 1.5)"
   ]
  },
  {
   "cell_type": "markdown",
   "metadata": {},
   "source": [
    "### 3.7.3 Observaciones en la Matriz.\n",
    "\n",
    "##### 1.- ONEOFF_PURCHASES está altamente correlacionado PURCHASES\n",
    "##### 2.- PURCHASES_INSTALLMENTS_FREQUENCY está altamente correlacionado con PURCHASES_FREQUENCY\n",
    "##### 3.- CASH_ADVANCE_TRX está altamente correlacionado con CASH_ADVANCE_FREQUENCY"
   ]
  },
  {
   "cell_type": "markdown",
   "metadata": {
    "id": "QRSLmofOqJ2X"
   },
   "source": [
    "# 4. Machine Learning: K-means & PCA."
   ]
  },
  {
   "cell_type": "markdown",
   "metadata": {
    "id": "Snz86eQfl4Ma"
   },
   "source": [
    "![alt text](https://drive.google.com/uc?id=1T2vAOTCInx9l2S9b9H5xm-__h-RLRY5s)"
   ]
  },
  {
   "cell_type": "markdown",
   "metadata": {
    "id": "DwExHI2Ml9Cu"
   },
   "source": [
    "![alt text](https://drive.google.com/uc?id=1eXSerp2FQpxhAa355hKeVT0-tY94ixsw)"
   ]
  },
  {
   "cell_type": "markdown",
   "metadata": {
    "id": "0QemFDm2mEZT"
   },
   "source": [
    "![alt text](https://drive.google.com/uc?id=1D12cmll79HCx_Xbt3PSq51PnytJ7DhSr)"
   ]
  },
  {
   "cell_type": "markdown",
   "metadata": {
    "id": "oXKwrdX6mK2b"
   },
   "source": [
    "![alt text](https://drive.google.com/uc?id=1Syuco6pZ410oP6KbfgCH18s09eB4Hd2H)"
   ]
  },
  {
   "cell_type": "markdown",
   "metadata": {
    "id": "BT4AbAyumQYZ"
   },
   "source": [
    "![alt text](https://drive.google.com/uc?id=1DQ4KUV66YG-xnZ4xorQFgtkx5EbE2GLI)"
   ]
  },
  {
   "cell_type": "markdown",
   "metadata": {
    "id": "ZDFDdbvSmZf3"
   },
   "source": [
    "![alt text](https://drive.google.com/uc?id=1LzWnRt2w1bLUBGJ7tRK-b4Xudbx54H3D)"
   ]
  },
  {
   "cell_type": "markdown",
   "metadata": {
    "id": "fB7IVr8rmdG0"
   },
   "source": [
    "![alt text](https://drive.google.com/uc?id=1orzdGxbZPiWlLZcI7EKHAmhnz7T41cV_)"
   ]
  },
  {
   "cell_type": "markdown",
   "metadata": {
    "id": "mUfUdppimibu"
   },
   "source": [
    "![alt text](https://drive.google.com/uc?id=1ITLmp2XTCUFIM-BPpDWOYmfjxENxywer)"
   ]
  },
  {
   "cell_type": "markdown",
   "metadata": {
    "id": "Y0GmpAjG3GiH"
   },
   "source": [
    "# 5. Crear los data sets para posterior entrenamiento y testing. Normalización o escalamiento. Codo de Jambú."
   ]
  },
  {
   "cell_type": "markdown",
   "metadata": {
    "id": "axr926Btjyux"
   },
   "source": [
    "## 5.1 Escalar el dataset."
   ]
  },
  {
   "cell_type": "code",
   "execution_count": null,
   "metadata": {
    "colab": {
     "base_uri": "https://localhost:8080/",
     "height": 35
    },
    "id": "9CJeasg4kHyP",
    "outputId": "993d4310-d6cb-4dec-8b3a-1a1ffd56577e"
   },
   "outputs": [],
   "source": [
    "# Los números de cada variable son muy distintos entre si, por lo tanto:\n",
    "scaler = StandardScaler() # escalar variables\n",
    "df_scaled = scaler.fit_transform(df)"
   ]
  },
  {
   "cell_type": "code",
   "execution_count": null,
   "metadata": {
    "colab": {
     "base_uri": "https://localhost:8080/",
     "height": 254
    },
    "id": "FK5ggiVPsJE9",
    "outputId": "766300b7-7916-4343-d277-d88fcfba357e"
   },
   "outputs": [],
   "source": [
    "df_scaled.shape"
   ]
  },
  {
   "cell_type": "code",
   "execution_count": null,
   "metadata": {},
   "outputs": [],
   "source": [
    "df_scaled"
   ]
  },
  {
   "cell_type": "markdown",
   "metadata": {},
   "source": [
    "## 5.2 Graficar el codo de jambú."
   ]
  },
  {
   "cell_type": "code",
   "execution_count": null,
   "metadata": {},
   "outputs": [],
   "source": [
    "wcss1 = []\n",
    "\n",
    "for i in range(1,20):\n",
    "    kmeans = KMeans(n_clusters = i, max_iter = 300)\n",
    "    kmeans.fit(df_scaled) # Aquí anota que aplica K-means a la base de datos\n",
    "    wcss1.append(kmeans.inertia_)\n",
    "\n",
    "plt.plot(range(1,20),wcss1, 'bx-')\n",
    "plt.title('Codo de Jambú')\n",
    "plt.xlabel('Número de Clusters')\n",
    "plt.ylabel('WCSS') # Es un indicador de qué tan similares son los individuos dentro de los clusters\n",
    "plt.show()"
   ]
  },
  {
   "cell_type": "markdown",
   "metadata": {},
   "source": [
    "### 5.3 Observaciones y Conclusión."
   ]
  },
  {
   "cell_type": "markdown",
   "metadata": {
    "colab": {
     "base_uri": "https://localhost:8080/",
     "height": 295
    },
    "id": "1_nb-D8H3cK-",
    "outputId": "fb1cb9d3-c2a2-40df-f659-b84860fe3b59"
   },
   "source": [
    "##### Con el gráfico podemos ver que en x = 4 es donde se forma el codo de la curva.\n",
    "##### Sin embargo, según el profesor del curso, los valores no se reducen a una forma lineal hasta x = 8, por lo que él decide usar 8 clusteres.\n",
    "##### Yo usaré 4."
   ]
  },
  {
   "cell_type": "markdown",
   "metadata": {
    "id": "m_jo7mJ4C8R9"
   },
   "source": [
    "# 6. Aplicación del algoritmo de K-means."
   ]
  },
  {
   "cell_type": "markdown",
   "metadata": {},
   "source": [
    "## 6.1 Crear el modelo de entrenamiento."
   ]
  },
  {
   "cell_type": "code",
   "execution_count": null,
   "metadata": {
    "id": "qwzY8rj0uV-a"
   },
   "outputs": [],
   "source": [
    "kmeans = KMeans(4) # creación modelo\n",
    "kmeans.fit(df_scaled) # entrenamiento del modelo\n",
    "labels = kmeans.labels_ # guardamos las etiquetas que creó el modelo en labels"
   ]
  },
  {
   "cell_type": "markdown",
   "metadata": {},
   "source": [
    "## 6.2 Ver los Clusters."
   ]
  },
  {
   "cell_type": "code",
   "execution_count": null,
   "metadata": {},
   "outputs": [],
   "source": [
    "# Ver los labels\n",
    "labels"
   ]
  },
  {
   "cell_type": "code",
   "execution_count": null,
   "metadata": {},
   "outputs": [],
   "source": [
    "# Ver cantidad de etiquetas creadas\n",
    "labels.shape"
   ]
  },
  {
   "cell_type": "code",
   "execution_count": null,
   "metadata": {},
   "outputs": [],
   "source": [
    "# Etiqueta menor\n",
    "labels.min()"
   ]
  },
  {
   "cell_type": "code",
   "execution_count": null,
   "metadata": {},
   "outputs": [],
   "source": [
    "# Etiqueta mayor\n",
    "labels.max()"
   ]
  },
  {
   "cell_type": "code",
   "execution_count": null,
   "metadata": {
    "colab": {
     "base_uri": "https://localhost:8080/",
     "height": 35
    },
    "id": "dShNNvg09zH3",
    "outputId": "ad53824c-1563-480d-cfa2-68d6f0a8daa8"
   },
   "outputs": [],
   "source": [
    "# Ver los 8 baricentros de cada cluster\n",
    "kmeans.cluster_centers_.shape # muestra en este caso las 8 observaciones x 17 valores"
   ]
  },
  {
   "cell_type": "code",
   "execution_count": null,
   "metadata": {
    "colab": {
     "base_uri": "https://localhost:8080/",
     "height": 308
    },
    "id": "VEiPOUJv9iFK",
    "outputId": "0a7ae1dd-ae44-4828-c66f-81674b922b3b"
   },
   "outputs": [],
   "source": [
    "# Ver los centros de cada cluster\n",
    "cluster_centers = pd.DataFrame(data = kmeans.cluster_centers_, columns = [df.columns])      \n",
    "cluster_centers # cada fila del siguiente set sería un centroide del clustering"
   ]
  },
  {
   "cell_type": "markdown",
   "metadata": {},
   "source": [
    "### Observación: No es fácil entender estos valores (YA QUE SON VALORES ESCALADOS), por lo que conviene realizar la transformación inversa. ES DECIR, transformarlos nuevamente a su formato original."
   ]
  },
  {
   "cell_type": "markdown",
   "metadata": {},
   "source": [
    "## 6.3 Transformación Escalar Inverso."
   ]
  },
  {
   "cell_type": "code",
   "execution_count": null,
   "metadata": {
    "colab": {
     "base_uri": "https://localhost:8080/",
     "height": 308
    },
    "id": "9ogiZbsGBBl8",
    "outputId": "86905206-189c-4aac-f133-d2a418affc55"
   },
   "outputs": [],
   "source": [
    "cluster_centers =scaler.inverse_transform(cluster_centers) # transformación escalar inversa\n",
    "cluster_centers = pd.DataFrame(data = cluster_centers, columns = [df.columns]) #transformar a dataframe \n",
    "cluster_centers "
   ]
  },
  {
   "cell_type": "markdown",
   "metadata": {
    "colab": {
     "base_uri": "https://localhost:8080/",
     "height": 35
    },
    "id": "kCuHRqBIusm7",
    "outputId": "75ac5845-a674-456c-c186-28a6d205b5fa"
   },
   "source": [
    "## 6.4 Predicción o Segmentación de un cliente recién llegado."
   ]
  },
  {
   "cell_type": "markdown",
   "metadata": {},
   "source": [
    "##### 1.- Ahora podemos otorgar un cluster, no solo a las 8950 personas del dataframe, si no a cualquier otro cliente que se agregue a la empresa, es decir, a otro otro dataset con nuevas observaciones. Las escalamos usando el mismo scaler y así nos podemos quedar con la nueva etiqueta que le asiganríamos a esos nuevos clientes. Esto es verdaderamente muy sencillo, porque gracias al trabajo realizado, ahora somos capaces de llevar a cabo la transformación.\n",
    "##### 2.- En particular, como nuestros clientes ya los tenemos en el dataframe original, este es el momento perfecto para combinarlo todo y añadir la columna cluster al dataset, usando las labels que devuelve el algoritmo originalmente o usando el y_kmeans si queremos hacer una preddiccion final.\n",
    "##### En conclusión, las labels son las mismas etiquetas que se han ido asignando a cada una de las observaciones del dataframe como parte del proceso iterativo de kmeans y las y_kmeans es lo contrario, es decir, una vez que ya tenemos el cluster definido, si yo pusiera la observacion en ese espacio de 17 dimensiones, obtendríamos cual de los 4 centros le quedaría mas cerca a ese cliente."
   ]
  },
  {
   "cell_type": "code",
   "execution_count": null,
   "metadata": {
    "colab": {
     "base_uri": "https://localhost:8080/",
     "height": 35
    },
    "id": "Ywcls4cvu2lh",
    "outputId": "119a4986-5a2d-4cb1-89cf-5f9feed0ae5d"
   },
   "outputs": [],
   "source": [
    "y_kmeans = kmeans.fit_predict(df_scaled)\n",
    "y_kmeans"
   ]
  },
  {
   "cell_type": "markdown",
   "metadata": {
    "colab": {
     "base_uri": "https://localhost:8080/",
     "height": 35
    },
    "id": "NPQIMB7Fu9f3",
    "outputId": "f87706d9-b159-4acf-c277-31ec06feb0dc"
   },
   "source": [
    "## 6.5 Concatenar las etiquetas de clusters a la tabla original."
   ]
  },
  {
   "cell_type": "code",
   "execution_count": null,
   "metadata": {
    "colab": {
     "base_uri": "https://localhost:8080/",
     "height": 218
    },
    "id": "OfMaZqUOqdJB",
    "outputId": "02d3d94f-af82-4acc-f594-3fcef3717d50"
   },
   "outputs": [],
   "source": [
    "# Concatenamos las etiquetas (labels) de los clusters con el dataset original (df)\n",
    "df_cluster = pd.concat([df, pd.DataFrame({'CLUSTER':labels})], axis = 1)\n",
    "df_cluster.head()"
   ]
  },
  {
   "cell_type": "markdown",
   "metadata": {},
   "source": [
    "## 6.6 Definición de los grupos de clientes."
   ]
  },
  {
   "cell_type": "markdown",
   "metadata": {},
   "source": [
    "### 6.6.1 Visualización de los centroides."
   ]
  },
  {
   "cell_type": "code",
   "execution_count": null,
   "metadata": {},
   "outputs": [],
   "source": [
    "cluster_centers "
   ]
  },
  {
   "cell_type": "markdown",
   "metadata": {},
   "source": [
    "### 6.6.2 Frecuencia de cada Cluster."
   ]
  },
  {
   "cell_type": "code",
   "execution_count": null,
   "metadata": {},
   "outputs": [],
   "source": [
    "cantidad_clientes_0 = 0\n",
    "cantidad_clientes_1 = 0\n",
    "cantidad_clientes_2 = 0\n",
    "cantidad_clientes_3 = 0\n",
    "for i in df_cluster['CLUSTER']:\n",
    "    if i == 0:\n",
    "        cantidad_clientes_0 += 1\n",
    "    elif i == 1:\n",
    "        cantidad_clientes_1 += 1\n",
    "    elif i == 2:\n",
    "        cantidad_clientes_2 += 1\n",
    "    else:\n",
    "        cantidad_clientes_3 += 1    \n",
    "print('Cluster 0: {} clientes. \\nCluster 1: {} clientes. \\nCluster 2: {} clientes. \\nCluster 3: {} clientes.'.format(cantidad_clientes_0,cantidad_clientes_1,cantidad_clientes_2,cantidad_clientes_3))"
   ]
  },
  {
   "cell_type": "markdown",
   "metadata": {
    "colab": {
     "base_uri": "https://localhost:8080/",
     "height": 1000
    },
    "id": "TYEhR6rvqwda",
    "outputId": "4b579090-42a0-4c8a-cf84-7efb6192a7e1"
   },
   "source": [
    "### 6.6.3 Visualización de histogramas para cada cluster."
   ]
  },
  {
   "cell_type": "code",
   "execution_count": null,
   "metadata": {},
   "outputs": [],
   "source": [
    "# 1.- Realizaremos un gráfico para cada cluster de cada variable, es decir, 8 gráficos para cada columna.\n",
    "# 2.- \n",
    "for i in df.columns:\n",
    "    plt.figure(figsize = (35,5)) # grafico\n",
    "    for j in range(4): # 4 gráficos para cada una de las columnas del bucle anterior\n",
    "        plt.subplot(1,4,j+1) # dibujar en 1 fila, 8 columnas, donde el actual sea j+1\n",
    "        cluster = df_cluster[df_cluster['CLUSTER'] == j] # me quedo con los clientes marcados en el cluster j-ésimo\n",
    "        cluster[i].hist(bins = 20) # dibujamos un histograma para la columna i-ésima, con el número total de divisiones sea de 20, para compararlos graficamente entre sí\n",
    "        plt.title('{}      \\nCluster {}'.format(i,j)) # título para cada gráfico\n",
    "    plt.show()"
   ]
  },
  {
   "cell_type": "markdown",
   "metadata": {},
   "source": [
    "### 6.6.4 Definición de los grupos de clientes."
   ]
  },
  {
   "cell_type": "markdown",
   "metadata": {},
   "source": [
    "#### CLUSTER 0. NOMBRE DEL GRUPO: CLIENTES DE ALTO VOLUMEN DE AVANCES Y PROPENSOS AL NO PAGO (1198 clientes)\n",
    "##### 1.- Cuentan con el saldo más alto, siendo este 4600 dolares promedio, con una concentración de 1000 a 10000 dolares y actualizado casi siempre.\n",
    "##### 2.- Tienen en promedio 500 compras realizadas en su cuenta, aunque la mayoría compra muy poco. Su compra máxima no sobrepasa los 3000, con un promedio de 320 dolares.\n",
    "##### 3.- Casi no usan la tarjeta de crédito, en promedio realizan 180 compras a plazo.\n",
    "##### 4.- Es el grupo que pide más cantidad de dinero en avances en efectivo, en promedio 4500 dolares, con un rango de 0 a 10k dolares.\n",
    "##### 5.- Son compradores poco frecuentes. La frecuencia de compra \"one punch\" es de un 14%. Nunca usan crédito para comprar. En promedio, piden avances de efectivo con una frecuencia del 50%.\n",
    "##### 6.- Son los que realizan más transacciones con efectivo por adelantado (14). Cantidad total promedio de transacciones 7, que se mueven entre 0 y 30, con un tope de 60.\n",
    "##### 7.- Límite tarjeta: 7550 dolares, tope máximo del grupo: 20k.\n",
    "##### 8.- Realizan casi 3.5k pagos. Son los que realizan más pagos mínimos junto al grupo del saldo más alto. Son los que tienen menor porcentaje del pago total.\n",
    "##### 9.- Aproximadamente 950 personas llevan 12 años en la empresa, el resto se divide de forma equilibrada entre los 6 y 11 años.\n",
    "    \n",
    "\n",
    "#### CLUSTER 1. NOMBRE DEL GRUPO: CLIENTES POTENCIALES PROMEDIO (3366 clientes)\n",
    "##### 1.- Cuentan con el saldo más bajo, siendo este de 900 dolares promedio, más de la mitad de ellos en torno a cero, concentrado de 0 a 3000 dolares y actualizado casi siempre.\n",
    "##### 2.- A pesar de ser los de menor saldo, compran dos veces más que el grupo de saldo más alto, con un rango de 0 a 5000 ventas. Son capaces de gastar entre 1000 y 2000 dolares de una vez, con un promedio de 600 dolares.\n",
    "##### 3.- En promedio realizan 640 compras a plazo, pero casi la mitad de ellos realiza entre 600 y 2500 compras.\n",
    "##### 4.- Es el grupo que pide menos cantidad de dinero en avances en efectivo, en promedio 210 dolares.\n",
    "##### 5.- Son compradores frecuentes, un 30% de las veces compran de una vez. La mitad de ellos siempre usa crédito para comprar, los demás no siempre. Casi nunca piden anticipo de efectivo.\n",
    "##### 6.- Casi no realizan transacciones con efectivo por adelantado. Cantidad total promedio de transacciones 22, que se mueven entre 0 y 37, con un tope de 110.\n",
    "##### 7.- Límite tarjeta: 4200 dolares, tope máximo del grupo: 20k.\n",
    "##### 8.- Realizan pocos pagos y pagos mínimos. Tienen un buen porcentaje de pago total. \n",
    "##### 9.- Casi 3000 personas llevan 12 años en la empresa (90%), el resto se divide de forma equilibrada entre los 6 y 11 años.\n",
    "\n",
    "\n",
    "#### CLUSTER 2. NOMBRE DEL GRUPO: CLIENTES POTENCIALES DE ALTO VOLUMEN (409 clientes)\n",
    "##### 1.- Cuentan con un saldo alto, en torno a los 3500 dolares, con una concentración de 0 a 10000 dolares y siempre actualizado.\n",
    "##### 2.- Son los que más realizan compras (7600), sin embargo algunos sobrepasan las 20k, 30k, incluso las 40k ventas. Son los más capaces para realizar compras grandes de una sola vez, pueden gastar entre 1000 y 10000 dolares e incluso 15k, 25k o 40k, con un promedio de 5100 dolares.\n",
    "##### 3.- En promedio, son los que más realizan compras a plazo (2600), pero existen clientes que realizan de 10k a 15k.\n",
    "##### 4.- Casi nunca piden avances en efectivo. Piden sumas medias avance cuando lo hacen, en promedio 650 dolares. \n",
    "##### 5.- Son los compradores más frecuentes, con un 74%. Casi siempre usan crédito para comprar.\n",
    "##### 6.- Casi no realizan transacciones con efectivo por adelantado. Cantidad total promedio de transacciones 89 (los reyes), que se mueven entre 0 y 150, con un tope de 350.\n",
    "##### 7.- Tienen el límite de tarjeta más alto: 9700 dolares y un tope máximo de grupo de 30K (el más alto también).\n",
    "##### 8.- Realizan más de 7k pagos. Son los que realizan más pagos mínimos junto al grupo del saldo más alto. Son los que tienen mayor porcentaje del pago total.\n",
    "##### 9.- Casi todos los clientes de este grupo llevan 12 años en la empresa.\n",
    "\n",
    "\n",
    "#### CLUSTER 3. NOMBRE DEL GRUPO: CLIENTES INACTIVOS Y PROPENSOS AL NO PAGO (3977 clientes)\n",
    "##### 1.- Cuentan con un saldo bajo de 1000 dolares promedio, con una concentración de 0 a 3000 dolares y con la tasa más baja de los 4 grupos en actualizar su saldo.\n",
    "##### 2.- Son los que menos compras tienen asociadas a su cuenta (270 compras), al menos 2550 de ellos casi no compran y el rango de venta es de 0 a 1400. Son los clientes que no realizan grandes compras de una vez (210 dolares).\n",
    "##### 3.- Casi no usan la tarjeta.\n",
    "##### 4.- Piden sumas medias de dinero como avance, en promedio 600 dolares.\n",
    "##### 5.- Son los compradores menos frecuentes, la mitad de ellos casi no compra, la frecuencia de \"one punch\" es de un 9%. Nunca usan crédito para comprar. Piden muy poco anticipo de efectivo.\n",
    "##### 6.- Casi no realizan transacciones con efectivo por adelantado. Cantidad total promedio de transacciones 3, que se mueven entre 0 y 8, con un tope de 15.\n",
    "##### 7.- Límite tarjeta: 3280 dolares, tope máximo del grupo: 17k.\n",
    "##### 8.- Son los que realizan menos pagos y pagos mínimos. Además, tienen un bajísimo niveld de porcentaje del pago total.\n",
    "##### 9.- Aproximadamente 3300 personas llevan 12 años en la empresa, el resto se divide de forma equilibrada entre los 6 y 11 años.\n"
   ]
  },
  {
   "cell_type": "markdown",
   "metadata": {
    "id": "UVTd7FYLNCAE"
   },
   "source": [
    "# 7. Aplicar PCA (análisis de las componentes principales)."
   ]
  },
  {
   "cell_type": "markdown",
   "metadata": {
    "id": "FXUfg8Camz1s"
   },
   "source": [
    "![alt text](https://drive.google.com/uc?id=17b_4GsvzJmWt9cnPOcgSGmEelagGSbtL)"
   ]
  },
  {
   "cell_type": "markdown",
   "metadata": {},
   "source": [
    "## 7.1 Obtener las componentes principales."
   ]
  },
  {
   "cell_type": "code",
   "execution_count": null,
   "metadata": {
    "colab": {
     "base_uri": "https://localhost:8080/",
     "height": 145
    },
    "id": "RgFq3h993cIz",
    "outputId": "958d6d2a-ed63-4f10-c4f1-c9a0dfcea829"
   },
   "outputs": [],
   "source": [
    "pca = PCA(n_components = 2)\n",
    "principal_components = pca.fit_transform(df_scaled)\n",
    "principal_components"
   ]
  },
  {
   "cell_type": "markdown",
   "metadata": {},
   "source": [
    "## 7.2 Crear dataframe con las componentes principales."
   ]
  },
  {
   "cell_type": "code",
   "execution_count": null,
   "metadata": {
    "colab": {
     "base_uri": "https://localhost:8080/",
     "height": 198
    },
    "id": "ad3UQtPU0eHK",
    "outputId": "6dfab91d-2d54-40f2-9f14-0d66beb50251"
   },
   "outputs": [],
   "source": [
    "pca_df = pd.DataFrame(data = principal_components, columns = ['pca1','pca2'])\n",
    "pca_df.head()"
   ]
  },
  {
   "cell_type": "markdown",
   "metadata": {},
   "source": [
    "## 7.3 Concatenar las componentes principales con las etiquetas de los clusters."
   ]
  },
  {
   "cell_type": "code",
   "execution_count": null,
   "metadata": {
    "colab": {
     "base_uri": "https://localhost:8080/",
     "height": 198
    },
    "id": "q7gsGkEZvkYd",
    "outputId": "93aaaa3d-e020-4cd8-ddc0-32c37734df6e"
   },
   "outputs": [],
   "source": [
    "pca_df = pd.concat([pca_df, pd.DataFrame({'CLUSTER':labels})], axis = 1 )\n",
    "pca_df.head()"
   ]
  },
  {
   "cell_type": "markdown",
   "metadata": {},
   "source": [
    "## 7.4 Visualización."
   ]
  },
  {
   "cell_type": "markdown",
   "metadata": {},
   "source": [
    "### 7.4.1 Primer método."
   ]
  },
  {
   "cell_type": "code",
   "execution_count": null,
   "metadata": {
    "colab": {
     "base_uri": "https://localhost:8080/",
     "height": 606
    },
    "id": "4KYt5SUrvneq",
    "outputId": "8325d4ff-2d51-41b5-b77a-e3571db9463b"
   },
   "outputs": [],
   "source": [
    "fig = plt.figure(figsize = (6,6)) #creamos una figura de 6x6\n",
    "\n",
    "ax = fig.add_subplot(1,1,1) #indicamos que haremos solo un gráfico dentro de la figura\n",
    "ax.set_xlabel('pca1', fontsize = 10) #nombres del eje x\n",
    "ax.set_ylabel('pca2', fontsize = 10) #nombre del eje y\n",
    "ax.set_title('Componentes Principales', fontsize = 20) #nombre del gráfico\n",
    "\n",
    "color_theme = np.array(['blue', 'green', 'orange','red','yellow','brown','black','pink']) #creamos un array con ocho colores para cada cluster\n",
    "ax.scatter(x = pca_df.pca1, y = pca_df.pca2,\n",
    "          c = color_theme[pca_df.CLUSTER], s = 10)\n",
    "#dibujar los puntos que representarán los vinos con scatter\n",
    "#agregamos los valores de las columnas componentes\n",
    "#usamos el parámetro c para indicarle los colores que deseamos para los puntos\n",
    "# esta información se encuentra en KMeans_Clusters del objeto pca_nombres_vinos\n",
    "# el tamaño de los puntos a graficar será de 50\n",
    "\n",
    "plt.show()"
   ]
  },
  {
   "cell_type": "markdown",
   "metadata": {},
   "source": [
    "### 7.4.2 Segundo método."
   ]
  },
  {
   "cell_type": "code",
   "execution_count": null,
   "metadata": {},
   "outputs": [],
   "source": [
    "# Mucho más corto que el anterior y con puntos bordeados\n",
    "plt.figure(figsize = (6, 6))\n",
    "ax = sns.scatterplot(x = 'pca1', y = 'pca2', hue = 'CLUSTER', data = pca_df, palette = ['blue', 'green', 'orange','red','yellow','brown','black','pink'], s = 10)\n",
    "plt.show()"
   ]
  }
 ],
 "metadata": {
  "colab": {
   "provenance": []
  },
  "kernelspec": {
   "display_name": "Python 3 (ipykernel)",
   "language": "python",
   "name": "python3"
  },
  "language_info": {
   "codemirror_mode": {
    "name": "ipython",
    "version": 3
   },
   "file_extension": ".py",
   "mimetype": "text/x-python",
   "name": "python",
   "nbconvert_exporter": "python",
   "pygments_lexer": "ipython3",
   "version": "3.9.13"
  }
 },
 "nbformat": 4,
 "nbformat_minor": 4
}
