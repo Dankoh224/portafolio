{
 "cells": [
  {
   "cell_type": "markdown",
   "metadata": {},
   "source": [
    "<div align=\"center\">\n",
    "    <h1> <b>DEPARTAMENTO DE VENTAS</b></h1>\n",
    "    <h1> <b>PROYECTO DE PRONÓSTICO DE VENTAS FUTURAS</b></h1><br>\n",
    "</div>\n",
    "<div>\n",
    "    <h3> <b>Algoritmos: Series temporales.</b></h3>\n",
    "</div>"
   ]
  },
  {
   "cell_type": "markdown",
   "metadata": {
    "id": "M27qF7CTrBqc"
   },
   "source": [
    "# 1. ENUNCIADO DEL PROBLEMA Y CASO PRÁCTICO."
   ]
  },
  {
   "cell_type": "markdown",
   "metadata": {
    "id": "Z2ZMlH-gtOxf"
   },
   "source": [
    "\n",
    "<table>\n",
    "  <tr><td>\n",
    "    <img src=\"https://drive.google.com/uc?id=1l7bHyrjzq839zVZE06cfdDksLabCN2hg\"\n",
    "         alt=\"Fashion MNIST sprite\"  width=\"1000\">\n",
    "  </td></tr>\n",
    "  <tr><td align=\"center\">\n",
    "    <b>Figura 1. Prediccion de Ventas Futuras usando Series Temporales\n",
    "  </td></tr>\n",
    "</table>\n"
   ]
  },
  {
   "cell_type": "markdown",
   "metadata": {},
   "source": [
    "## 1.1 Entendimiento del Negocio y Objetivo del Proyecto."
   ]
  },
  {
   "cell_type": "markdown",
   "metadata": {
    "id": "3O2y6H5Sk9dS"
   },
   "source": [
    "![alt text](https://drive.google.com/uc?id=179967pYtO8DZkFIiqkzKeDXpzKF13KE9)"
   ]
  },
  {
   "cell_type": "markdown",
   "metadata": {
    "id": "653W5Abck9mf"
   },
   "source": [
    "![alt text](https://drive.google.com/uc?id=1MHVbje9FNlAbo-LOMlCvSYfpgzW7PQ4y)"
   ]
  },
  {
   "cell_type": "markdown",
   "metadata": {},
   "source": [
    "## 1.2 Características del Cliente."
   ]
  },
  {
   "cell_type": "markdown",
   "metadata": {
    "id": "TkKF3voY7_r5"
   },
   "source": [
    "![alt text](https://drive.google.com/uc?id=1DC-hoQNAxfDXEn91_BTF2B8qH904N8yq)"
   ]
  },
  {
   "cell_type": "markdown",
   "metadata": {
    "id": "J2xNWhFz7_20"
   },
   "source": [
    "![alt text](https://drive.google.com/uc?id=1sM7eT88kpVmNMl7wJy0Jq0X_w-r783JF)"
   ]
  },
  {
   "cell_type": "markdown",
   "metadata": {
    "id": "-5jwMD3w8Aa2"
   },
   "source": [
    "![alt text](https://drive.google.com/uc?id=1E6qCyK6SjFany6QsXw8lUc77CSOgjTkj)"
   ]
  },
  {
   "cell_type": "markdown",
   "metadata": {
    "id": "zKmFmyaGunc7"
   },
   "source": [
    "# 2. IMPORTAR LAS LIBRERÍAS Y LOS DATASETS."
   ]
  },
  {
   "cell_type": "markdown",
   "metadata": {},
   "source": [
    "## 2.1 Importe de librerías."
   ]
  },
  {
   "cell_type": "code",
   "execution_count": null,
   "metadata": {
    "id": "S0Cx3743urFY"
   },
   "outputs": [],
   "source": [
    "import pandas as pd\n",
    "import numpy as np\n",
    "import seaborn as sns\n",
    "import matplotlib.pyplot as plt\n",
    "import datetime"
   ]
  },
  {
   "cell_type": "markdown",
   "metadata": {},
   "source": [
    "## 2.2 Cargar y Leer el Dataset."
   ]
  },
  {
   "cell_type": "code",
   "execution_count": null,
   "metadata": {
    "id": "5P_ciLXawMZg"
   },
   "outputs": [],
   "source": [
    "# Leer el dataset\n",
    "ventas = pd.read_csv('train.csv')\n",
    "pd.set_option('display.max_columns',100) # lo mismo para las filas con max_rows\n",
    "ventas"
   ]
  },
  {
   "cell_type": "markdown",
   "metadata": {},
   "source": [
    "## 2.3 Leyenda."
   ]
  },
  {
   "cell_type": "code",
   "execution_count": null,
   "metadata": {},
   "outputs": [],
   "source": [
    "ventas.columns"
   ]
  },
  {
   "cell_type": "markdown",
   "metadata": {},
   "source": [
    "#### Casi un millón de observaciones\n",
    "#### 1115 tiendas únicas \n",
    "#### Notemos que las ventas es la variable objetivo (la que intentamos predecir)\n",
    "\n",
    "#### Id:  ID de transacción (combinación de la tienda y la fecha)\n",
    "#### Store: identificador único de la tienda\n",
    "#### Sales: ventas diarias, esta es la variable objetivo\n",
    "#### Customers: número de clientes de un día dado\n",
    "#### Open: Booleano para indicar si la tienda estaba abierta o cerrada (0 = cerrada, 1 = abierta)\n",
    "#### Promo: describe si la tienda tenía algún tipo de promoción ese día o no\n",
    "#### StateHoliday: indica si el día era festivo o no (a = vacaciones públicas, b = vacaciones de Pascua holiday, c = Navidades, 0 = No era festivo)\n",
    "#### SchoolHoliday: indica si (Store, Date) se ve afectado por el cierre de las escuelas públicas\n",
    "#### Fuente original de los datos: https://www.kaggle.com/c/rossmann-store-sales/data"
   ]
  },
  {
   "cell_type": "markdown",
   "metadata": {},
   "source": [
    "## 2.4 Primeras descripciones y conclusiones."
   ]
  },
  {
   "cell_type": "code",
   "execution_count": null,
   "metadata": {},
   "outputs": [],
   "source": [
    "ventas.info()"
   ]
  },
  {
   "cell_type": "markdown",
   "metadata": {},
   "source": [
    "#### Tenemos 9 variables, dos objetos: Date y StateHoliday y siete enteros."
   ]
  },
  {
   "cell_type": "code",
   "execution_count": null,
   "metadata": {},
   "outputs": [],
   "source": [
    "ventas.describe()"
   ]
  },
  {
   "cell_type": "markdown",
   "metadata": {},
   "source": [
    "### Conclusiones:\n",
    "##### 1.- Cantidad de ventas promedio por día = 5773 Euros\n",
    "##### 2.- Ventas mínimas por día = 0, ventas máximas por día = 41551\n",
    "##### 3.- Promedio de clientes = 633, número mínimo de clientes = 0, número máximo de clientes = 7388"
   ]
  },
  {
   "cell_type": "markdown",
   "metadata": {},
   "source": [
    "## 2.5 Cargar segundo dataset y Leer el Dataset."
   ]
  },
  {
   "cell_type": "code",
   "execution_count": null,
   "metadata": {
    "id": "tjIiJdM4u1IE"
   },
   "outputs": [],
   "source": [
    "# Leer el dataset\n",
    "tiendas = pd.read_csv(\"store.csv\")\n",
    "tiendas"
   ]
  },
  {
   "cell_type": "markdown",
   "metadata": {
    "id": "RUt2ON_UxyYk"
   },
   "source": [
    "## 2.6 Leyenda."
   ]
  },
  {
   "cell_type": "code",
   "execution_count": null,
   "metadata": {},
   "outputs": [],
   "source": [
    "tiendas.columns"
   ]
  },
  {
   "cell_type": "markdown",
   "metadata": {},
   "source": [
    "##### StoreType: categoría que indica el tipo de tienda (a, b, c, d)\n",
    "##### Assortment:  a = básico, b = extra, c = extedido\n",
    "##### CompetitionDistance (en metros): distancia a la tienda de la competencia más cercana\n",
    "##### CompetitionOpenSince [Mes/Año]:  fecha en que abrió la competencia\n",
    "##### Promo2: Promo2 es una promoción continuada y consecutiva en algunas tiendas (0 = la tienda no participa, 1 = la tienda participa)\n",
    "##### Promo2Since [Año/Semana]: fecha en la que la tienda empieza a participar en la Promo2\n",
    "##### PromoInterval: describe los intervalos consecutivos donde la Promo2 empieza, indicando los meses en los que empieza la misma. P.e. \"Feb,May,Aug,Nov\" significa que cada nueva ronda de promoción empieza en Febrero, Mayo, Agosto, Noviembre de cualquier año de esa tienda\n"
   ]
  },
  {
   "cell_type": "markdown",
   "metadata": {},
   "source": [
    "## 2.7 Primeras descripciones y conclusiones."
   ]
  },
  {
   "cell_type": "code",
   "execution_count": null,
   "metadata": {},
   "outputs": [],
   "source": [
    "tiendas.info()"
   ]
  },
  {
   "cell_type": "markdown",
   "metadata": {
    "id": "hMq3-KWOx0e1"
   },
   "source": [
    "#### 10 columnas en total, 5 flotantes, 2 enteros y 3 objetos."
   ]
  },
  {
   "cell_type": "code",
   "execution_count": null,
   "metadata": {},
   "outputs": [],
   "source": [
    "tiendas.describe()"
   ]
  },
  {
   "cell_type": "markdown",
   "metadata": {
    "id": "s0E9xPLdx2Ok"
   },
   "source": [
    "### Conclusiones:\n",
    "##### 1.- Distancia promedio de la competencia: 5404 metros, competencia a menor distancia: 20 metros, competencia a mayor distancia: 75860 metros. \n",
    "##### 2.- En promedio, las competencias abren en julio, y la mayoría lo hace entre abril y mediados de octubre.\n",
    "##### 3.- En promedio, las tiendas fueron abiertas en 2008 y la mayoría lo hizo entre medidados de 2002 y finales de 2014. Una tienda abrió en 1900.\n",
    "##### 4.- En promedio, la mitad de las tiendas tienen promo2.\n",
    "##### 5.- En promedio, las tiendas comenzaron a tener la promo 2 en el año 2011, pero la mayoría la obtuvo entre 2010 y 2013."
   ]
  },
  {
   "cell_type": "markdown",
   "metadata": {
    "id": "eJ8D_qIRalvY"
   },
   "source": [
    "\n"
   ]
  },
  {
   "cell_type": "markdown",
   "metadata": {
    "id": "LlszUhNNyrl_",
    "tags": []
   },
   "source": [
    "# 3. VISUALIZACIÓN DE LOS DATASET."
   ]
  },
  {
   "cell_type": "markdown",
   "metadata": {
    "id": "DDuw6cEkZehx",
    "tags": []
   },
   "source": [
    "## 3.1 Explorar data set de ventas."
   ]
  },
  {
   "cell_type": "markdown",
   "metadata": {},
   "source": [
    "### 3.1.1 Hallar nulos."
   ]
  },
  {
   "cell_type": "code",
   "execution_count": null,
   "metadata": {
    "id": "wThGn_F4k60c"
   },
   "outputs": [],
   "source": [
    "# Veamos si nos faltan datos (cantidad de datos nulos)\n",
    "# Se puede revisar y contar cuántos son usando la función .isna y también se puede ordenar en forma\n",
    "# ascendente.\n",
    "ventas.isna().sum().sort_values(ascending = False)"
   ]
  },
  {
   "cell_type": "markdown",
   "metadata": {},
   "source": [
    "### 3.1.2 Observar histogramas."
   ]
  },
  {
   "cell_type": "code",
   "execution_count": null,
   "metadata": {},
   "outputs": [],
   "source": [
    "# Observaremos los histogramas de cada variable para decidir si eliminar alguna de ellas...\n",
    "ventas.hist(bins = 30, figsize = (20, 20), color ='r')"
   ]
  },
  {
   "cell_type": "markdown",
   "metadata": {
    "id": "t3BY8FxelGIP"
   },
   "source": [
    "### Conclusiones.\n",
    "##### 1.- Los datos se distribuyen por igual en varios días de la semana.\n",
    "##### 2.- La mayoría de las ventas se encuentran entre los 3000 y 12000 Euros.\n",
    "##### 3.- Promedio de 600 clientes por día, la mayoría entre 0 y 4500.\n",
    "##### 4.- Las tiendas están abiertas aproximadamente el 80% del tiempo.\n",
    "##### 5.- La promoción # 1 se ejecutó aproximadamente el 40% del tiempo.\n",
    "##### 6.- Los datos se distribuyen por igual entre todas las tiendas (sin sesgo)\n",
    "##### 7.- Las vacaciones escolares duran alrededor del 18% del tiempo."
   ]
  },
  {
   "cell_type": "markdown",
   "metadata": {
    "id": "kP8opr7YzJ_d"
   },
   "source": [
    "### 3.1.3 Separar la variable OPEN."
   ]
  },
  {
   "cell_type": "code",
   "execution_count": null,
   "metadata": {
    "id": "-5qvu70o5oAI"
   },
   "outputs": [],
   "source": [
    "# Contamos el número de tiendas abiertas y cerradas.\n",
    "open_df = ventas[ventas['Open'] == 1]\n",
    "close_df = ventas[ventas['Open'] == 0]\n",
    "print(\"La cantidad de informes que se han recolectado entre todas las tiendas son {}, \"\n",
    "      \"la cantidad de informes generados los días que han abierto las tiendas son {} \"\n",
    "      \"y la cantidad de informes generados los días que las tiendas han cerrado son {}.\".format(len(ventas),len(open_df),len(close_df)))\n",
    "\n",
    "print(\"Por lo tanto, un {:.1f}% de los informes entregan información de cuando la tienda permanecía \"\n",
    "      \"cerrada.\".format(len(close_df)*100/len(ventas)))# Número de cierre / número total"
   ]
  },
  {
   "cell_type": "code",
   "execution_count": null,
   "metadata": {
    "id": "BfDQRuNj4_b8"
   },
   "outputs": [],
   "source": [
    "# Nos quedaremos solo con un dataset de informes de los días que las tiendas estuvieron abiertas.\n",
    "ventas = ventas[ventas['Open'] == 1]\n",
    "ventas"
   ]
  },
  {
   "cell_type": "code",
   "execution_count": null,
   "metadata": {
    "id": "GvRoygK4pf7M"
   },
   "outputs": [],
   "source": [
    "# Eliminar columna open, ya que ahora no tiene sentido.\n",
    "ventas.drop(['Open'], axis = 1, inplace=True)\n",
    "ventas"
   ]
  },
  {
   "cell_type": "code",
   "execution_count": null,
   "metadata": {
    "id": "jI5r7ZM5pwM6"
   },
   "outputs": [],
   "source": [
    "# Revisamos los cambios al eliminar los días en los que no hubo ventas, no hubo clientes, etc.\n",
    "ventas.describe()"
   ]
  },
  {
   "cell_type": "markdown",
   "metadata": {
    "id": "B5SXd3txxv7V"
   },
   "source": [
    "### Observación.\n",
    "#### Ventas promedio = 6955 Euros, número promedio de clientes = 762.\n",
    "#### Los promedios en la información del dataset han subido."
   ]
  },
  {
   "cell_type": "markdown",
   "metadata": {
    "id": "DDuw6cEkZehx",
    "tags": []
   },
   "source": [
    "## 3.2 Explorar data set de tiendas."
   ]
  },
  {
   "cell_type": "markdown",
   "metadata": {},
   "source": [
    "### 3.2.1 Hallar nulos."
   ]
  },
  {
   "cell_type": "code",
   "execution_count": null,
   "metadata": {
    "id": "wThGn_F4k60c"
   },
   "outputs": [],
   "source": [
    "# Veamos si nos faltan datos (cantidad de datos nulos)\n",
    "# Se puede revisar y contar cuántos son usando la función .isna y también se puede ordenar en forma\n",
    "# ascendente.\n",
    "tiendas.isna().sum().sort_values(ascending = False)"
   ]
  },
  {
   "cell_type": "markdown",
   "metadata": {},
   "source": [
    "### 3.2.2 Imputación de nulos."
   ]
  },
  {
   "cell_type": "code",
   "execution_count": null,
   "metadata": {},
   "outputs": [],
   "source": [
    "# Imputaremos los valores de promos y de apertura de la competencia por cero. Esto, dado que los datos nulos en las\n",
    "# promos'Promo2SinceWeek', 'Promo2SinceYear' y 'PromoInterval', se condicen, al ser la misma tienda que no realiza\n",
    "# promociones. Esto quiere decir que cualquier otro número para imputar, por ejemplo el promedio, afectaría\n",
    "# inconsistentemente a las conclusiones que se desprendan. \n",
    "tiendas.loc[(tiendas['Promo2SinceWeek'].isnull() == True), 'Promo2SinceWeek'] = 0\n",
    "tiendas.loc[(tiendas['Promo2SinceYear'].isnull() == True), 'Promo2SinceYear'] = 0\n",
    "tiendas.loc[(tiendas['PromoInterval'].isnull() == True), 'PromoInterval'] = 0\n",
    "\n",
    "# Lo mismo pasa con la fecha de apertura, ya que se tiene la distancia de la competición, pero no la fecha de apertura,\n",
    "# cosa que significaría que no es un problema de distancia el hecho de no saber cual es la fecha de apertura de la\n",
    "# competencia.\n",
    "tiendas.loc[(tiendas['CompetitionOpenSinceMonth'].isnull() == True), 'CompetitionOpenSinceMonth'] = 0\n",
    "tiendas.loc[(tiendas['CompetitionOpenSinceYear'].isnull() == True), 'CompetitionOpenSinceYear'] = 0\n",
    "\n",
    "# Con la distancia de la competencia, se puede reemplazar tranquilamente por el promedio. Solo son 3 datos y tiene\n",
    "# sentido reemplazar por la media.\n",
    "tiendas.loc[(tiendas['CompetitionDistance'].isnull() == True), 'CompetitionDistance'] = tiendas['CompetitionDistance'].mean"
   ]
  },
  {
   "cell_type": "code",
   "execution_count": null,
   "metadata": {},
   "outputs": [],
   "source": [
    "# Revisamos:\n",
    "tiendas.isna().sum().sort_values(ascending = False)"
   ]
  },
  {
   "cell_type": "markdown",
   "metadata": {},
   "source": [
    "### 3.2.2 Observar histogramas."
   ]
  },
  {
   "cell_type": "code",
   "execution_count": null,
   "metadata": {},
   "outputs": [],
   "source": [
    "# Observaremos los histogramas de cada variable para decidir si eliminar alguna de ellas...\n",
    "tiendas.hist(bins = 30, figsize = (20, 20), color ='r')"
   ]
  },
  {
   "cell_type": "markdown",
   "metadata": {
    "id": "i6sJonGln2iC"
   },
   "source": [
    "## 3.3 EXPLORAR DATASET COMBINADO."
   ]
  },
  {
   "cell_type": "markdown",
   "metadata": {},
   "source": [
    "### 3.3.1 Combinar ambos datasets con un inner y la columna 'Store'."
   ]
  },
  {
   "cell_type": "code",
   "execution_count": null,
   "metadata": {
    "id": "Gkuk3GM2ucpc"
   },
   "outputs": [],
   "source": [
    "ventas_tiendas = pd.merge(ventas, tiendas, how='inner', on='Store') # (df1, df2, inter o union, columna Foreing Key)"
   ]
  },
  {
   "cell_type": "code",
   "execution_count": null,
   "metadata": {
    "id": "fyhB3BGku-Ny"
   },
   "outputs": [],
   "source": [
    "# revisar\n",
    "ventas_tiendas"
   ]
  },
  {
   "cell_type": "markdown",
   "metadata": {},
   "source": [
    "### 3.3.2 Guardar en  Csv (por si acaso)"
   ]
  },
  {
   "cell_type": "code",
   "execution_count": null,
   "metadata": {},
   "outputs": [],
   "source": [
    "ventas_tiendas.to_csv('test.csv', index=False)"
   ]
  },
  {
   "cell_type": "markdown",
   "metadata": {
    "id": "c6UiAqTkKD85"
   },
   "source": [
    "### 3.3.3 Correlación de las variables con la variable 'Sales'."
   ]
  },
  {
   "cell_type": "code",
   "execution_count": null,
   "metadata": {},
   "outputs": [],
   "source": [
    "correlations = ventas_tiendas.corr()['Sales'].sort_values()\n",
    "correlations"
   ]
  },
  {
   "cell_type": "markdown",
   "metadata": {},
   "source": [
    "### Conclusiones.\n",
    "##### 1.- Los días de la semana, el momento del año en el que se realiza la promoción y la promo 2, están negativamente relacionadas con las ventas.\n",
    "##### 2.- Los clientes y la promoción se correlacionan positivamente con las ventas."
   ]
  },
  {
   "cell_type": "markdown",
   "metadata": {},
   "source": [
    "### 3.3.4 Matriz de correlaciones."
   ]
  },
  {
   "cell_type": "code",
   "execution_count": null,
   "metadata": {},
   "outputs": [],
   "source": [
    "correlations = ventas_tiendas.corr()\n",
    "f, ax = plt.subplots(figsize=(8,6))\n",
    "sns.heatmap(correlations, annot=True)"
   ]
  },
  {
   "cell_type": "markdown",
   "metadata": {},
   "source": [
    "### Conclusiones.\n",
    "##### 1.- Claramente, los clientes se relacionan con las ventas.\n",
    "##### 2.- Hay una leve relación entre las promos y las ventas.\n",
    "##### 3.- El año de apertura de la competencia se relaciona con el mes de la apertura de la competencia, lógico.\n",
    "##### 4.- La semana de la promoción 2 se relaciona con la promo 2, lógico.\n",
    "##### 5.- El año de la promoción 2 se relaciona con la promo 2 y con la semana de la promo 2, lógico.\n"
   ]
  },
  {
   "cell_type": "markdown",
   "metadata": {
    "id": "hKVqck-sqn-k"
   },
   "source": [
    "## 3.4 Análisis temporal."
   ]
  },
  {
   "cell_type": "markdown",
   "metadata": {
    "id": "hKVqck-sqn-k"
   },
   "source": [
    "### 3.4.1 Separar fecha en columnas."
   ]
  },
  {
   "cell_type": "code",
   "execution_count": null,
   "metadata": {
    "id": "YH1shh1grvs4"
   },
   "outputs": [],
   "source": [
    "# partimos con el año\n",
    "ventas_tiendas['Year'] = pd.DatetimeIndex(ventas_tiendas['Date']).year"
   ]
  },
  {
   "cell_type": "code",
   "execution_count": null,
   "metadata": {},
   "outputs": [],
   "source": [
    "# Revisamos.\n",
    "ventas_tiendas.head()"
   ]
  },
  {
   "cell_type": "code",
   "execution_count": null,
   "metadata": {
    "id": "nybqRzqAr67_"
   },
   "outputs": [],
   "source": [
    "# Hacemos lo mismo para el mes.\n",
    "ventas_tiendas['Month'] = pd.DatetimeIndex(ventas_tiendas['Date']).month\n",
    "ventas_tiendas.head()"
   ]
  },
  {
   "cell_type": "code",
   "execution_count": null,
   "metadata": {
    "id": "IdRdqBWhsEkj"
   },
   "outputs": [],
   "source": [
    "# Para el día.\n",
    "ventas_tiendas['Day'] = pd.DatetimeIndex(ventas_tiendas['Date']).day\n",
    "ventas_tiendas.head()"
   ]
  },
  {
   "cell_type": "code",
   "execution_count": null,
   "metadata": {},
   "outputs": [],
   "source": [
    "# Y la semana.\n",
    "ventas_tiendas['Week'] = pd.DatetimeIndex(ventas_tiendas['Date']).week\n",
    "ventas_tiendas.head()"
   ]
  },
  {
   "cell_type": "markdown",
   "metadata": {
    "id": "hKVqck-sqn-k"
   },
   "source": [
    "### 3.4.2 Graficar ventas y clientes temporalmente."
   ]
  },
  {
   "cell_type": "markdown",
   "metadata": {},
   "source": [
    "### Ventas y clientes promedio por mes."
   ]
  },
  {
   "cell_type": "code",
   "execution_count": null,
   "metadata": {
    "id": "obSN0pN3sP_L"
   },
   "outputs": [],
   "source": [
    "# 'groupby' funciona muy bien al agrupar todos los datos que comparten la misma columna del mes, luego obtener la media de la columna de ventas\n",
    "axis = ventas_tiendas.groupby('Month')[['Sales']].mean().plot(figsize=(15,2), marker='o', color='r')\n",
    "axis.set_title('Ventas promedio por Mes')\n",
    "plt.figure()\n",
    "axis = ventas_tiendas.groupby('Month')[['Customers']].mean().plot(figsize=(15,2), marker='o', color='b')\n",
    "axis.set_title('Clientes promedio por Mes')"
   ]
  },
  {
   "cell_type": "markdown",
   "metadata": {},
   "source": [
    "### Ventas y clientes promedio por día."
   ]
  },
  {
   "cell_type": "code",
   "execution_count": null,
   "metadata": {},
   "outputs": [],
   "source": [
    "axis = ventas_tiendas.groupby('Day')[['Sales']].mean().plot(figsize=(15,2), marker='o', color='r')\n",
    "axis.set_title('Ventas promedio por Día')\n",
    "plt.figure()\n",
    "axis = ventas_tiendas.groupby('Day')[['Customers']].mean().plot(figsize=(15,2), marker='o', color='b')\n",
    "axis.set_title('Clientes promedio por Día')"
   ]
  },
  {
   "cell_type": "markdown",
   "metadata": {},
   "source": [
    "### Ventas y clientes promedio por año."
   ]
  },
  {
   "cell_type": "code",
   "execution_count": null,
   "metadata": {},
   "outputs": [],
   "source": [
    "axis = ventas_tiendas.groupby('Year')[['Sales']].mean().plot(figsize=(15,2), marker='o', color='r')\n",
    "axis.set_title('Ventas promedio por Año')\n",
    "plt.figure()\n",
    "axis = ventas_tiendas.groupby('Year')[['Customers']].mean().plot(figsize=(15,2), marker='o', color='b')\n",
    "axis.set_title('Clientes promedio por Año')"
   ]
  },
  {
   "cell_type": "markdown",
   "metadata": {},
   "source": [
    "### Ventas y clientes promedio por Día de la Semana (L,M,M, etc)."
   ]
  },
  {
   "cell_type": "code",
   "execution_count": null,
   "metadata": {},
   "outputs": [],
   "source": [
    "axis = ventas_tiendas.groupby('DayOfWeek')[['Sales']].mean().plot(figsize=(15,2), marker='o', color='r')\n",
    "axis.set_title('Ventas promedio por Día de la Semana')\n",
    "plt.figure()\n",
    "axis = ventas_tiendas.groupby('DayOfWeek')[['Customers']].mean().plot(figsize=(15,2), marker='o', color='b')\n",
    "axis.set_title('Clientes promedio por Día de la Semana')"
   ]
  },
  {
   "cell_type": "markdown",
   "metadata": {},
   "source": [
    "### Ventas y clientes promedio por Tipo de Tienda y por Semana."
   ]
  },
  {
   "cell_type": "code",
   "execution_count": null,
   "metadata": {
    "id": "5OHUts90uLkp"
   },
   "outputs": [],
   "source": [
    "fig, ax = plt.subplots(figsize=(10,2))\n",
    "ventas_tiendas.groupby(['Week','StoreType']).mean()['Sales'].unstack().plot(ax=ax)\n",
    "ax.set_title('Ventas promedio por Tipo de Tienda y Semana')\n",
    "plt.figure()\n",
    "fig, ax = plt.subplots(figsize=(10,2))\n",
    "ventas_tiendas.groupby(['Week','StoreType']).mean()['Customers'].unstack().plot(ax=ax)\n",
    "ax.set_title('Clientes promedio por Tipo de Tienda y Semana')"
   ]
  },
  {
   "cell_type": "markdown",
   "metadata": {},
   "source": [
    "### Ventas y clientes promedio por Tipo de Tienda y por Fecha."
   ]
  },
  {
   "cell_type": "code",
   "execution_count": null,
   "metadata": {
    "id": "kxG6ejjM4QIu"
   },
   "outputs": [],
   "source": [
    "fig, ax = plt.subplots(figsize=(10,2))\n",
    "ventas_tiendas.groupby(['Date','StoreType']).mean()['Sales'].unstack().plot(ax=ax)\n",
    "ax.set_title('Ventas promedio por Tipo de Tienda y Fecha')\n",
    "plt.figure()\n",
    "fig, ax = plt.subplots(figsize=(10,2))\n",
    "ventas_tiendas.groupby(['Date','StoreType']).mean()['Customers'].unstack().plot(ax=ax)\n",
    "ax.set_title('Clientes promedio por Tipo de Tienda y Fecha')"
   ]
  },
  {
   "cell_type": "markdown",
   "metadata": {},
   "source": [
    "### Ventas y clientes promedio por Promo."
   ]
  },
  {
   "cell_type": "code",
   "execution_count": null,
   "metadata": {},
   "outputs": [],
   "source": [
    "plt.figure(figsize=(10,8))\n",
    "plt.subplot(211)\n",
    "sns.barplot(x='Promo', y='Sales', data=ventas_tiendas)\n",
    "\n",
    "plt.subplot(212)\n",
    "sns.barplot(x='Promo', y='Customers', data=ventas_tiendas)"
   ]
  },
  {
   "cell_type": "code",
   "execution_count": null,
   "metadata": {},
   "outputs": [],
   "source": [
    "plt.figure(figsize=(10,8))\n",
    "plt.subplot(211)\n",
    "sns.barplot(x='Promo2', y='Sales', data=ventas_tiendas)\n",
    "\n",
    "plt.subplot(212)\n",
    "sns.barplot(x='Promo2', y='Customers', data=ventas_tiendas)"
   ]
  },
  {
   "cell_type": "markdown",
   "metadata": {},
   "source": [
    "### Ventas y clientes promedio por Promo vista distribución."
   ]
  },
  {
   "cell_type": "code",
   "execution_count": null,
   "metadata": {},
   "outputs": [],
   "source": [
    "plt.figure(figsize=(10,8))\n",
    "\n",
    "plt.subplot(211)\n",
    "sns.violinplot(x='Promo', y='Sales', data=ventas_tiendas)\n",
    "\n",
    "plt.subplot(212)\n",
    "sns.violinplot(x='Promo', y='Customers', data=ventas_tiendas)"
   ]
  },
  {
   "cell_type": "code",
   "execution_count": null,
   "metadata": {},
   "outputs": [],
   "source": [
    "plt.figure(figsize=(10,8))\n",
    "plt.subplot(211)\n",
    "sns.violinplot(x='Promo2', y='Sales', data=ventas_tiendas)\n",
    "\n",
    "plt.subplot(212)\n",
    "sns.violinplot(x='Promo2', y='Customers', data=ventas_tiendas)"
   ]
  },
  {
   "cell_type": "markdown",
   "metadata": {
    "id": "53qDZFRn3-S1"
   },
   "source": [
    "# 4. ENTENDER LA INTUICIÓN DETRÁS DE FACEBOOK PROPHET."
   ]
  },
  {
   "cell_type": "markdown",
   "metadata": {
    "id": "aabh8NCIlzGJ"
   },
   "source": [
    "![alt text](https://drive.google.com/uc?id=1zk5cwXQvqci6hOwXoTSU0DY0Dpt1jNF0)"
   ]
  },
  {
   "cell_type": "markdown",
   "metadata": {
    "id": "OEaG3L1Rl4oi"
   },
   "source": [
    "![alt text](https://drive.google.com/uc?id=10HNgyFmM1CG6yzSxpFudunUaHKNV_xBT)"
   ]
  },
  {
   "cell_type": "markdown",
   "metadata": {
    "id": "rW-8HbAdmAwA"
   },
   "source": [
    "![alt text](https://drive.google.com/uc?id=1BhEzmHYh_HKDWGz4eXP-clF7KAxJ_Od7)"
   ]
  },
  {
   "cell_type": "markdown",
   "metadata": {
    "id": "rD7llllklpEG"
   },
   "source": [
    "# 5. ENTRENAR EL MODELO, PRIMERA PARTE."
   ]
  },
  {
   "cell_type": "markdown",
   "metadata": {},
   "source": [
    "## 5.1 Instalar e importar Prophet."
   ]
  },
  {
   "cell_type": "code",
   "execution_count": null,
   "metadata": {
    "id": "pCw6Tq60DCRI"
   },
   "outputs": [],
   "source": [
    "!pip install fbprophet\n",
    "from prophet import Prophet"
   ]
  },
  {
   "cell_type": "markdown",
   "metadata": {
    "id": "k2Zv3i-mBbC_"
   },
   "source": [
    "## 5.2 Preparar la estructura de las columnas para Facebook Prophet"
   ]
  },
  {
   "cell_type": "markdown",
   "metadata": {},
   "source": [
    "#### Facebook Prophet funciona solo con la variable ds (predictora) e y (predicción). Por lo que hay que hacer cambios a la estructura del dataframe. Es una exigencia que tiene el algoritmo y siempre debe ser así. Por lo tanto, para que toda la lógica quepa en un mismo sitio, crearemos una función."
   ]
  },
  {
   "cell_type": "code",
   "execution_count": null,
   "metadata": {},
   "outputs": [],
   "source": [
    "def sales_predictions(Store_ID, sales_df, periods): # tienda a predecir,dataset y periodo en días \n",
    "    sales_df= sales_df[sales_df['Store'] == Store_ID] # filtrar del dataset original, sólo el Store_ID del parámetro\n",
    "    sales_df= sales_df[['Date','Sales']].rename(columns= {'Date': 'ds', 'Sales':'y'}) # renombrar según exigencia de Prophet\n",
    "    sales_df = sales_df.sort_values('ds') # ordena ascendentemente mediante el campo de las fechas 'ds'\n",
    "    return sales_df"
   ]
  },
  {
   "cell_type": "code",
   "execution_count": null,
   "metadata": {},
   "outputs": [],
   "source": [
    "# revisar.\n",
    "df = sales_predictions(10, ventas_tiendas, 60)\n",
    "df"
   ]
  },
  {
   "cell_type": "markdown",
   "metadata": {},
   "source": [
    "#### Luego de definir en la función nuestro dataset con las variables ds e y, continuaremos creando el modelo."
   ]
  },
  {
   "cell_type": "code",
   "execution_count": null,
   "metadata": {},
   "outputs": [],
   "source": [
    "def sales_predictions(Store_ID, sales_df, periods):\n",
    "    sales_df= sales_df[sales_df['Store'] == Store_ID]\n",
    "    sales_df= sales_df[['Date','Sales']].rename(columns= {'Date': 'ds', 'Sales':'y'})\n",
    "    sales_df = sales_df.sort_values('ds')\n",
    "    \n",
    "    model  = Prophet() # importar el modelo\n",
    "    model.fit(sales_df) # ajuste con ds e y\n",
    "    future = model.make_future_dataframe(periods = periods) # modelo que hará la predicción a futuro\n",
    "                                                            # con la cantidad de días después del último día\n",
    "                                                            # estas son las nuevas variables predictoras (eje x)\n",
    "    forecast = model.predict(future) # pronóstico donde el modelo realiza la predicción de 'future' (eje y)\n",
    "\n",
    "    # graficar la predicción\n",
    "    figure = model.plot(forecast, xlabel='Fecha', ylabel='Ventas') # puntos reales del dataset\n",
    "    figure2 = model.plot_components(forecast) # banda de confianza donde se muestre la tendencia de ese pronóstico a futuro"
   ]
  },
  {
   "cell_type": "code",
   "execution_count": null,
   "metadata": {},
   "outputs": [],
   "source": [
    "sales_predictions(10, ventas_tiendas, 60)"
   ]
  },
  {
   "cell_type": "markdown",
   "metadata": {
    "id": "XgNgJ_VvIG1w"
   },
   "source": [
    "# TAREA # 6: ENTRENAR AL MODELO PARTE B"
   ]
  },
  {
   "cell_type": "markdown",
   "metadata": {
    "id": "KIPJxfxZJI6S"
   },
   "source": [
    "- StateHoliday: indica si el día era festivo o no (a = vacaciones públicas, b = vacaciones de Pascua holiday, c = Navidades, 0 = No era festivo)\n",
    "- SchoolHoliday: indica si (Store, Date) se ve afectado por el cierre de las escuelas públicas\n",
    "  \n",
    "\n",
    "\n",
    "\n",
    "\n"
   ]
  },
  {
   "cell_type": "code",
   "execution_count": null,
   "metadata": {
    "id": "E2NgKTupBa9S"
   },
   "outputs": [],
   "source": []
  },
  {
   "cell_type": "code",
   "execution_count": null,
   "metadata": {
    "id": "K2JIwssFIkEL"
   },
   "outputs": [],
   "source": [
    "# Obtener todas las fechas relacionadas con las vacaciones escolares"
   ]
  },
  {
   "cell_type": "code",
   "execution_count": null,
   "metadata": {
    "id": "D8GT7wzdKQUE"
   },
   "outputs": [],
   "source": []
  },
  {
   "cell_type": "code",
   "execution_count": null,
   "metadata": {
    "id": "QEkc-IKLKQ6g"
   },
   "outputs": [],
   "source": [
    "# Obtener todas las fechas correspondientes a los festivos estatales\n"
   ]
  },
  {
   "cell_type": "code",
   "execution_count": null,
   "metadata": {
    "id": "YPYEYvU0MC7y"
   },
   "outputs": [],
   "source": []
  },
  {
   "cell_type": "code",
   "execution_count": null,
   "metadata": {
    "id": "WJVGG2xJMf3S"
   },
   "outputs": [],
   "source": []
  },
  {
   "cell_type": "code",
   "execution_count": null,
   "metadata": {
    "id": "ap59cCGLMrRm"
   },
   "outputs": [],
   "source": []
  },
  {
   "cell_type": "code",
   "execution_count": null,
   "metadata": {
    "id": "wGXuPQJLM33f"
   },
   "outputs": [],
   "source": []
  },
  {
   "cell_type": "code",
   "execution_count": null,
   "metadata": {
    "id": "uJ1nRbgaKQ9U"
   },
   "outputs": [],
   "source": [
    "# Concatenamos las vacaciones escolares y los festivos estatales\n"
   ]
  },
  {
   "cell_type": "code",
   "execution_count": null,
   "metadata": {
    "id": "oCZbAdZ9NYIt"
   },
   "outputs": [],
   "source": []
  },
  {
   "cell_type": "code",
   "execution_count": null,
   "metadata": {
    "id": "20StJuEQNfDx"
   },
   "outputs": [],
   "source": [
    "# Hagamos predicciones usando días festivos para una tienda específica\n"
   ]
  },
  {
   "cell_type": "markdown",
   "metadata": {
    "id": "0qi5JcBAQN0K"
   },
   "source": [
    "# BUEN TRABAJO!!!"
   ]
  },
  {
   "cell_type": "code",
   "execution_count": null,
   "metadata": {},
   "outputs": [],
   "source": []
  }
 ],
 "metadata": {
  "colab": {
   "provenance": []
  },
  "kernelspec": {
   "display_name": "Python 3 (ipykernel)",
   "language": "python",
   "name": "python3"
  },
  "language_info": {
   "codemirror_mode": {
    "name": "ipython",
    "version": 3
   },
   "file_extension": ".py",
   "mimetype": "text/x-python",
   "name": "python",
   "nbconvert_exporter": "python",
   "pygments_lexer": "ipython3",
   "version": "3.9.12"
  }
 },
 "nbformat": 4,
 "nbformat_minor": 4
}
