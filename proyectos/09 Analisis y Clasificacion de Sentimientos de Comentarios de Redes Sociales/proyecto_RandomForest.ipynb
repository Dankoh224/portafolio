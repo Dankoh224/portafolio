{
 "cells": [
  {
   "cell_type": "markdown",
   "id": "828ef64f-6b36-4a41-a654-2ef3b085a523",
   "metadata": {},
   "source": [
    "<div align=\"center\">\n",
    "    <h2> <b>DESAFÍO</b></h2>\n",
    "    <font size = \"5\">\n",
    "    <h1> <b>PROYECTO DE CLASIFICACIÓN DE TEXTO</b></h1><br>\n",
    "</div>\n",
    "<div>\n",
    "    <h3> <b>Algoritmos: Clasificación usando Máquinas de Soporte Vectorial con 3000 registros.</b></h3>\n",
    "</div>"
   ]
  },
  {
   "cell_type": "markdown",
   "id": "ecdc8f33-0f9f-4603-9fa0-634990005395",
   "metadata": {},
   "source": [
    "<table>\n",
    "  <tr><td>\n",
    "    <img src=\"emotion.jpg\"\n",
    "         alt=\"emociones de intensamente en el panel de control\"  width=\"650\">\n",
    "  </td></tr>\n",
    "  <tr><td align=\"center\">\n",
    "    <b>Figura 1. Emociones queriendo ser transformadas en etiquetas mediante un modelo de Machine Learning. \n",
    "  </td></tr>\n",
    "</table>"
   ]
  },
  {
   "cell_type": "markdown",
   "id": "e7766417-3b0a-4bb0-b0ca-7b34b131ecef",
   "metadata": {
    "tags": []
   },
   "source": [
    "# I° Parte: Preparación de los datos y creación del modelo de machine learning."
   ]
  },
  {
   "cell_type": "markdown",
   "id": "0b5b1f63-1d1e-4a43-9f7b-48def6bb1f33",
   "metadata": {
    "jp-MarkdownHeadingCollapsed": true,
    "tags": []
   },
   "source": [
    "## 1) Importar librerías y dataset."
   ]
  },
  {
   "cell_type": "code",
   "execution_count": 1,
   "id": "1e5fbbe7-12e9-4dfa-9352-e389ddbaceef",
   "metadata": {},
   "outputs": [],
   "source": [
    "# Importe de librerías de data análisis.\n",
    "import numpy as np\n",
    "import matplotlib.pyplot as plt\n",
    "import pandas as pd"
   ]
  },
  {
   "cell_type": "code",
   "execution_count": 2,
   "id": "5e534434-ac7b-4269-8bfb-9fe0cc163c25",
   "metadata": {},
   "outputs": [],
   "source": [
    "# Importe de librerías de preprocesado y de machine learning.\n",
    "from sklearn.preprocessing import MultiLabelBinarizer\n",
    "from sklearn.model_selection import train_test_split\n",
    "from sklearn.multiclass import OneVsRestClassifier"
   ]
  },
  {
   "cell_type": "code",
   "execution_count": 3,
   "id": "196015c1-b771-4f88-aa7a-ac17c2175894",
   "metadata": {},
   "outputs": [],
   "source": [
    "# Lectura del archivo train.csv.\n",
    "dataset = pd.read_csv('text_classification_train.csv')\n",
    "pd.set_option('display.max_columns',100) # ajuste para ver 100 columnas.\n",
    "pd.set_option('display.max_rows',10) # ajuste para ver 10 filas."
   ]
  },
  {
   "cell_type": "code",
   "execution_count": 4,
   "id": "24fab181-bb6e-464f-a6fb-cfe465026997",
   "metadata": {},
   "outputs": [
    {
     "data": {
      "text/html": [
       "<div>\n",
       "<style scoped>\n",
       "    .dataframe tbody tr th:only-of-type {\n",
       "        vertical-align: middle;\n",
       "    }\n",
       "\n",
       "    .dataframe tbody tr th {\n",
       "        vertical-align: top;\n",
       "    }\n",
       "\n",
       "    .dataframe thead th {\n",
       "        text-align: right;\n",
       "    }\n",
       "</style>\n",
       "<table border=\"1\" class=\"dataframe\">\n",
       "  <thead>\n",
       "    <tr style=\"text-align: right;\">\n",
       "      <th></th>\n",
       "      <th>text</th>\n",
       "      <th>emotion</th>\n",
       "      <th>id</th>\n",
       "    </tr>\n",
       "  </thead>\n",
       "  <tbody>\n",
       "    <tr>\n",
       "      <th>0</th>\n",
       "      <td>My favourite food is anything I didn't have to...</td>\n",
       "      <td>27</td>\n",
       "      <td>eebbqej</td>\n",
       "    </tr>\n",
       "    <tr>\n",
       "      <th>1</th>\n",
       "      <td>Now if he does off himself, everyone will thin...</td>\n",
       "      <td>27</td>\n",
       "      <td>ed00q6i</td>\n",
       "    </tr>\n",
       "    <tr>\n",
       "      <th>2</th>\n",
       "      <td>WHY THE FUCK IS BAYLESS ISOING</td>\n",
       "      <td>2</td>\n",
       "      <td>eezlygj</td>\n",
       "    </tr>\n",
       "    <tr>\n",
       "      <th>3</th>\n",
       "      <td>To make her feel threatened</td>\n",
       "      <td>14</td>\n",
       "      <td>ed7ypvh</td>\n",
       "    </tr>\n",
       "    <tr>\n",
       "      <th>4</th>\n",
       "      <td>Dirty Southern Wankers</td>\n",
       "      <td>3</td>\n",
       "      <td>ed0bdzj</td>\n",
       "    </tr>\n",
       "    <tr>\n",
       "      <th>...</th>\n",
       "      <td>...</td>\n",
       "      <td>...</td>\n",
       "      <td>...</td>\n",
       "    </tr>\n",
       "    <tr>\n",
       "      <th>43405</th>\n",
       "      <td>Added you mate well I’ve just got the bow and ...</td>\n",
       "      <td>18</td>\n",
       "      <td>edsb738</td>\n",
       "    </tr>\n",
       "    <tr>\n",
       "      <th>43406</th>\n",
       "      <td>Always thought that was funny but is it a refe...</td>\n",
       "      <td>6</td>\n",
       "      <td>ee7fdou</td>\n",
       "    </tr>\n",
       "    <tr>\n",
       "      <th>43407</th>\n",
       "      <td>What are you talking about? Anything bad that ...</td>\n",
       "      <td>3</td>\n",
       "      <td>efgbhks</td>\n",
       "    </tr>\n",
       "    <tr>\n",
       "      <th>43408</th>\n",
       "      <td>More like a baptism, with sexy results!</td>\n",
       "      <td>13</td>\n",
       "      <td>ed1naf8</td>\n",
       "    </tr>\n",
       "    <tr>\n",
       "      <th>43409</th>\n",
       "      <td>Enjoy the ride!</td>\n",
       "      <td>17</td>\n",
       "      <td>eecwmbq</td>\n",
       "    </tr>\n",
       "  </tbody>\n",
       "</table>\n",
       "<p>43410 rows × 3 columns</p>\n",
       "</div>"
      ],
      "text/plain": [
       "                                                    text emotion       id\n",
       "0      My favourite food is anything I didn't have to...      27  eebbqej\n",
       "1      Now if he does off himself, everyone will thin...      27  ed00q6i\n",
       "2                         WHY THE FUCK IS BAYLESS ISOING       2  eezlygj\n",
       "3                            To make her feel threatened      14  ed7ypvh\n",
       "4                                 Dirty Southern Wankers       3  ed0bdzj\n",
       "...                                                  ...     ...      ...\n",
       "43405  Added you mate well I’ve just got the bow and ...      18  edsb738\n",
       "43406  Always thought that was funny but is it a refe...       6  ee7fdou\n",
       "43407  What are you talking about? Anything bad that ...       3  efgbhks\n",
       "43408            More like a baptism, with sexy results!      13  ed1naf8\n",
       "43409                                    Enjoy the ride!      17  eecwmbq\n",
       "\n",
       "[43410 rows x 3 columns]"
      ]
     },
     "execution_count": 4,
     "metadata": {},
     "output_type": "execute_result"
    }
   ],
   "source": [
    "dataset"
   ]
  },
  {
   "cell_type": "code",
   "execution_count": 5,
   "id": "8d4c178f-06b5-4542-8911-03038d6fdee1",
   "metadata": {},
   "outputs": [
    {
     "data": {
      "text/plain": [
       "27           12823\n",
       "0             2710\n",
       "4             1873\n",
       "15            1857\n",
       "1             1652\n",
       "             ...  \n",
       "6,15,22          1\n",
       "9,10,19          1\n",
       "7,10,25          1\n",
       "7,9,24,25        1\n",
       "0,1,18           1\n",
       "Name: emotion, Length: 711, dtype: int64"
      ]
     },
     "execution_count": 5,
     "metadata": {},
     "output_type": "execute_result"
    }
   ],
   "source": [
    "# Frecuencia de las emociones predominantes.\n",
    "dataset['emotion'].value_counts()"
   ]
  },
  {
   "cell_type": "markdown",
   "id": "81f095a4-ce03-4dcf-860c-eefca17e0611",
   "metadata": {
    "jp-MarkdownHeadingCollapsed": true,
    "tags": []
   },
   "source": [
    "## 2) Preprocesado del texto (eliminación del ruido en el texto)."
   ]
  },
  {
   "cell_type": "code",
   "execution_count": 6,
   "id": "07e429ee-c863-4d3b-89e6-72e217bac1bc",
   "metadata": {},
   "outputs": [
    {
     "name": "stderr",
     "output_type": "stream",
     "text": [
      "[nltk_data] Downloading package stopwords to\n",
      "[nltk_data]     C:\\Users\\Danko\\AppData\\Roaming\\nltk_data...\n",
      "[nltk_data]   Package stopwords is already up-to-date!\n"
     ]
    }
   ],
   "source": [
    "import re # Importación de expresiones regulares para eliminar todo caracter distinto a letras.\n",
    "import nltk # importe de un kit con las principales palabras \"inútiles\" para el modelo.\n",
    "nltk.download('stopwords') # descarga de todas las palabras inservibles para el modelo.\n",
    "from nltk.corpus import stopwords # incorpora la descarga de palabras para utilizarlas.\n",
    "from nltk.stem.porter import PorterStemmer # permite transformar palabras a su mínima conjugación."
   ]
  },
  {
   "cell_type": "code",
   "execution_count": 7,
   "id": "d75c461c-869d-4efd-a493-df50c1bae630",
   "metadata": {},
   "outputs": [],
   "source": [
    "# Crearemos un corpus, una lista con las 43410 reseñas de texto, pero sin palabras \"ruido\" (conjunciones, artículos, etc).\n",
    "corpus = []"
   ]
  },
  {
   "cell_type": "code",
   "execution_count": 8,
   "id": "ae72780e-4117-4fe8-aa34-489c66940503",
   "metadata": {},
   "outputs": [],
   "source": [
    "# bucle de limpieza (rocorrerá cada dato de la columna \"text\").\n",
    "for i in range (0,43410):\n",
    "    review = re.sub('[^a-zA-Z]', ' ', dataset['text'][i])\n",
    "    # Se crea la variable \"review\" que se transformará en un texto sin ruido para guardar en el corpus.\n",
    "    # Función sub: el primer parámetro indica que borraremos todo menos minúsculas y mayúsculas.\n",
    "    # El segundo parámetro indica qué carácter sustituiremos en el lugar de los carácteres borrados.  \n",
    "    # El tercer parámetro indica a qué elemento se le hará esta sustitución.\n",
    "    review = review.lower() # todo a minúsculas.\n",
    "    review = review.split() # de cadena de strings a lista de palabras.\n",
    "    ps = PorterStemmer() # objeto para transformar palabras a su mínima expresión (palabras sin conjugar).\n",
    "    review = [ps.stem(word) for word in review if not word in set(stopwords.words('english'))]\n",
    "    # Este es un bucle que pasa por todas las palabras de la cadena \"i\" y mantiene la palabra si ésta\n",
    "    # no se encuentra en la lista de palabras inservibles que descargamos (las stopwords).\n",
    "    # Un detalle importante, dado que \"stopwords.words('english')\" es una lista, si queremos un\n",
    "    # código más rápido, rodearemos con la función \"set()\" para que la selección se transforme en un\n",
    "    # conjunto, y en vez de recorrer todos los elementos hasta encontrar la palabra como lo haría la lista,\n",
    "    # el conjunto hallará todas las palabras diferentes. Esto desarrollará un algoritmo mucho más rápido que pasará muchas\n",
    "    # menos veces por la comprobación.\n",
    "    # nota: Ps.stem no guarda la palabra tal y como se encontraba, sino su mínima conjugación.\n",
    "    review = ' '.join(review) # transformación de la lista ya filtrada, a cadena de texto.\n",
    "    corpus.append(review) # añade a la lista corpus cada variable review."
   ]
  },
  {
   "cell_type": "markdown",
   "id": "f5475dc9-2ca6-4102-ac89-f93d63ecbe9c",
   "metadata": {
    "jp-MarkdownHeadingCollapsed": true,
    "tags": []
   },
   "source": [
    "## 3) Bag of Words (bolsa de palabras listas para el modelo)."
   ]
  },
  {
   "cell_type": "code",
   "execution_count": 9,
   "id": "74a5e727-7491-4041-954c-69c2ef732f82",
   "metadata": {},
   "outputs": [],
   "source": [
    "from sklearn.feature_extraction.text import CountVectorizer # transformación de cadena de palabras a vectores\n",
    "# de frecuencia. En la documentación se pueden observar muchas funciones, inclusive la automatización\n",
    "# de la limpieza que realicé anteriormente de forma manual.\n",
    "cv = CountVectorizer(max_features= 1500) # creamos el objeto CountVectoraizer.\n",
    "X = cv.fit_transform(corpus).toarray() # hacemos fit_transform y matriz dispersa. Filas son valoraciones, columnas son 0 y 1.\n",
    "# Es recomendable transformar a una matriz toarray, ya que se crearán muchas columnas.\n",
    "y = dataset.iloc[:,1] # ya que tenemos las X, obtenemos las y."
   ]
  },
  {
   "cell_type": "markdown",
   "id": "69f00ecd-3291-460e-997a-bb377860a8d0",
   "metadata": {
    "jp-MarkdownHeadingCollapsed": true,
    "tags": []
   },
   "source": [
    "## 4) Transformación de la variable objetivo para el MultiLabelBinarizer."
   ]
  },
  {
   "cell_type": "code",
   "execution_count": 10,
   "id": "18564488-c1f4-456e-8956-359a49094fc2",
   "metadata": {},
   "outputs": [],
   "source": [
    "# Función lambda con método split para cambiar los datos de string a lista (se usa la coma para separar cada etiqueta). \n",
    "dataset['emotion'] = dataset['emotion'].apply(lambda x: x.split(\",\"))"
   ]
  },
  {
   "cell_type": "code",
   "execution_count": 11,
   "id": "dcbffed8-d167-44f3-a351-2016ffd28d65",
   "metadata": {},
   "outputs": [
    {
     "data": {
      "text/plain": [
       "['6', '9', '27']"
      ]
     },
     "execution_count": 11,
     "metadata": {},
     "output_type": "execute_result"
    }
   ],
   "source": [
    "# Revisamos\n",
    "dataset['emotion'][20]"
   ]
  },
  {
   "cell_type": "code",
   "execution_count": 12,
   "id": "d99d607e-51fa-40bf-b19e-2ad20719f5c1",
   "metadata": {
    "tags": []
   },
   "outputs": [
    {
     "data": {
      "text/html": [
       "<div>\n",
       "<style scoped>\n",
       "    .dataframe tbody tr th:only-of-type {\n",
       "        vertical-align: middle;\n",
       "    }\n",
       "\n",
       "    .dataframe tbody tr th {\n",
       "        vertical-align: top;\n",
       "    }\n",
       "\n",
       "    .dataframe thead th {\n",
       "        text-align: right;\n",
       "    }\n",
       "</style>\n",
       "<table border=\"1\" class=\"dataframe\">\n",
       "  <thead>\n",
       "    <tr style=\"text-align: right;\">\n",
       "      <th></th>\n",
       "      <th>text</th>\n",
       "      <th>emotion</th>\n",
       "      <th>id</th>\n",
       "    </tr>\n",
       "  </thead>\n",
       "  <tbody>\n",
       "    <tr>\n",
       "      <th>0</th>\n",
       "      <td>My favourite food is anything I didn't have to...</td>\n",
       "      <td>[27]</td>\n",
       "      <td>eebbqej</td>\n",
       "    </tr>\n",
       "    <tr>\n",
       "      <th>1</th>\n",
       "      <td>Now if he does off himself, everyone will thin...</td>\n",
       "      <td>[27]</td>\n",
       "      <td>ed00q6i</td>\n",
       "    </tr>\n",
       "    <tr>\n",
       "      <th>2</th>\n",
       "      <td>WHY THE FUCK IS BAYLESS ISOING</td>\n",
       "      <td>[2]</td>\n",
       "      <td>eezlygj</td>\n",
       "    </tr>\n",
       "    <tr>\n",
       "      <th>3</th>\n",
       "      <td>To make her feel threatened</td>\n",
       "      <td>[14]</td>\n",
       "      <td>ed7ypvh</td>\n",
       "    </tr>\n",
       "    <tr>\n",
       "      <th>4</th>\n",
       "      <td>Dirty Southern Wankers</td>\n",
       "      <td>[3]</td>\n",
       "      <td>ed0bdzj</td>\n",
       "    </tr>\n",
       "    <tr>\n",
       "      <th>5</th>\n",
       "      <td>OmG pEyToN iSn'T gOoD eNoUgH tO hElP uS iN tHe...</td>\n",
       "      <td>[26]</td>\n",
       "      <td>edvnz26</td>\n",
       "    </tr>\n",
       "    <tr>\n",
       "      <th>6</th>\n",
       "      <td>Yes I heard abt the f bombs! That has to be wh...</td>\n",
       "      <td>[15]</td>\n",
       "      <td>ee3b6wu</td>\n",
       "    </tr>\n",
       "    <tr>\n",
       "      <th>7</th>\n",
       "      <td>We need more boards and to create a bit more s...</td>\n",
       "      <td>[8, 20]</td>\n",
       "      <td>ef4qmod</td>\n",
       "    </tr>\n",
       "    <tr>\n",
       "      <th>8</th>\n",
       "      <td>Damn youtube and outrage drama is super lucrat...</td>\n",
       "      <td>[0]</td>\n",
       "      <td>ed8wbdn</td>\n",
       "    </tr>\n",
       "    <tr>\n",
       "      <th>9</th>\n",
       "      <td>It might be linked to the trust factor of your...</td>\n",
       "      <td>[27]</td>\n",
       "      <td>eczgv1o</td>\n",
       "    </tr>\n",
       "  </tbody>\n",
       "</table>\n",
       "</div>"
      ],
      "text/plain": [
       "                                                text  emotion       id\n",
       "0  My favourite food is anything I didn't have to...     [27]  eebbqej\n",
       "1  Now if he does off himself, everyone will thin...     [27]  ed00q6i\n",
       "2                     WHY THE FUCK IS BAYLESS ISOING      [2]  eezlygj\n",
       "3                        To make her feel threatened     [14]  ed7ypvh\n",
       "4                             Dirty Southern Wankers      [3]  ed0bdzj\n",
       "5  OmG pEyToN iSn'T gOoD eNoUgH tO hElP uS iN tHe...     [26]  edvnz26\n",
       "6  Yes I heard abt the f bombs! That has to be wh...     [15]  ee3b6wu\n",
       "7  We need more boards and to create a bit more s...  [8, 20]  ef4qmod\n",
       "8  Damn youtube and outrage drama is super lucrat...      [0]  ed8wbdn\n",
       "9  It might be linked to the trust factor of your...     [27]  eczgv1o"
      ]
     },
     "execution_count": 12,
     "metadata": {},
     "output_type": "execute_result"
    }
   ],
   "source": [
    "dataset.head(10)"
   ]
  },
  {
   "cell_type": "markdown",
   "id": "c55f8b20-4c46-490d-b57f-1af0db14188e",
   "metadata": {
    "jp-MarkdownHeadingCollapsed": true,
    "tags": []
   },
   "source": [
    "## 5) Multi-label binarizer (matriz dispersa para las variables objetivos)."
   ]
  },
  {
   "cell_type": "code",
   "execution_count": 13,
   "id": "64334bed-dad3-4dd0-beb4-c27281f54cad",
   "metadata": {},
   "outputs": [
    {
     "data": {
      "text/plain": [
       "array([[0, 0, 0, ..., 0, 0, 0],\n",
       "       [0, 0, 0, ..., 0, 0, 0],\n",
       "       [0, 0, 0, ..., 0, 0, 0],\n",
       "       ...,\n",
       "       [0, 0, 0, ..., 0, 0, 0],\n",
       "       [0, 0, 0, ..., 0, 0, 0],\n",
       "       [0, 0, 0, ..., 0, 0, 0]])"
      ]
     },
     "execution_count": 13,
     "metadata": {},
     "output_type": "execute_result"
    }
   ],
   "source": [
    "multilabel = MultiLabelBinarizer() # creación del objeto para crear la matriz dispersa a partir del texto \n",
    "y = multilabel.fit_transform(dataset['emotion']) # ajuste y transformación del modelo\n",
    "# Revisamos\n",
    "y"
   ]
  },
  {
   "cell_type": "code",
   "execution_count": 14,
   "id": "be34e34e-9641-4021-8b44-e7804442ed8e",
   "metadata": {},
   "outputs": [
    {
     "data": {
      "text/plain": [
       "array(['0', '1', '10', '11', '12', '13', '14', '15', '16', '17', '18',\n",
       "       '19', '2', '20', '21', '22', '23', '24', '25', '26', '27', '3',\n",
       "       '4', '5', '6', '7', '8', '9'], dtype=object)"
      ]
     },
     "execution_count": 14,
     "metadata": {},
     "output_type": "execute_result"
    }
   ],
   "source": [
    "multilabel.classes_ # método para obtener las etiquetas de cada emoción."
   ]
  },
  {
   "cell_type": "code",
   "execution_count": 15,
   "id": "2a3a08b8-a9d9-461e-a8a4-726b16aa5a43",
   "metadata": {},
   "outputs": [
    {
     "data": {
      "text/html": [
       "<div>\n",
       "<style scoped>\n",
       "    .dataframe tbody tr th:only-of-type {\n",
       "        vertical-align: middle;\n",
       "    }\n",
       "\n",
       "    .dataframe tbody tr th {\n",
       "        vertical-align: top;\n",
       "    }\n",
       "\n",
       "    .dataframe thead th {\n",
       "        text-align: right;\n",
       "    }\n",
       "</style>\n",
       "<table border=\"1\" class=\"dataframe\">\n",
       "  <thead>\n",
       "    <tr style=\"text-align: right;\">\n",
       "      <th></th>\n",
       "      <th>0</th>\n",
       "      <th>1</th>\n",
       "      <th>10</th>\n",
       "      <th>11</th>\n",
       "      <th>12</th>\n",
       "      <th>13</th>\n",
       "      <th>14</th>\n",
       "      <th>15</th>\n",
       "      <th>16</th>\n",
       "      <th>17</th>\n",
       "      <th>18</th>\n",
       "      <th>19</th>\n",
       "      <th>2</th>\n",
       "      <th>20</th>\n",
       "      <th>21</th>\n",
       "      <th>22</th>\n",
       "      <th>23</th>\n",
       "      <th>24</th>\n",
       "      <th>25</th>\n",
       "      <th>26</th>\n",
       "      <th>27</th>\n",
       "      <th>3</th>\n",
       "      <th>4</th>\n",
       "      <th>5</th>\n",
       "      <th>6</th>\n",
       "      <th>7</th>\n",
       "      <th>8</th>\n",
       "      <th>9</th>\n",
       "    </tr>\n",
       "  </thead>\n",
       "  <tbody>\n",
       "    <tr>\n",
       "      <th>0</th>\n",
       "      <td>0</td>\n",
       "      <td>0</td>\n",
       "      <td>0</td>\n",
       "      <td>0</td>\n",
       "      <td>0</td>\n",
       "      <td>0</td>\n",
       "      <td>0</td>\n",
       "      <td>0</td>\n",
       "      <td>0</td>\n",
       "      <td>0</td>\n",
       "      <td>0</td>\n",
       "      <td>0</td>\n",
       "      <td>0</td>\n",
       "      <td>0</td>\n",
       "      <td>0</td>\n",
       "      <td>0</td>\n",
       "      <td>0</td>\n",
       "      <td>0</td>\n",
       "      <td>0</td>\n",
       "      <td>0</td>\n",
       "      <td>1</td>\n",
       "      <td>0</td>\n",
       "      <td>0</td>\n",
       "      <td>0</td>\n",
       "      <td>0</td>\n",
       "      <td>0</td>\n",
       "      <td>0</td>\n",
       "      <td>0</td>\n",
       "    </tr>\n",
       "    <tr>\n",
       "      <th>1</th>\n",
       "      <td>0</td>\n",
       "      <td>0</td>\n",
       "      <td>0</td>\n",
       "      <td>0</td>\n",
       "      <td>0</td>\n",
       "      <td>0</td>\n",
       "      <td>0</td>\n",
       "      <td>0</td>\n",
       "      <td>0</td>\n",
       "      <td>0</td>\n",
       "      <td>0</td>\n",
       "      <td>0</td>\n",
       "      <td>0</td>\n",
       "      <td>0</td>\n",
       "      <td>0</td>\n",
       "      <td>0</td>\n",
       "      <td>0</td>\n",
       "      <td>0</td>\n",
       "      <td>0</td>\n",
       "      <td>0</td>\n",
       "      <td>1</td>\n",
       "      <td>0</td>\n",
       "      <td>0</td>\n",
       "      <td>0</td>\n",
       "      <td>0</td>\n",
       "      <td>0</td>\n",
       "      <td>0</td>\n",
       "      <td>0</td>\n",
       "    </tr>\n",
       "    <tr>\n",
       "      <th>2</th>\n",
       "      <td>0</td>\n",
       "      <td>0</td>\n",
       "      <td>0</td>\n",
       "      <td>0</td>\n",
       "      <td>0</td>\n",
       "      <td>0</td>\n",
       "      <td>0</td>\n",
       "      <td>0</td>\n",
       "      <td>0</td>\n",
       "      <td>0</td>\n",
       "      <td>0</td>\n",
       "      <td>0</td>\n",
       "      <td>1</td>\n",
       "      <td>0</td>\n",
       "      <td>0</td>\n",
       "      <td>0</td>\n",
       "      <td>0</td>\n",
       "      <td>0</td>\n",
       "      <td>0</td>\n",
       "      <td>0</td>\n",
       "      <td>0</td>\n",
       "      <td>0</td>\n",
       "      <td>0</td>\n",
       "      <td>0</td>\n",
       "      <td>0</td>\n",
       "      <td>0</td>\n",
       "      <td>0</td>\n",
       "      <td>0</td>\n",
       "    </tr>\n",
       "    <tr>\n",
       "      <th>3</th>\n",
       "      <td>0</td>\n",
       "      <td>0</td>\n",
       "      <td>0</td>\n",
       "      <td>0</td>\n",
       "      <td>0</td>\n",
       "      <td>0</td>\n",
       "      <td>1</td>\n",
       "      <td>0</td>\n",
       "      <td>0</td>\n",
       "      <td>0</td>\n",
       "      <td>0</td>\n",
       "      <td>0</td>\n",
       "      <td>0</td>\n",
       "      <td>0</td>\n",
       "      <td>0</td>\n",
       "      <td>0</td>\n",
       "      <td>0</td>\n",
       "      <td>0</td>\n",
       "      <td>0</td>\n",
       "      <td>0</td>\n",
       "      <td>0</td>\n",
       "      <td>0</td>\n",
       "      <td>0</td>\n",
       "      <td>0</td>\n",
       "      <td>0</td>\n",
       "      <td>0</td>\n",
       "      <td>0</td>\n",
       "      <td>0</td>\n",
       "    </tr>\n",
       "    <tr>\n",
       "      <th>4</th>\n",
       "      <td>0</td>\n",
       "      <td>0</td>\n",
       "      <td>0</td>\n",
       "      <td>0</td>\n",
       "      <td>0</td>\n",
       "      <td>0</td>\n",
       "      <td>0</td>\n",
       "      <td>0</td>\n",
       "      <td>0</td>\n",
       "      <td>0</td>\n",
       "      <td>0</td>\n",
       "      <td>0</td>\n",
       "      <td>0</td>\n",
       "      <td>0</td>\n",
       "      <td>0</td>\n",
       "      <td>0</td>\n",
       "      <td>0</td>\n",
       "      <td>0</td>\n",
       "      <td>0</td>\n",
       "      <td>0</td>\n",
       "      <td>0</td>\n",
       "      <td>1</td>\n",
       "      <td>0</td>\n",
       "      <td>0</td>\n",
       "      <td>0</td>\n",
       "      <td>0</td>\n",
       "      <td>0</td>\n",
       "      <td>0</td>\n",
       "    </tr>\n",
       "    <tr>\n",
       "      <th>5</th>\n",
       "      <td>0</td>\n",
       "      <td>0</td>\n",
       "      <td>0</td>\n",
       "      <td>0</td>\n",
       "      <td>0</td>\n",
       "      <td>0</td>\n",
       "      <td>0</td>\n",
       "      <td>0</td>\n",
       "      <td>0</td>\n",
       "      <td>0</td>\n",
       "      <td>0</td>\n",
       "      <td>0</td>\n",
       "      <td>0</td>\n",
       "      <td>0</td>\n",
       "      <td>0</td>\n",
       "      <td>0</td>\n",
       "      <td>0</td>\n",
       "      <td>0</td>\n",
       "      <td>0</td>\n",
       "      <td>1</td>\n",
       "      <td>0</td>\n",
       "      <td>0</td>\n",
       "      <td>0</td>\n",
       "      <td>0</td>\n",
       "      <td>0</td>\n",
       "      <td>0</td>\n",
       "      <td>0</td>\n",
       "      <td>0</td>\n",
       "    </tr>\n",
       "    <tr>\n",
       "      <th>6</th>\n",
       "      <td>0</td>\n",
       "      <td>0</td>\n",
       "      <td>0</td>\n",
       "      <td>0</td>\n",
       "      <td>0</td>\n",
       "      <td>0</td>\n",
       "      <td>0</td>\n",
       "      <td>1</td>\n",
       "      <td>0</td>\n",
       "      <td>0</td>\n",
       "      <td>0</td>\n",
       "      <td>0</td>\n",
       "      <td>0</td>\n",
       "      <td>0</td>\n",
       "      <td>0</td>\n",
       "      <td>0</td>\n",
       "      <td>0</td>\n",
       "      <td>0</td>\n",
       "      <td>0</td>\n",
       "      <td>0</td>\n",
       "      <td>0</td>\n",
       "      <td>0</td>\n",
       "      <td>0</td>\n",
       "      <td>0</td>\n",
       "      <td>0</td>\n",
       "      <td>0</td>\n",
       "      <td>0</td>\n",
       "      <td>0</td>\n",
       "    </tr>\n",
       "    <tr>\n",
       "      <th>7</th>\n",
       "      <td>0</td>\n",
       "      <td>0</td>\n",
       "      <td>0</td>\n",
       "      <td>0</td>\n",
       "      <td>0</td>\n",
       "      <td>0</td>\n",
       "      <td>0</td>\n",
       "      <td>0</td>\n",
       "      <td>0</td>\n",
       "      <td>0</td>\n",
       "      <td>0</td>\n",
       "      <td>0</td>\n",
       "      <td>0</td>\n",
       "      <td>1</td>\n",
       "      <td>0</td>\n",
       "      <td>0</td>\n",
       "      <td>0</td>\n",
       "      <td>0</td>\n",
       "      <td>0</td>\n",
       "      <td>0</td>\n",
       "      <td>0</td>\n",
       "      <td>0</td>\n",
       "      <td>0</td>\n",
       "      <td>0</td>\n",
       "      <td>0</td>\n",
       "      <td>0</td>\n",
       "      <td>1</td>\n",
       "      <td>0</td>\n",
       "    </tr>\n",
       "    <tr>\n",
       "      <th>8</th>\n",
       "      <td>1</td>\n",
       "      <td>0</td>\n",
       "      <td>0</td>\n",
       "      <td>0</td>\n",
       "      <td>0</td>\n",
       "      <td>0</td>\n",
       "      <td>0</td>\n",
       "      <td>0</td>\n",
       "      <td>0</td>\n",
       "      <td>0</td>\n",
       "      <td>0</td>\n",
       "      <td>0</td>\n",
       "      <td>0</td>\n",
       "      <td>0</td>\n",
       "      <td>0</td>\n",
       "      <td>0</td>\n",
       "      <td>0</td>\n",
       "      <td>0</td>\n",
       "      <td>0</td>\n",
       "      <td>0</td>\n",
       "      <td>0</td>\n",
       "      <td>0</td>\n",
       "      <td>0</td>\n",
       "      <td>0</td>\n",
       "      <td>0</td>\n",
       "      <td>0</td>\n",
       "      <td>0</td>\n",
       "      <td>0</td>\n",
       "    </tr>\n",
       "    <tr>\n",
       "      <th>9</th>\n",
       "      <td>0</td>\n",
       "      <td>0</td>\n",
       "      <td>0</td>\n",
       "      <td>0</td>\n",
       "      <td>0</td>\n",
       "      <td>0</td>\n",
       "      <td>0</td>\n",
       "      <td>0</td>\n",
       "      <td>0</td>\n",
       "      <td>0</td>\n",
       "      <td>0</td>\n",
       "      <td>0</td>\n",
       "      <td>0</td>\n",
       "      <td>0</td>\n",
       "      <td>0</td>\n",
       "      <td>0</td>\n",
       "      <td>0</td>\n",
       "      <td>0</td>\n",
       "      <td>0</td>\n",
       "      <td>0</td>\n",
       "      <td>1</td>\n",
       "      <td>0</td>\n",
       "      <td>0</td>\n",
       "      <td>0</td>\n",
       "      <td>0</td>\n",
       "      <td>0</td>\n",
       "      <td>0</td>\n",
       "      <td>0</td>\n",
       "    </tr>\n",
       "  </tbody>\n",
       "</table>\n",
       "</div>"
      ],
      "text/plain": [
       "   0  1  10  11  12  13  14  15  16  17  18  19  2  20  21  22  23  24  25  \\\n",
       "0  0  0   0   0   0   0   0   0   0   0   0   0  0   0   0   0   0   0   0   \n",
       "1  0  0   0   0   0   0   0   0   0   0   0   0  0   0   0   0   0   0   0   \n",
       "2  0  0   0   0   0   0   0   0   0   0   0   0  1   0   0   0   0   0   0   \n",
       "3  0  0   0   0   0   0   1   0   0   0   0   0  0   0   0   0   0   0   0   \n",
       "4  0  0   0   0   0   0   0   0   0   0   0   0  0   0   0   0   0   0   0   \n",
       "5  0  0   0   0   0   0   0   0   0   0   0   0  0   0   0   0   0   0   0   \n",
       "6  0  0   0   0   0   0   0   1   0   0   0   0  0   0   0   0   0   0   0   \n",
       "7  0  0   0   0   0   0   0   0   0   0   0   0  0   1   0   0   0   0   0   \n",
       "8  1  0   0   0   0   0   0   0   0   0   0   0  0   0   0   0   0   0   0   \n",
       "9  0  0   0   0   0   0   0   0   0   0   0   0  0   0   0   0   0   0   0   \n",
       "\n",
       "   26  27  3  4  5  6  7  8  9  \n",
       "0   0   1  0  0  0  0  0  0  0  \n",
       "1   0   1  0  0  0  0  0  0  0  \n",
       "2   0   0  0  0  0  0  0  0  0  \n",
       "3   0   0  0  0  0  0  0  0  0  \n",
       "4   0   0  1  0  0  0  0  0  0  \n",
       "5   1   0  0  0  0  0  0  0  0  \n",
       "6   0   0  0  0  0  0  0  0  0  \n",
       "7   0   0  0  0  0  0  0  1  0  \n",
       "8   0   0  0  0  0  0  0  0  0  \n",
       "9   0   1  0  0  0  0  0  0  0  "
      ]
     },
     "execution_count": 15,
     "metadata": {},
     "output_type": "execute_result"
    }
   ],
   "source": [
    "pd.DataFrame(y, columns = multilabel.classes_).head(10) # dataframe para ver la matriz con sus respectivas etiquetas."
   ]
  },
  {
   "cell_type": "code",
   "execution_count": 16,
   "id": "2b7e9706-5088-459a-8b7e-bd0210b23162",
   "metadata": {},
   "outputs": [
    {
     "data": {
      "text/plain": [
       "((43410, 1500), (43410, 28))"
      ]
     },
     "execution_count": 16,
     "metadata": {},
     "output_type": "execute_result"
    }
   ],
   "source": [
    "X.shape , y.shape # shape para ver la cantidad de filas y columnas de cada matriz de dispersión."
   ]
  },
  {
   "cell_type": "markdown",
   "id": "ab47875b-0d5e-45ba-a67b-d992dcab6677",
   "metadata": {},
   "source": [
    "### Ya están listas las variables predictoras y las variables objetivo para comenzar la fase de entrenamiento."
   ]
  },
  {
   "cell_type": "markdown",
   "id": "e7b613f8-c0c4-4f65-b07b-4a517fd2226b",
   "metadata": {
    "jp-MarkdownHeadingCollapsed": true,
    "tags": []
   },
   "source": [
    "## 6) Fase de entrenamiento."
   ]
  },
  {
   "cell_type": "code",
   "execution_count": 17,
   "id": "97826b6f-88c1-49da-a80a-3629b06979dc",
   "metadata": {},
   "outputs": [],
   "source": [
    "# Separación de las variables en variables de entrenamiento (80%) y variables de testeo (20%).\n",
    "X_train, X_test, y_train, y_test = train_test_split(X, y, test_size=0.2, random_state=0)"
   ]
  },
  {
   "cell_type": "code",
   "execution_count": 18,
   "id": "9c9797d0-246f-48d2-8bda-b42870d71b7f",
   "metadata": {},
   "outputs": [
    {
     "data": {
      "text/plain": [
       "(34728, 28)"
      ]
     },
     "execution_count": 18,
     "metadata": {},
     "output_type": "execute_result"
    }
   ],
   "source": [
    "y_train.shape # shape para ver la cantidad de datos de entrenamiento."
   ]
  },
  {
   "cell_type": "markdown",
   "id": "5c06e5d8-81ac-49c1-afb8-90f8840a2906",
   "metadata": {
    "jp-MarkdownHeadingCollapsed": true,
    "tags": []
   },
   "source": [
    "## 7) Modelo de Machine Learning: Bosques Aleatorios."
   ]
  },
  {
   "cell_type": "code",
   "execution_count": 57,
   "id": "f3b34d91-4d85-4ea0-9118-479f17778c80",
   "metadata": {},
   "outputs": [],
   "source": [
    "from sklearn.ensemble import RandomForestClassifier\n",
    "\n",
    "clf = OneVsRestClassifier(RandomForestClassifier(n_estimators=50))\n",
    "# Creamos el objeto OneVsRestClassifier y le asignamos como parámetro el modelo SVC. Este estimador utiliza el método de\n",
    "# relevancia binaria para realizar las clasificaciones multietiqueta, entrenando un clasificador binario independiente para\n",
    "# cada etiqueta.\n",
    "clf.fit(X_train, y_train) # ajuste de estimadores subyacentes (datos de entrenamiento X e y).\n",
    "\n",
    "y_pred = clf.predict(X_test) # predicción de objetivos de varias etiquetas usando el 20% de los datos X de testing."
   ]
  },
  {
   "cell_type": "markdown",
   "id": "cd1f1257-06c8-4f16-ab9c-dafc8b848067",
   "metadata": {
    "tags": []
   },
   "source": [
    "## 8) Evaluación del modelo."
   ]
  },
  {
   "cell_type": "code",
   "execution_count": 62,
   "id": "dfe220a0-f128-4b06-ad94-d27773fa6d0c",
   "metadata": {},
   "outputs": [],
   "source": [
    "# importe de librerías para medir el accuracy, la matriz de confusión y otras métricas de precisión.\n",
    "from sklearn.metrics import accuracy_score, confusion_matrix, classification_report"
   ]
  },
  {
   "cell_type": "code",
   "execution_count": 63,
   "id": "b47f2d6a-1cf8-4587-8ee5-fb06355b13dd",
   "metadata": {},
   "outputs": [
    {
     "data": {
      "text/plain": [
       "0.3234277816171389"
      ]
     },
     "execution_count": 63,
     "metadata": {},
     "output_type": "execute_result"
    }
   ],
   "source": [
    "# El método score devuelve la precisión media en los datos de prueba y las etiquetas dadas.\n",
    "clf.score(X_test, y_test)"
   ]
  },
  {
   "cell_type": "code",
   "execution_count": 64,
   "id": "6c62daac-8299-42ba-bc40-ef5878bc27ba",
   "metadata": {},
   "outputs": [
    {
     "data": {
      "text/plain": [
       "0.3234277816171389"
      ]
     },
     "execution_count": 64,
     "metadata": {},
     "output_type": "execute_result"
    }
   ],
   "source": [
    "# Tasa de acierto\n",
    "accuracy_score(y_test,y_pred)"
   ]
  },
  {
   "cell_type": "code",
   "execution_count": 65,
   "id": "7ed1b87f-f9ce-4759-8744-62592e237fa5",
   "metadata": {},
   "outputs": [
    {
     "data": {
      "text/plain": [
       "array([[[7563,  293],\n",
       "        [ 382,  444]],\n",
       "\n",
       "       [[8119,  122],\n",
       "        [ 130,  311]],\n",
       "\n",
       "       [[8215,   79],\n",
       "        [ 368,   20]],\n",
       "\n",
       "       [[8497,   27],\n",
       "        [ 123,   35]],\n",
       "\n",
       "       [[8617,   13],\n",
       "        [  40,   12]],\n",
       "\n",
       "       [[8459,   34],\n",
       "        [ 156,   33]],\n",
       "\n",
       "       [[8534,   40],\n",
       "        [  69,   39]],\n",
       "\n",
       "       [[8130,   27],\n",
       "        [  72,  453]],\n",
       "\n",
       "       [[8661,    2],\n",
       "        [  19,    0]],\n",
       "\n",
       "       [[8318,   80],\n",
       "        [ 193,   91]],\n",
       "\n",
       "       [[8176,  125],\n",
       "        [ 116,  265]],\n",
       "\n",
       "       [[8643,    4],\n",
       "        [  34,    1]],\n",
       "\n",
       "       [[8224,  145],\n",
       "        [ 213,  100]],\n",
       "\n",
       "       [[8285,   69],\n",
       "        [ 213,  115]],\n",
       "\n",
       "       [[8652,   11],\n",
       "        [  15,    4]],\n",
       "\n",
       "       [[8429,   39],\n",
       "        [ 197,   17]],\n",
       "\n",
       "       [[8648,    4],\n",
       "        [  30,    0]],\n",
       "\n",
       "       [[8534,   49],\n",
       "        [  53,   46]],\n",
       "\n",
       "       [[8318,   91],\n",
       "        [ 179,   94]],\n",
       "\n",
       "       [[8403,   54],\n",
       "        [ 178,   47]],\n",
       "\n",
       "       [[4673, 1069],\n",
       "        [1496, 1444]],\n",
       "\n",
       "       [[8159,   72],\n",
       "        [ 412,   39]],\n",
       "\n",
       "       [[7989,  110],\n",
       "        [ 532,   51]],\n",
       "\n",
       "       [[8434,   34],\n",
       "        [ 196,   18]],\n",
       "\n",
       "       [[8377,   58],\n",
       "        [ 230,   17]],\n",
       "\n",
       "       [[8172,   75],\n",
       "        [ 405,   30]],\n",
       "\n",
       "       [[8533,   34],\n",
       "        [  76,   39]],\n",
       "\n",
       "       [[8379,   43],\n",
       "        [ 247,   13]]], dtype=int64)"
      ]
     },
     "execution_count": 65,
     "metadata": {},
     "output_type": "execute_result"
    }
   ],
   "source": [
    "# Importe de matriz de confusión multietiqueta para revisar cada situación\n",
    "from sklearn.metrics import multilabel_confusion_matrix\n",
    "\n",
    "multilabel_confusion_matrix(y_test, y_pred) # imprime matrices de confusión para las predicciones de todas las etiquetas. "
   ]
  },
  {
   "cell_type": "code",
   "execution_count": 66,
   "id": "b01255d9-3f20-4048-ac5b-ffaa18548f78",
   "metadata": {},
   "outputs": [
    {
     "name": "stdout",
     "output_type": "stream",
     "text": [
      "              precision    recall  f1-score   support\n",
      "\n",
      "           0       0.60      0.54      0.57       826\n",
      "           1       0.72      0.71      0.71       441\n",
      "           2       0.20      0.05      0.08       388\n",
      "           3       0.56      0.22      0.32       158\n",
      "           4       0.48      0.23      0.31        52\n",
      "           5       0.49      0.17      0.26       189\n",
      "           6       0.49      0.36      0.42       108\n",
      "           7       0.94      0.86      0.90       525\n",
      "           8       0.00      0.00      0.00        19\n",
      "           9       0.53      0.32      0.40       284\n",
      "          10       0.68      0.70      0.69       381\n",
      "          11       0.20      0.03      0.05        35\n",
      "          12       0.41      0.32      0.36       313\n",
      "          13       0.62      0.35      0.45       328\n",
      "          14       0.27      0.21      0.24        19\n",
      "          15       0.30      0.08      0.13       214\n",
      "          16       0.00      0.00      0.00        30\n",
      "          17       0.48      0.46      0.47        99\n",
      "          18       0.51      0.34      0.41       273\n",
      "          19       0.47      0.21      0.29       225\n",
      "          20       0.57      0.49      0.53      2940\n",
      "          21       0.35      0.09      0.14       451\n",
      "          22       0.32      0.09      0.14       583\n",
      "          23       0.35      0.08      0.14       214\n",
      "          24       0.23      0.07      0.11       247\n",
      "          25       0.29      0.07      0.11       435\n",
      "          26       0.53      0.34      0.41       115\n",
      "          27       0.23      0.05      0.08       260\n",
      "\n",
      "   micro avg       0.57      0.37      0.45     10152\n",
      "   macro avg       0.42      0.27      0.31     10152\n",
      "weighted avg       0.51      0.37      0.41     10152\n",
      " samples avg       0.40      0.39      0.39     10152\n",
      "\n"
     ]
    },
    {
     "name": "stderr",
     "output_type": "stream",
     "text": [
      "C:\\Users\\Danko\\anaconda3\\lib\\site-packages\\sklearn\\metrics\\_classification.py:1318: UndefinedMetricWarning: Precision and F-score are ill-defined and being set to 0.0 in samples with no predicted labels. Use `zero_division` parameter to control this behavior.\n",
      "  _warn_prf(average, modifier, msg_start, len(result))\n"
     ]
    }
   ],
   "source": [
    "# Imprimiremos la precisión, el recall y el F1-score para las predicciones de cada una de las etiquetas.\n",
    "# Pero antes, cambiaremos el nombre de las etiquetas (nombre de la emoción). Crearemos una lista llamada\n",
    "# label_names, y la entregaremos como parámetro a la función classification_report. El orden no es el presentado en el archivo\n",
    "# emotion.txt, si no el que entregó el MultiLabelBinarizer.\n",
    "print(classification_report(y_test, y_pred))"
   ]
  },
  {
   "cell_type": "markdown",
   "id": "e11e0e75-610b-4787-90fb-fe117a7a98a6",
   "metadata": {},
   "source": [
    "### Observaciones y Evaluación."
   ]
  },
  {
   "cell_type": "markdown",
   "id": "785a3f96-b311-415c-86fb-8affe390e08d",
   "metadata": {},
   "source": [
    "### 1.- TRAIN-TEST: Se realizó el entrenamiento del modelo con 34728 registros y la prueba del modelo con 8682 registros."
   ]
  },
  {
   "cell_type": "code",
   "execution_count": 67,
   "id": "47091963-ce15-42df-9fa8-6a9d525e3aef",
   "metadata": {},
   "outputs": [
    {
     "data": {
      "text/plain": [
       "((8682, 1500), (34728, 1500))"
      ]
     },
     "execution_count": 67,
     "metadata": {},
     "output_type": "execute_result"
    }
   ],
   "source": [
    "X_test.shape, X_train.shape"
   ]
  },
  {
   "cell_type": "markdown",
   "id": "32ba3a8a-c8a2-44b7-bb71-0515d1b27010",
   "metadata": {},
   "source": [
    "### 2.- TIEMPO: El modelo de Máquinas de Soporte Vectorial, demoró casi NUEVE HORAS en completar el entrenamiento con el dataset de  43410 registros. Esto gracias al OneVsRest que aumento 28 veces el tiempo total de entrenamiento y ajuste."
   ]
  },
  {
   "cell_type": "markdown",
   "id": "15158538-e5ae-4238-a2f7-81e9f1bbfd64",
   "metadata": {},
   "source": [
    "### 3.- ACCURACY: La tasa de acierto de la función \"accuracy_score\" es de un 30,7%, sin embargo, este resultado no me convenció en un principio, por lo tanto, decidí calcular el accuracy de manera individual y manual, luego observar los resultados del \"multilabel_confusion_matrix\", que entrega una visión individual por cada etiqueta."
   ]
  },
  {
   "cell_type": "markdown",
   "id": "9572b8bd-3d48-489f-9a5e-c657a54a8bc0",
   "metadata": {},
   "source": [
    "### 4.- ACCURACY INDIVIDUAL: calculando de forma manual la tasa de acierto, se observan los siguientes porcentajes. La mayoría de los accuracy de las etiquetas son bastante altos, por lo que preeliminarmente, podríamos decir que el modelo SVC ha acertado bastante bien."
   ]
  },
  {
   "cell_type": "code",
   "execution_count": 68,
   "id": "06b52c2b-a607-4f68-8617-1831016016dd",
   "metadata": {},
   "outputs": [
    {
     "data": {
      "text/html": [
       "<div>\n",
       "<style scoped>\n",
       "    .dataframe tbody tr th:only-of-type {\n",
       "        vertical-align: middle;\n",
       "    }\n",
       "\n",
       "    .dataframe tbody tr th {\n",
       "        vertical-align: top;\n",
       "    }\n",
       "\n",
       "    .dataframe thead th {\n",
       "        text-align: right;\n",
       "    }\n",
       "</style>\n",
       "<table border=\"1\" class=\"dataframe\">\n",
       "  <thead>\n",
       "    <tr style=\"text-align: right;\">\n",
       "      <th></th>\n",
       "      <th>Emoción</th>\n",
       "      <th>Accuracy %</th>\n",
       "    </tr>\n",
       "  </thead>\n",
       "  <tbody>\n",
       "    <tr>\n",
       "      <th>19</th>\n",
       "      <td>Dolor</td>\n",
       "      <td>100</td>\n",
       "    </tr>\n",
       "    <tr>\n",
       "      <th>24</th>\n",
       "      <td>Alivio</td>\n",
       "      <td>100</td>\n",
       "    </tr>\n",
       "    <tr>\n",
       "      <th>22</th>\n",
       "      <td>Orgullo</td>\n",
       "      <td>100</td>\n",
       "    </tr>\n",
       "    <tr>\n",
       "      <th>20</th>\n",
       "      <td>Nerviosismo</td>\n",
       "      <td>100</td>\n",
       "    </tr>\n",
       "    <tr>\n",
       "      <th>27</th>\n",
       "      <td>Deseo</td>\n",
       "      <td>99</td>\n",
       "    </tr>\n",
       "    <tr>\n",
       "      <th>...</th>\n",
       "      <td>...</td>\n",
       "      <td>...</td>\n",
       "    </tr>\n",
       "    <tr>\n",
       "      <th>13</th>\n",
       "      <td>Molestia</td>\n",
       "      <td>95</td>\n",
       "    </tr>\n",
       "    <tr>\n",
       "      <th>16</th>\n",
       "      <td>Curiosidad</td>\n",
       "      <td>95</td>\n",
       "    </tr>\n",
       "    <tr>\n",
       "      <th>26</th>\n",
       "      <td>Aprobación</td>\n",
       "      <td>93</td>\n",
       "    </tr>\n",
       "    <tr>\n",
       "      <th>0</th>\n",
       "      <td>Admiración</td>\n",
       "      <td>93</td>\n",
       "    </tr>\n",
       "    <tr>\n",
       "      <th>12</th>\n",
       "      <td>Neutral</td>\n",
       "      <td>72</td>\n",
       "    </tr>\n",
       "  </tbody>\n",
       "</table>\n",
       "<p>28 rows × 2 columns</p>\n",
       "</div>"
      ],
      "text/plain": [
       "        Emoción  Accuracy %\n",
       "19        Dolor         100\n",
       "24       Alivio         100\n",
       "22      Orgullo         100\n",
       "20  Nerviosismo         100\n",
       "27        Deseo          99\n",
       "..          ...         ...\n",
       "13     Molestia          95\n",
       "16   Curiosidad          95\n",
       "26   Aprobación          93\n",
       "0    Admiración          93\n",
       "12      Neutral          72\n",
       "\n",
       "[28 rows x 2 columns]"
      ]
     },
     "execution_count": 68,
     "metadata": {},
     "output_type": "execute_result"
    }
   ],
   "source": [
    "pd.DataFrame([['Admiración',93],['Diversión',97],['Disgusto',98],['Vergüenza',99],['Emoción',98],['Miedo',99],['Gratitud',99],\n",
    "              ['Alegría',97],['Encantado',97],['Optimismo',97],['Tristeza',99],['Sorpresa',97],['Neutral',72],['Molestia',95],\n",
    "              ['Cuidado',98],['Confusión',97],['Curiosidad',95],['Decepción',97],['Desaprobación',96],['Dolor',100],\n",
    "              ['Nerviosismo',100],['Enojo',97],['Orgullo',100],['Realización',98],['Alivio',100],['Remordimiento',99],\n",
    "              ['Aprobación',93],['Deseo',99]], columns = ['Emoción','Accuracy %']).sort_values(by=['Accuracy %'],ascending=[False])"
   ]
  },
  {
   "cell_type": "markdown",
   "id": "9e42eae6-69c8-4f6c-9eea-348b1f1e5071",
   "metadata": {},
   "source": [
    "### 5.- PRECISIÓN: La calidad del etiquetado que predijo el modelo SVC, fue bastante bueno. Al menos 18 de las 28 emociones fueron predichas con una precisión superior o igual al 60%, como se puede ver en la siguiente tabla:"
   ]
  },
  {
   "cell_type": "code",
   "execution_count": 69,
   "id": "459dace0-f197-4418-b1a0-99ead6013f8b",
   "metadata": {},
   "outputs": [
    {
     "data": {
      "text/html": [
       "<div>\n",
       "<style scoped>\n",
       "    .dataframe tbody tr th:only-of-type {\n",
       "        vertical-align: middle;\n",
       "    }\n",
       "\n",
       "    .dataframe tbody tr th {\n",
       "        vertical-align: top;\n",
       "    }\n",
       "\n",
       "    .dataframe thead th {\n",
       "        text-align: right;\n",
       "    }\n",
       "</style>\n",
       "<table border=\"1\" class=\"dataframe\">\n",
       "  <thead>\n",
       "    <tr style=\"text-align: right;\">\n",
       "      <th></th>\n",
       "      <th>Emoción</th>\n",
       "      <th>Precisión %</th>\n",
       "    </tr>\n",
       "  </thead>\n",
       "  <tbody>\n",
       "    <tr>\n",
       "      <th>2</th>\n",
       "      <td>Disgusto</td>\n",
       "      <td>100</td>\n",
       "    </tr>\n",
       "    <tr>\n",
       "      <th>4</th>\n",
       "      <td>Emoción</td>\n",
       "      <td>100</td>\n",
       "    </tr>\n",
       "    <tr>\n",
       "      <th>16</th>\n",
       "      <td>Curiosidad</td>\n",
       "      <td>100</td>\n",
       "    </tr>\n",
       "    <tr>\n",
       "      <th>14</th>\n",
       "      <td>Cuidado</td>\n",
       "      <td>100</td>\n",
       "    </tr>\n",
       "    <tr>\n",
       "      <th>6</th>\n",
       "      <td>Gratitud</td>\n",
       "      <td>96</td>\n",
       "    </tr>\n",
       "    <tr>\n",
       "      <th>...</th>\n",
       "      <td>...</td>\n",
       "      <td>...</td>\n",
       "    </tr>\n",
       "    <tr>\n",
       "      <th>15</th>\n",
       "      <td>Confusión</td>\n",
       "      <td>69</td>\n",
       "    </tr>\n",
       "    <tr>\n",
       "      <th>5</th>\n",
       "      <td>Miedo</td>\n",
       "      <td>67</td>\n",
       "    </tr>\n",
       "    <tr>\n",
       "      <th>11</th>\n",
       "      <td>Sorpresa</td>\n",
       "      <td>66</td>\n",
       "    </tr>\n",
       "    <tr>\n",
       "      <th>12</th>\n",
       "      <td>Neutral</td>\n",
       "      <td>61</td>\n",
       "    </tr>\n",
       "    <tr>\n",
       "      <th>7</th>\n",
       "      <td>Alegría</td>\n",
       "      <td>60</td>\n",
       "    </tr>\n",
       "  </tbody>\n",
       "</table>\n",
       "<p>18 rows × 2 columns</p>\n",
       "</div>"
      ],
      "text/plain": [
       "       Emoción  Precisión %\n",
       "2     Disgusto          100\n",
       "4      Emoción          100\n",
       "16  Curiosidad          100\n",
       "14     Cuidado          100\n",
       "6     Gratitud           96\n",
       "..         ...          ...\n",
       "15   Confusión           69\n",
       "5        Miedo           67\n",
       "11    Sorpresa           66\n",
       "12     Neutral           61\n",
       "7      Alegría           60\n",
       "\n",
       "[18 rows x 2 columns]"
      ]
     },
     "execution_count": 69,
     "metadata": {},
     "output_type": "execute_result"
    }
   ],
   "source": [
    "pd.DataFrame([['Admiración',78],['Diversión',76],['Disgusto',100],['Vergüenza',80],['Emoción',100],['Miedo',67],['Gratitud',96],\n",
    "              ['Alegría',60],['Encantado',74],['Optimismo',71],['Tristeza',82],['Sorpresa',66],['Neutral',61],['Molestia',75],\n",
    "              ['Cuidado',100],['Confusión',69],['Curiosidad',100],['Decepción',86]],\n",
    "             columns = ['Emoción','Precisión %']).sort_values(by=['Precisión %'],ascending=[False])"
   ]
  },
  {
   "cell_type": "markdown",
   "id": "90bc39ee-d769-4dd3-b46e-1fc0e2973cce",
   "metadata": {},
   "source": [
    "### 6.- RECALL: La cantidad de etiquetas positivas que el modelo SVM logró identificar correctamente, en general, fue bastante bajo. Se presentan las etiquetas que mejor logró identificar el modelo con sus respectivos porcentajes:"
   ]
  },
  {
   "cell_type": "code",
   "execution_count": 70,
   "id": "8ef006aa-157c-4eb9-944b-4b47d24e6090",
   "metadata": {},
   "outputs": [
    {
     "data": {
      "text/html": [
       "<div>\n",
       "<style scoped>\n",
       "    .dataframe tbody tr th:only-of-type {\n",
       "        vertical-align: middle;\n",
       "    }\n",
       "\n",
       "    .dataframe tbody tr th {\n",
       "        vertical-align: top;\n",
       "    }\n",
       "\n",
       "    .dataframe thead th {\n",
       "        text-align: right;\n",
       "    }\n",
       "</style>\n",
       "<table border=\"1\" class=\"dataframe\">\n",
       "  <thead>\n",
       "    <tr style=\"text-align: right;\">\n",
       "      <th></th>\n",
       "      <th>Emoción</th>\n",
       "      <th>Recall %</th>\n",
       "    </tr>\n",
       "  </thead>\n",
       "  <tbody>\n",
       "    <tr>\n",
       "      <th>2</th>\n",
       "      <td>Gratitud</td>\n",
       "      <td>82</td>\n",
       "    </tr>\n",
       "    <tr>\n",
       "      <th>3</th>\n",
       "      <td>Encantado</td>\n",
       "      <td>62</td>\n",
       "    </tr>\n",
       "    <tr>\n",
       "      <th>1</th>\n",
       "      <td>Diversión</td>\n",
       "      <td>59</td>\n",
       "    </tr>\n",
       "    <tr>\n",
       "      <th>4</th>\n",
       "      <td>Neutral</td>\n",
       "      <td>50</td>\n",
       "    </tr>\n",
       "    <tr>\n",
       "      <th>0</th>\n",
       "      <td>Admiración</td>\n",
       "      <td>40</td>\n",
       "    </tr>\n",
       "  </tbody>\n",
       "</table>\n",
       "</div>"
      ],
      "text/plain": [
       "      Emoción  Recall %\n",
       "2    Gratitud        82\n",
       "3   Encantado        62\n",
       "1   Diversión        59\n",
       "4     Neutral        50\n",
       "0  Admiración        40"
      ]
     },
     "execution_count": 70,
     "metadata": {},
     "output_type": "execute_result"
    }
   ],
   "source": [
    "pd.DataFrame([['Admiración',40],['Diversión',59],['Gratitud',82],['Encantado',62],['Neutral',50]],\n",
    "             columns = ['Emoción','Recall %']).sort_values(by=['Recall %'],ascending=[False])"
   ]
  },
  {
   "cell_type": "markdown",
   "id": "8b745d83-8012-4580-81b4-0ca0ace20fa6",
   "metadata": {
    "tags": []
   },
   "source": [
    "### 7.- F1-SCORE: Utilizando un margen superior al 50%, las etiquetas con mejor F1_score son:"
   ]
  },
  {
   "cell_type": "code",
   "execution_count": 71,
   "id": "ba40ac9b-f510-42ec-b4d0-e91da8cafa11",
   "metadata": {},
   "outputs": [
    {
     "data": {
      "text/html": [
       "<div>\n",
       "<style scoped>\n",
       "    .dataframe tbody tr th:only-of-type {\n",
       "        vertical-align: middle;\n",
       "    }\n",
       "\n",
       "    .dataframe tbody tr th {\n",
       "        vertical-align: top;\n",
       "    }\n",
       "\n",
       "    .dataframe thead th {\n",
       "        text-align: right;\n",
       "    }\n",
       "</style>\n",
       "<table border=\"1\" class=\"dataframe\">\n",
       "  <thead>\n",
       "    <tr style=\"text-align: right;\">\n",
       "      <th></th>\n",
       "      <th>Emoción</th>\n",
       "      <th>F1-score %</th>\n",
       "    </tr>\n",
       "  </thead>\n",
       "  <tbody>\n",
       "    <tr>\n",
       "      <th>2</th>\n",
       "      <td>Gratitud</td>\n",
       "      <td>88</td>\n",
       "    </tr>\n",
       "    <tr>\n",
       "      <th>3</th>\n",
       "      <td>Encantado</td>\n",
       "      <td>67</td>\n",
       "    </tr>\n",
       "    <tr>\n",
       "      <th>1</th>\n",
       "      <td>Diversión</td>\n",
       "      <td>66</td>\n",
       "    </tr>\n",
       "    <tr>\n",
       "      <th>4</th>\n",
       "      <td>Neutral</td>\n",
       "      <td>55</td>\n",
       "    </tr>\n",
       "    <tr>\n",
       "      <th>0</th>\n",
       "      <td>Admiración</td>\n",
       "      <td>53</td>\n",
       "    </tr>\n",
       "  </tbody>\n",
       "</table>\n",
       "</div>"
      ],
      "text/plain": [
       "      Emoción  F1-score %\n",
       "2    Gratitud          88\n",
       "3   Encantado          67\n",
       "1   Diversión          66\n",
       "4     Neutral          55\n",
       "0  Admiración          53"
      ]
     },
     "execution_count": 71,
     "metadata": {},
     "output_type": "execute_result"
    }
   ],
   "source": [
    "pd.DataFrame([['Admiración',53],['Diversión',66],['Gratitud',88],['Encantado',67],['Neutral',55]],\n",
    "             columns = ['Emoción','F1-score %']).sort_values(by=['F1-score %'],ascending=[False])"
   ]
  },
  {
   "cell_type": "markdown",
   "id": "c4658fa6-41d1-45ed-b7fb-fd054511c6d8",
   "metadata": {},
   "source": [
    "### Y las de peor F1_score son:"
   ]
  },
  {
   "cell_type": "code",
   "execution_count": 72,
   "id": "1d5858f6-bc3c-488f-bb51-fefe42cad633",
   "metadata": {},
   "outputs": [
    {
     "data": {
      "text/html": [
       "<div>\n",
       "<style scoped>\n",
       "    .dataframe tbody tr th:only-of-type {\n",
       "        vertical-align: middle;\n",
       "    }\n",
       "\n",
       "    .dataframe tbody tr th {\n",
       "        vertical-align: top;\n",
       "    }\n",
       "\n",
       "    .dataframe thead th {\n",
       "        text-align: right;\n",
       "    }\n",
       "</style>\n",
       "<table border=\"1\" class=\"dataframe\">\n",
       "  <thead>\n",
       "    <tr style=\"text-align: right;\">\n",
       "      <th></th>\n",
       "      <th>Emoción</th>\n",
       "      <th>F1-score %</th>\n",
       "    </tr>\n",
       "  </thead>\n",
       "  <tbody>\n",
       "    <tr>\n",
       "      <th>7</th>\n",
       "      <td>Remordimiento</td>\n",
       "      <td>45</td>\n",
       "    </tr>\n",
       "    <tr>\n",
       "      <th>8</th>\n",
       "      <td>Tristeza</td>\n",
       "      <td>32</td>\n",
       "    </tr>\n",
       "    <tr>\n",
       "      <th>3</th>\n",
       "      <td>Miedo</td>\n",
       "      <td>27</td>\n",
       "    </tr>\n",
       "    <tr>\n",
       "      <th>6</th>\n",
       "      <td>Enojo</td>\n",
       "      <td>27</td>\n",
       "    </tr>\n",
       "    <tr>\n",
       "      <th>2</th>\n",
       "      <td>Vergüenza</td>\n",
       "      <td>26</td>\n",
       "    </tr>\n",
       "    <tr>\n",
       "      <th>...</th>\n",
       "      <td>...</td>\n",
       "      <td>...</td>\n",
       "    </tr>\n",
       "    <tr>\n",
       "      <th>10</th>\n",
       "      <td>Confusión</td>\n",
       "      <td>7</td>\n",
       "    </tr>\n",
       "    <tr>\n",
       "      <th>9</th>\n",
       "      <td>Molestia</td>\n",
       "      <td>3</td>\n",
       "    </tr>\n",
       "    <tr>\n",
       "      <th>0</th>\n",
       "      <td>Desaprobación</td>\n",
       "      <td>1</td>\n",
       "    </tr>\n",
       "    <tr>\n",
       "      <th>4</th>\n",
       "      <td>Dolor</td>\n",
       "      <td>0</td>\n",
       "    </tr>\n",
       "    <tr>\n",
       "      <th>5</th>\n",
       "      <td>Nerviosismo</td>\n",
       "      <td>0</td>\n",
       "    </tr>\n",
       "  </tbody>\n",
       "</table>\n",
       "<p>12 rows × 2 columns</p>\n",
       "</div>"
      ],
      "text/plain": [
       "          Emoción  F1-score %\n",
       "7   Remordimiento          45\n",
       "8        Tristeza          32\n",
       "3           Miedo          27\n",
       "6           Enojo          27\n",
       "2       Vergüenza          26\n",
       "..            ...         ...\n",
       "10      Confusión           7\n",
       "9        Molestia           3\n",
       "0   Desaprobación           1\n",
       "4           Dolor           0\n",
       "5     Nerviosismo           0\n",
       "\n",
       "[12 rows x 2 columns]"
      ]
     },
     "execution_count": 72,
     "metadata": {},
     "output_type": "execute_result"
    }
   ],
   "source": [
    "pd.DataFrame([['Desaprobación',1],['Disgusto',20],['Vergüenza',26],['Miedo',27],['Dolor',0],\n",
    "              ['Nerviosismo',0],['Enojo',27],['Remordimiento',45],['Tristeza',32],['Molestia',3],\n",
    "              ['Confusión',7],['Decepción',9]],\n",
    "             columns = ['Emoción','F1-score %']).sort_values(by=['F1-score %'],ascending=[False])"
   ]
  },
  {
   "cell_type": "markdown",
   "id": "7ee0cca2-0001-44a6-84a4-0d5354a3e71c",
   "metadata": {},
   "source": [
    "### Conclusión final\n",
    "### El modelo SVC para clasificación multietiqueta con 43410 registros, presenta un nivel de ACCURACY bajísimo, por lo que se revisa el accuracy de forma individual obteniendo resultados muy altos. Esto implica que el modelo ha acertado el \"etiquetado\" y el \"no etiquetado\" de una manera maestra. Al analizar la PRECISIÓN del modelo, se puede observar que la predicción, tanto de emociones positivas como de negativas, fueron altísimas, como por ejemplo en la \"gratitud\" con un 96% de precisión y en el \"disgusto\", con un 100% de aciertos.\n",
    "### Sin embargo, se observa un RECALL bajísimo en comparación con los valores obtenidos en las métricas anteriores, y al analizar las matrices de confusión, se deduce que el modelo fue bastante tímido para realizar predicciones. Como ejemplo, el modelo se arriesgó a predecir que en 18 comentarios se encontraría la emoción de disgusto y acertó en los 18 casos, sin embargo, el grupo de testing poseía 158 comentarios etiquetados con esta emoción. Podríamos decir que el modelo se atrevió a predecir solo cuando estaba muy seguro de acertar. Esto se afirma al descubrir que el modelo solo se atrevió a realizar 4793 predicciones de un total de 8682 reseñas, es decir, realizó predicciones solo sobre un 55% de las reseñas del grupo de testing.\n",
    "### Resumiendo, el modelo es bueno para predecir, sí, pero deja muchas reseñas sin etiquetar. Podemos estar seguros de que las emociones de Gratitud, Encantado, Diversión, Neutral y Admiración, serán correctamente etiquetadas, pero otras emociones, como la Decepción, Confusión, Molestia, Dolor y Nerviosismo, no serán todas identificadas para su correcto etiquetado.\n",
    "\n",
    "### CONCLUSIÓN: El modelo realiza el etiquetado de manera muy precisa en al menos el 50% de las reseñas. Esto es bueno, ya que aunque no tenemos las etiquetas del grupo total, las emociones que si fueron etiquetadas son altamente fidedignas."
   ]
  },
  {
   "cell_type": "markdown",
   "id": "90426f0f-bf61-4255-91e2-12096138fcc9",
   "metadata": {
    "tags": []
   },
   "source": [
    "# II° Parte: Clasificación final del dataset \"text_classification_test\" (predicción)."
   ]
  },
  {
   "cell_type": "markdown",
   "id": "da8dd317-0d32-4b94-9cb6-f1c01b3b1517",
   "metadata": {
    "jp-MarkdownHeadingCollapsed": true,
    "tags": []
   },
   "source": [
    "## 1) Lectura de los datos."
   ]
  },
  {
   "cell_type": "code",
   "execution_count": 73,
   "id": "c5b11f82-65d2-4b87-9467-56d383725ea8",
   "metadata": {},
   "outputs": [],
   "source": [
    "dataset_text_classification = pd.read_csv('text_classification_test.csv')"
   ]
  },
  {
   "cell_type": "code",
   "execution_count": 74,
   "id": "8e9a396f-6d12-4f92-b2eb-2876848b7144",
   "metadata": {},
   "outputs": [
    {
     "data": {
      "text/html": [
       "<div>\n",
       "<style scoped>\n",
       "    .dataframe tbody tr th:only-of-type {\n",
       "        vertical-align: middle;\n",
       "    }\n",
       "\n",
       "    .dataframe tbody tr th {\n",
       "        vertical-align: top;\n",
       "    }\n",
       "\n",
       "    .dataframe thead th {\n",
       "        text-align: right;\n",
       "    }\n",
       "</style>\n",
       "<table border=\"1\" class=\"dataframe\">\n",
       "  <thead>\n",
       "    <tr style=\"text-align: right;\">\n",
       "      <th></th>\n",
       "      <th>text</th>\n",
       "      <th>id</th>\n",
       "    </tr>\n",
       "  </thead>\n",
       "  <tbody>\n",
       "    <tr>\n",
       "      <th>0</th>\n",
       "      <td>I’m really sorry about your situation :( Altho...</td>\n",
       "      <td>eecwqtt</td>\n",
       "    </tr>\n",
       "    <tr>\n",
       "      <th>1</th>\n",
       "      <td>It's wonderful because it's awful. At not with.</td>\n",
       "      <td>ed5f85d</td>\n",
       "    </tr>\n",
       "    <tr>\n",
       "      <th>2</th>\n",
       "      <td>Kings fan here, good luck to you guys! Will be...</td>\n",
       "      <td>een27c3</td>\n",
       "    </tr>\n",
       "    <tr>\n",
       "      <th>3</th>\n",
       "      <td>I didn't know that, thank you for teaching me ...</td>\n",
       "      <td>eelgwd1</td>\n",
       "    </tr>\n",
       "    <tr>\n",
       "      <th>4</th>\n",
       "      <td>They got bored from haunting earth for thousan...</td>\n",
       "      <td>eem5uti</td>\n",
       "    </tr>\n",
       "    <tr>\n",
       "      <th>...</th>\n",
       "      <td>...</td>\n",
       "      <td>...</td>\n",
       "    </tr>\n",
       "    <tr>\n",
       "      <th>5422</th>\n",
       "      <td>Thanks. I was diagnosed with BP 1 after the ho...</td>\n",
       "      <td>efeeasc</td>\n",
       "    </tr>\n",
       "    <tr>\n",
       "      <th>5423</th>\n",
       "      <td>Well that makes sense.</td>\n",
       "      <td>ef9c7s3</td>\n",
       "    </tr>\n",
       "    <tr>\n",
       "      <th>5424</th>\n",
       "      <td>Daddy issues [NAME]</td>\n",
       "      <td>efbiugo</td>\n",
       "    </tr>\n",
       "    <tr>\n",
       "      <th>5425</th>\n",
       "      <td>So glad I discovered that subreddit a couple m...</td>\n",
       "      <td>efbvgp9</td>\n",
       "    </tr>\n",
       "    <tr>\n",
       "      <th>5426</th>\n",
       "      <td>Had to watch \"\"Elmo in Grouchland\"\" one time t...</td>\n",
       "      <td>edtjpv6</td>\n",
       "    </tr>\n",
       "  </tbody>\n",
       "</table>\n",
       "<p>5427 rows × 2 columns</p>\n",
       "</div>"
      ],
      "text/plain": [
       "                                                   text       id\n",
       "0     I’m really sorry about your situation :( Altho...  eecwqtt\n",
       "1       It's wonderful because it's awful. At not with.  ed5f85d\n",
       "2     Kings fan here, good luck to you guys! Will be...  een27c3\n",
       "3     I didn't know that, thank you for teaching me ...  eelgwd1\n",
       "4     They got bored from haunting earth for thousan...  eem5uti\n",
       "...                                                 ...      ...\n",
       "5422  Thanks. I was diagnosed with BP 1 after the ho...  efeeasc\n",
       "5423                             Well that makes sense.  ef9c7s3\n",
       "5424                                Daddy issues [NAME]  efbiugo\n",
       "5425  So glad I discovered that subreddit a couple m...  efbvgp9\n",
       "5426  Had to watch \"\"Elmo in Grouchland\"\" one time t...  edtjpv6\n",
       "\n",
       "[5427 rows x 2 columns]"
      ]
     },
     "execution_count": 74,
     "metadata": {},
     "output_type": "execute_result"
    }
   ],
   "source": [
    "dataset_text_classification"
   ]
  },
  {
   "cell_type": "markdown",
   "id": "927503e2-f857-446e-86c1-1b2986af68e3",
   "metadata": {
    "jp-MarkdownHeadingCollapsed": true,
    "tags": []
   },
   "source": [
    "## 2) Preprocesado de las reseñas del csv de testing (limpieza)."
   ]
  },
  {
   "cell_type": "code",
   "execution_count": 75,
   "id": "323540c4-98ef-4c49-a87a-3c493623d1d4",
   "metadata": {},
   "outputs": [],
   "source": [
    "# corpus para la predicción\n",
    "corpus_text_classification = []"
   ]
  },
  {
   "cell_type": "code",
   "execution_count": 76,
   "id": "3624a290-2107-47fc-9286-02e588e1ef6e",
   "metadata": {},
   "outputs": [],
   "source": [
    "# bucle de limpieza\n",
    "for i in range (0,5427):\n",
    "    review_text_classification = re.sub('[^a-zA-Z]', ' ', dataset_text_classification['text'][i])\n",
    "    review_text_classification = review_text_classification.lower()\n",
    "    review_text_classification = review_text_classification.split()\n",
    "    ps_text_classification = PorterStemmer()\n",
    "    review_text_classification = [ps_text_classification.stem(word) for word in review_text_classification if not word in set(stopwords.words('english'))]\n",
    "    review_text_classification = ' '.join(review_text_classification)\n",
    "    corpus_text_classification.append(review_text_classification)"
   ]
  },
  {
   "cell_type": "markdown",
   "id": "8dad7f10-84af-464a-b3b5-07093698cc4e",
   "metadata": {
    "jp-MarkdownHeadingCollapsed": true,
    "tags": []
   },
   "source": [
    "## 3) Bag of Words."
   ]
  },
  {
   "cell_type": "code",
   "execution_count": 77,
   "id": "bfcb1456-5d97-4565-b836-182053489dbe",
   "metadata": {},
   "outputs": [],
   "source": [
    "cv_text_classification = CountVectorizer(max_features= 1500)\n",
    "X_text_classification = cv_text_classification.fit_transform(corpus_text_classification).toarray()"
   ]
  },
  {
   "cell_type": "code",
   "execution_count": 78,
   "id": "c0c2b0f3-2ac3-42c2-81a7-c99d1e261c2e",
   "metadata": {},
   "outputs": [
    {
     "data": {
      "text/plain": [
       "array([[0, 0, 0, ..., 0, 0, 0],\n",
       "       [0, 0, 0, ..., 0, 0, 0],\n",
       "       [0, 0, 0, ..., 0, 0, 0],\n",
       "       ...,\n",
       "       [0, 0, 0, ..., 0, 0, 0],\n",
       "       [0, 0, 0, ..., 0, 0, 0],\n",
       "       [0, 0, 0, ..., 0, 0, 0]], dtype=int64)"
      ]
     },
     "execution_count": 78,
     "metadata": {},
     "output_type": "execute_result"
    }
   ],
   "source": [
    "X_text_classification"
   ]
  },
  {
   "cell_type": "markdown",
   "id": "59453d3b-24b9-4bfd-87d8-80eda764b93b",
   "metadata": {
    "jp-MarkdownHeadingCollapsed": true,
    "tags": []
   },
   "source": [
    "## 4) Nube de puntos."
   ]
  },
  {
   "cell_type": "code",
   "execution_count": 79,
   "id": "b778a3bc-85a0-43d7-b035-4b052a9e50e1",
   "metadata": {},
   "outputs": [],
   "source": [
    "from wordcloud import WordCloud # importamos librería"
   ]
  },
  {
   "cell_type": "code",
   "execution_count": 80,
   "id": "bcd67d9b-31c1-4e34-a955-e0bb686dceee",
   "metadata": {},
   "outputs": [],
   "source": [
    "# Creamos el objeto. Fondo negro, alto y ancho.\n",
    "wc_text_classification = WordCloud(background_color='black', height=600, width=400)"
   ]
  },
  {
   "cell_type": "code",
   "execution_count": 81,
   "id": "a674e599-8980-4e58-aaf8-44bc1584d4a7",
   "metadata": {},
   "outputs": [],
   "source": [
    "# WordCloud solo acepta texto, así que se transforma la lista de strings (corpus) en un string.\n",
    "corpus_wc = ''\n",
    "for i in corpus_text_classification:\n",
    "    corpus_wc = corpus_wc + i"
   ]
  },
  {
   "cell_type": "code",
   "execution_count": 82,
   "id": "1c9ac6e2-d714-438c-88a2-b44f6d6404f4",
   "metadata": {},
   "outputs": [
    {
     "data": {
      "text/plain": [
       "<wordcloud.wordcloud.WordCloud at 0x223c3772be0>"
      ]
     },
     "execution_count": 82,
     "metadata": {},
     "output_type": "execute_result"
    }
   ],
   "source": [
    "# Se genera el wordcloud entregándo como argumento el corpus_wc \n",
    "wc_text_classification.generate(corpus_wc)"
   ]
  },
  {
   "cell_type": "code",
   "execution_count": 83,
   "id": "1753c98d-be41-4a4f-821b-d4e0f8a9338d",
   "metadata": {},
   "outputs": [
    {
     "data": {
      "text/plain": [
       "<wordcloud.wordcloud.WordCloud at 0x223c3772be0>"
      ]
     },
     "execution_count": 83,
     "metadata": {},
     "output_type": "execute_result"
    }
   ],
   "source": [
    "# Se genera un archivo png para insertar una imagen en la próxima celda. Queda muy bonita.\n",
    "wc_text_classification.to_file('wordcloud_text_classification.png')"
   ]
  },
  {
   "cell_type": "markdown",
   "id": "10c91e57-32cd-45e8-8c25-ef4e88cca5f6",
   "metadata": {},
   "source": [
    "<div align=\"center\">\n",
    "    <img src=\"wordcloud_text_classification.png\" alt=\"Nube de Palabras\"  width=\"300\">\n",
    "</div>"
   ]
  },
  {
   "cell_type": "markdown",
   "id": "81839f1d-4695-4ee6-a697-a42178ccab4b",
   "metadata": {
    "jp-MarkdownHeadingCollapsed": true,
    "tags": []
   },
   "source": [
    " ## 5) Predicción usando nuestro modelo de máquinas de soporte vectorial.   "
   ]
  },
  {
   "cell_type": "code",
   "execution_count": 84,
   "id": "265c8615-e4e2-4168-bf8d-94ccc847645e",
   "metadata": {},
   "outputs": [],
   "source": [
    "y_pred_text_classification = clf.predict(X_text_classification) # realizamos la predicción"
   ]
  },
  {
   "cell_type": "code",
   "execution_count": 85,
   "id": "616b3bb1-a5b3-419b-b5c7-44c542380e21",
   "metadata": {},
   "outputs": [
    {
     "data": {
      "text/html": [
       "<div>\n",
       "<style scoped>\n",
       "    .dataframe tbody tr th:only-of-type {\n",
       "        vertical-align: middle;\n",
       "    }\n",
       "\n",
       "    .dataframe tbody tr th {\n",
       "        vertical-align: top;\n",
       "    }\n",
       "\n",
       "    .dataframe thead th {\n",
       "        text-align: right;\n",
       "    }\n",
       "</style>\n",
       "<table border=\"1\" class=\"dataframe\">\n",
       "  <thead>\n",
       "    <tr style=\"text-align: right;\">\n",
       "      <th></th>\n",
       "      <th>0</th>\n",
       "      <th>1</th>\n",
       "      <th>10</th>\n",
       "      <th>11</th>\n",
       "      <th>12</th>\n",
       "      <th>13</th>\n",
       "      <th>14</th>\n",
       "      <th>15</th>\n",
       "      <th>16</th>\n",
       "      <th>17</th>\n",
       "      <th>18</th>\n",
       "      <th>19</th>\n",
       "      <th>2</th>\n",
       "      <th>20</th>\n",
       "      <th>21</th>\n",
       "      <th>22</th>\n",
       "      <th>23</th>\n",
       "      <th>24</th>\n",
       "      <th>25</th>\n",
       "      <th>26</th>\n",
       "      <th>27</th>\n",
       "      <th>3</th>\n",
       "      <th>4</th>\n",
       "      <th>5</th>\n",
       "      <th>6</th>\n",
       "      <th>7</th>\n",
       "      <th>8</th>\n",
       "      <th>9</th>\n",
       "    </tr>\n",
       "  </thead>\n",
       "  <tbody>\n",
       "    <tr>\n",
       "      <th>0</th>\n",
       "      <td>0</td>\n",
       "      <td>0</td>\n",
       "      <td>0</td>\n",
       "      <td>1</td>\n",
       "      <td>0</td>\n",
       "      <td>0</td>\n",
       "      <td>0</td>\n",
       "      <td>0</td>\n",
       "      <td>0</td>\n",
       "      <td>0</td>\n",
       "      <td>0</td>\n",
       "      <td>0</td>\n",
       "      <td>0</td>\n",
       "      <td>0</td>\n",
       "      <td>0</td>\n",
       "      <td>0</td>\n",
       "      <td>0</td>\n",
       "      <td>0</td>\n",
       "      <td>0</td>\n",
       "      <td>0</td>\n",
       "      <td>0</td>\n",
       "      <td>0</td>\n",
       "      <td>0</td>\n",
       "      <td>0</td>\n",
       "      <td>0</td>\n",
       "      <td>0</td>\n",
       "      <td>0</td>\n",
       "      <td>0</td>\n",
       "    </tr>\n",
       "    <tr>\n",
       "      <th>1</th>\n",
       "      <td>1</td>\n",
       "      <td>0</td>\n",
       "      <td>0</td>\n",
       "      <td>0</td>\n",
       "      <td>0</td>\n",
       "      <td>0</td>\n",
       "      <td>0</td>\n",
       "      <td>0</td>\n",
       "      <td>0</td>\n",
       "      <td>0</td>\n",
       "      <td>0</td>\n",
       "      <td>0</td>\n",
       "      <td>0</td>\n",
       "      <td>0</td>\n",
       "      <td>0</td>\n",
       "      <td>0</td>\n",
       "      <td>0</td>\n",
       "      <td>0</td>\n",
       "      <td>0</td>\n",
       "      <td>0</td>\n",
       "      <td>0</td>\n",
       "      <td>0</td>\n",
       "      <td>0</td>\n",
       "      <td>0</td>\n",
       "      <td>0</td>\n",
       "      <td>0</td>\n",
       "      <td>0</td>\n",
       "      <td>0</td>\n",
       "    </tr>\n",
       "    <tr>\n",
       "      <th>2</th>\n",
       "      <td>0</td>\n",
       "      <td>0</td>\n",
       "      <td>0</td>\n",
       "      <td>0</td>\n",
       "      <td>0</td>\n",
       "      <td>0</td>\n",
       "      <td>0</td>\n",
       "      <td>0</td>\n",
       "      <td>0</td>\n",
       "      <td>1</td>\n",
       "      <td>0</td>\n",
       "      <td>0</td>\n",
       "      <td>0</td>\n",
       "      <td>0</td>\n",
       "      <td>0</td>\n",
       "      <td>0</td>\n",
       "      <td>0</td>\n",
       "      <td>0</td>\n",
       "      <td>0</td>\n",
       "      <td>0</td>\n",
       "      <td>0</td>\n",
       "      <td>0</td>\n",
       "      <td>0</td>\n",
       "      <td>0</td>\n",
       "      <td>0</td>\n",
       "      <td>0</td>\n",
       "      <td>0</td>\n",
       "      <td>0</td>\n",
       "    </tr>\n",
       "    <tr>\n",
       "      <th>3</th>\n",
       "      <td>0</td>\n",
       "      <td>0</td>\n",
       "      <td>0</td>\n",
       "      <td>0</td>\n",
       "      <td>0</td>\n",
       "      <td>0</td>\n",
       "      <td>0</td>\n",
       "      <td>0</td>\n",
       "      <td>0</td>\n",
       "      <td>0</td>\n",
       "      <td>0</td>\n",
       "      <td>0</td>\n",
       "      <td>0</td>\n",
       "      <td>0</td>\n",
       "      <td>0</td>\n",
       "      <td>0</td>\n",
       "      <td>0</td>\n",
       "      <td>0</td>\n",
       "      <td>0</td>\n",
       "      <td>0</td>\n",
       "      <td>1</td>\n",
       "      <td>0</td>\n",
       "      <td>0</td>\n",
       "      <td>0</td>\n",
       "      <td>0</td>\n",
       "      <td>0</td>\n",
       "      <td>0</td>\n",
       "      <td>0</td>\n",
       "    </tr>\n",
       "    <tr>\n",
       "      <th>4</th>\n",
       "      <td>0</td>\n",
       "      <td>0</td>\n",
       "      <td>0</td>\n",
       "      <td>0</td>\n",
       "      <td>0</td>\n",
       "      <td>0</td>\n",
       "      <td>0</td>\n",
       "      <td>0</td>\n",
       "      <td>0</td>\n",
       "      <td>0</td>\n",
       "      <td>0</td>\n",
       "      <td>0</td>\n",
       "      <td>0</td>\n",
       "      <td>0</td>\n",
       "      <td>0</td>\n",
       "      <td>0</td>\n",
       "      <td>0</td>\n",
       "      <td>0</td>\n",
       "      <td>0</td>\n",
       "      <td>0</td>\n",
       "      <td>0</td>\n",
       "      <td>0</td>\n",
       "      <td>0</td>\n",
       "      <td>0</td>\n",
       "      <td>0</td>\n",
       "      <td>0</td>\n",
       "      <td>0</td>\n",
       "      <td>0</td>\n",
       "    </tr>\n",
       "    <tr>\n",
       "      <th>...</th>\n",
       "      <td>...</td>\n",
       "      <td>...</td>\n",
       "      <td>...</td>\n",
       "      <td>...</td>\n",
       "      <td>...</td>\n",
       "      <td>...</td>\n",
       "      <td>...</td>\n",
       "      <td>...</td>\n",
       "      <td>...</td>\n",
       "      <td>...</td>\n",
       "      <td>...</td>\n",
       "      <td>...</td>\n",
       "      <td>...</td>\n",
       "      <td>...</td>\n",
       "      <td>...</td>\n",
       "      <td>...</td>\n",
       "      <td>...</td>\n",
       "      <td>...</td>\n",
       "      <td>...</td>\n",
       "      <td>...</td>\n",
       "      <td>...</td>\n",
       "      <td>...</td>\n",
       "      <td>...</td>\n",
       "      <td>...</td>\n",
       "      <td>...</td>\n",
       "      <td>...</td>\n",
       "      <td>...</td>\n",
       "      <td>...</td>\n",
       "    </tr>\n",
       "    <tr>\n",
       "      <th>5422</th>\n",
       "      <td>0</td>\n",
       "      <td>0</td>\n",
       "      <td>0</td>\n",
       "      <td>0</td>\n",
       "      <td>0</td>\n",
       "      <td>0</td>\n",
       "      <td>0</td>\n",
       "      <td>1</td>\n",
       "      <td>0</td>\n",
       "      <td>0</td>\n",
       "      <td>0</td>\n",
       "      <td>0</td>\n",
       "      <td>0</td>\n",
       "      <td>0</td>\n",
       "      <td>0</td>\n",
       "      <td>0</td>\n",
       "      <td>0</td>\n",
       "      <td>0</td>\n",
       "      <td>0</td>\n",
       "      <td>0</td>\n",
       "      <td>0</td>\n",
       "      <td>0</td>\n",
       "      <td>0</td>\n",
       "      <td>0</td>\n",
       "      <td>0</td>\n",
       "      <td>0</td>\n",
       "      <td>0</td>\n",
       "      <td>0</td>\n",
       "    </tr>\n",
       "    <tr>\n",
       "      <th>5423</th>\n",
       "      <td>0</td>\n",
       "      <td>0</td>\n",
       "      <td>0</td>\n",
       "      <td>0</td>\n",
       "      <td>0</td>\n",
       "      <td>0</td>\n",
       "      <td>0</td>\n",
       "      <td>1</td>\n",
       "      <td>0</td>\n",
       "      <td>0</td>\n",
       "      <td>0</td>\n",
       "      <td>0</td>\n",
       "      <td>0</td>\n",
       "      <td>0</td>\n",
       "      <td>0</td>\n",
       "      <td>0</td>\n",
       "      <td>0</td>\n",
       "      <td>0</td>\n",
       "      <td>0</td>\n",
       "      <td>0</td>\n",
       "      <td>0</td>\n",
       "      <td>0</td>\n",
       "      <td>0</td>\n",
       "      <td>0</td>\n",
       "      <td>0</td>\n",
       "      <td>0</td>\n",
       "      <td>0</td>\n",
       "      <td>1</td>\n",
       "    </tr>\n",
       "    <tr>\n",
       "      <th>5424</th>\n",
       "      <td>0</td>\n",
       "      <td>0</td>\n",
       "      <td>1</td>\n",
       "      <td>1</td>\n",
       "      <td>0</td>\n",
       "      <td>0</td>\n",
       "      <td>0</td>\n",
       "      <td>0</td>\n",
       "      <td>0</td>\n",
       "      <td>0</td>\n",
       "      <td>0</td>\n",
       "      <td>0</td>\n",
       "      <td>0</td>\n",
       "      <td>0</td>\n",
       "      <td>0</td>\n",
       "      <td>0</td>\n",
       "      <td>0</td>\n",
       "      <td>0</td>\n",
       "      <td>0</td>\n",
       "      <td>0</td>\n",
       "      <td>0</td>\n",
       "      <td>0</td>\n",
       "      <td>0</td>\n",
       "      <td>0</td>\n",
       "      <td>0</td>\n",
       "      <td>0</td>\n",
       "      <td>0</td>\n",
       "      <td>0</td>\n",
       "    </tr>\n",
       "    <tr>\n",
       "      <th>5425</th>\n",
       "      <td>1</td>\n",
       "      <td>0</td>\n",
       "      <td>0</td>\n",
       "      <td>0</td>\n",
       "      <td>0</td>\n",
       "      <td>0</td>\n",
       "      <td>0</td>\n",
       "      <td>0</td>\n",
       "      <td>0</td>\n",
       "      <td>0</td>\n",
       "      <td>0</td>\n",
       "      <td>0</td>\n",
       "      <td>0</td>\n",
       "      <td>0</td>\n",
       "      <td>0</td>\n",
       "      <td>0</td>\n",
       "      <td>0</td>\n",
       "      <td>0</td>\n",
       "      <td>0</td>\n",
       "      <td>0</td>\n",
       "      <td>0</td>\n",
       "      <td>0</td>\n",
       "      <td>0</td>\n",
       "      <td>0</td>\n",
       "      <td>0</td>\n",
       "      <td>0</td>\n",
       "      <td>0</td>\n",
       "      <td>0</td>\n",
       "    </tr>\n",
       "    <tr>\n",
       "      <th>5426</th>\n",
       "      <td>0</td>\n",
       "      <td>0</td>\n",
       "      <td>0</td>\n",
       "      <td>0</td>\n",
       "      <td>0</td>\n",
       "      <td>0</td>\n",
       "      <td>0</td>\n",
       "      <td>0</td>\n",
       "      <td>0</td>\n",
       "      <td>0</td>\n",
       "      <td>0</td>\n",
       "      <td>0</td>\n",
       "      <td>0</td>\n",
       "      <td>0</td>\n",
       "      <td>0</td>\n",
       "      <td>0</td>\n",
       "      <td>0</td>\n",
       "      <td>0</td>\n",
       "      <td>0</td>\n",
       "      <td>0</td>\n",
       "      <td>1</td>\n",
       "      <td>0</td>\n",
       "      <td>0</td>\n",
       "      <td>0</td>\n",
       "      <td>0</td>\n",
       "      <td>0</td>\n",
       "      <td>0</td>\n",
       "      <td>0</td>\n",
       "    </tr>\n",
       "  </tbody>\n",
       "</table>\n",
       "<p>5427 rows × 28 columns</p>\n",
       "</div>"
      ],
      "text/plain": [
       "      0  1  10  11  12  13  14  15  16  17  18  19  2  20  21  22  23  24  25  \\\n",
       "0     0  0   0   1   0   0   0   0   0   0   0   0  0   0   0   0   0   0   0   \n",
       "1     1  0   0   0   0   0   0   0   0   0   0   0  0   0   0   0   0   0   0   \n",
       "2     0  0   0   0   0   0   0   0   0   1   0   0  0   0   0   0   0   0   0   \n",
       "3     0  0   0   0   0   0   0   0   0   0   0   0  0   0   0   0   0   0   0   \n",
       "4     0  0   0   0   0   0   0   0   0   0   0   0  0   0   0   0   0   0   0   \n",
       "...  .. ..  ..  ..  ..  ..  ..  ..  ..  ..  ..  .. ..  ..  ..  ..  ..  ..  ..   \n",
       "5422  0  0   0   0   0   0   0   1   0   0   0   0  0   0   0   0   0   0   0   \n",
       "5423  0  0   0   0   0   0   0   1   0   0   0   0  0   0   0   0   0   0   0   \n",
       "5424  0  0   1   1   0   0   0   0   0   0   0   0  0   0   0   0   0   0   0   \n",
       "5425  1  0   0   0   0   0   0   0   0   0   0   0  0   0   0   0   0   0   0   \n",
       "5426  0  0   0   0   0   0   0   0   0   0   0   0  0   0   0   0   0   0   0   \n",
       "\n",
       "      26  27  3  4  5  6  7  8  9  \n",
       "0      0   0  0  0  0  0  0  0  0  \n",
       "1      0   0  0  0  0  0  0  0  0  \n",
       "2      0   0  0  0  0  0  0  0  0  \n",
       "3      0   1  0  0  0  0  0  0  0  \n",
       "4      0   0  0  0  0  0  0  0  0  \n",
       "...   ..  .. .. .. .. .. .. .. ..  \n",
       "5422   0   0  0  0  0  0  0  0  0  \n",
       "5423   0   0  0  0  0  0  0  0  1  \n",
       "5424   0   0  0  0  0  0  0  0  0  \n",
       "5425   0   0  0  0  0  0  0  0  0  \n",
       "5426   0   1  0  0  0  0  0  0  0  \n",
       "\n",
       "[5427 rows x 28 columns]"
      ]
     },
     "execution_count": 85,
     "metadata": {},
     "output_type": "execute_result"
    }
   ],
   "source": [
    "pd.DataFrame(y_pred_text_classification, columns = multilabel.classes_)"
   ]
  },
  {
   "cell_type": "markdown",
   "id": "c954f618-4371-45fe-ab40-5c72ad53fd39",
   "metadata": {
    "jp-MarkdownHeadingCollapsed": true,
    "tags": []
   },
   "source": [
    "## 6) Transformación Inversa (transformar matriz dispersa a columna de etiquetas)"
   ]
  },
  {
   "cell_type": "code",
   "execution_count": 86,
   "id": "2956b45e-be53-4382-baea-cebbf33a3b1a",
   "metadata": {},
   "outputs": [],
   "source": [
    "# Utilizamos el método \"inverse_transform\" de la librería MultiLabelBinarizer para volver a tener el nombre de nuestras\n",
    "# etiquetas (números del 0 al 27).\n",
    "y_pred_transformado = multilabel.inverse_transform(y_pred_text_classification) "
   ]
  },
  {
   "cell_type": "markdown",
   "id": "91ea713a-f104-4dd2-a0c7-fd7fc5f93064",
   "metadata": {
    "jp-MarkdownHeadingCollapsed": true,
    "tags": []
   },
   "source": [
    "## 7) Agregar las predicciones como columna al dataset"
   ]
  },
  {
   "cell_type": "code",
   "execution_count": 87,
   "id": "8c719a7c-d589-47e3-b03b-0a17a8659b5d",
   "metadata": {},
   "outputs": [],
   "source": [
    "dataset_text_classification['Emoción'] = y_pred_transformado"
   ]
  },
  {
   "cell_type": "code",
   "execution_count": 88,
   "id": "97cbe680-c39c-45f9-a648-0aee82689d40",
   "metadata": {},
   "outputs": [
    {
     "data": {
      "text/html": [
       "<div>\n",
       "<style scoped>\n",
       "    .dataframe tbody tr th:only-of-type {\n",
       "        vertical-align: middle;\n",
       "    }\n",
       "\n",
       "    .dataframe tbody tr th {\n",
       "        vertical-align: top;\n",
       "    }\n",
       "\n",
       "    .dataframe thead th {\n",
       "        text-align: right;\n",
       "    }\n",
       "</style>\n",
       "<table border=\"1\" class=\"dataframe\">\n",
       "  <thead>\n",
       "    <tr style=\"text-align: right;\">\n",
       "      <th></th>\n",
       "      <th>text</th>\n",
       "      <th>id</th>\n",
       "      <th>Emoción</th>\n",
       "    </tr>\n",
       "  </thead>\n",
       "  <tbody>\n",
       "    <tr>\n",
       "      <th>0</th>\n",
       "      <td>I’m really sorry about your situation :( Altho...</td>\n",
       "      <td>eecwqtt</td>\n",
       "      <td>(11,)</td>\n",
       "    </tr>\n",
       "    <tr>\n",
       "      <th>1</th>\n",
       "      <td>It's wonderful because it's awful. At not with.</td>\n",
       "      <td>ed5f85d</td>\n",
       "      <td>(0,)</td>\n",
       "    </tr>\n",
       "    <tr>\n",
       "      <th>2</th>\n",
       "      <td>Kings fan here, good luck to you guys! Will be...</td>\n",
       "      <td>een27c3</td>\n",
       "      <td>(17,)</td>\n",
       "    </tr>\n",
       "    <tr>\n",
       "      <th>3</th>\n",
       "      <td>I didn't know that, thank you for teaching me ...</td>\n",
       "      <td>eelgwd1</td>\n",
       "      <td>(27,)</td>\n",
       "    </tr>\n",
       "    <tr>\n",
       "      <th>4</th>\n",
       "      <td>They got bored from haunting earth for thousan...</td>\n",
       "      <td>eem5uti</td>\n",
       "      <td>()</td>\n",
       "    </tr>\n",
       "    <tr>\n",
       "      <th>...</th>\n",
       "      <td>...</td>\n",
       "      <td>...</td>\n",
       "      <td>...</td>\n",
       "    </tr>\n",
       "    <tr>\n",
       "      <th>5422</th>\n",
       "      <td>Thanks. I was diagnosed with BP 1 after the ho...</td>\n",
       "      <td>efeeasc</td>\n",
       "      <td>(15,)</td>\n",
       "    </tr>\n",
       "    <tr>\n",
       "      <th>5423</th>\n",
       "      <td>Well that makes sense.</td>\n",
       "      <td>ef9c7s3</td>\n",
       "      <td>(15, 9)</td>\n",
       "    </tr>\n",
       "    <tr>\n",
       "      <th>5424</th>\n",
       "      <td>Daddy issues [NAME]</td>\n",
       "      <td>efbiugo</td>\n",
       "      <td>(10, 11)</td>\n",
       "    </tr>\n",
       "    <tr>\n",
       "      <th>5425</th>\n",
       "      <td>So glad I discovered that subreddit a couple m...</td>\n",
       "      <td>efbvgp9</td>\n",
       "      <td>(0,)</td>\n",
       "    </tr>\n",
       "    <tr>\n",
       "      <th>5426</th>\n",
       "      <td>Had to watch \"\"Elmo in Grouchland\"\" one time t...</td>\n",
       "      <td>edtjpv6</td>\n",
       "      <td>(27,)</td>\n",
       "    </tr>\n",
       "  </tbody>\n",
       "</table>\n",
       "<p>5427 rows × 3 columns</p>\n",
       "</div>"
      ],
      "text/plain": [
       "                                                   text       id   Emoción\n",
       "0     I’m really sorry about your situation :( Altho...  eecwqtt     (11,)\n",
       "1       It's wonderful because it's awful. At not with.  ed5f85d      (0,)\n",
       "2     Kings fan here, good luck to you guys! Will be...  een27c3     (17,)\n",
       "3     I didn't know that, thank you for teaching me ...  eelgwd1     (27,)\n",
       "4     They got bored from haunting earth for thousan...  eem5uti        ()\n",
       "...                                                 ...      ...       ...\n",
       "5422  Thanks. I was diagnosed with BP 1 after the ho...  efeeasc     (15,)\n",
       "5423                             Well that makes sense.  ef9c7s3   (15, 9)\n",
       "5424                                Daddy issues [NAME]  efbiugo  (10, 11)\n",
       "5425  So glad I discovered that subreddit a couple m...  efbvgp9      (0,)\n",
       "5426  Had to watch \"\"Elmo in Grouchland\"\" one time t...  edtjpv6     (27,)\n",
       "\n",
       "[5427 rows x 3 columns]"
      ]
     },
     "execution_count": 88,
     "metadata": {},
     "output_type": "execute_result"
    }
   ],
   "source": [
    "dataset_text_classification"
   ]
  },
  {
   "cell_type": "markdown",
   "id": "2dc34a42-e79d-408b-ab7a-7e8e9377c5d5",
   "metadata": {
    "tags": []
   },
   "source": [
    "## 8) Transformación de la columna Emoción a str con la función lambda y el método join."
   ]
  },
  {
   "cell_type": "code",
   "execution_count": 89,
   "id": "5cf272d3-fd2d-4616-bd64-605bda21993e",
   "metadata": {},
   "outputs": [],
   "source": [
    "dataset_text_classification['Emoción'] = dataset_text_classification['Emoción'].apply(lambda x: ','.join(x))"
   ]
  },
  {
   "cell_type": "code",
   "execution_count": 90,
   "id": "5b1878be-4fb7-48cc-a927-02a73609a856",
   "metadata": {},
   "outputs": [
    {
     "data": {
      "text/plain": [
       "'11'"
      ]
     },
     "execution_count": 90,
     "metadata": {},
     "output_type": "execute_result"
    }
   ],
   "source": [
    "dataset_text_classification['Emoción'][0]"
   ]
  },
  {
   "cell_type": "code",
   "execution_count": 91,
   "id": "51baeda2-7a99-49ad-8902-ff6c4f5e864a",
   "metadata": {},
   "outputs": [
    {
     "data": {
      "text/plain": [
       "str"
      ]
     },
     "execution_count": 91,
     "metadata": {},
     "output_type": "execute_result"
    }
   ],
   "source": [
    "type(dataset_text_classification['Emoción'][0])"
   ]
  },
  {
   "cell_type": "code",
   "execution_count": 92,
   "id": "c46ba823-5045-4c88-9bb2-9302be425547",
   "metadata": {},
   "outputs": [
    {
     "data": {
      "text/plain": [
       "27         1484\n",
       "           1273\n",
       "11          378\n",
       "0           259\n",
       "1           192\n",
       "           ... \n",
       "1,16          1\n",
       "14,20,5       1\n",
       "22,5          1\n",
       "11,3,6        1\n",
       "22,9          1\n",
       "Name: Emoción, Length: 340, dtype: int64"
      ]
     },
     "execution_count": 92,
     "metadata": {},
     "output_type": "execute_result"
    }
   ],
   "source": [
    "dataset_text_classification['Emoción'].value_counts() # observemos que hay 2785 datos sin clasificar\n",
    "# Esto significa que en este caso, el modelo etiquetó el 49% de las reseñas."
   ]
  },
  {
   "cell_type": "code",
   "execution_count": 95,
   "id": "ef7bea26-8568-42a6-b8d7-fb660f9f1077",
   "metadata": {},
   "outputs": [
    {
     "name": "stdout",
     "output_type": "stream",
     "text": [
      "              precision    recall  f1-score   support\n",
      "\n",
      "           0       0.60      0.54      0.57       826\n",
      "           1       0.72      0.71      0.71       441\n",
      "           2       0.20      0.05      0.08       388\n",
      "           3       0.56      0.22      0.32       158\n",
      "           4       0.48      0.23      0.31        52\n",
      "           5       0.49      0.17      0.26       189\n",
      "           6       0.49      0.36      0.42       108\n",
      "           7       0.94      0.86      0.90       525\n",
      "           8       0.00      0.00      0.00        19\n",
      "           9       0.53      0.32      0.40       284\n",
      "          10       0.68      0.70      0.69       381\n",
      "          11       0.20      0.03      0.05        35\n",
      "          12       0.41      0.32      0.36       313\n",
      "          13       0.62      0.35      0.45       328\n",
      "          14       0.27      0.21      0.24        19\n",
      "          15       0.30      0.08      0.13       214\n",
      "          16       0.00      0.00      0.00        30\n",
      "          17       0.48      0.46      0.47        99\n",
      "          18       0.51      0.34      0.41       273\n",
      "          19       0.47      0.21      0.29       225\n",
      "          20       0.57      0.49      0.53      2940\n",
      "          21       0.35      0.09      0.14       451\n",
      "          22       0.32      0.09      0.14       583\n",
      "          23       0.35      0.08      0.14       214\n",
      "          24       0.23      0.07      0.11       247\n",
      "          25       0.29      0.07      0.11       435\n",
      "          26       0.53      0.34      0.41       115\n",
      "          27       0.23      0.05      0.08       260\n",
      "\n",
      "   micro avg       0.57      0.37      0.45     10152\n",
      "   macro avg       0.42      0.27      0.31     10152\n",
      "weighted avg       0.51      0.37      0.41     10152\n",
      " samples avg       0.40      0.39      0.39     10152\n",
      "\n"
     ]
    },
    {
     "name": "stderr",
     "output_type": "stream",
     "text": [
      "C:\\Users\\Danko\\anaconda3\\lib\\site-packages\\sklearn\\metrics\\_classification.py:1318: UndefinedMetricWarning: Precision and F-score are ill-defined and being set to 0.0 in samples with no predicted labels. Use `zero_division` parameter to control this behavior.\n",
      "  _warn_prf(average, modifier, msg_start, len(result))\n"
     ]
    }
   ],
   "source": [
    "print(classification_report(y_test, y_pred))"
   ]
  },
  {
   "cell_type": "code",
   "execution_count": null,
   "id": "b82673b6-a65a-45a6-9f10-3f99192724b6",
   "metadata": {},
   "outputs": [],
   "source": []
  }
 ],
 "metadata": {
  "kernelspec": {
   "display_name": "Python 3 (ipykernel)",
   "language": "python",
   "name": "python3"
  },
  "language_info": {
   "codemirror_mode": {
    "name": "ipython",
    "version": 3
   },
   "file_extension": ".py",
   "mimetype": "text/x-python",
   "name": "python",
   "nbconvert_exporter": "python",
   "pygments_lexer": "ipython3",
   "version": "3.9.13"
  }
 },
 "nbformat": 4,
 "nbformat_minor": 5
}
