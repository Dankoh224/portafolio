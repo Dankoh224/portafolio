{
 "cells": [
  {
   "cell_type": "markdown",
   "id": "2d9624bf-7fb3-4936-8639-d644c6687f6a",
   "metadata": {},
   "source": [
    "<div align=\"center\">\n",
    "    <h1> <b>COMPETENCIA KAGGLE BÁSICO</b></h1>\n",
    "    <h1> <b>PREDICCIÓN DE SOBREVIVENCIA TITANIC</b></h1><br>\n",
    "</div>\n",
    "<div>\n",
    "    <h3> <b>Algoritmos: Regresión Logística.</b></h3>\n",
    "</div>"
   ]
  },
  {
   "cell_type": "markdown",
   "id": "1b76fa15-9c5e-424a-8fde-2dadd14eb85e",
   "metadata": {
    "id": "M27qF7CTrBqc",
    "jp-MarkdownHeadingCollapsed": true,
    "tags": []
   },
   "source": [
    "# 1. ENUNCIADO DEL PROBLEMA Y CASO PRÁCTICO."
   ]
  },
  {
   "cell_type": "markdown",
   "id": "8efe5f05-14e0-4134-a96a-3b2a86de556a",
   "metadata": {
    "id": "Z2ZMlH-gtOxf"
   },
   "source": [
    "<div align=\"center\">\n",
    "    <div>\n",
    "    <img src=\"https://th.bing.com/th/id/R.b2a5fb9e19b17d555d1253df5771a7c7?rik=H%2fhb1HYpSFeDTg&riu=http%3a%2f%2fimages2.fanpop.com%2fimages%2fphotos%2f6900000%2fTitanic-rms-titanic-6973543-814-528.jpg&ehk=KVIvqx2N7LPFDzJG%2bsS4jIN8DVP%2b0sprbJejK781vjM%3d&risl=&pid=ImgRaw&r=0\" alt=\"Fashion MNIST sprite\"  width=\"700\">\n",
    "    </div>\n",
    "    <b>Figura 1. Hunidimiento del Titanic</b>\n",
    "</div>"
   ]
  },
  {
   "cell_type": "markdown",
   "id": "d9ee73ff-e58c-4c98-b362-080d646bb582",
   "metadata": {},
   "source": [
    "## 1.1 Entendimiento del Problema."
   ]
  },
  {
   "cell_type": "markdown",
   "id": "277ddee4-7349-44b4-9246-f14fc41ed1df",
   "metadata": {
    "id": "qANsbnOpp6Ft"
   },
   "source": [
    "#### El conjunto de entrenamiento debe usarse para construir sus modelos de aprendizaje automático. Para el conjunto de entrenamiento, proporcionamos el resultado (también conocido como \"verdad sobre el terreno\") para cada pasajero. Su modelo se basará en \"características\" como el género y la clase de los pasajeros. También puede utilizar la ingeniería de características para crear nuevas características.\n",
    "\n",
    "#### El conjunto de prueba debe usarse para ver qué tan bien se desempeña su modelo en datos no vistos. Para el conjunto de prueba, no proporcionamos la verdad en tierra para cada pasajero. Es su trabajo predecir estos resultados. Para cada pasajero en el conjunto de prueba, use el modelo que entrenó para predecir si sobrevivieron o no al hundimiento del Titanic.\n",
    "\n",
    "#### También incluimos gender_submission.csv , un conjunto de predicciones que asumen que todas y solo las mujeres sobreviven, como un ejemplo de cómo debería verse un archivo de envío."
   ]
  },
  {
   "cell_type": "markdown",
   "id": "6038896e-91fe-48e3-bd28-0e02d85b2adb",
   "metadata": {},
   "source": [
    "## 1.2 Objetivo del Estudio y Características del Cliente."
   ]
  },
  {
   "cell_type": "markdown",
   "id": "65314edd-49e7-4be6-9d0f-1f484d7c8796",
   "metadata": {
    "id": "ladNLq1WqDY6"
   },
   "source": [
    "#### supervivencia\tSupervivencia\t0 = No, 1 = Sí\n",
    "#### pclase\tclase de boleto\t1 = 1°, 2 = 2°, 3 = 3°\n",
    "#### sexo\tSexo\t\n",
    "#### Años\tEdad en años\t\n",
    "#### sibsp\t# de hermanos/cónyuges a bordo del Titanic\t\n",
    "#### tostar\t# de padres/hijos a bordo del Titanic\t\n",
    "#### boleto\tNumero de ticket\t\n",
    "#### tarifa\ttarifa de pasajero\t\n",
    "#### cabina\tNúmero de cabina\t\n",
    "#### embarcado\tPuerto de embarque"
   ]
  },
  {
   "cell_type": "markdown",
   "id": "f8d3271c-80e3-43f6-a840-27757e815ba4",
   "metadata": {
    "id": "uAE6Icc0uylP",
    "jp-MarkdownHeadingCollapsed": true,
    "tags": []
   },
   "source": [
    "# 2. IMPORTAR LAS LIBRERÍAS Y OBTENER INFORMACIÓN GENERAL."
   ]
  },
  {
   "cell_type": "markdown",
   "id": "79322759-d413-4c3b-8a3a-ee51888e927c",
   "metadata": {},
   "source": [
    "## 2.1 Importe de librerías."
   ]
  },
  {
   "cell_type": "code",
   "execution_count": 1,
   "id": "b060cc17-3ead-4f81-9415-a3eef05a65eb",
   "metadata": {
    "id": "YBp2qDPb8pDo"
   },
   "outputs": [],
   "source": [
    "import pandas as pd\n",
    "import numpy as np\n",
    "import seaborn as sns\n",
    "import matplotlib.pyplot as plt\n",
    "import plotly.express as px"
   ]
  },
  {
   "cell_type": "markdown",
   "id": "02942f45-65f8-4005-a7b4-2eb7eac082e2",
   "metadata": {},
   "source": [
    "## 2.2 Cargar y Leer el Dataset. Configuración de la vista."
   ]
  },
  {
   "cell_type": "code",
   "execution_count": 2,
   "id": "a4c54425-2671-4300-93b1-4b932fc128dc",
   "metadata": {
    "id": "tjIiJdM4u1IE"
   },
   "outputs": [
    {
     "data": {
      "text/html": [
       "<div>\n",
       "<style scoped>\n",
       "    .dataframe tbody tr th:only-of-type {\n",
       "        vertical-align: middle;\n",
       "    }\n",
       "\n",
       "    .dataframe tbody tr th {\n",
       "        vertical-align: top;\n",
       "    }\n",
       "\n",
       "    .dataframe thead th {\n",
       "        text-align: right;\n",
       "    }\n",
       "</style>\n",
       "<table border=\"1\" class=\"dataframe\">\n",
       "  <thead>\n",
       "    <tr style=\"text-align: right;\">\n",
       "      <th></th>\n",
       "      <th>PassengerId</th>\n",
       "      <th>Survived</th>\n",
       "      <th>Pclass</th>\n",
       "      <th>Name</th>\n",
       "      <th>Sex</th>\n",
       "      <th>Age</th>\n",
       "      <th>SibSp</th>\n",
       "      <th>Parch</th>\n",
       "      <th>Ticket</th>\n",
       "      <th>Fare</th>\n",
       "      <th>Cabin</th>\n",
       "      <th>Embarked</th>\n",
       "    </tr>\n",
       "  </thead>\n",
       "  <tbody>\n",
       "    <tr>\n",
       "      <th>0</th>\n",
       "      <td>1</td>\n",
       "      <td>0</td>\n",
       "      <td>3</td>\n",
       "      <td>Braund, Mr. Owen Harris</td>\n",
       "      <td>male</td>\n",
       "      <td>22.0</td>\n",
       "      <td>1</td>\n",
       "      <td>0</td>\n",
       "      <td>A/5 21171</td>\n",
       "      <td>7.2500</td>\n",
       "      <td>NaN</td>\n",
       "      <td>S</td>\n",
       "    </tr>\n",
       "    <tr>\n",
       "      <th>1</th>\n",
       "      <td>2</td>\n",
       "      <td>1</td>\n",
       "      <td>1</td>\n",
       "      <td>Cumings, Mrs. John Bradley (Florence Briggs Th...</td>\n",
       "      <td>female</td>\n",
       "      <td>38.0</td>\n",
       "      <td>1</td>\n",
       "      <td>0</td>\n",
       "      <td>PC 17599</td>\n",
       "      <td>71.2833</td>\n",
       "      <td>C85</td>\n",
       "      <td>C</td>\n",
       "    </tr>\n",
       "    <tr>\n",
       "      <th>2</th>\n",
       "      <td>3</td>\n",
       "      <td>1</td>\n",
       "      <td>3</td>\n",
       "      <td>Heikkinen, Miss. Laina</td>\n",
       "      <td>female</td>\n",
       "      <td>26.0</td>\n",
       "      <td>0</td>\n",
       "      <td>0</td>\n",
       "      <td>STON/O2. 3101282</td>\n",
       "      <td>7.9250</td>\n",
       "      <td>NaN</td>\n",
       "      <td>S</td>\n",
       "    </tr>\n",
       "    <tr>\n",
       "      <th>3</th>\n",
       "      <td>4</td>\n",
       "      <td>1</td>\n",
       "      <td>1</td>\n",
       "      <td>Futrelle, Mrs. Jacques Heath (Lily May Peel)</td>\n",
       "      <td>female</td>\n",
       "      <td>35.0</td>\n",
       "      <td>1</td>\n",
       "      <td>0</td>\n",
       "      <td>113803</td>\n",
       "      <td>53.1000</td>\n",
       "      <td>C123</td>\n",
       "      <td>S</td>\n",
       "    </tr>\n",
       "    <tr>\n",
       "      <th>4</th>\n",
       "      <td>5</td>\n",
       "      <td>0</td>\n",
       "      <td>3</td>\n",
       "      <td>Allen, Mr. William Henry</td>\n",
       "      <td>male</td>\n",
       "      <td>35.0</td>\n",
       "      <td>0</td>\n",
       "      <td>0</td>\n",
       "      <td>373450</td>\n",
       "      <td>8.0500</td>\n",
       "      <td>NaN</td>\n",
       "      <td>S</td>\n",
       "    </tr>\n",
       "  </tbody>\n",
       "</table>\n",
       "</div>"
      ],
      "text/plain": [
       "   PassengerId  Survived  Pclass  \\\n",
       "0            1         0       3   \n",
       "1            2         1       1   \n",
       "2            3         1       3   \n",
       "3            4         1       1   \n",
       "4            5         0       3   \n",
       "\n",
       "                                                Name     Sex   Age  SibSp  \\\n",
       "0                            Braund, Mr. Owen Harris    male  22.0      1   \n",
       "1  Cumings, Mrs. John Bradley (Florence Briggs Th...  female  38.0      1   \n",
       "2                             Heikkinen, Miss. Laina  female  26.0      0   \n",
       "3       Futrelle, Mrs. Jacques Heath (Lily May Peel)  female  35.0      1   \n",
       "4                           Allen, Mr. William Henry    male  35.0      0   \n",
       "\n",
       "   Parch            Ticket     Fare Cabin Embarked  \n",
       "0      0         A/5 21171   7.2500   NaN        S  \n",
       "1      0          PC 17599  71.2833   C85        C  \n",
       "2      0  STON/O2. 3101282   7.9250   NaN        S  \n",
       "3      0            113803  53.1000  C123        S  \n",
       "4      0            373450   8.0500   NaN        S  "
      ]
     },
     "execution_count": 2,
     "metadata": {},
     "output_type": "execute_result"
    }
   ],
   "source": [
    "# Leer el dataset\n",
    "df = pd.read_csv(\"train.csv\")\n",
    "# A mi me gusta ver todas las columnas, así que realizaré una modificación en la configuración de pandas.\n",
    "# Esta función recibe dos argumentos: el nombre de la opción y la cantidad de columnas que queremos visualizar. \n",
    "pd.set_option('display.max_columns',100) # lo mismo para las filas con max_rows\n",
    "df.head()"
   ]
  },
  {
   "cell_type": "markdown",
   "id": "dabb2554-07de-4864-ad2f-14b584961dbd",
   "metadata": {},
   "source": [
    "## 2.3 Leyenda."
   ]
  },
  {
   "cell_type": "markdown",
   "id": "4cde07c5-2e60-4a7e-a3c1-ddd0006b3eb9",
   "metadata": {},
   "source": [
    "### 2.3.1 Obtener el nombre de cada columna."
   ]
  },
  {
   "cell_type": "code",
   "execution_count": 3,
   "id": "b54d4b0c-5893-4da2-91df-c98df9024d90",
   "metadata": {},
   "outputs": [
    {
     "data": {
      "text/plain": [
       "Index(['PassengerId', 'Survived', 'Pclass', 'Name', 'Sex', 'Age', 'SibSp',\n",
       "       'Parch', 'Ticket', 'Fare', 'Cabin', 'Embarked'],\n",
       "      dtype='object')"
      ]
     },
     "execution_count": 3,
     "metadata": {},
     "output_type": "execute_result"
    }
   ],
   "source": [
    "df.columns"
   ]
  },
  {
   "cell_type": "markdown",
   "id": "541c0aaa-b51d-4e34-aa90-b1caf319f477",
   "metadata": {},
   "source": [
    "### 2.3.2 Leyenda."
   ]
  },
  {
   "cell_type": "markdown",
   "id": "660fab3f-ad65-4328-a103-29b47f920b13",
   "metadata": {},
   "source": [
    "#### 'PassengerId': id pasajero\n",
    "#### 'Survived': variable objetivo, sobreviviente\n",
    "#### 'Pclass': tipo clase\n",
    "#### 'Name': nombre\n",
    "#### 'Sex': genero\n",
    "#### 'Age': edad\n",
    "#### 'SibSp': numero de conyuges hermanos a bordo\n",
    "#### 'Parch': numero de hijos padres a bordo\n",
    "#### 'Ticket': codigo del ticket\n",
    "#### 'Fare': tarifa\n",
    "#### 'Cabin': numero de la cabina\n",
    "#### 'Embarked': donde se hizo el embarque"
   ]
  },
  {
   "cell_type": "markdown",
   "id": "d70db5fb-1214-4297-a430-d76b183d647f",
   "metadata": {},
   "source": [
    "## 2.4 Primeras descripciones y conclusiones."
   ]
  },
  {
   "cell_type": "code",
   "execution_count": 4,
   "id": "f3b62bb9-0948-4c87-a62a-9b215b70e0ba",
   "metadata": {
    "id": "q4_wPDKCu5Uc"
   },
   "outputs": [
    {
     "name": "stdout",
     "output_type": "stream",
     "text": [
      "<class 'pandas.core.frame.DataFrame'>\n",
      "RangeIndex: 891 entries, 0 to 890\n",
      "Data columns (total 12 columns):\n",
      " #   Column       Non-Null Count  Dtype  \n",
      "---  ------       --------------  -----  \n",
      " 0   PassengerId  891 non-null    int64  \n",
      " 1   Survived     891 non-null    int64  \n",
      " 2   Pclass       891 non-null    int64  \n",
      " 3   Name         891 non-null    object \n",
      " 4   Sex          891 non-null    object \n",
      " 5   Age          714 non-null    float64\n",
      " 6   SibSp        891 non-null    int64  \n",
      " 7   Parch        891 non-null    int64  \n",
      " 8   Ticket       891 non-null    object \n",
      " 9   Fare         891 non-null    float64\n",
      " 10  Cabin        204 non-null    object \n",
      " 11  Embarked     889 non-null    object \n",
      "dtypes: float64(2), int64(5), object(5)\n",
      "memory usage: 83.7+ KB\n"
     ]
    }
   ],
   "source": [
    "df.info()"
   ]
  },
  {
   "cell_type": "code",
   "execution_count": 5,
   "id": "7ef6f495-1ccc-4327-b9bf-99fe45b5ffc6",
   "metadata": {},
   "outputs": [],
   "source": [
    "# Tenemos 5 enteros, 2 flotantes y 5 objetos."
   ]
  },
  {
   "cell_type": "code",
   "execution_count": 6,
   "id": "a2bf4ce2-1b1f-4f50-a309-43aa5636b9e4",
   "metadata": {
    "id": "E7puy9-xxS4A",
    "tags": []
   },
   "outputs": [
    {
     "data": {
      "text/html": [
       "<div>\n",
       "<style scoped>\n",
       "    .dataframe tbody tr th:only-of-type {\n",
       "        vertical-align: middle;\n",
       "    }\n",
       "\n",
       "    .dataframe tbody tr th {\n",
       "        vertical-align: top;\n",
       "    }\n",
       "\n",
       "    .dataframe thead th {\n",
       "        text-align: right;\n",
       "    }\n",
       "</style>\n",
       "<table border=\"1\" class=\"dataframe\">\n",
       "  <thead>\n",
       "    <tr style=\"text-align: right;\">\n",
       "      <th></th>\n",
       "      <th>PassengerId</th>\n",
       "      <th>Survived</th>\n",
       "      <th>Pclass</th>\n",
       "      <th>Age</th>\n",
       "      <th>SibSp</th>\n",
       "      <th>Parch</th>\n",
       "      <th>Fare</th>\n",
       "    </tr>\n",
       "  </thead>\n",
       "  <tbody>\n",
       "    <tr>\n",
       "      <th>count</th>\n",
       "      <td>891.000000</td>\n",
       "      <td>891.000000</td>\n",
       "      <td>891.000000</td>\n",
       "      <td>714.000000</td>\n",
       "      <td>891.000000</td>\n",
       "      <td>891.000000</td>\n",
       "      <td>891.000000</td>\n",
       "    </tr>\n",
       "    <tr>\n",
       "      <th>mean</th>\n",
       "      <td>446.000000</td>\n",
       "      <td>0.383838</td>\n",
       "      <td>2.308642</td>\n",
       "      <td>29.699118</td>\n",
       "      <td>0.523008</td>\n",
       "      <td>0.381594</td>\n",
       "      <td>32.204208</td>\n",
       "    </tr>\n",
       "    <tr>\n",
       "      <th>std</th>\n",
       "      <td>257.353842</td>\n",
       "      <td>0.486592</td>\n",
       "      <td>0.836071</td>\n",
       "      <td>14.526497</td>\n",
       "      <td>1.102743</td>\n",
       "      <td>0.806057</td>\n",
       "      <td>49.693429</td>\n",
       "    </tr>\n",
       "    <tr>\n",
       "      <th>min</th>\n",
       "      <td>1.000000</td>\n",
       "      <td>0.000000</td>\n",
       "      <td>1.000000</td>\n",
       "      <td>0.420000</td>\n",
       "      <td>0.000000</td>\n",
       "      <td>0.000000</td>\n",
       "      <td>0.000000</td>\n",
       "    </tr>\n",
       "    <tr>\n",
       "      <th>25%</th>\n",
       "      <td>223.500000</td>\n",
       "      <td>0.000000</td>\n",
       "      <td>2.000000</td>\n",
       "      <td>20.125000</td>\n",
       "      <td>0.000000</td>\n",
       "      <td>0.000000</td>\n",
       "      <td>7.910400</td>\n",
       "    </tr>\n",
       "    <tr>\n",
       "      <th>50%</th>\n",
       "      <td>446.000000</td>\n",
       "      <td>0.000000</td>\n",
       "      <td>3.000000</td>\n",
       "      <td>28.000000</td>\n",
       "      <td>0.000000</td>\n",
       "      <td>0.000000</td>\n",
       "      <td>14.454200</td>\n",
       "    </tr>\n",
       "    <tr>\n",
       "      <th>75%</th>\n",
       "      <td>668.500000</td>\n",
       "      <td>1.000000</td>\n",
       "      <td>3.000000</td>\n",
       "      <td>38.000000</td>\n",
       "      <td>1.000000</td>\n",
       "      <td>0.000000</td>\n",
       "      <td>31.000000</td>\n",
       "    </tr>\n",
       "    <tr>\n",
       "      <th>max</th>\n",
       "      <td>891.000000</td>\n",
       "      <td>1.000000</td>\n",
       "      <td>3.000000</td>\n",
       "      <td>80.000000</td>\n",
       "      <td>8.000000</td>\n",
       "      <td>6.000000</td>\n",
       "      <td>512.329200</td>\n",
       "    </tr>\n",
       "  </tbody>\n",
       "</table>\n",
       "</div>"
      ],
      "text/plain": [
       "       PassengerId    Survived      Pclass         Age       SibSp  \\\n",
       "count   891.000000  891.000000  891.000000  714.000000  891.000000   \n",
       "mean    446.000000    0.383838    2.308642   29.699118    0.523008   \n",
       "std     257.353842    0.486592    0.836071   14.526497    1.102743   \n",
       "min       1.000000    0.000000    1.000000    0.420000    0.000000   \n",
       "25%     223.500000    0.000000    2.000000   20.125000    0.000000   \n",
       "50%     446.000000    0.000000    3.000000   28.000000    0.000000   \n",
       "75%     668.500000    1.000000    3.000000   38.000000    1.000000   \n",
       "max     891.000000    1.000000    3.000000   80.000000    8.000000   \n",
       "\n",
       "            Parch        Fare  \n",
       "count  891.000000  891.000000  \n",
       "mean     0.381594   32.204208  \n",
       "std      0.806057   49.693429  \n",
       "min      0.000000    0.000000  \n",
       "25%      0.000000    7.910400  \n",
       "50%      0.000000   14.454200  \n",
       "75%      0.000000   31.000000  \n",
       "max      6.000000  512.329200  "
      ]
     },
     "execution_count": 6,
     "metadata": {},
     "output_type": "execute_result"
    }
   ],
   "source": [
    "# Ver las características estadísticas de los datos\n",
    "df.describe()"
   ]
  },
  {
   "cell_type": "markdown",
   "id": "60fb05d3-e155-429a-aa22-573c34594e58",
   "metadata": {
    "id": "hMq3-KWOx0e1"
   },
   "source": [
    "#### Nuestro dataset es de 12 características, cada una con 891 puntos de datos.\n",
    "#### Descripción general:\n",
    "\n",
    "#### 1.- El promedio entre todos los 1 y 0 de sobrevivientes es de 0,38, es decir, los sobrevivientes de este dataset son solo un 38% de pasajeros.\n",
    "#### 2.- La edad promedio de los pasajeros es de 29 años, habiendo una gran mayoría entre los 15 y los 43 años.\n",
    "#### 3.- El pasajero más pequeño tiene 5 meses y el más viejo tiene 80 años.\n",
    "#### 4.- El 75% de los pasajeros tiene menos de 38 años\n",
    "#### 5.- Los pasajeros de primera clase no alcanzan a ser el 25% del total de pasajeros. \n",
    "#### 6.- Al menos, la mitad de los pasajeros eran pasajeros de tercera clase.\n",
    "#### 7.- La mayoría de personas viajaron sin familia a bordo.\n",
    "#### 8.- El costo promedio de boleto era de 32 dolares.\n"
   ]
  },
  {
   "cell_type": "markdown",
   "id": "e480d569-cc4c-4da9-a8df-dd855e0cfa96",
   "metadata": {
    "id": "LlszUhNNyrl_",
    "tags": []
   },
   "source": [
    "# 3. VISUALIZACIÓN DEL DATASET."
   ]
  },
  {
   "cell_type": "markdown",
   "id": "21eb1fad-cb79-434a-abd6-885a5e92b1e6",
   "metadata": {
    "tags": []
   },
   "source": [
    "## 3.1 Transformar entradas de texto (binarias) en entradas numéricas."
   ]
  },
  {
   "cell_type": "code",
   "execution_count": 7,
   "id": "d401e6ea-a83b-4860-850b-e95f401ca4e5",
   "metadata": {},
   "outputs": [
    {
     "data": {
      "text/plain": [
       "male      577\n",
       "female    314\n",
       "Name: Sex, dtype: int64"
      ]
     },
     "execution_count": 7,
     "metadata": {},
     "output_type": "execute_result"
    }
   ],
   "source": [
    "# Ya que algunas columnas son objetos, como la columna Attrition (Yes & No) debemos cambiarlas a\n",
    "# entero para poder visualizar. Primero revisamos cuántas respuestas hay en cada columna.\n",
    "df['Sex'].value_counts()"
   ]
  },
  {
   "cell_type": "code",
   "execution_count": 8,
   "id": "332bc0b7-3a81-42b2-80d3-78d17908f5c4",
   "metadata": {},
   "outputs": [],
   "source": [
    "# De esta forma, podemos asegurarnos que solo existen las palabras No y Yes con esta misma escritura\n",
    "# para cambiarlas por ceros y unos."
   ]
  },
  {
   "cell_type": "markdown",
   "id": "1261c59c-fdd1-4c14-bb54-ff07c4cd9849",
   "metadata": {},
   "source": [
    "### Función lambda."
   ]
  },
  {
   "cell_type": "code",
   "execution_count": 9,
   "id": "dd41e05b-a6e7-4a51-a896-917585fb0a29",
   "metadata": {
    "id": "ZiVkQqEPMDDD"
   },
   "outputs": [],
   "source": [
    "# Ahora reemplazamos la columna 'Attrition' por enteros usando la función lamda.\n",
    "df['Sex'] = df['Sex'].apply(lambda x: 1 if x == 'male' else 0)"
   ]
  },
  {
   "cell_type": "code",
   "execution_count": 10,
   "id": "ac35fe3d-8fac-4182-b5cb-fca6e1c204f7",
   "metadata": {},
   "outputs": [
    {
     "data": {
      "text/html": [
       "<div>\n",
       "<style scoped>\n",
       "    .dataframe tbody tr th:only-of-type {\n",
       "        vertical-align: middle;\n",
       "    }\n",
       "\n",
       "    .dataframe tbody tr th {\n",
       "        vertical-align: top;\n",
       "    }\n",
       "\n",
       "    .dataframe thead th {\n",
       "        text-align: right;\n",
       "    }\n",
       "</style>\n",
       "<table border=\"1\" class=\"dataframe\">\n",
       "  <thead>\n",
       "    <tr style=\"text-align: right;\">\n",
       "      <th></th>\n",
       "      <th>PassengerId</th>\n",
       "      <th>Survived</th>\n",
       "      <th>Pclass</th>\n",
       "      <th>Name</th>\n",
       "      <th>Sex</th>\n",
       "      <th>Age</th>\n",
       "      <th>SibSp</th>\n",
       "      <th>Parch</th>\n",
       "      <th>Ticket</th>\n",
       "      <th>Fare</th>\n",
       "      <th>Cabin</th>\n",
       "      <th>Embarked</th>\n",
       "    </tr>\n",
       "  </thead>\n",
       "  <tbody>\n",
       "    <tr>\n",
       "      <th>0</th>\n",
       "      <td>1</td>\n",
       "      <td>0</td>\n",
       "      <td>3</td>\n",
       "      <td>Braund, Mr. Owen Harris</td>\n",
       "      <td>1</td>\n",
       "      <td>22.0</td>\n",
       "      <td>1</td>\n",
       "      <td>0</td>\n",
       "      <td>A/5 21171</td>\n",
       "      <td>7.2500</td>\n",
       "      <td>NaN</td>\n",
       "      <td>S</td>\n",
       "    </tr>\n",
       "    <tr>\n",
       "      <th>1</th>\n",
       "      <td>2</td>\n",
       "      <td>1</td>\n",
       "      <td>1</td>\n",
       "      <td>Cumings, Mrs. John Bradley (Florence Briggs Th...</td>\n",
       "      <td>0</td>\n",
       "      <td>38.0</td>\n",
       "      <td>1</td>\n",
       "      <td>0</td>\n",
       "      <td>PC 17599</td>\n",
       "      <td>71.2833</td>\n",
       "      <td>C85</td>\n",
       "      <td>C</td>\n",
       "    </tr>\n",
       "    <tr>\n",
       "      <th>2</th>\n",
       "      <td>3</td>\n",
       "      <td>1</td>\n",
       "      <td>3</td>\n",
       "      <td>Heikkinen, Miss. Laina</td>\n",
       "      <td>0</td>\n",
       "      <td>26.0</td>\n",
       "      <td>0</td>\n",
       "      <td>0</td>\n",
       "      <td>STON/O2. 3101282</td>\n",
       "      <td>7.9250</td>\n",
       "      <td>NaN</td>\n",
       "      <td>S</td>\n",
       "    </tr>\n",
       "    <tr>\n",
       "      <th>3</th>\n",
       "      <td>4</td>\n",
       "      <td>1</td>\n",
       "      <td>1</td>\n",
       "      <td>Futrelle, Mrs. Jacques Heath (Lily May Peel)</td>\n",
       "      <td>0</td>\n",
       "      <td>35.0</td>\n",
       "      <td>1</td>\n",
       "      <td>0</td>\n",
       "      <td>113803</td>\n",
       "      <td>53.1000</td>\n",
       "      <td>C123</td>\n",
       "      <td>S</td>\n",
       "    </tr>\n",
       "    <tr>\n",
       "      <th>4</th>\n",
       "      <td>5</td>\n",
       "      <td>0</td>\n",
       "      <td>3</td>\n",
       "      <td>Allen, Mr. William Henry</td>\n",
       "      <td>1</td>\n",
       "      <td>35.0</td>\n",
       "      <td>0</td>\n",
       "      <td>0</td>\n",
       "      <td>373450</td>\n",
       "      <td>8.0500</td>\n",
       "      <td>NaN</td>\n",
       "      <td>S</td>\n",
       "    </tr>\n",
       "    <tr>\n",
       "      <th>...</th>\n",
       "      <td>...</td>\n",
       "      <td>...</td>\n",
       "      <td>...</td>\n",
       "      <td>...</td>\n",
       "      <td>...</td>\n",
       "      <td>...</td>\n",
       "      <td>...</td>\n",
       "      <td>...</td>\n",
       "      <td>...</td>\n",
       "      <td>...</td>\n",
       "      <td>...</td>\n",
       "      <td>...</td>\n",
       "    </tr>\n",
       "    <tr>\n",
       "      <th>886</th>\n",
       "      <td>887</td>\n",
       "      <td>0</td>\n",
       "      <td>2</td>\n",
       "      <td>Montvila, Rev. Juozas</td>\n",
       "      <td>1</td>\n",
       "      <td>27.0</td>\n",
       "      <td>0</td>\n",
       "      <td>0</td>\n",
       "      <td>211536</td>\n",
       "      <td>13.0000</td>\n",
       "      <td>NaN</td>\n",
       "      <td>S</td>\n",
       "    </tr>\n",
       "    <tr>\n",
       "      <th>887</th>\n",
       "      <td>888</td>\n",
       "      <td>1</td>\n",
       "      <td>1</td>\n",
       "      <td>Graham, Miss. Margaret Edith</td>\n",
       "      <td>0</td>\n",
       "      <td>19.0</td>\n",
       "      <td>0</td>\n",
       "      <td>0</td>\n",
       "      <td>112053</td>\n",
       "      <td>30.0000</td>\n",
       "      <td>B42</td>\n",
       "      <td>S</td>\n",
       "    </tr>\n",
       "    <tr>\n",
       "      <th>888</th>\n",
       "      <td>889</td>\n",
       "      <td>0</td>\n",
       "      <td>3</td>\n",
       "      <td>Johnston, Miss. Catherine Helen \"Carrie\"</td>\n",
       "      <td>0</td>\n",
       "      <td>NaN</td>\n",
       "      <td>1</td>\n",
       "      <td>2</td>\n",
       "      <td>W./C. 6607</td>\n",
       "      <td>23.4500</td>\n",
       "      <td>NaN</td>\n",
       "      <td>S</td>\n",
       "    </tr>\n",
       "    <tr>\n",
       "      <th>889</th>\n",
       "      <td>890</td>\n",
       "      <td>1</td>\n",
       "      <td>1</td>\n",
       "      <td>Behr, Mr. Karl Howell</td>\n",
       "      <td>1</td>\n",
       "      <td>26.0</td>\n",
       "      <td>0</td>\n",
       "      <td>0</td>\n",
       "      <td>111369</td>\n",
       "      <td>30.0000</td>\n",
       "      <td>C148</td>\n",
       "      <td>C</td>\n",
       "    </tr>\n",
       "    <tr>\n",
       "      <th>890</th>\n",
       "      <td>891</td>\n",
       "      <td>0</td>\n",
       "      <td>3</td>\n",
       "      <td>Dooley, Mr. Patrick</td>\n",
       "      <td>1</td>\n",
       "      <td>32.0</td>\n",
       "      <td>0</td>\n",
       "      <td>0</td>\n",
       "      <td>370376</td>\n",
       "      <td>7.7500</td>\n",
       "      <td>NaN</td>\n",
       "      <td>Q</td>\n",
       "    </tr>\n",
       "  </tbody>\n",
       "</table>\n",
       "<p>891 rows × 12 columns</p>\n",
       "</div>"
      ],
      "text/plain": [
       "     PassengerId  Survived  Pclass  \\\n",
       "0              1         0       3   \n",
       "1              2         1       1   \n",
       "2              3         1       3   \n",
       "3              4         1       1   \n",
       "4              5         0       3   \n",
       "..           ...       ...     ...   \n",
       "886          887         0       2   \n",
       "887          888         1       1   \n",
       "888          889         0       3   \n",
       "889          890         1       1   \n",
       "890          891         0       3   \n",
       "\n",
       "                                                  Name  Sex   Age  SibSp  \\\n",
       "0                              Braund, Mr. Owen Harris    1  22.0      1   \n",
       "1    Cumings, Mrs. John Bradley (Florence Briggs Th...    0  38.0      1   \n",
       "2                               Heikkinen, Miss. Laina    0  26.0      0   \n",
       "3         Futrelle, Mrs. Jacques Heath (Lily May Peel)    0  35.0      1   \n",
       "4                             Allen, Mr. William Henry    1  35.0      0   \n",
       "..                                                 ...  ...   ...    ...   \n",
       "886                              Montvila, Rev. Juozas    1  27.0      0   \n",
       "887                       Graham, Miss. Margaret Edith    0  19.0      0   \n",
       "888           Johnston, Miss. Catherine Helen \"Carrie\"    0   NaN      1   \n",
       "889                              Behr, Mr. Karl Howell    1  26.0      0   \n",
       "890                                Dooley, Mr. Patrick    1  32.0      0   \n",
       "\n",
       "     Parch            Ticket     Fare Cabin Embarked  \n",
       "0        0         A/5 21171   7.2500   NaN        S  \n",
       "1        0          PC 17599  71.2833   C85        C  \n",
       "2        0  STON/O2. 3101282   7.9250   NaN        S  \n",
       "3        0            113803  53.1000  C123        S  \n",
       "4        0            373450   8.0500   NaN        S  \n",
       "..     ...               ...      ...   ...      ...  \n",
       "886      0            211536  13.0000   NaN        S  \n",
       "887      0            112053  30.0000   B42        S  \n",
       "888      2        W./C. 6607  23.4500   NaN        S  \n",
       "889      0            111369  30.0000  C148        C  \n",
       "890      0            370376   7.7500   NaN        Q  \n",
       "\n",
       "[891 rows x 12 columns]"
      ]
     },
     "execution_count": 10,
     "metadata": {},
     "output_type": "execute_result"
    }
   ],
   "source": [
    "# Revisamos\n",
    "df"
   ]
  },
  {
   "cell_type": "code",
   "execution_count": 11,
   "id": "7ecc17e5-da7f-48b6-9eed-06e8b25a194d",
   "metadata": {
    "id": "RYLqq7WetK79"
   },
   "outputs": [
    {
     "data": {
      "text/plain": [
       "24.00    30\n",
       "22.00    27\n",
       "18.00    26\n",
       "19.00    25\n",
       "28.00    25\n",
       "         ..\n",
       "36.50     1\n",
       "55.50     1\n",
       "0.92      1\n",
       "23.50     1\n",
       "74.00     1\n",
       "Name: Age, Length: 88, dtype: int64"
      ]
     },
     "execution_count": 11,
     "metadata": {},
     "output_type": "execute_result"
    }
   ],
   "source": [
    "# Ya cambié attrition, así que puedo revisar de la misma forma la columna\n",
    "# overtime (cuántas respuestas hay en cada columna).\n",
    "df['Age'].value_counts()"
   ]
  },
  {
   "cell_type": "code",
   "execution_count": 12,
   "id": "e7a3744e-fc47-4202-a7fe-efe4f821e732",
   "metadata": {},
   "outputs": [],
   "source": [
    "# Reemplazamos la columna 'OverTime' por enteros.\n",
    "df['Embarked'] = df['Embarked'].apply(lambda x: 1 if x == 'S' else (2 if x == 'C' else 3))"
   ]
  },
  {
   "cell_type": "code",
   "execution_count": 13,
   "id": "2241103b-b4f7-49ad-862f-b114a71c8ae5",
   "metadata": {},
   "outputs": [
    {
     "data": {
      "text/html": [
       "<div>\n",
       "<style scoped>\n",
       "    .dataframe tbody tr th:only-of-type {\n",
       "        vertical-align: middle;\n",
       "    }\n",
       "\n",
       "    .dataframe tbody tr th {\n",
       "        vertical-align: top;\n",
       "    }\n",
       "\n",
       "    .dataframe thead th {\n",
       "        text-align: right;\n",
       "    }\n",
       "</style>\n",
       "<table border=\"1\" class=\"dataframe\">\n",
       "  <thead>\n",
       "    <tr style=\"text-align: right;\">\n",
       "      <th></th>\n",
       "      <th>PassengerId</th>\n",
       "      <th>Survived</th>\n",
       "      <th>Pclass</th>\n",
       "      <th>Name</th>\n",
       "      <th>Sex</th>\n",
       "      <th>Age</th>\n",
       "      <th>SibSp</th>\n",
       "      <th>Parch</th>\n",
       "      <th>Ticket</th>\n",
       "      <th>Fare</th>\n",
       "      <th>Cabin</th>\n",
       "      <th>Embarked</th>\n",
       "    </tr>\n",
       "  </thead>\n",
       "  <tbody>\n",
       "    <tr>\n",
       "      <th>0</th>\n",
       "      <td>1</td>\n",
       "      <td>0</td>\n",
       "      <td>3</td>\n",
       "      <td>Braund, Mr. Owen Harris</td>\n",
       "      <td>1</td>\n",
       "      <td>22.0</td>\n",
       "      <td>1</td>\n",
       "      <td>0</td>\n",
       "      <td>A/5 21171</td>\n",
       "      <td>7.2500</td>\n",
       "      <td>NaN</td>\n",
       "      <td>1</td>\n",
       "    </tr>\n",
       "    <tr>\n",
       "      <th>1</th>\n",
       "      <td>2</td>\n",
       "      <td>1</td>\n",
       "      <td>1</td>\n",
       "      <td>Cumings, Mrs. John Bradley (Florence Briggs Th...</td>\n",
       "      <td>0</td>\n",
       "      <td>38.0</td>\n",
       "      <td>1</td>\n",
       "      <td>0</td>\n",
       "      <td>PC 17599</td>\n",
       "      <td>71.2833</td>\n",
       "      <td>C85</td>\n",
       "      <td>2</td>\n",
       "    </tr>\n",
       "    <tr>\n",
       "      <th>2</th>\n",
       "      <td>3</td>\n",
       "      <td>1</td>\n",
       "      <td>3</td>\n",
       "      <td>Heikkinen, Miss. Laina</td>\n",
       "      <td>0</td>\n",
       "      <td>26.0</td>\n",
       "      <td>0</td>\n",
       "      <td>0</td>\n",
       "      <td>STON/O2. 3101282</td>\n",
       "      <td>7.9250</td>\n",
       "      <td>NaN</td>\n",
       "      <td>1</td>\n",
       "    </tr>\n",
       "    <tr>\n",
       "      <th>3</th>\n",
       "      <td>4</td>\n",
       "      <td>1</td>\n",
       "      <td>1</td>\n",
       "      <td>Futrelle, Mrs. Jacques Heath (Lily May Peel)</td>\n",
       "      <td>0</td>\n",
       "      <td>35.0</td>\n",
       "      <td>1</td>\n",
       "      <td>0</td>\n",
       "      <td>113803</td>\n",
       "      <td>53.1000</td>\n",
       "      <td>C123</td>\n",
       "      <td>1</td>\n",
       "    </tr>\n",
       "    <tr>\n",
       "      <th>4</th>\n",
       "      <td>5</td>\n",
       "      <td>0</td>\n",
       "      <td>3</td>\n",
       "      <td>Allen, Mr. William Henry</td>\n",
       "      <td>1</td>\n",
       "      <td>35.0</td>\n",
       "      <td>0</td>\n",
       "      <td>0</td>\n",
       "      <td>373450</td>\n",
       "      <td>8.0500</td>\n",
       "      <td>NaN</td>\n",
       "      <td>1</td>\n",
       "    </tr>\n",
       "    <tr>\n",
       "      <th>...</th>\n",
       "      <td>...</td>\n",
       "      <td>...</td>\n",
       "      <td>...</td>\n",
       "      <td>...</td>\n",
       "      <td>...</td>\n",
       "      <td>...</td>\n",
       "      <td>...</td>\n",
       "      <td>...</td>\n",
       "      <td>...</td>\n",
       "      <td>...</td>\n",
       "      <td>...</td>\n",
       "      <td>...</td>\n",
       "    </tr>\n",
       "    <tr>\n",
       "      <th>886</th>\n",
       "      <td>887</td>\n",
       "      <td>0</td>\n",
       "      <td>2</td>\n",
       "      <td>Montvila, Rev. Juozas</td>\n",
       "      <td>1</td>\n",
       "      <td>27.0</td>\n",
       "      <td>0</td>\n",
       "      <td>0</td>\n",
       "      <td>211536</td>\n",
       "      <td>13.0000</td>\n",
       "      <td>NaN</td>\n",
       "      <td>1</td>\n",
       "    </tr>\n",
       "    <tr>\n",
       "      <th>887</th>\n",
       "      <td>888</td>\n",
       "      <td>1</td>\n",
       "      <td>1</td>\n",
       "      <td>Graham, Miss. Margaret Edith</td>\n",
       "      <td>0</td>\n",
       "      <td>19.0</td>\n",
       "      <td>0</td>\n",
       "      <td>0</td>\n",
       "      <td>112053</td>\n",
       "      <td>30.0000</td>\n",
       "      <td>B42</td>\n",
       "      <td>1</td>\n",
       "    </tr>\n",
       "    <tr>\n",
       "      <th>888</th>\n",
       "      <td>889</td>\n",
       "      <td>0</td>\n",
       "      <td>3</td>\n",
       "      <td>Johnston, Miss. Catherine Helen \"Carrie\"</td>\n",
       "      <td>0</td>\n",
       "      <td>NaN</td>\n",
       "      <td>1</td>\n",
       "      <td>2</td>\n",
       "      <td>W./C. 6607</td>\n",
       "      <td>23.4500</td>\n",
       "      <td>NaN</td>\n",
       "      <td>1</td>\n",
       "    </tr>\n",
       "    <tr>\n",
       "      <th>889</th>\n",
       "      <td>890</td>\n",
       "      <td>1</td>\n",
       "      <td>1</td>\n",
       "      <td>Behr, Mr. Karl Howell</td>\n",
       "      <td>1</td>\n",
       "      <td>26.0</td>\n",
       "      <td>0</td>\n",
       "      <td>0</td>\n",
       "      <td>111369</td>\n",
       "      <td>30.0000</td>\n",
       "      <td>C148</td>\n",
       "      <td>2</td>\n",
       "    </tr>\n",
       "    <tr>\n",
       "      <th>890</th>\n",
       "      <td>891</td>\n",
       "      <td>0</td>\n",
       "      <td>3</td>\n",
       "      <td>Dooley, Mr. Patrick</td>\n",
       "      <td>1</td>\n",
       "      <td>32.0</td>\n",
       "      <td>0</td>\n",
       "      <td>0</td>\n",
       "      <td>370376</td>\n",
       "      <td>7.7500</td>\n",
       "      <td>NaN</td>\n",
       "      <td>3</td>\n",
       "    </tr>\n",
       "  </tbody>\n",
       "</table>\n",
       "<p>891 rows × 12 columns</p>\n",
       "</div>"
      ],
      "text/plain": [
       "     PassengerId  Survived  Pclass  \\\n",
       "0              1         0       3   \n",
       "1              2         1       1   \n",
       "2              3         1       3   \n",
       "3              4         1       1   \n",
       "4              5         0       3   \n",
       "..           ...       ...     ...   \n",
       "886          887         0       2   \n",
       "887          888         1       1   \n",
       "888          889         0       3   \n",
       "889          890         1       1   \n",
       "890          891         0       3   \n",
       "\n",
       "                                                  Name  Sex   Age  SibSp  \\\n",
       "0                              Braund, Mr. Owen Harris    1  22.0      1   \n",
       "1    Cumings, Mrs. John Bradley (Florence Briggs Th...    0  38.0      1   \n",
       "2                               Heikkinen, Miss. Laina    0  26.0      0   \n",
       "3         Futrelle, Mrs. Jacques Heath (Lily May Peel)    0  35.0      1   \n",
       "4                             Allen, Mr. William Henry    1  35.0      0   \n",
       "..                                                 ...  ...   ...    ...   \n",
       "886                              Montvila, Rev. Juozas    1  27.0      0   \n",
       "887                       Graham, Miss. Margaret Edith    0  19.0      0   \n",
       "888           Johnston, Miss. Catherine Helen \"Carrie\"    0   NaN      1   \n",
       "889                              Behr, Mr. Karl Howell    1  26.0      0   \n",
       "890                                Dooley, Mr. Patrick    1  32.0      0   \n",
       "\n",
       "     Parch            Ticket     Fare Cabin  Embarked  \n",
       "0        0         A/5 21171   7.2500   NaN         1  \n",
       "1        0          PC 17599  71.2833   C85         2  \n",
       "2        0  STON/O2. 3101282   7.9250   NaN         1  \n",
       "3        0            113803  53.1000  C123         1  \n",
       "4        0            373450   8.0500   NaN         1  \n",
       "..     ...               ...      ...   ...       ...  \n",
       "886      0            211536  13.0000   NaN         1  \n",
       "887      0            112053  30.0000   B42         1  \n",
       "888      2        W./C. 6607  23.4500   NaN         1  \n",
       "889      0            111369  30.0000  C148         2  \n",
       "890      0            370376   7.7500   NaN         3  \n",
       "\n",
       "[891 rows x 12 columns]"
      ]
     },
     "execution_count": 13,
     "metadata": {},
     "output_type": "execute_result"
    }
   ],
   "source": [
    "# Revisamos.\n",
    "df"
   ]
  },
  {
   "cell_type": "markdown",
   "id": "c8ca7a3a-8ff4-469b-93de-ae930cec279a",
   "metadata": {
    "tags": []
   },
   "source": [
    "## 3.2 Revisión e imputación de nulos."
   ]
  },
  {
   "cell_type": "markdown",
   "id": "5de4d74b-5cc6-4495-bc16-d1f897fa8b59",
   "metadata": {
    "tags": []
   },
   "source": [
    "### 3.2.1 Hallar nulos."
   ]
  },
  {
   "cell_type": "code",
   "execution_count": 14,
   "id": "73eaf2c9-44fb-412f-8f01-f76944545d99",
   "metadata": {
    "id": "ICj3NLbqqmve"
   },
   "outputs": [
    {
     "data": {
      "text/plain": [
       "Cabin          687\n",
       "Age            177\n",
       "PassengerId      0\n",
       "Survived         0\n",
       "Pclass           0\n",
       "Name             0\n",
       "Sex              0\n",
       "SibSp            0\n",
       "Parch            0\n",
       "Ticket           0\n",
       "Fare             0\n",
       "Embarked         0\n",
       "dtype: int64"
      ]
     },
     "execution_count": 14,
     "metadata": {},
     "output_type": "execute_result"
    }
   ],
   "source": [
    "# Veamos si nos faltan datos (cantidad de datos nulos)\n",
    "# Se puede revisar y contar cuántos son usando la función .isna y también se puede ordenar en forma\n",
    "# ascendente.\n",
    "df.isna().sum().sort_values(ascending = False)"
   ]
  },
  {
   "cell_type": "markdown",
   "id": "34ef8cef-a845-4321-9f1b-6524d2f191ff",
   "metadata": {},
   "source": [
    "### 3.2.2 Mapa de calor."
   ]
  },
  {
   "cell_type": "code",
   "execution_count": 15,
   "id": "52b34861-96d0-4b5e-826b-6dbf42b3bc44",
   "metadata": {},
   "outputs": [
    {
     "data": {
      "text/plain": [
       "<AxesSubplot:>"
      ]
     },
     "execution_count": 15,
     "metadata": {},
     "output_type": "execute_result"
    },
    {
     "data": {
      "image/png": "[encoded data removed]",
      "text/plain": [
       "<Figure size 640x480 with 1 Axes>"
      ]
     },
     "metadata": {},
     "output_type": "display_data"
    }
   ],
   "source": [
    "# No hay nulos y con esto es suficiente, pero si se quiere se puede hacer el mapa de calor:\n",
    "# 1.- El dataset con la función isnull, se borran las etiquetas en el eje y.\n",
    "# 2.- Se borra la barra de color que sale en la zona de leyenda\n",
    "# 3.- Se agrega la paleta de colores\n",
    "sns.heatmap(df.isnull(), yticklabels=False, cbar=False, cmap='Reds')"
   ]
  },
  {
   "cell_type": "markdown",
   "id": "93f91c86-ce2e-40ef-8616-494a87c07ee2",
   "metadata": {},
   "source": [
    "### 3.2.3 Imputación de nulos"
   ]
  },
  {
   "cell_type": "code",
   "execution_count": 16,
   "id": "9f83b2ab-109f-466e-882f-4ba96390465c",
   "metadata": {},
   "outputs": [
    {
     "data": {
      "text/plain": [
       "24.00    30\n",
       "22.00    27\n",
       "18.00    26\n",
       "19.00    25\n",
       "28.00    25\n",
       "         ..\n",
       "36.50     1\n",
       "55.50     1\n",
       "0.92      1\n",
       "23.50     1\n",
       "74.00     1\n",
       "Name: Age, Length: 88, dtype: int64"
      ]
     },
     "execution_count": 16,
     "metadata": {},
     "output_type": "execute_result"
    }
   ],
   "source": [
    "df['Age'].value_counts()"
   ]
  },
  {
   "cell_type": "code",
   "execution_count": 17,
   "id": "e3a97d25-0c3f-49e2-8d99-9dc58336b83c",
   "metadata": {},
   "outputs": [],
   "source": [
    "df.loc[(df['Age'].isnull() == True), 'Age'] = df['Age'].mean()"
   ]
  },
  {
   "cell_type": "code",
   "execution_count": 18,
   "id": "69f5f940-c43c-46c1-a317-00d2224cbfb0",
   "metadata": {},
   "outputs": [
    {
     "data": {
      "text/plain": [
       "Cabin          687\n",
       "PassengerId      0\n",
       "Survived         0\n",
       "Pclass           0\n",
       "Name             0\n",
       "Sex              0\n",
       "Age              0\n",
       "SibSp            0\n",
       "Parch            0\n",
       "Ticket           0\n",
       "Fare             0\n",
       "Embarked         0\n",
       "dtype: int64"
      ]
     },
     "execution_count": 18,
     "metadata": {},
     "output_type": "execute_result"
    }
   ],
   "source": [
    "#revisamos\n",
    "df.isna().sum().sort_values(ascending = False)"
   ]
  },
  {
   "cell_type": "code",
   "execution_count": 19,
   "id": "22d4fe36-62c1-45d1-89a9-c0dd0db725a0",
   "metadata": {},
   "outputs": [
    {
     "data": {
      "text/html": [
       "<div>\n",
       "<style scoped>\n",
       "    .dataframe tbody tr th:only-of-type {\n",
       "        vertical-align: middle;\n",
       "    }\n",
       "\n",
       "    .dataframe tbody tr th {\n",
       "        vertical-align: top;\n",
       "    }\n",
       "\n",
       "    .dataframe thead th {\n",
       "        text-align: right;\n",
       "    }\n",
       "</style>\n",
       "<table border=\"1\" class=\"dataframe\">\n",
       "  <thead>\n",
       "    <tr style=\"text-align: right;\">\n",
       "      <th></th>\n",
       "      <th>PassengerId</th>\n",
       "      <th>Survived</th>\n",
       "      <th>Pclass</th>\n",
       "      <th>Name</th>\n",
       "      <th>Sex</th>\n",
       "      <th>Age</th>\n",
       "      <th>SibSp</th>\n",
       "      <th>Parch</th>\n",
       "      <th>Ticket</th>\n",
       "      <th>Fare</th>\n",
       "      <th>Cabin</th>\n",
       "      <th>Embarked</th>\n",
       "    </tr>\n",
       "  </thead>\n",
       "  <tbody>\n",
       "    <tr>\n",
       "      <th>0</th>\n",
       "      <td>1</td>\n",
       "      <td>0</td>\n",
       "      <td>3</td>\n",
       "      <td>Braund, Mr. Owen Harris</td>\n",
       "      <td>1</td>\n",
       "      <td>22.000000</td>\n",
       "      <td>1</td>\n",
       "      <td>0</td>\n",
       "      <td>A/5 21171</td>\n",
       "      <td>7.2500</td>\n",
       "      <td>NaN</td>\n",
       "      <td>1</td>\n",
       "    </tr>\n",
       "    <tr>\n",
       "      <th>1</th>\n",
       "      <td>2</td>\n",
       "      <td>1</td>\n",
       "      <td>1</td>\n",
       "      <td>Cumings, Mrs. John Bradley (Florence Briggs Th...</td>\n",
       "      <td>0</td>\n",
       "      <td>38.000000</td>\n",
       "      <td>1</td>\n",
       "      <td>0</td>\n",
       "      <td>PC 17599</td>\n",
       "      <td>71.2833</td>\n",
       "      <td>C85</td>\n",
       "      <td>2</td>\n",
       "    </tr>\n",
       "    <tr>\n",
       "      <th>2</th>\n",
       "      <td>3</td>\n",
       "      <td>1</td>\n",
       "      <td>3</td>\n",
       "      <td>Heikkinen, Miss. Laina</td>\n",
       "      <td>0</td>\n",
       "      <td>26.000000</td>\n",
       "      <td>0</td>\n",
       "      <td>0</td>\n",
       "      <td>STON/O2. 3101282</td>\n",
       "      <td>7.9250</td>\n",
       "      <td>NaN</td>\n",
       "      <td>1</td>\n",
       "    </tr>\n",
       "    <tr>\n",
       "      <th>3</th>\n",
       "      <td>4</td>\n",
       "      <td>1</td>\n",
       "      <td>1</td>\n",
       "      <td>Futrelle, Mrs. Jacques Heath (Lily May Peel)</td>\n",
       "      <td>0</td>\n",
       "      <td>35.000000</td>\n",
       "      <td>1</td>\n",
       "      <td>0</td>\n",
       "      <td>113803</td>\n",
       "      <td>53.1000</td>\n",
       "      <td>C123</td>\n",
       "      <td>1</td>\n",
       "    </tr>\n",
       "    <tr>\n",
       "      <th>4</th>\n",
       "      <td>5</td>\n",
       "      <td>0</td>\n",
       "      <td>3</td>\n",
       "      <td>Allen, Mr. William Henry</td>\n",
       "      <td>1</td>\n",
       "      <td>35.000000</td>\n",
       "      <td>0</td>\n",
       "      <td>0</td>\n",
       "      <td>373450</td>\n",
       "      <td>8.0500</td>\n",
       "      <td>NaN</td>\n",
       "      <td>1</td>\n",
       "    </tr>\n",
       "    <tr>\n",
       "      <th>...</th>\n",
       "      <td>...</td>\n",
       "      <td>...</td>\n",
       "      <td>...</td>\n",
       "      <td>...</td>\n",
       "      <td>...</td>\n",
       "      <td>...</td>\n",
       "      <td>...</td>\n",
       "      <td>...</td>\n",
       "      <td>...</td>\n",
       "      <td>...</td>\n",
       "      <td>...</td>\n",
       "      <td>...</td>\n",
       "    </tr>\n",
       "    <tr>\n",
       "      <th>886</th>\n",
       "      <td>887</td>\n",
       "      <td>0</td>\n",
       "      <td>2</td>\n",
       "      <td>Montvila, Rev. Juozas</td>\n",
       "      <td>1</td>\n",
       "      <td>27.000000</td>\n",
       "      <td>0</td>\n",
       "      <td>0</td>\n",
       "      <td>211536</td>\n",
       "      <td>13.0000</td>\n",
       "      <td>NaN</td>\n",
       "      <td>1</td>\n",
       "    </tr>\n",
       "    <tr>\n",
       "      <th>887</th>\n",
       "      <td>888</td>\n",
       "      <td>1</td>\n",
       "      <td>1</td>\n",
       "      <td>Graham, Miss. Margaret Edith</td>\n",
       "      <td>0</td>\n",
       "      <td>19.000000</td>\n",
       "      <td>0</td>\n",
       "      <td>0</td>\n",
       "      <td>112053</td>\n",
       "      <td>30.0000</td>\n",
       "      <td>B42</td>\n",
       "      <td>1</td>\n",
       "    </tr>\n",
       "    <tr>\n",
       "      <th>888</th>\n",
       "      <td>889</td>\n",
       "      <td>0</td>\n",
       "      <td>3</td>\n",
       "      <td>Johnston, Miss. Catherine Helen \"Carrie\"</td>\n",
       "      <td>0</td>\n",
       "      <td>29.699118</td>\n",
       "      <td>1</td>\n",
       "      <td>2</td>\n",
       "      <td>W./C. 6607</td>\n",
       "      <td>23.4500</td>\n",
       "      <td>NaN</td>\n",
       "      <td>1</td>\n",
       "    </tr>\n",
       "    <tr>\n",
       "      <th>889</th>\n",
       "      <td>890</td>\n",
       "      <td>1</td>\n",
       "      <td>1</td>\n",
       "      <td>Behr, Mr. Karl Howell</td>\n",
       "      <td>1</td>\n",
       "      <td>26.000000</td>\n",
       "      <td>0</td>\n",
       "      <td>0</td>\n",
       "      <td>111369</td>\n",
       "      <td>30.0000</td>\n",
       "      <td>C148</td>\n",
       "      <td>2</td>\n",
       "    </tr>\n",
       "    <tr>\n",
       "      <th>890</th>\n",
       "      <td>891</td>\n",
       "      <td>0</td>\n",
       "      <td>3</td>\n",
       "      <td>Dooley, Mr. Patrick</td>\n",
       "      <td>1</td>\n",
       "      <td>32.000000</td>\n",
       "      <td>0</td>\n",
       "      <td>0</td>\n",
       "      <td>370376</td>\n",
       "      <td>7.7500</td>\n",
       "      <td>NaN</td>\n",
       "      <td>3</td>\n",
       "    </tr>\n",
       "  </tbody>\n",
       "</table>\n",
       "<p>891 rows × 12 columns</p>\n",
       "</div>"
      ],
      "text/plain": [
       "     PassengerId  Survived  Pclass  \\\n",
       "0              1         0       3   \n",
       "1              2         1       1   \n",
       "2              3         1       3   \n",
       "3              4         1       1   \n",
       "4              5         0       3   \n",
       "..           ...       ...     ...   \n",
       "886          887         0       2   \n",
       "887          888         1       1   \n",
       "888          889         0       3   \n",
       "889          890         1       1   \n",
       "890          891         0       3   \n",
       "\n",
       "                                                  Name  Sex        Age  SibSp  \\\n",
       "0                              Braund, Mr. Owen Harris    1  22.000000      1   \n",
       "1    Cumings, Mrs. John Bradley (Florence Briggs Th...    0  38.000000      1   \n",
       "2                               Heikkinen, Miss. Laina    0  26.000000      0   \n",
       "3         Futrelle, Mrs. Jacques Heath (Lily May Peel)    0  35.000000      1   \n",
       "4                             Allen, Mr. William Henry    1  35.000000      0   \n",
       "..                                                 ...  ...        ...    ...   \n",
       "886                              Montvila, Rev. Juozas    1  27.000000      0   \n",
       "887                       Graham, Miss. Margaret Edith    0  19.000000      0   \n",
       "888           Johnston, Miss. Catherine Helen \"Carrie\"    0  29.699118      1   \n",
       "889                              Behr, Mr. Karl Howell    1  26.000000      0   \n",
       "890                                Dooley, Mr. Patrick    1  32.000000      0   \n",
       "\n",
       "     Parch            Ticket     Fare Cabin  Embarked  \n",
       "0        0         A/5 21171   7.2500   NaN         1  \n",
       "1        0          PC 17599  71.2833   C85         2  \n",
       "2        0  STON/O2. 3101282   7.9250   NaN         1  \n",
       "3        0            113803  53.1000  C123         1  \n",
       "4        0            373450   8.0500   NaN         1  \n",
       "..     ...               ...      ...   ...       ...  \n",
       "886      0            211536  13.0000   NaN         1  \n",
       "887      0            112053  30.0000   B42         1  \n",
       "888      2        W./C. 6607  23.4500   NaN         1  \n",
       "889      0            111369  30.0000  C148         2  \n",
       "890      0            370376   7.7500   NaN         3  \n",
       "\n",
       "[891 rows x 12 columns]"
      ]
     },
     "execution_count": 19,
     "metadata": {},
     "output_type": "execute_result"
    }
   ],
   "source": [
    "df"
   ]
  },
  {
   "cell_type": "markdown",
   "id": "84a5cf02-5f3d-49b2-a63d-29b1e5e88ddc",
   "metadata": {
    "tags": []
   },
   "source": [
    "## 3.3 Datos duplicados."
   ]
  },
  {
   "cell_type": "code",
   "execution_count": 20,
   "id": "93d42301-b0f2-478c-bd7b-d9fdae7a7828",
   "metadata": {},
   "outputs": [
    {
     "data": {
      "text/plain": [
       "0"
      ]
     },
     "execution_count": 20,
     "metadata": {},
     "output_type": "execute_result"
    }
   ],
   "source": [
    "df.duplicated().sum()"
   ]
  },
  {
   "cell_type": "markdown",
   "id": "9a0a28f0-3380-4b93-881f-e1926656133b",
   "metadata": {
    "id": "BfDQRuNj4_b8",
    "tags": []
   },
   "source": [
    "## 3.4 Eliminar datos inservibles."
   ]
  },
  {
   "cell_type": "code",
   "execution_count": 24,
   "id": "a5b69a5a-cde2-41e5-b746-efce7360c71c",
   "metadata": {},
   "outputs": [
    {
     "data": {
      "text/plain": [
       "array([[<AxesSubplot:title={'center':'PassengerId'}>,\n",
       "        <AxesSubplot:title={'center':'Survived'}>,\n",
       "        <AxesSubplot:title={'center':'Pclass'}>],\n",
       "       [<AxesSubplot:title={'center':'Sex'}>,\n",
       "        <AxesSubplot:title={'center':'Age'}>,\n",
       "        <AxesSubplot:title={'center':'SibSp'}>],\n",
       "       [<AxesSubplot:title={'center':'Parch'}>,\n",
       "        <AxesSubplot:title={'center':'Fare'}>,\n",
       "        <AxesSubplot:title={'center':'Embarked'}>]], dtype=object)"
      ]
     },
     "execution_count": 24,
     "metadata": {},
     "output_type": "execute_result"
    },
    {
     "data": {
      "image/png": "[encoded data removed]",
      "text/plain": [
       "<Figure size 2000x2000 with 9 Axes>"
      ]
     },
     "metadata": {},
     "output_type": "display_data"
    }
   ],
   "source": [
    "# Observaremos los histogramas de cada variable para decidir si eliminar alguna de ellas...\n",
    "df.hist(bins = 30, figsize = (20, 20), color ='r')"
   ]
  },
  {
   "cell_type": "markdown",
   "id": "a90ded93-8f4b-44ae-96b0-1e4287c830ef",
   "metadata": {},
   "source": [
    "#### 1.- Eliminaremos la variable PassengerID, también la variable name, ticket y cabin."
   ]
  },
  {
   "cell_type": "code",
   "execution_count": null,
   "id": "ec930525-39ab-49da-9825-299118f4b72c",
   "metadata": {},
   "outputs": [],
   "source": [
    "# Inplace hace el cambio en el propio objeto en memoria y ajusta el data frame sin crear otra variable.\n",
    "df.drop(['PassengerId','Name','Ticket','Cabin','SibSp','Parch'], axis=1, inplace = True)"
   ]
  },
  {
   "cell_type": "code",
   "execution_count": null,
   "id": "2c69248b-dc9f-437d-8d4a-d62a518da61c",
   "metadata": {},
   "outputs": [],
   "source": [
    "# Revisar\n",
    "df"
   ]
  },
  {
   "cell_type": "markdown",
   "id": "b89a17ad-fcc8-483d-b8f5-2b34727903af",
   "metadata": {
    "jp-MarkdownHeadingCollapsed": true,
    "tags": []
   },
   "source": [
    "## 3.5 Observación de las columnas (variables, atributos, etc)."
   ]
  },
  {
   "cell_type": "code",
   "execution_count": null,
   "id": "ccf408f4-bc44-4e92-9558-96e18c8a1e60",
   "metadata": {},
   "outputs": [],
   "source": [
    "# Cantidad de columnas\n",
    "cantidad_columnas = len(df.columns)\n",
    "cantidad_columnas"
   ]
  },
  {
   "cell_type": "code",
   "execution_count": null,
   "id": "95f4bb21-dc9c-4e54-87ae-d1061afe4c3a",
   "metadata": {},
   "outputs": [],
   "source": [
    "# Nombre de cada columna\n",
    "df.columns"
   ]
  },
  {
   "cell_type": "markdown",
   "id": "6aac51f5-428a-4d41-b6fd-c2f32af23fdb",
   "metadata": {
    "jp-MarkdownHeadingCollapsed": true,
    "tags": []
   },
   "source": [
    "## 3.6 Gráficos."
   ]
  },
  {
   "cell_type": "markdown",
   "id": "9a04e2a2-6294-4954-97ad-bd54ecddcfc2",
   "metadata": {
    "tags": []
   },
   "source": [
    "### 3.6.1 Separar la variable Survived."
   ]
  },
  {
   "cell_type": "markdown",
   "id": "da27c03f-89c6-4703-add0-299872327e73",
   "metadata": {},
   "source": [
    "##### La variable predictora en este proyecto es Survived y para comparar usando la función describe, debo separar esta variable.\n",
    "##### 1.- Los que sobreviven (1).\n",
    "##### 2.- Los que NO sobreviven (0). "
   ]
  },
  {
   "cell_type": "markdown",
   "id": "9f38f15b-1808-4619-b104-e650d88857f0",
   "metadata": {
    "tags": []
   },
   "source": [
    "#### Pasajeros que sobreviven y que NO sobreviven."
   ]
  },
  {
   "cell_type": "code",
   "execution_count": null,
   "id": "4394929d-bb12-44d7-95f2-90926accd18b",
   "metadata": {
    "id": "uBDltyUy5o1L"
   },
   "outputs": [],
   "source": [
    "# Contamos el número de empleados que se quedaron y que se fueron\n",
    "# Parece que estamos ante un conjunto de datos desequilibrado (muchos que se quedan y pocos que se van)\n",
    "survived = df[df['Survived'] == 1]\n",
    "no_survived = df[df['Survived'] == 0]\n",
    "print(\"El total de pasajeros es {},\"\n",
    "      \" los que no sobreviven son {}\"\n",
    "      \" y los que sobreviven son {}.\".format(len(df),len(no_survived),len(survived)))\n",
    "\n",
    "print(\"Por lo tanto, un {:.1f}% de los pasajeros\"\n",
    "      \" no logró sobrevivir.\".format(len(no_survived)*100/len(df)))"
   ]
  },
  {
   "cell_type": "markdown",
   "id": "8b448d1f-9439-4a3d-859a-b4ff04115871",
   "metadata": {
    "id": "nPPQHIxyx7YZ",
    "tags": []
   },
   "source": [
    "### 3.6.2 Comparación entre No sobrevivientes y sobrevivientes."
   ]
  },
  {
   "cell_type": "code",
   "execution_count": null,
   "id": "4159e430-6538-4f17-a7c0-3f6123aefc37",
   "metadata": {},
   "outputs": [],
   "source": [
    "no_survived.describe()"
   ]
  },
  {
   "cell_type": "code",
   "execution_count": null,
   "id": "e7f9f3df-9fac-4767-a2ca-61c5a3683d60",
   "metadata": {},
   "outputs": [],
   "source": [
    "survived.describe()"
   ]
  },
  {
   "cell_type": "markdown",
   "id": "4a971853-2773-40c7-b465-b375c613d0e2",
   "metadata": {
    "id": "B5SXd3txxv7V"
   },
   "source": [
    "#### Conclusiones:\n",
    "##### 1.- El promedio de Pclass idica que los NO sobrevivientes están entre la segunda y tercera clase, sin embargo el promedio de los sobrevivientes demuestra que son en su mayoría de segunda clase.\n",
    "##### 2.- El promedio en sexo de NO sobrevivientes es 0,85 vs 0,32 de los sobrevivientes, lo que indica que en el grupo de fallecidos hay un 85% de hombres y 15% de mujeres, y en el grupo de los sobrevivientes, hay un 32% de hombres y un 68% de mujeres. Si eras mujer, tendrías más probabilidades de sobrevivir.\n",
    "##### 3.- El promedio de la tarifa de los boletos, es claramente mayor entre los que sobrevivieron, siendo esta de 48 dolares y una desviación estándar de 66 dolares, es decir, la mayoría de tickets tenía un precio entre 0 y 114 dolares. Claramente el costo pagado indicaría que existían mayores probabilidades de sobrevivir si pagaste más por el viaje.\n",
    "##### 4.- Más del 75% de los pasajeros No sobrevivientes se embarcaron en el punto 1 (S), sin embargo entre los sobrevivientes solo un poco más del 50% se embarcó en 1 (S), más de un 25% se embarcó en los puertos 2 y 3 (C y Q)"
   ]
  },
  {
   "cell_type": "markdown",
   "id": "841d9c53-d7ba-4a1e-b07d-93a38b2c9843",
   "metadata": {
    "id": "nPPQHIxyx7YZ"
   },
   "source": [
    "### 3.6.2 Comparación entre No sobrevivientes y sobrevivientes mediante gráficos de barra."
   ]
  },
  {
   "cell_type": "code",
   "execution_count": null,
   "id": "d711132c-77a1-4940-9748-4f1b122f85e3",
   "metadata": {},
   "outputs": [],
   "source": [
    "px.histogram(df, x='Pclass', color = 'Survived', text_auto=True,\n",
    "             title='Sobrevivencia según Clase', barmode='group', barnorm='',\n",
    "             width=1100, height=450, color_discrete_sequence=['#B71C1C','#0A1172'])"
   ]
  },
  {
   "cell_type": "markdown",
   "id": "2ad6bc47-0f2e-498c-a1fd-850483feb814",
   "metadata": {},
   "source": [
    "#### Conclusiones:\n",
    "##### 1.- Claramente se observa mayor probabilidad de sobrevivir al pertenecer a primera clase, la misma probabilidad de sobrevivir o morir si se es de segunda clase, y una alta probabilidad de morir si eres de tercera clase. Falleció un 37% de la primera clase, un 53% de la segunda clase y un 76% de la tercera clase."
   ]
  },
  {
   "cell_type": "code",
   "execution_count": null,
   "id": "c934b929-0459-498d-b41e-99bc9b8ba473",
   "metadata": {},
   "outputs": [],
   "source": [
    "px.histogram(df, x='Sex', color = 'Survived', text_auto=True,\n",
    "             title='Sobrevivencia según Sexo', barmode='group', barnorm='',\n",
    "             width=1100, height=450, color_discrete_sequence=['#B71C1C','#0A1172'])"
   ]
  },
  {
   "cell_type": "markdown",
   "id": "357c9415-ac5e-4a4f-868f-df0732142dc4",
   "metadata": {},
   "source": [
    "#### Conclusiones:\n",
    "##### 1.- Sobrevivieron 109 hombres y 233 mujeres.\n",
    "##### 2.- El 74% de las mujeres y el 19% de los hombres sobrevivió.\n",
    "##### 3.- Ser hombre o mujer es un factor muy poderoso a la hora de sobrevivir en este hundimiento."
   ]
  },
  {
   "cell_type": "code",
   "execution_count": null,
   "id": "aaeca8da-9eef-4889-91d9-52ba2b8d09dd",
   "metadata": {},
   "outputs": [],
   "source": [
    "px.histogram(df, x='Age', color = 'Survived', text_auto=True,\n",
    "             title='Sobrevivencia según Edad', barmode='group', barnorm='',\n",
    "             width=1100, height=450, color_discrete_sequence=['#B71C1C','#0A1172'])"
   ]
  },
  {
   "cell_type": "markdown",
   "id": "2ca9feaa-fb95-47cc-a3fe-bce44f04a8f9",
   "metadata": {},
   "source": [
    "#### Conclusiones:\n",
    "##### 1.- Las personas que más sobrevivieron son las que tenían entre 20 y 40 años.\n",
    "##### 2.- Para todas las edades hay una alta probabilidad de NO sobrevivir, sin embargo, las presonas de 10, de 20 a 22, de 46 a 48 y de 64 a 76, tenían altas probabilidades de morir. Por otra parte, las personas de 0 a 2, de 4 a 6, de 12 a 16, de 48 a 50, de 62 a 64, tenían altas probabilidades de sobrevivir.\n",
    "##### 3.- La forma de la distribución es normal."
   ]
  },
  {
   "cell_type": "code",
   "execution_count": null,
   "id": "fd0d8a7b-7c57-40dd-9120-339541bd0966",
   "metadata": {},
   "outputs": [],
   "source": [
    "px.histogram(df, x='Fare', color = 'Survived', text_auto=True,\n",
    "             title='Sobrevivencia según la Tarifa pagada para viajar.', barmode='group', barnorm='',\n",
    "             width=1100, height=450, color_discrete_sequence=['#B71C1C','#0A1172'])"
   ]
  },
  {
   "cell_type": "markdown",
   "id": "3e687c69-3a59-475c-840a-1d2664d00d38",
   "metadata": {},
   "source": [
    "#### Conclusiones:\n",
    "##### 1.- Claramente la mayor cantidad de fallecidos se concentró entre los pasajeros que gastaron de 5 a 15 dolares en su embarco, un 74% de ellos fallecieron.\n",
    "##### 2.- 16 personas viajaron pagando entre 0 y 5 dolares por pasaje. De estos el 94% falleció, sobreviviendo solo 1 de los 16 pasajeros.\n",
    "##### 2.- Entre los 15 y 55 dolares por boleto, entregaban una probabilidad de sobrevivir de un 44%\n",
    "##### 3.- Sin embargo, de los 55 dolares en adelante, las probabilidades de sobrevivir son mucho más altas."
   ]
  },
  {
   "cell_type": "code",
   "execution_count": null,
   "id": "b7cbd90c-1714-4274-ba92-496692bfdbf6",
   "metadata": {},
   "outputs": [],
   "source": [
    "px.histogram(df, x='Embarked', color = 'Survived', text_auto=True,\n",
    "             title='Sobrevivencia según Lugar de Embarque.', barmode='group', barnorm='',\n",
    "             width=1100, height=450, color_discrete_sequence=['#B71C1C','#0A1172'])"
   ]
  },
  {
   "cell_type": "markdown",
   "id": "4bb105c9-5e4a-44a1-a239-20db57eb5e4d",
   "metadata": {},
   "source": [
    "#### Conclusiones:\n",
    "##### 1.- Al parecer, las personas que se embarcaron en el puerto S, tienen una menor probabilidad de sobrevivenciay los pasajeros embarcados en C, tienen las probabilidades más altas de sobreviviencia. "
   ]
  },
  {
   "cell_type": "markdown",
   "id": "aed68f94-49b7-4716-8cdd-c083f3bb2e1b",
   "metadata": {
    "id": "btcWqUnfPcxW",
    "jp-MarkdownHeadingCollapsed": true,
    "tags": []
   },
   "source": [
    "## 3.7 Correlaciones."
   ]
  },
  {
   "cell_type": "markdown",
   "id": "504c28b3-f4cf-4ac3-8268-71edac85ea48",
   "metadata": {},
   "source": [
    "### 3.7.1 Matriz de correlaciones."
   ]
  },
  {
   "cell_type": "code",
   "execution_count": null,
   "id": "e2ed8b58-c245-433d-b9e0-e53e5bbdb78d",
   "metadata": {
    "id": "zBy4m89a08Sj"
   },
   "outputs": [],
   "source": [
    "correlations = df.corr()\n",
    "f, ax = plt.subplots(figsize = (5,3))\n",
    "sns.heatmap(correlations, annot = True)\n"
   ]
  },
  {
   "cell_type": "markdown",
   "id": "e6c4e583-3e8e-4fc8-9b30-d64a72684474",
   "metadata": {},
   "source": [
    "#### Observaciones:\n",
    "#### 1.- Variable Survived con Pclass (-), con Sex (-) y con Fare (+).\n",
    "#### 2.- Variable Pclass con Age (-) y con Fare (-).\n",
    "#### 3.- Age con SibSp (-) y con Parch (-).\n",
    "#### 4.- SibSp con Parch (+)\n",
    "#### 5.- Parch con Fare (+)"
   ]
  },
  {
   "cell_type": "markdown",
   "id": "e8463081-0f38-4ee4-a2b1-a7a67933088b",
   "metadata": {
    "id": "Y0GmpAjG3GiH",
    "jp-MarkdownHeadingCollapsed": true,
    "tags": []
   },
   "source": [
    "# 4. Crear los data sets para posterior entrenamiento y testing. Normalización o escalamiento de las variables."
   ]
  },
  {
   "cell_type": "markdown",
   "id": "b6b261f1-849f-451d-a42b-e5e0caeb70c9",
   "metadata": {
    "tags": []
   },
   "source": [
    "## 4.3 Escalamiento de las variables: último punto de la limpieza de datos."
   ]
  },
  {
   "cell_type": "code",
   "execution_count": null,
   "id": "491e5cea-fd30-4769-9f06-9559fd4e8239",
   "metadata": {},
   "outputs": [],
   "source": [
    "X = df.iloc[:, 1:6].values\n",
    "y = df.iloc[:, 0].values"
   ]
  },
  {
   "cell_type": "code",
   "execution_count": null,
   "id": "34824ca3-2d03-4155-849d-a39524cc721a",
   "metadata": {},
   "outputs": [],
   "source": [
    "# Importamos la biblioteca a usar\n",
    "from sklearn.preprocessing import MinMaxScaler\n",
    "sc = MinMaxScaler()\n",
    "X = sc.fit_transform(X)"
   ]
  },
  {
   "cell_type": "code",
   "execution_count": null,
   "id": "00eb66a2-f81a-46e6-aa2c-42b5a740505f",
   "metadata": {},
   "outputs": [],
   "source": [
    "# revisamos\n",
    "X"
   ]
  },
  {
   "cell_type": "markdown",
   "id": "41f06474-bccd-4311-8d5d-a3a6b653a4ab",
   "metadata": {},
   "source": [
    "#### Excelente, se ha creado un array con todos los datos escalados para que los algoritmos no infravaloren a los datos más pequeños o sobrevaloren a los más grandes."
   ]
  },
  {
   "cell_type": "markdown",
   "id": "19179a2b-26b2-4c74-9c29-7b78cb7e3488",
   "metadata": {},
   "source": [
    "#### y por otro lado, tenemos un array con todos los valores de la variable a predecir"
   ]
  },
  {
   "cell_type": "markdown",
   "id": "b5c6159e-69b3-425d-8019-685f43c31b78",
   "metadata": {},
   "source": [
    "## 5.1 Redes neuronales artificiales."
   ]
  },
  {
   "cell_type": "markdown",
   "id": "dcb96bfe-2946-40cb-9e5a-1dc2c2dd9215",
   "metadata": {
    "id": "2LGXlsW-qY6T"
   },
   "source": [
    "![alt text](https://drive.google.com/uc?id=1zC0o6mkPWhlIwbs1J2LXTVv1IjtTgBLw)"
   ]
  },
  {
   "cell_type": "markdown",
   "id": "b762d06a-b71d-403b-a1e9-f2e7c389d6d8",
   "metadata": {},
   "source": [
    "## 5.2 Clasificador de regresión logística."
   ]
  },
  {
   "cell_type": "markdown",
   "id": "94042b69-c451-47f8-9fa4-4d078dad86c2",
   "metadata": {
    "id": "RAhjTl8rqfEP"
   },
   "source": [
    "![alt text](https://drive.google.com/uc?id=1JahiZRxjM1gd1cdSlJXBsSmR3cCrZEwr)"
   ]
  },
  {
   "cell_type": "markdown",
   "id": "6669139b-7f1b-46f7-8fd4-3da74457c0ea",
   "metadata": {
    "id": "BSf1ttexqoAy"
   },
   "source": [
    "![alt text](https://drive.google.com/uc?id=1Vf81FJgCX518kr8FFS-sgzT6Nu7yjMQA)"
   ]
  },
  {
   "cell_type": "markdown",
   "id": "ad5ae032-c6b3-455d-8133-0e7a44e54386",
   "metadata": {
    "id": "mEyfNrkaqxLi"
   },
   "source": [
    "![alt text](https://drive.google.com/uc?id=11_L_2NlgtZJulG5BI6Lj8MMGpO5F_QJV)"
   ]
  },
  {
   "cell_type": "markdown",
   "id": "ab9c323f-bfc4-4419-af23-68cba02feabe",
   "metadata": {},
   "source": [
    "## 5.3 Clasificador de bosques aleatorios."
   ]
  },
  {
   "cell_type": "markdown",
   "id": "6cd56e63-5d72-40c6-805c-dbe2dc527b5d",
   "metadata": {
    "id": "FfBciHaVq2i8"
   },
   "source": [
    "![alt text](https://drive.google.com/uc?id=1azYXfWAiUl1LkzEJXYN-GRZneTfzMsVV)"
   ]
  },
  {
   "cell_type": "markdown",
   "id": "475f07f7-8062-48eb-b5d5-6899bb30c417",
   "metadata": {
    "id": "lweiI-Krrfvc"
   },
   "source": [
    "## 5.4 Matriz de confusión."
   ]
  },
  {
   "cell_type": "markdown",
   "id": "f30b9e1a-e1c6-43c9-9102-4efac93090c1",
   "metadata": {},
   "source": [
    "### 5.4.1 Matriz de confusión."
   ]
  },
  {
   "cell_type": "markdown",
   "id": "c193ef8b-3487-40cf-a834-e69499fd40ea",
   "metadata": {
    "id": "FbyUpOKkrCxV"
   },
   "source": [
    "![alt text](https://drive.google.com/uc?id=1Mj1ZhIqcnJl1tfIHeq6R6T8LVzbodtqa)"
   ]
  },
  {
   "cell_type": "markdown",
   "id": "0c880be0-d1eb-4e74-872a-2ec5a781794f",
   "metadata": {},
   "source": [
    "### 5.4.2 Verdaderos positivos y negativos y errores del tipo I y II. "
   ]
  },
  {
   "cell_type": "markdown",
   "id": "8a3e546e-b480-457b-89bc-501655ea7531",
   "metadata": {
    "id": "O4E1szzdrMpA"
   },
   "source": [
    "![alt text](https://drive.google.com/uc?id=1095MBU9oYD1eE65fTrz-8sFgYbbvwAuH)"
   ]
  },
  {
   "cell_type": "markdown",
   "id": "03974ab5-68c0-42ed-b68d-fdb67b8e1c5e",
   "metadata": {},
   "source": [
    "### 5.4.3 Precisión, exahustividad y F-score."
   ]
  },
  {
   "cell_type": "markdown",
   "id": "5cb88dff-d160-45e0-be03-2138b7e89522",
   "metadata": {
    "id": "hXpQYgD0uCBj"
   },
   "source": [
    "![alt text](https://drive.google.com/uc?id=1OojsDQecO-69GQFDYsULNhqgxAP9PrU3)"
   ]
  },
  {
   "cell_type": "markdown",
   "id": "c0b736ef-8b2e-492f-bb84-acb94f40a356",
   "metadata": {
    "id": "mDlTGjekuF4I"
   },
   "source": [
    "![alt text](https://drive.google.com/uc?id=1G1-il6xFMUuz3nd78kvwiP3mcuXqZM3U)"
   ]
  },
  {
   "cell_type": "markdown",
   "id": "ab93e686-03a9-43fe-9552-0e353ca8a351",
   "metadata": {
    "id": "otudfveOME9P",
    "jp-MarkdownHeadingCollapsed": true,
    "tags": []
   },
   "source": [
    "# 5. Entrenamiento y evaluación de un clasificador con Regresión Logística."
   ]
  },
  {
   "cell_type": "code",
   "execution_count": null,
   "id": "76808814-cd41-46d7-b44d-5fc079fd4827",
   "metadata": {
    "id": "RgFq3h993cIz"
   },
   "outputs": [],
   "source": [
    "# Creamos el modelo de entrenamiento\n",
    "from sklearn.model_selection import train_test_split # Importamos la función de entrenamiento\n",
    "X_train, X_test, y_train, y_test = train_test_split(X, y, test_size=0.25) # Creamos los objetos para el entrenamiento"
   ]
  },
  {
   "cell_type": "code",
   "execution_count": null,
   "id": "abf6a017-8872-464b-ab91-293e189685c7",
   "metadata": {
    "id": "DqIp8uvJ3cGi"
   },
   "outputs": [],
   "source": [
    "X_train.shape # Dimensiones de las observaciones que tenemos"
   ]
  },
  {
   "cell_type": "code",
   "execution_count": null,
   "id": "81574868-df43-4ce2-ad46-5348710438d1",
   "metadata": {
    "id": "d4wfApza3cEc"
   },
   "outputs": [],
   "source": [
    "X_test.shape # Dimensiones para las dimensiones del testing"
   ]
  },
  {
   "cell_type": "code",
   "execution_count": null,
   "id": "17b89e56-584f-4e27-842c-8b281cb2d30d",
   "metadata": {
    "id": "f-yF03L-MMz0"
   },
   "outputs": [],
   "source": [
    "# Creamos el modelo de regresión logistica\n",
    "from sklearn.linear_model import LogisticRegression # modelo de regresión\n",
    "from sklearn.metrics import accuracy_score # modelo para medir el accuracy\n",
    "\n",
    "model = LogisticRegression() # Creamos el objeto \"modelo\"\n",
    "model.fit(X_train,y_train) # Ajustamos los valores del modelo a los datos del conjunto de entrenamiento \n",
    "\n",
    "# Predicción\n",
    "y_pred = model.predict(X_test)"
   ]
  },
  {
   "cell_type": "code",
   "execution_count": null,
   "id": "bf45438e-8194-4bbc-a83c-1583b12eb117",
   "metadata": {
    "id": "jDj4uNvjNWkK"
   },
   "outputs": [],
   "source": [
    "# Revisamos\n",
    "y_pred"
   ]
  },
  {
   "cell_type": "code",
   "execution_count": null,
   "id": "0273e044-1663-4a0d-abed-b71644c6a10d",
   "metadata": {
    "id": "7mlqam98MgCG"
   },
   "outputs": [],
   "source": [
    "# Probamos el resultado con los KPIs\n",
    "from sklearn.metrics import confusion_matrix, classification_report # para las matrices de confusión y otras cosas"
   ]
  },
  {
   "cell_type": "code",
   "execution_count": null,
   "id": "93ba7fac-83c0-4a0f-b0da-923b3e71a924",
   "metadata": {},
   "outputs": [],
   "source": [
    "# Tasa de acierto\n",
    "print(\"La tasa de acierto es de un {}%.\".format(100*accuracy_score(y_test,y_pred)))"
   ]
  },
  {
   "cell_type": "code",
   "execution_count": null,
   "id": "3040a5bc-13a3-4f54-acaa-f9144ca3be36",
   "metadata": {
    "id": "OSfFqmKHNuJe"
   },
   "outputs": [],
   "source": [
    "# Matriz de confusion (me gusto más este formato que el anterior, usaré este) \n",
    "def plot_matriz(y_test,y_pred):\n",
    "  cm = confusion_matrix(y_test, y_pred)\n",
    "  sns.set(font_scale=1)\n",
    "  sns.heatmap(cm, annot=True,cmap='Blues',fmt='g')\n",
    "  plt.title(\"Matriz de confusion\")\n",
    "  plt.xlabel(\"Valores predichos\")\n",
    "  plt.ylabel(\"Valores reales\")\n",
    "  plt.show()\n",
    "# Graficar\n",
    "plot_matriz(y_test,y_pred)"
   ]
  },
  {
   "cell_type": "code",
   "execution_count": null,
   "id": "a4f610f2-12f5-47f5-bab1-771ca2b33a02",
   "metadata": {},
   "outputs": [],
   "source": [
    "# classification_report\n",
    "print(classification_report(y_test,y_pred))"
   ]
  },
  {
   "cell_type": "markdown",
   "id": "ac78939e-b7dd-440e-9418-c4da86df5b75",
   "metadata": {
    "id": "o0LevjwDP3Zk",
    "jp-MarkdownHeadingCollapsed": true,
    "tags": []
   },
   "source": [
    "# 6. Entrenamiento y evaluación de un clasificador con Bosques Aleatorios."
   ]
  },
  {
   "cell_type": "code",
   "execution_count": null,
   "id": "f16e944c-bf91-4438-b142-11c5b11b0bb0",
   "metadata": {
    "id": "A9CInUwvP9nF"
   },
   "outputs": [],
   "source": [
    "# Vamos a obtener el modelo de ensamblamiento\n",
    "from sklearn.ensemble import RandomForestClassifier\n",
    "\n",
    "model2 = RandomForestClassifier(n_estimators=250, random_state=0)\n",
    "model2.fit(X_train,y_train)"
   ]
  },
  {
   "cell_type": "code",
   "execution_count": null,
   "id": "475102d1-db87-4cea-8767-5ed684c475d2",
   "metadata": {
    "id": "X5x0CZkgQSsY"
   },
   "outputs": [],
   "source": [
    "y_pred = model2.predict(X_test)"
   ]
  },
  {
   "cell_type": "code",
   "execution_count": null,
   "id": "7147bf03-2892-4ac5-b680-d34c2361ffa7",
   "metadata": {},
   "outputs": [],
   "source": [
    "# Revisamos\n",
    "y_pred"
   ]
  },
  {
   "cell_type": "code",
   "execution_count": null,
   "id": "b985fa3f-dec9-414d-a874-554e41661907",
   "metadata": {},
   "outputs": [],
   "source": [
    "# Probamos el resultado con los KPIs\n",
    "# Tasa de acierto\n",
    "print(\"La tasa de acierto es de un {}%.\".format(100*accuracy_score(y_test,y_pred)))"
   ]
  },
  {
   "cell_type": "code",
   "execution_count": null,
   "id": "48c7102e-a2cb-4324-bec5-f8aa474bfcd3",
   "metadata": {},
   "outputs": [],
   "source": [
    "# Matriz de confusion\n",
    "def plot_matriz(y_test,y_pred):\n",
    "  cm = confusion_matrix(y_test, y_pred)\n",
    "  sns.set(font_scale=1)\n",
    "  sns.heatmap(cm, annot=True,cmap='Blues',fmt='g')\n",
    "  plt.title(\"Matriz de confusion\")\n",
    "  plt.xlabel(\"Valores predichos\")\n",
    "  plt.ylabel(\"Valores reales\")\n",
    "  plt.show()\n",
    "# Graficar\n",
    "plot_matriz(y_test,y_pred)"
   ]
  },
  {
   "cell_type": "code",
   "execution_count": null,
   "id": "9c6532ad-230b-4878-a005-f994418cb35d",
   "metadata": {},
   "outputs": [],
   "source": [
    "# classification_report\n",
    "print(classification_report(y_test,y_pred))"
   ]
  },
  {
   "cell_type": "markdown",
   "id": "d6fbae7e-2b7b-4f1f-ae5b-0d31e41770d6",
   "metadata": {
    "tags": []
   },
   "source": [
    "# 7. Predicción."
   ]
  },
  {
   "cell_type": "code",
   "execution_count": null,
   "id": "80362d8f-7677-4e33-9aa7-5bcad6209f11",
   "metadata": {
    "id": "A9CInUwvP9nF"
   },
   "outputs": [],
   "source": [
    "# Vamos a predecir con el csv de test\n",
    "df_test = pd.read_csv(\"test.csv\")"
   ]
  },
  {
   "cell_type": "code",
   "execution_count": null,
   "id": "8856e98b-a7a5-4faa-9f35-6311d70d8699",
   "metadata": {},
   "outputs": [],
   "source": [
    "# revisión de duplicados\n",
    "df_test.duplicated().sum()"
   ]
  },
  {
   "cell_type": "code",
   "execution_count": null,
   "id": "df71a1eb-2050-4d53-b736-9df8f837f410",
   "metadata": {},
   "outputs": [],
   "source": [
    "# Eliminaremos las variables que decidimos eliminar anteriormente.\n",
    "df_test.drop(['PassengerId','Name','Ticket','Cabin','SibSp','Parch'], axis=1, inplace = True)"
   ]
  },
  {
   "cell_type": "code",
   "execution_count": null,
   "id": "d5f35d22-f323-413b-b146-336c1b4fd2ea",
   "metadata": {},
   "outputs": [],
   "source": [
    "# cambiaremos Sex a variable numérica\n",
    "df_test['Sex'].value_counts()"
   ]
  },
  {
   "cell_type": "code",
   "execution_count": null,
   "id": "fa20ce29-e45e-466d-8929-92e68e2d44db",
   "metadata": {
    "id": "ZiVkQqEPMDDD"
   },
   "outputs": [],
   "source": [
    "df_test['Sex'] = df_test['Sex'].apply(lambda x: 1 if x == 'male' else 0)"
   ]
  },
  {
   "cell_type": "code",
   "execution_count": null,
   "id": "38addb4a-ab02-4d0e-b411-a624aabe860c",
   "metadata": {},
   "outputs": [],
   "source": [
    "# Cambiaremos Embarked a variable numérica\n",
    "df_test['Embarked'].value_counts()"
   ]
  },
  {
   "cell_type": "code",
   "execution_count": null,
   "id": "e03693b9-f17d-4e2d-a57f-5dc023a93a97",
   "metadata": {},
   "outputs": [],
   "source": [
    "df_test['Embarked'] = df_test['Embarked'].apply(lambda x: 1 if x == 'S'\n",
    "                                                else (2 if x == 'C' else 3))"
   ]
  },
  {
   "cell_type": "code",
   "execution_count": null,
   "id": "cfbca785-7612-4e86-87e1-21316049e618",
   "metadata": {
    "id": "ICj3NLbqqmve"
   },
   "outputs": [],
   "source": [
    "# Hallar e imputar nulos\n",
    "df_test.isna().sum().sort_values(ascending = False)"
   ]
  },
  {
   "cell_type": "code",
   "execution_count": null,
   "id": "1c0b2bb4-c769-4409-ba06-14d29e18cced",
   "metadata": {},
   "outputs": [],
   "source": [
    "df_test.loc[(df_test['Age'].isnull() == True), 'Age'] = df_test['Age'].mean()"
   ]
  },
  {
   "cell_type": "code",
   "execution_count": null,
   "id": "bd3f6280-af0d-4cbd-90f9-ed74128752a3",
   "metadata": {},
   "outputs": [],
   "source": [
    "df_test.loc[(df_test['Fare'].isnull() == True), 'Fare'] = df_test['Fare'].mean()"
   ]
  },
  {
   "cell_type": "code",
   "execution_count": null,
   "id": "da53ebc8-26fe-4bfa-bd0b-4b0963c89de8",
   "metadata": {},
   "outputs": [],
   "source": [
    "#revisamos\n",
    "df_test.isna().sum().sort_values(ascending = False)"
   ]
  },
  {
   "cell_type": "code",
   "execution_count": null,
   "id": "3e641eca-3ed5-4cb4-9c71-e211c6826ade",
   "metadata": {},
   "outputs": [],
   "source": [
    "# preprocesado del conjunto de variables X\n",
    "df_test"
   ]
  },
  {
   "cell_type": "code",
   "execution_count": null,
   "id": "06281a24-450f-4f95-8c97-e6a3da34cd8c",
   "metadata": {},
   "outputs": [],
   "source": [
    "X_test = df_test.iloc[:, :5].values"
   ]
  },
  {
   "cell_type": "code",
   "execution_count": null,
   "id": "c0cc94d7-f824-4ef6-aaf2-7ac96cce655a",
   "metadata": {},
   "outputs": [],
   "source": [
    "# Escalamos\n",
    "sc = MinMaxScaler()\n",
    "X_test = sc.fit_transform(X_test)"
   ]
  },
  {
   "cell_type": "code",
   "execution_count": null,
   "id": "1d430cd4-8b35-499b-9ba4-495a8344437b",
   "metadata": {},
   "outputs": [],
   "source": [
    "# revisamos\n",
    "X_test"
   ]
  },
  {
   "cell_type": "code",
   "execution_count": null,
   "id": "79b6464d-41e7-4a48-b07d-c5399d98b535",
   "metadata": {},
   "outputs": [],
   "source": [
    "y_pred = model2.predict(X_test)\n",
    "y_pred.shape"
   ]
  },
  {
   "cell_type": "code",
   "execution_count": null,
   "id": "8078c4db-9d63-4982-8dac-efab7f8d6d9c",
   "metadata": {},
   "outputs": [],
   "source": [
    "y_pred"
   ]
  },
  {
   "cell_type": "markdown",
   "id": "45b43b8e-feac-4758-9cd5-11c44e18825e",
   "metadata": {
    "tags": []
   },
   "source": [
    "# 8. Insertar Scoring."
   ]
  },
  {
   "cell_type": "markdown",
   "id": "e265562f-6971-4eae-bf8f-aaec7c277eb1",
   "metadata": {
    "tags": []
   },
   "source": [
    "## 8.1 Insertar el Scoring de Survivor para la visualización de datos."
   ]
  },
  {
   "cell_type": "code",
   "execution_count": null,
   "id": "7419a775-0672-4c31-b221-6a036274e322",
   "metadata": {},
   "outputs": [],
   "source": [
    "# Vamos a transformar el array de y_pred en un data frame\n",
    "df_survivor = pd.DataFrame(y_pred)\n",
    "# y obtener la columna survivor desde el data frame de test\n",
    "df_test = pd.read_csv(\"test.csv\")\n",
    "# crearé un df de entrega con la columna Id pasajeros \n",
    "df_entrega = df_test[['PassengerId']]\n",
    "# y le agregaré la columna sobrevivientes\n",
    "df_entrega['Survived'] = df_survivor.loc[:,0].values"
   ]
  },
  {
   "cell_type": "code",
   "execution_count": null,
   "id": "73905df6-e9e7-4abf-bb37-8f51a1e81417",
   "metadata": {},
   "outputs": [],
   "source": [
    "# revisamos\n",
    "df_entrega"
   ]
  },
  {
   "cell_type": "markdown",
   "id": "b7b8d9a9-13a4-4069-9137-b3b659451a63",
   "metadata": {},
   "source": [
    "## 8.2 Crear Csv para subir a competencia."
   ]
  },
  {
   "cell_type": "code",
   "execution_count": null,
   "id": "242d259e-c486-4920-95d1-6dac55fb970d",
   "metadata": {},
   "outputs": [],
   "source": [
    "df_entrega.to_csv('prediction.csv', index=False)"
   ]
  },
  {
   "cell_type": "markdown",
   "id": "92c3d64b-5247-4910-89ee-afb370a9095a",
   "metadata": {},
   "source": [
    "<div align=\"center\">\n",
    "    <h1> <b>FIN</b></h1>\n",
    "</div>"
   ]
  }
 ],
 "metadata": {
  "kernelspec": {
   "display_name": "Python 3 (ipykernel)",
   "language": "python",
   "name": "python3"
  },
  "language_info": {
   "codemirror_mode": {
    "name": "ipython",
    "version": 3
   },
   "file_extension": ".py",
   "mimetype": "text/x-python",
   "name": "python",
   "nbconvert_exporter": "python",
   "pygments_lexer": "ipython3",
   "version": "3.9.13"
  }
 },
 "nbformat": 4,
 "nbformat_minor": 5
}
