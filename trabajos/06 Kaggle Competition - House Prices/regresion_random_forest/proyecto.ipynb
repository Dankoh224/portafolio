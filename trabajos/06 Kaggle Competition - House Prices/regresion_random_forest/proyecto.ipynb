{
 "cells": [
  {
   "cell_type": "markdown",
   "id": "dd1b7bd9-831b-4962-a43a-1e3c7a8a936e",
   "metadata": {},
   "source": [
    "<div align=\"center\">\n",
    "    <h1> <b>House Prices</b></h1><br>\n",
    "</div>"
   ]
  },
  {
   "cell_type": "markdown",
   "id": "5f80468c-18de-43b1-82e8-1aa90979df9b",
   "metadata": {},
   "source": [
    "<div>\n",
    "    <h3>En este notebook: Regresión Lineal Múltiple.</h3>\n",
    "</div> "
   ]
  },
  {
   "cell_type": "markdown",
   "id": "7b29cac0-3f43-4a89-a1ad-f3aaefb7f38d",
   "metadata": {
    "jp-MarkdownHeadingCollapsed": true,
    "tags": []
   },
   "source": [
    "# 1. ENUNCIADO DEL PROBLEMA Y CASO PRÁCTICO."
   ]
  },
  {
   "cell_type": "markdown",
   "id": "d256175f-c2f6-4bb2-b7c4-cb9d214aab99",
   "metadata": {},
   "source": [
    "##### Año tras año, miles de estudiantes de todo tipo de colegios, a lo largo y ancho de nuestro país, viven la angustiosa sensación de experimentar la repetitencia del nivel escolar en el que se encuentran.\n",
    "##### Gracias a estudios, es posible obtener algunas estadísticas descriptivas, pero no inferenciales, de quiénes son los estudiantes que se encuentran más vulnerables a vivir esta situación. Sin embargo, como institución educativa, no es posible tener certeza de quién se encontrará en esta situación, hasta meses después de iniciado el año escolar, teniendo claridad de cierta cantidad de notas. \n",
    "##### Sin embargo, gracias a la tecnología, sabemos que es posible predecir muchos comportamientos humanos si tenemos acceso a sus datos y es por esta razón, que decidí realizar un estudio para descubrir qué aspectos y factores cercanos al estudiante, podrían darnos pistas sobre como actuar, qué mejorar, o a qué hacer real énfasis, para que el desarrollo académico de nuestros estudiantes, sea el mejor posible.\n",
    "##### Basándome en la teoría medioambiental de bronfenbrenner, que plantea que el desarrollo de un individuo esta condicionado al entorno que lo rodea, recopilé información del hogar, de la escuela y del entorno físico de los estudiantes, para descubrir información valiosa a través del machine learning, para que el equipo multidiciplinario de la escuela pueda tomar decisiones acertivas, para ayudar a los estudiantes que el modelo considere que están en  riesgo de fracasar académicamente."
   ]
  },
  {
   "cell_type": "markdown",
   "id": "5b9e2024-5c0c-4fec-bab7-a95ed7e8d214",
   "metadata": {},
   "source": [
    "## 1.1 Entendimiento del problema."
   ]
  },
  {
   "cell_type": "markdown",
   "id": "73af2348-45a5-43f8-973a-6c4f4d174752",
   "metadata": {},
   "source": [
    "##### - Repetir un año académico es un tema complejo, que impacta en áreas socioemocionales en el niño o adolescente y en su familia, y en el área económica, por todo lo que conlleva un año escolar: furgón de traslado, materiales, ropa, mensualidades y matrícula inclusive.\n",
    "##### - Por otro lado, una investigación a cargo de Francisco Alessandri de la fundación sin fines de lucro \"acción Educar\", rebeló que el estado invierte anualmente, por cada niña/o; 2.763.178 en jardines, 2.218.785 en colegios y 3.252.535 en educación superior estatal. Fuente: https://accioneducar.cl/wp-content/uploads/2021/08/Comparaci%C3%B3n-gasto-p%C3%BAblico-por-nivel-educativo-Acci%C3%B3n-Educar-1.pdf\n",
    "##### - Los establecimientos, generalmente mediante financiamiento SEP, imparten talleres para reforzar asignaturas troncales y estos son dirigidos a alumnos aventajados o para alumnos descendidos en la asignatura, o para todo el grupo de curso, es decir, rara vez se realizan un taller con foco a los alumnos en riesgo de repitencia desde el principio de año."
   ]
  },
  {
   "cell_type": "markdown",
   "id": "82bc9555-a9e6-46e7-9161-9a2f59bbe964",
   "metadata": {},
   "source": [
    "## 1.2 Objetivo del estudio."
   ]
  },
  {
   "cell_type": "markdown",
   "id": "20c1cfff-4680-4672-ad68-4f4668301ce0",
   "metadata": {},
   "source": [
    "##### El objetivo principal del estudio es conocer, identificar y comprender las necesidades específicas de cada estudiante, para destinar los recursos de manera anticipada a quien lo necesite. Esto podrá ser posible, gracias a los modelos de predicción y clasificación, que permitirán predecir el rendimiento académico de cada estudiante y su estereotipo."
   ]
  },
  {
   "cell_type": "markdown",
   "id": "8b0b2903-d375-4931-bd9c-718f12b496cb",
   "metadata": {},
   "source": [
    "## 1.3 Características de los estudiantes."
   ]
  },
  {
   "cell_type": "markdown",
   "id": "f57c9b1d-d5a0-496f-a04e-8b61eef83d1a",
   "metadata": {},
   "source": [
    "### 1.3.1 La cantidad de estudiantes encuestados son 174 y las características o variables son 116.\n",
    "### 1.3.2 Una grupo importante de preguntas fueron respondida usando una escala de 0 a 10 basadas en escalas tipo Likert: https://www.psicothema.com/pdf/191.pdf\n",
    "### La nomenclatura es la  siguiente:\n",
    "\n",
    "##### 0 nunca\n",
    "##### 1 casi nunca\n",
    "##### 2 rara vez\n",
    "##### 3 ocasionalmente\n",
    "##### 4 algunas veces\n",
    "##### 5 la mitad de las veces\n",
    "##### 6 a menudo\n",
    "##### 7 con frecuencia\n",
    "##### 8 muy a menudo\n",
    "##### 9 casi siempre\n",
    "##### 10 siempre\n",
    "\n",
    "### 1.3.3 Características que fueron obtenidas de los estudiantes:\n",
    "##### nombre -\tgenero -\tedad -\tpeso -\testatura -\tcurso -\tarea_interes_actual -\tarea_interes_adulta -\ttaller_interes -\telectivo_de_interes -\ttipo_inteligencia -\tbeca_estudio -\tbeca_alimentacion -\tinternet_hogar -\ttelefono -\tinternet_movil -\tuso_celular -\thoras_uso_celular -\tuso_celular_familia -\tcantidad_pc_hogar -\thoras_uso_pc -\tcalidad_vecindario -\ttrabaja -\tindigena -\tsituacion_economica -\tcantidad_tareas_diarias -\tapoyo_familiar -\tapoyo_en_estudio -\texigencia_estudio_hogar -\tprobabilidad_ser_universitario -\tjardin -\trepitencia -\tdias_ausente -\thoras_estudio_mate -\thoras_estudio_leng -\thoras_estudio_hist -\thoras_estudio_cienc -\tasignatura_favorita -\tlectura -\tinteres_resolucion_problemas -\tinteres_investigacion -\tinteres_debate -\tcalidad_clima_escolar -\tcalidad_docentes -\tcantidad_personas_hogar -\tvive_con_padre -\tvive_con_padre -. -1 -\tpadre_trabaja -\tmadre_trabaja -\tedad_padre -\tedad_madre -\tcantidad_hermanos -\tnucleo_familiar -\tpadre_madre_unidos -\ttiempo_con_madre -\ttiempo_con_padre -\ttiempo_con_hermanos -\teducacion_madre -\teducacion_padre -\trelacion_con_profesores -\tpreguntar_en_clases -\tconversar_en_clases -\testudiar_en_clases -\ttrabajar_en_clases -\tescribir_materia -\tescribir_objetivo -\tusar_celular_clases -\ttiempo_con_amigos -\thoras_con_amigos -\testudio_con_amigos -\testudio_con_padre -\testudio_con_madre -\testudio_con_hermanos -\tiniciativa_estudio -\tobligacion_estudio -\tentrevistas_apoderado_colegio -\tvalorizacion_profesor -\tconocimiento_notas_apoderado -\tconocimiento_comportamiento_apoderado -\trelacion_padre_amigos -\tinfluencia_amigos_segun_padres -\thoras_amigos_en_casa -\thoras_en_casa_amigos -\tamigos_conocen_padres -\tamigos_valoran_a_padres -\tamigos_valoran_profesores -\tamigos_estudiosos -\tnotas_amigos -\tcomportamiento_amigos -\ttiempo_de_trabajo_padre -\ttiempo_de_trabajo_madre -\ttiempo_en_familia -\tcalidad_servicios_salud -\tcantidad_plazas -\tseguridad_del_barrio -\ttipo_de_calle -\tcontaminacion_acustica -\tlimpieza_aire -\tlimpieza_suelo -\tbelleza_del_barrio -\tcantidad_puntos_de_droga -\tcantidad_puntos_de_alcohol -\tconversaciones_generales_familia - -\tir_a_la_iglesia -\tsalidas_familiares_culturales -\tsalidas_familiares_divertidas -\tUnnamed -: - 107 -\tlenguaje -\tingles -\tmate -\tciencias -\thistoria -\ttecnologia -\tartes -\tmusica -\ted_fisica -\tpromedio"
   ]
  },
  {
   "cell_type": "markdown",
   "id": "0809d557-5bb9-4d49-bd9e-4cd51ebba642",
   "metadata": {
    "jp-MarkdownHeadingCollapsed": true,
    "tags": []
   },
   "source": [
    "# 2. IMPORTAR LAS LIBRERÍAS Y OBTENER INFORMACIÓN GENERAL."
   ]
  },
  {
   "cell_type": "markdown",
   "id": "cc8a5a7b-5477-4e6e-8817-af4cc8cab217",
   "metadata": {
    "jp-MarkdownHeadingCollapsed": true,
    "tags": []
   },
   "source": [
    "## 2.1 Importe de librerías."
   ]
  },
  {
   "cell_type": "code",
   "execution_count": 1,
   "id": "9321730e-b8e8-46e8-a71a-97d7817d1bb0",
   "metadata": {},
   "outputs": [],
   "source": [
    "import pandas as pd\n",
    "import numpy as np\n",
    "import seaborn as sns\n",
    "import matplotlib.pyplot as plt\n",
    "import plotly.express as px"
   ]
  },
  {
   "cell_type": "markdown",
   "id": "4670519d-1500-4a8d-b2af-dc3cac6d1013",
   "metadata": {
    "jp-MarkdownHeadingCollapsed": true,
    "tags": []
   },
   "source": [
    "## 2.2 Cargar y leer el dataset. Configuración de la vista."
   ]
  },
  {
   "cell_type": "code",
   "execution_count": 2,
   "id": "8df26451-35c6-4b3b-905a-c564a5445e78",
   "metadata": {},
   "outputs": [
    {
     "data": {
      "text/html": [
       "<div>\n",
       "<style scoped>\n",
       "    .dataframe tbody tr th:only-of-type {\n",
       "        vertical-align: middle;\n",
       "    }\n",
       "\n",
       "    .dataframe tbody tr th {\n",
       "        vertical-align: top;\n",
       "    }\n",
       "\n",
       "    .dataframe thead th {\n",
       "        text-align: right;\n",
       "    }\n",
       "</style>\n",
       "<table border=\"1\" class=\"dataframe\">\n",
       "  <thead>\n",
       "    <tr style=\"text-align: right;\">\n",
       "      <th></th>\n",
       "      <th>Id</th>\n",
       "      <th>MSSubClass</th>\n",
       "      <th>MSZoning</th>\n",
       "      <th>LotFrontage</th>\n",
       "      <th>LotArea</th>\n",
       "      <th>Street</th>\n",
       "      <th>Alley</th>\n",
       "      <th>LotShape</th>\n",
       "      <th>LandContour</th>\n",
       "      <th>Utilities</th>\n",
       "      <th>LotConfig</th>\n",
       "      <th>LandSlope</th>\n",
       "      <th>Neighborhood</th>\n",
       "      <th>Condition1</th>\n",
       "      <th>Condition2</th>\n",
       "      <th>BldgType</th>\n",
       "      <th>HouseStyle</th>\n",
       "      <th>OverallQual</th>\n",
       "      <th>OverallCond</th>\n",
       "      <th>YearBuilt</th>\n",
       "      <th>YearRemodAdd</th>\n",
       "      <th>RoofStyle</th>\n",
       "      <th>RoofMatl</th>\n",
       "      <th>Exterior1st</th>\n",
       "      <th>Exterior2nd</th>\n",
       "      <th>MasVnrType</th>\n",
       "      <th>MasVnrArea</th>\n",
       "      <th>ExterQual</th>\n",
       "      <th>ExterCond</th>\n",
       "      <th>Foundation</th>\n",
       "      <th>BsmtQual</th>\n",
       "      <th>BsmtCond</th>\n",
       "      <th>BsmtExposure</th>\n",
       "      <th>BsmtFinType1</th>\n",
       "      <th>BsmtFinSF1</th>\n",
       "      <th>BsmtFinType2</th>\n",
       "      <th>BsmtFinSF2</th>\n",
       "      <th>BsmtUnfSF</th>\n",
       "      <th>TotalBsmtSF</th>\n",
       "      <th>Heating</th>\n",
       "      <th>HeatingQC</th>\n",
       "      <th>CentralAir</th>\n",
       "      <th>Electrical</th>\n",
       "      <th>1stFlrSF</th>\n",
       "      <th>2ndFlrSF</th>\n",
       "      <th>LowQualFinSF</th>\n",
       "      <th>GrLivArea</th>\n",
       "      <th>BsmtFullBath</th>\n",
       "      <th>BsmtHalfBath</th>\n",
       "      <th>FullBath</th>\n",
       "      <th>HalfBath</th>\n",
       "      <th>BedroomAbvGr</th>\n",
       "      <th>KitchenAbvGr</th>\n",
       "      <th>KitchenQual</th>\n",
       "      <th>TotRmsAbvGrd</th>\n",
       "      <th>Functional</th>\n",
       "      <th>Fireplaces</th>\n",
       "      <th>FireplaceQu</th>\n",
       "      <th>GarageType</th>\n",
       "      <th>GarageYrBlt</th>\n",
       "      <th>GarageFinish</th>\n",
       "      <th>GarageCars</th>\n",
       "      <th>GarageArea</th>\n",
       "      <th>GarageQual</th>\n",
       "      <th>GarageCond</th>\n",
       "      <th>PavedDrive</th>\n",
       "      <th>WoodDeckSF</th>\n",
       "      <th>OpenPorchSF</th>\n",
       "      <th>EnclosedPorch</th>\n",
       "      <th>3SsnPorch</th>\n",
       "      <th>ScreenPorch</th>\n",
       "      <th>PoolArea</th>\n",
       "      <th>PoolQC</th>\n",
       "      <th>Fence</th>\n",
       "      <th>MiscFeature</th>\n",
       "      <th>MiscVal</th>\n",
       "      <th>MoSold</th>\n",
       "      <th>YrSold</th>\n",
       "      <th>SaleType</th>\n",
       "      <th>SaleCondition</th>\n",
       "      <th>SalePrice</th>\n",
       "    </tr>\n",
       "  </thead>\n",
       "  <tbody>\n",
       "    <tr>\n",
       "      <th>0</th>\n",
       "      <td>1</td>\n",
       "      <td>60</td>\n",
       "      <td>RL</td>\n",
       "      <td>65.0</td>\n",
       "      <td>8450</td>\n",
       "      <td>Pave</td>\n",
       "      <td>NaN</td>\n",
       "      <td>Reg</td>\n",
       "      <td>Lvl</td>\n",
       "      <td>AllPub</td>\n",
       "      <td>Inside</td>\n",
       "      <td>Gtl</td>\n",
       "      <td>CollgCr</td>\n",
       "      <td>Norm</td>\n",
       "      <td>Norm</td>\n",
       "      <td>1Fam</td>\n",
       "      <td>2Story</td>\n",
       "      <td>7</td>\n",
       "      <td>5</td>\n",
       "      <td>2003</td>\n",
       "      <td>2003</td>\n",
       "      <td>Gable</td>\n",
       "      <td>CompShg</td>\n",
       "      <td>VinylSd</td>\n",
       "      <td>VinylSd</td>\n",
       "      <td>BrkFace</td>\n",
       "      <td>196.0</td>\n",
       "      <td>Gd</td>\n",
       "      <td>TA</td>\n",
       "      <td>PConc</td>\n",
       "      <td>Gd</td>\n",
       "      <td>TA</td>\n",
       "      <td>No</td>\n",
       "      <td>GLQ</td>\n",
       "      <td>706</td>\n",
       "      <td>Unf</td>\n",
       "      <td>0</td>\n",
       "      <td>150</td>\n",
       "      <td>856</td>\n",
       "      <td>GasA</td>\n",
       "      <td>Ex</td>\n",
       "      <td>Y</td>\n",
       "      <td>SBrkr</td>\n",
       "      <td>856</td>\n",
       "      <td>854</td>\n",
       "      <td>0</td>\n",
       "      <td>1710</td>\n",
       "      <td>1</td>\n",
       "      <td>0</td>\n",
       "      <td>2</td>\n",
       "      <td>1</td>\n",
       "      <td>3</td>\n",
       "      <td>1</td>\n",
       "      <td>Gd</td>\n",
       "      <td>8</td>\n",
       "      <td>Typ</td>\n",
       "      <td>0</td>\n",
       "      <td>NaN</td>\n",
       "      <td>Attchd</td>\n",
       "      <td>2003.0</td>\n",
       "      <td>RFn</td>\n",
       "      <td>2</td>\n",
       "      <td>548</td>\n",
       "      <td>TA</td>\n",
       "      <td>TA</td>\n",
       "      <td>Y</td>\n",
       "      <td>0</td>\n",
       "      <td>61</td>\n",
       "      <td>0</td>\n",
       "      <td>0</td>\n",
       "      <td>0</td>\n",
       "      <td>0</td>\n",
       "      <td>NaN</td>\n",
       "      <td>NaN</td>\n",
       "      <td>NaN</td>\n",
       "      <td>0</td>\n",
       "      <td>2</td>\n",
       "      <td>2008</td>\n",
       "      <td>WD</td>\n",
       "      <td>Normal</td>\n",
       "      <td>208500</td>\n",
       "    </tr>\n",
       "    <tr>\n",
       "      <th>1</th>\n",
       "      <td>2</td>\n",
       "      <td>20</td>\n",
       "      <td>RL</td>\n",
       "      <td>80.0</td>\n",
       "      <td>9600</td>\n",
       "      <td>Pave</td>\n",
       "      <td>NaN</td>\n",
       "      <td>Reg</td>\n",
       "      <td>Lvl</td>\n",
       "      <td>AllPub</td>\n",
       "      <td>FR2</td>\n",
       "      <td>Gtl</td>\n",
       "      <td>Veenker</td>\n",
       "      <td>Feedr</td>\n",
       "      <td>Norm</td>\n",
       "      <td>1Fam</td>\n",
       "      <td>1Story</td>\n",
       "      <td>6</td>\n",
       "      <td>8</td>\n",
       "      <td>1976</td>\n",
       "      <td>1976</td>\n",
       "      <td>Gable</td>\n",
       "      <td>CompShg</td>\n",
       "      <td>MetalSd</td>\n",
       "      <td>MetalSd</td>\n",
       "      <td>None</td>\n",
       "      <td>0.0</td>\n",
       "      <td>TA</td>\n",
       "      <td>TA</td>\n",
       "      <td>CBlock</td>\n",
       "      <td>Gd</td>\n",
       "      <td>TA</td>\n",
       "      <td>Gd</td>\n",
       "      <td>ALQ</td>\n",
       "      <td>978</td>\n",
       "      <td>Unf</td>\n",
       "      <td>0</td>\n",
       "      <td>284</td>\n",
       "      <td>1262</td>\n",
       "      <td>GasA</td>\n",
       "      <td>Ex</td>\n",
       "      <td>Y</td>\n",
       "      <td>SBrkr</td>\n",
       "      <td>1262</td>\n",
       "      <td>0</td>\n",
       "      <td>0</td>\n",
       "      <td>1262</td>\n",
       "      <td>0</td>\n",
       "      <td>1</td>\n",
       "      <td>2</td>\n",
       "      <td>0</td>\n",
       "      <td>3</td>\n",
       "      <td>1</td>\n",
       "      <td>TA</td>\n",
       "      <td>6</td>\n",
       "      <td>Typ</td>\n",
       "      <td>1</td>\n",
       "      <td>TA</td>\n",
       "      <td>Attchd</td>\n",
       "      <td>1976.0</td>\n",
       "      <td>RFn</td>\n",
       "      <td>2</td>\n",
       "      <td>460</td>\n",
       "      <td>TA</td>\n",
       "      <td>TA</td>\n",
       "      <td>Y</td>\n",
       "      <td>298</td>\n",
       "      <td>0</td>\n",
       "      <td>0</td>\n",
       "      <td>0</td>\n",
       "      <td>0</td>\n",
       "      <td>0</td>\n",
       "      <td>NaN</td>\n",
       "      <td>NaN</td>\n",
       "      <td>NaN</td>\n",
       "      <td>0</td>\n",
       "      <td>5</td>\n",
       "      <td>2007</td>\n",
       "      <td>WD</td>\n",
       "      <td>Normal</td>\n",
       "      <td>181500</td>\n",
       "    </tr>\n",
       "    <tr>\n",
       "      <th>2</th>\n",
       "      <td>3</td>\n",
       "      <td>60</td>\n",
       "      <td>RL</td>\n",
       "      <td>68.0</td>\n",
       "      <td>11250</td>\n",
       "      <td>Pave</td>\n",
       "      <td>NaN</td>\n",
       "      <td>IR1</td>\n",
       "      <td>Lvl</td>\n",
       "      <td>AllPub</td>\n",
       "      <td>Inside</td>\n",
       "      <td>Gtl</td>\n",
       "      <td>CollgCr</td>\n",
       "      <td>Norm</td>\n",
       "      <td>Norm</td>\n",
       "      <td>1Fam</td>\n",
       "      <td>2Story</td>\n",
       "      <td>7</td>\n",
       "      <td>5</td>\n",
       "      <td>2001</td>\n",
       "      <td>2002</td>\n",
       "      <td>Gable</td>\n",
       "      <td>CompShg</td>\n",
       "      <td>VinylSd</td>\n",
       "      <td>VinylSd</td>\n",
       "      <td>BrkFace</td>\n",
       "      <td>162.0</td>\n",
       "      <td>Gd</td>\n",
       "      <td>TA</td>\n",
       "      <td>PConc</td>\n",
       "      <td>Gd</td>\n",
       "      <td>TA</td>\n",
       "      <td>Mn</td>\n",
       "      <td>GLQ</td>\n",
       "      <td>486</td>\n",
       "      <td>Unf</td>\n",
       "      <td>0</td>\n",
       "      <td>434</td>\n",
       "      <td>920</td>\n",
       "      <td>GasA</td>\n",
       "      <td>Ex</td>\n",
       "      <td>Y</td>\n",
       "      <td>SBrkr</td>\n",
       "      <td>920</td>\n",
       "      <td>866</td>\n",
       "      <td>0</td>\n",
       "      <td>1786</td>\n",
       "      <td>1</td>\n",
       "      <td>0</td>\n",
       "      <td>2</td>\n",
       "      <td>1</td>\n",
       "      <td>3</td>\n",
       "      <td>1</td>\n",
       "      <td>Gd</td>\n",
       "      <td>6</td>\n",
       "      <td>Typ</td>\n",
       "      <td>1</td>\n",
       "      <td>TA</td>\n",
       "      <td>Attchd</td>\n",
       "      <td>2001.0</td>\n",
       "      <td>RFn</td>\n",
       "      <td>2</td>\n",
       "      <td>608</td>\n",
       "      <td>TA</td>\n",
       "      <td>TA</td>\n",
       "      <td>Y</td>\n",
       "      <td>0</td>\n",
       "      <td>42</td>\n",
       "      <td>0</td>\n",
       "      <td>0</td>\n",
       "      <td>0</td>\n",
       "      <td>0</td>\n",
       "      <td>NaN</td>\n",
       "      <td>NaN</td>\n",
       "      <td>NaN</td>\n",
       "      <td>0</td>\n",
       "      <td>9</td>\n",
       "      <td>2008</td>\n",
       "      <td>WD</td>\n",
       "      <td>Normal</td>\n",
       "      <td>223500</td>\n",
       "    </tr>\n",
       "    <tr>\n",
       "      <th>3</th>\n",
       "      <td>4</td>\n",
       "      <td>70</td>\n",
       "      <td>RL</td>\n",
       "      <td>60.0</td>\n",
       "      <td>9550</td>\n",
       "      <td>Pave</td>\n",
       "      <td>NaN</td>\n",
       "      <td>IR1</td>\n",
       "      <td>Lvl</td>\n",
       "      <td>AllPub</td>\n",
       "      <td>Corner</td>\n",
       "      <td>Gtl</td>\n",
       "      <td>Crawfor</td>\n",
       "      <td>Norm</td>\n",
       "      <td>Norm</td>\n",
       "      <td>1Fam</td>\n",
       "      <td>2Story</td>\n",
       "      <td>7</td>\n",
       "      <td>5</td>\n",
       "      <td>1915</td>\n",
       "      <td>1970</td>\n",
       "      <td>Gable</td>\n",
       "      <td>CompShg</td>\n",
       "      <td>Wd Sdng</td>\n",
       "      <td>Wd Shng</td>\n",
       "      <td>None</td>\n",
       "      <td>0.0</td>\n",
       "      <td>TA</td>\n",
       "      <td>TA</td>\n",
       "      <td>BrkTil</td>\n",
       "      <td>TA</td>\n",
       "      <td>Gd</td>\n",
       "      <td>No</td>\n",
       "      <td>ALQ</td>\n",
       "      <td>216</td>\n",
       "      <td>Unf</td>\n",
       "      <td>0</td>\n",
       "      <td>540</td>\n",
       "      <td>756</td>\n",
       "      <td>GasA</td>\n",
       "      <td>Gd</td>\n",
       "      <td>Y</td>\n",
       "      <td>SBrkr</td>\n",
       "      <td>961</td>\n",
       "      <td>756</td>\n",
       "      <td>0</td>\n",
       "      <td>1717</td>\n",
       "      <td>1</td>\n",
       "      <td>0</td>\n",
       "      <td>1</td>\n",
       "      <td>0</td>\n",
       "      <td>3</td>\n",
       "      <td>1</td>\n",
       "      <td>Gd</td>\n",
       "      <td>7</td>\n",
       "      <td>Typ</td>\n",
       "      <td>1</td>\n",
       "      <td>Gd</td>\n",
       "      <td>Detchd</td>\n",
       "      <td>1998.0</td>\n",
       "      <td>Unf</td>\n",
       "      <td>3</td>\n",
       "      <td>642</td>\n",
       "      <td>TA</td>\n",
       "      <td>TA</td>\n",
       "      <td>Y</td>\n",
       "      <td>0</td>\n",
       "      <td>35</td>\n",
       "      <td>272</td>\n",
       "      <td>0</td>\n",
       "      <td>0</td>\n",
       "      <td>0</td>\n",
       "      <td>NaN</td>\n",
       "      <td>NaN</td>\n",
       "      <td>NaN</td>\n",
       "      <td>0</td>\n",
       "      <td>2</td>\n",
       "      <td>2006</td>\n",
       "      <td>WD</td>\n",
       "      <td>Abnorml</td>\n",
       "      <td>140000</td>\n",
       "    </tr>\n",
       "    <tr>\n",
       "      <th>4</th>\n",
       "      <td>5</td>\n",
       "      <td>60</td>\n",
       "      <td>RL</td>\n",
       "      <td>84.0</td>\n",
       "      <td>14260</td>\n",
       "      <td>Pave</td>\n",
       "      <td>NaN</td>\n",
       "      <td>IR1</td>\n",
       "      <td>Lvl</td>\n",
       "      <td>AllPub</td>\n",
       "      <td>FR2</td>\n",
       "      <td>Gtl</td>\n",
       "      <td>NoRidge</td>\n",
       "      <td>Norm</td>\n",
       "      <td>Norm</td>\n",
       "      <td>1Fam</td>\n",
       "      <td>2Story</td>\n",
       "      <td>8</td>\n",
       "      <td>5</td>\n",
       "      <td>2000</td>\n",
       "      <td>2000</td>\n",
       "      <td>Gable</td>\n",
       "      <td>CompShg</td>\n",
       "      <td>VinylSd</td>\n",
       "      <td>VinylSd</td>\n",
       "      <td>BrkFace</td>\n",
       "      <td>350.0</td>\n",
       "      <td>Gd</td>\n",
       "      <td>TA</td>\n",
       "      <td>PConc</td>\n",
       "      <td>Gd</td>\n",
       "      <td>TA</td>\n",
       "      <td>Av</td>\n",
       "      <td>GLQ</td>\n",
       "      <td>655</td>\n",
       "      <td>Unf</td>\n",
       "      <td>0</td>\n",
       "      <td>490</td>\n",
       "      <td>1145</td>\n",
       "      <td>GasA</td>\n",
       "      <td>Ex</td>\n",
       "      <td>Y</td>\n",
       "      <td>SBrkr</td>\n",
       "      <td>1145</td>\n",
       "      <td>1053</td>\n",
       "      <td>0</td>\n",
       "      <td>2198</td>\n",
       "      <td>1</td>\n",
       "      <td>0</td>\n",
       "      <td>2</td>\n",
       "      <td>1</td>\n",
       "      <td>4</td>\n",
       "      <td>1</td>\n",
       "      <td>Gd</td>\n",
       "      <td>9</td>\n",
       "      <td>Typ</td>\n",
       "      <td>1</td>\n",
       "      <td>TA</td>\n",
       "      <td>Attchd</td>\n",
       "      <td>2000.0</td>\n",
       "      <td>RFn</td>\n",
       "      <td>3</td>\n",
       "      <td>836</td>\n",
       "      <td>TA</td>\n",
       "      <td>TA</td>\n",
       "      <td>Y</td>\n",
       "      <td>192</td>\n",
       "      <td>84</td>\n",
       "      <td>0</td>\n",
       "      <td>0</td>\n",
       "      <td>0</td>\n",
       "      <td>0</td>\n",
       "      <td>NaN</td>\n",
       "      <td>NaN</td>\n",
       "      <td>NaN</td>\n",
       "      <td>0</td>\n",
       "      <td>12</td>\n",
       "      <td>2008</td>\n",
       "      <td>WD</td>\n",
       "      <td>Normal</td>\n",
       "      <td>250000</td>\n",
       "    </tr>\n",
       "    <tr>\n",
       "      <th>...</th>\n",
       "      <td>...</td>\n",
       "      <td>...</td>\n",
       "      <td>...</td>\n",
       "      <td>...</td>\n",
       "      <td>...</td>\n",
       "      <td>...</td>\n",
       "      <td>...</td>\n",
       "      <td>...</td>\n",
       "      <td>...</td>\n",
       "      <td>...</td>\n",
       "      <td>...</td>\n",
       "      <td>...</td>\n",
       "      <td>...</td>\n",
       "      <td>...</td>\n",
       "      <td>...</td>\n",
       "      <td>...</td>\n",
       "      <td>...</td>\n",
       "      <td>...</td>\n",
       "      <td>...</td>\n",
       "      <td>...</td>\n",
       "      <td>...</td>\n",
       "      <td>...</td>\n",
       "      <td>...</td>\n",
       "      <td>...</td>\n",
       "      <td>...</td>\n",
       "      <td>...</td>\n",
       "      <td>...</td>\n",
       "      <td>...</td>\n",
       "      <td>...</td>\n",
       "      <td>...</td>\n",
       "      <td>...</td>\n",
       "      <td>...</td>\n",
       "      <td>...</td>\n",
       "      <td>...</td>\n",
       "      <td>...</td>\n",
       "      <td>...</td>\n",
       "      <td>...</td>\n",
       "      <td>...</td>\n",
       "      <td>...</td>\n",
       "      <td>...</td>\n",
       "      <td>...</td>\n",
       "      <td>...</td>\n",
       "      <td>...</td>\n",
       "      <td>...</td>\n",
       "      <td>...</td>\n",
       "      <td>...</td>\n",
       "      <td>...</td>\n",
       "      <td>...</td>\n",
       "      <td>...</td>\n",
       "      <td>...</td>\n",
       "      <td>...</td>\n",
       "      <td>...</td>\n",
       "      <td>...</td>\n",
       "      <td>...</td>\n",
       "      <td>...</td>\n",
       "      <td>...</td>\n",
       "      <td>...</td>\n",
       "      <td>...</td>\n",
       "      <td>...</td>\n",
       "      <td>...</td>\n",
       "      <td>...</td>\n",
       "      <td>...</td>\n",
       "      <td>...</td>\n",
       "      <td>...</td>\n",
       "      <td>...</td>\n",
       "      <td>...</td>\n",
       "      <td>...</td>\n",
       "      <td>...</td>\n",
       "      <td>...</td>\n",
       "      <td>...</td>\n",
       "      <td>...</td>\n",
       "      <td>...</td>\n",
       "      <td>...</td>\n",
       "      <td>...</td>\n",
       "      <td>...</td>\n",
       "      <td>...</td>\n",
       "      <td>...</td>\n",
       "      <td>...</td>\n",
       "      <td>...</td>\n",
       "      <td>...</td>\n",
       "      <td>...</td>\n",
       "    </tr>\n",
       "    <tr>\n",
       "      <th>1455</th>\n",
       "      <td>1456</td>\n",
       "      <td>60</td>\n",
       "      <td>RL</td>\n",
       "      <td>62.0</td>\n",
       "      <td>7917</td>\n",
       "      <td>Pave</td>\n",
       "      <td>NaN</td>\n",
       "      <td>Reg</td>\n",
       "      <td>Lvl</td>\n",
       "      <td>AllPub</td>\n",
       "      <td>Inside</td>\n",
       "      <td>Gtl</td>\n",
       "      <td>Gilbert</td>\n",
       "      <td>Norm</td>\n",
       "      <td>Norm</td>\n",
       "      <td>1Fam</td>\n",
       "      <td>2Story</td>\n",
       "      <td>6</td>\n",
       "      <td>5</td>\n",
       "      <td>1999</td>\n",
       "      <td>2000</td>\n",
       "      <td>Gable</td>\n",
       "      <td>CompShg</td>\n",
       "      <td>VinylSd</td>\n",
       "      <td>VinylSd</td>\n",
       "      <td>None</td>\n",
       "      <td>0.0</td>\n",
       "      <td>TA</td>\n",
       "      <td>TA</td>\n",
       "      <td>PConc</td>\n",
       "      <td>Gd</td>\n",
       "      <td>TA</td>\n",
       "      <td>No</td>\n",
       "      <td>Unf</td>\n",
       "      <td>0</td>\n",
       "      <td>Unf</td>\n",
       "      <td>0</td>\n",
       "      <td>953</td>\n",
       "      <td>953</td>\n",
       "      <td>GasA</td>\n",
       "      <td>Ex</td>\n",
       "      <td>Y</td>\n",
       "      <td>SBrkr</td>\n",
       "      <td>953</td>\n",
       "      <td>694</td>\n",
       "      <td>0</td>\n",
       "      <td>1647</td>\n",
       "      <td>0</td>\n",
       "      <td>0</td>\n",
       "      <td>2</td>\n",
       "      <td>1</td>\n",
       "      <td>3</td>\n",
       "      <td>1</td>\n",
       "      <td>TA</td>\n",
       "      <td>7</td>\n",
       "      <td>Typ</td>\n",
       "      <td>1</td>\n",
       "      <td>TA</td>\n",
       "      <td>Attchd</td>\n",
       "      <td>1999.0</td>\n",
       "      <td>RFn</td>\n",
       "      <td>2</td>\n",
       "      <td>460</td>\n",
       "      <td>TA</td>\n",
       "      <td>TA</td>\n",
       "      <td>Y</td>\n",
       "      <td>0</td>\n",
       "      <td>40</td>\n",
       "      <td>0</td>\n",
       "      <td>0</td>\n",
       "      <td>0</td>\n",
       "      <td>0</td>\n",
       "      <td>NaN</td>\n",
       "      <td>NaN</td>\n",
       "      <td>NaN</td>\n",
       "      <td>0</td>\n",
       "      <td>8</td>\n",
       "      <td>2007</td>\n",
       "      <td>WD</td>\n",
       "      <td>Normal</td>\n",
       "      <td>175000</td>\n",
       "    </tr>\n",
       "    <tr>\n",
       "      <th>1456</th>\n",
       "      <td>1457</td>\n",
       "      <td>20</td>\n",
       "      <td>RL</td>\n",
       "      <td>85.0</td>\n",
       "      <td>13175</td>\n",
       "      <td>Pave</td>\n",
       "      <td>NaN</td>\n",
       "      <td>Reg</td>\n",
       "      <td>Lvl</td>\n",
       "      <td>AllPub</td>\n",
       "      <td>Inside</td>\n",
       "      <td>Gtl</td>\n",
       "      <td>NWAmes</td>\n",
       "      <td>Norm</td>\n",
       "      <td>Norm</td>\n",
       "      <td>1Fam</td>\n",
       "      <td>1Story</td>\n",
       "      <td>6</td>\n",
       "      <td>6</td>\n",
       "      <td>1978</td>\n",
       "      <td>1988</td>\n",
       "      <td>Gable</td>\n",
       "      <td>CompShg</td>\n",
       "      <td>Plywood</td>\n",
       "      <td>Plywood</td>\n",
       "      <td>Stone</td>\n",
       "      <td>119.0</td>\n",
       "      <td>TA</td>\n",
       "      <td>TA</td>\n",
       "      <td>CBlock</td>\n",
       "      <td>Gd</td>\n",
       "      <td>TA</td>\n",
       "      <td>No</td>\n",
       "      <td>ALQ</td>\n",
       "      <td>790</td>\n",
       "      <td>Rec</td>\n",
       "      <td>163</td>\n",
       "      <td>589</td>\n",
       "      <td>1542</td>\n",
       "      <td>GasA</td>\n",
       "      <td>TA</td>\n",
       "      <td>Y</td>\n",
       "      <td>SBrkr</td>\n",
       "      <td>2073</td>\n",
       "      <td>0</td>\n",
       "      <td>0</td>\n",
       "      <td>2073</td>\n",
       "      <td>1</td>\n",
       "      <td>0</td>\n",
       "      <td>2</td>\n",
       "      <td>0</td>\n",
       "      <td>3</td>\n",
       "      <td>1</td>\n",
       "      <td>TA</td>\n",
       "      <td>7</td>\n",
       "      <td>Min1</td>\n",
       "      <td>2</td>\n",
       "      <td>TA</td>\n",
       "      <td>Attchd</td>\n",
       "      <td>1978.0</td>\n",
       "      <td>Unf</td>\n",
       "      <td>2</td>\n",
       "      <td>500</td>\n",
       "      <td>TA</td>\n",
       "      <td>TA</td>\n",
       "      <td>Y</td>\n",
       "      <td>349</td>\n",
       "      <td>0</td>\n",
       "      <td>0</td>\n",
       "      <td>0</td>\n",
       "      <td>0</td>\n",
       "      <td>0</td>\n",
       "      <td>NaN</td>\n",
       "      <td>MnPrv</td>\n",
       "      <td>NaN</td>\n",
       "      <td>0</td>\n",
       "      <td>2</td>\n",
       "      <td>2010</td>\n",
       "      <td>WD</td>\n",
       "      <td>Normal</td>\n",
       "      <td>210000</td>\n",
       "    </tr>\n",
       "    <tr>\n",
       "      <th>1457</th>\n",
       "      <td>1458</td>\n",
       "      <td>70</td>\n",
       "      <td>RL</td>\n",
       "      <td>66.0</td>\n",
       "      <td>9042</td>\n",
       "      <td>Pave</td>\n",
       "      <td>NaN</td>\n",
       "      <td>Reg</td>\n",
       "      <td>Lvl</td>\n",
       "      <td>AllPub</td>\n",
       "      <td>Inside</td>\n",
       "      <td>Gtl</td>\n",
       "      <td>Crawfor</td>\n",
       "      <td>Norm</td>\n",
       "      <td>Norm</td>\n",
       "      <td>1Fam</td>\n",
       "      <td>2Story</td>\n",
       "      <td>7</td>\n",
       "      <td>9</td>\n",
       "      <td>1941</td>\n",
       "      <td>2006</td>\n",
       "      <td>Gable</td>\n",
       "      <td>CompShg</td>\n",
       "      <td>CemntBd</td>\n",
       "      <td>CmentBd</td>\n",
       "      <td>None</td>\n",
       "      <td>0.0</td>\n",
       "      <td>Ex</td>\n",
       "      <td>Gd</td>\n",
       "      <td>Stone</td>\n",
       "      <td>TA</td>\n",
       "      <td>Gd</td>\n",
       "      <td>No</td>\n",
       "      <td>GLQ</td>\n",
       "      <td>275</td>\n",
       "      <td>Unf</td>\n",
       "      <td>0</td>\n",
       "      <td>877</td>\n",
       "      <td>1152</td>\n",
       "      <td>GasA</td>\n",
       "      <td>Ex</td>\n",
       "      <td>Y</td>\n",
       "      <td>SBrkr</td>\n",
       "      <td>1188</td>\n",
       "      <td>1152</td>\n",
       "      <td>0</td>\n",
       "      <td>2340</td>\n",
       "      <td>0</td>\n",
       "      <td>0</td>\n",
       "      <td>2</td>\n",
       "      <td>0</td>\n",
       "      <td>4</td>\n",
       "      <td>1</td>\n",
       "      <td>Gd</td>\n",
       "      <td>9</td>\n",
       "      <td>Typ</td>\n",
       "      <td>2</td>\n",
       "      <td>Gd</td>\n",
       "      <td>Attchd</td>\n",
       "      <td>1941.0</td>\n",
       "      <td>RFn</td>\n",
       "      <td>1</td>\n",
       "      <td>252</td>\n",
       "      <td>TA</td>\n",
       "      <td>TA</td>\n",
       "      <td>Y</td>\n",
       "      <td>0</td>\n",
       "      <td>60</td>\n",
       "      <td>0</td>\n",
       "      <td>0</td>\n",
       "      <td>0</td>\n",
       "      <td>0</td>\n",
       "      <td>NaN</td>\n",
       "      <td>GdPrv</td>\n",
       "      <td>Shed</td>\n",
       "      <td>2500</td>\n",
       "      <td>5</td>\n",
       "      <td>2010</td>\n",
       "      <td>WD</td>\n",
       "      <td>Normal</td>\n",
       "      <td>266500</td>\n",
       "    </tr>\n",
       "    <tr>\n",
       "      <th>1458</th>\n",
       "      <td>1459</td>\n",
       "      <td>20</td>\n",
       "      <td>RL</td>\n",
       "      <td>68.0</td>\n",
       "      <td>9717</td>\n",
       "      <td>Pave</td>\n",
       "      <td>NaN</td>\n",
       "      <td>Reg</td>\n",
       "      <td>Lvl</td>\n",
       "      <td>AllPub</td>\n",
       "      <td>Inside</td>\n",
       "      <td>Gtl</td>\n",
       "      <td>NAmes</td>\n",
       "      <td>Norm</td>\n",
       "      <td>Norm</td>\n",
       "      <td>1Fam</td>\n",
       "      <td>1Story</td>\n",
       "      <td>5</td>\n",
       "      <td>6</td>\n",
       "      <td>1950</td>\n",
       "      <td>1996</td>\n",
       "      <td>Hip</td>\n",
       "      <td>CompShg</td>\n",
       "      <td>MetalSd</td>\n",
       "      <td>MetalSd</td>\n",
       "      <td>None</td>\n",
       "      <td>0.0</td>\n",
       "      <td>TA</td>\n",
       "      <td>TA</td>\n",
       "      <td>CBlock</td>\n",
       "      <td>TA</td>\n",
       "      <td>TA</td>\n",
       "      <td>Mn</td>\n",
       "      <td>GLQ</td>\n",
       "      <td>49</td>\n",
       "      <td>Rec</td>\n",
       "      <td>1029</td>\n",
       "      <td>0</td>\n",
       "      <td>1078</td>\n",
       "      <td>GasA</td>\n",
       "      <td>Gd</td>\n",
       "      <td>Y</td>\n",
       "      <td>FuseA</td>\n",
       "      <td>1078</td>\n",
       "      <td>0</td>\n",
       "      <td>0</td>\n",
       "      <td>1078</td>\n",
       "      <td>1</td>\n",
       "      <td>0</td>\n",
       "      <td>1</td>\n",
       "      <td>0</td>\n",
       "      <td>2</td>\n",
       "      <td>1</td>\n",
       "      <td>Gd</td>\n",
       "      <td>5</td>\n",
       "      <td>Typ</td>\n",
       "      <td>0</td>\n",
       "      <td>NaN</td>\n",
       "      <td>Attchd</td>\n",
       "      <td>1950.0</td>\n",
       "      <td>Unf</td>\n",
       "      <td>1</td>\n",
       "      <td>240</td>\n",
       "      <td>TA</td>\n",
       "      <td>TA</td>\n",
       "      <td>Y</td>\n",
       "      <td>366</td>\n",
       "      <td>0</td>\n",
       "      <td>112</td>\n",
       "      <td>0</td>\n",
       "      <td>0</td>\n",
       "      <td>0</td>\n",
       "      <td>NaN</td>\n",
       "      <td>NaN</td>\n",
       "      <td>NaN</td>\n",
       "      <td>0</td>\n",
       "      <td>4</td>\n",
       "      <td>2010</td>\n",
       "      <td>WD</td>\n",
       "      <td>Normal</td>\n",
       "      <td>142125</td>\n",
       "    </tr>\n",
       "    <tr>\n",
       "      <th>1459</th>\n",
       "      <td>1460</td>\n",
       "      <td>20</td>\n",
       "      <td>RL</td>\n",
       "      <td>75.0</td>\n",
       "      <td>9937</td>\n",
       "      <td>Pave</td>\n",
       "      <td>NaN</td>\n",
       "      <td>Reg</td>\n",
       "      <td>Lvl</td>\n",
       "      <td>AllPub</td>\n",
       "      <td>Inside</td>\n",
       "      <td>Gtl</td>\n",
       "      <td>Edwards</td>\n",
       "      <td>Norm</td>\n",
       "      <td>Norm</td>\n",
       "      <td>1Fam</td>\n",
       "      <td>1Story</td>\n",
       "      <td>5</td>\n",
       "      <td>6</td>\n",
       "      <td>1965</td>\n",
       "      <td>1965</td>\n",
       "      <td>Gable</td>\n",
       "      <td>CompShg</td>\n",
       "      <td>HdBoard</td>\n",
       "      <td>HdBoard</td>\n",
       "      <td>None</td>\n",
       "      <td>0.0</td>\n",
       "      <td>Gd</td>\n",
       "      <td>TA</td>\n",
       "      <td>CBlock</td>\n",
       "      <td>TA</td>\n",
       "      <td>TA</td>\n",
       "      <td>No</td>\n",
       "      <td>BLQ</td>\n",
       "      <td>830</td>\n",
       "      <td>LwQ</td>\n",
       "      <td>290</td>\n",
       "      <td>136</td>\n",
       "      <td>1256</td>\n",
       "      <td>GasA</td>\n",
       "      <td>Gd</td>\n",
       "      <td>Y</td>\n",
       "      <td>SBrkr</td>\n",
       "      <td>1256</td>\n",
       "      <td>0</td>\n",
       "      <td>0</td>\n",
       "      <td>1256</td>\n",
       "      <td>1</td>\n",
       "      <td>0</td>\n",
       "      <td>1</td>\n",
       "      <td>1</td>\n",
       "      <td>3</td>\n",
       "      <td>1</td>\n",
       "      <td>TA</td>\n",
       "      <td>6</td>\n",
       "      <td>Typ</td>\n",
       "      <td>0</td>\n",
       "      <td>NaN</td>\n",
       "      <td>Attchd</td>\n",
       "      <td>1965.0</td>\n",
       "      <td>Fin</td>\n",
       "      <td>1</td>\n",
       "      <td>276</td>\n",
       "      <td>TA</td>\n",
       "      <td>TA</td>\n",
       "      <td>Y</td>\n",
       "      <td>736</td>\n",
       "      <td>68</td>\n",
       "      <td>0</td>\n",
       "      <td>0</td>\n",
       "      <td>0</td>\n",
       "      <td>0</td>\n",
       "      <td>NaN</td>\n",
       "      <td>NaN</td>\n",
       "      <td>NaN</td>\n",
       "      <td>0</td>\n",
       "      <td>6</td>\n",
       "      <td>2008</td>\n",
       "      <td>WD</td>\n",
       "      <td>Normal</td>\n",
       "      <td>147500</td>\n",
       "    </tr>\n",
       "  </tbody>\n",
       "</table>\n",
       "<p>1460 rows × 81 columns</p>\n",
       "</div>"
      ],
      "text/plain": [
       "        Id  MSSubClass MSZoning  LotFrontage  LotArea Street Alley LotShape  \\\n",
       "0        1          60       RL         65.0     8450   Pave   NaN      Reg   \n",
       "1        2          20       RL         80.0     9600   Pave   NaN      Reg   \n",
       "2        3          60       RL         68.0    11250   Pave   NaN      IR1   \n",
       "3        4          70       RL         60.0     9550   Pave   NaN      IR1   \n",
       "4        5          60       RL         84.0    14260   Pave   NaN      IR1   \n",
       "...    ...         ...      ...          ...      ...    ...   ...      ...   \n",
       "1455  1456          60       RL         62.0     7917   Pave   NaN      Reg   \n",
       "1456  1457          20       RL         85.0    13175   Pave   NaN      Reg   \n",
       "1457  1458          70       RL         66.0     9042   Pave   NaN      Reg   \n",
       "1458  1459          20       RL         68.0     9717   Pave   NaN      Reg   \n",
       "1459  1460          20       RL         75.0     9937   Pave   NaN      Reg   \n",
       "\n",
       "     LandContour Utilities LotConfig LandSlope Neighborhood Condition1  \\\n",
       "0            Lvl    AllPub    Inside       Gtl      CollgCr       Norm   \n",
       "1            Lvl    AllPub       FR2       Gtl      Veenker      Feedr   \n",
       "2            Lvl    AllPub    Inside       Gtl      CollgCr       Norm   \n",
       "3            Lvl    AllPub    Corner       Gtl      Crawfor       Norm   \n",
       "4            Lvl    AllPub       FR2       Gtl      NoRidge       Norm   \n",
       "...          ...       ...       ...       ...          ...        ...   \n",
       "1455         Lvl    AllPub    Inside       Gtl      Gilbert       Norm   \n",
       "1456         Lvl    AllPub    Inside       Gtl       NWAmes       Norm   \n",
       "1457         Lvl    AllPub    Inside       Gtl      Crawfor       Norm   \n",
       "1458         Lvl    AllPub    Inside       Gtl        NAmes       Norm   \n",
       "1459         Lvl    AllPub    Inside       Gtl      Edwards       Norm   \n",
       "\n",
       "     Condition2 BldgType HouseStyle  OverallQual  OverallCond  YearBuilt  \\\n",
       "0          Norm     1Fam     2Story            7            5       2003   \n",
       "1          Norm     1Fam     1Story            6            8       1976   \n",
       "2          Norm     1Fam     2Story            7            5       2001   \n",
       "3          Norm     1Fam     2Story            7            5       1915   \n",
       "4          Norm     1Fam     2Story            8            5       2000   \n",
       "...         ...      ...        ...          ...          ...        ...   \n",
       "1455       Norm     1Fam     2Story            6            5       1999   \n",
       "1456       Norm     1Fam     1Story            6            6       1978   \n",
       "1457       Norm     1Fam     2Story            7            9       1941   \n",
       "1458       Norm     1Fam     1Story            5            6       1950   \n",
       "1459       Norm     1Fam     1Story            5            6       1965   \n",
       "\n",
       "      YearRemodAdd RoofStyle RoofMatl Exterior1st Exterior2nd MasVnrType  \\\n",
       "0             2003     Gable  CompShg     VinylSd     VinylSd    BrkFace   \n",
       "1             1976     Gable  CompShg     MetalSd     MetalSd       None   \n",
       "2             2002     Gable  CompShg     VinylSd     VinylSd    BrkFace   \n",
       "3             1970     Gable  CompShg     Wd Sdng     Wd Shng       None   \n",
       "4             2000     Gable  CompShg     VinylSd     VinylSd    BrkFace   \n",
       "...            ...       ...      ...         ...         ...        ...   \n",
       "1455          2000     Gable  CompShg     VinylSd     VinylSd       None   \n",
       "1456          1988     Gable  CompShg     Plywood     Plywood      Stone   \n",
       "1457          2006     Gable  CompShg     CemntBd     CmentBd       None   \n",
       "1458          1996       Hip  CompShg     MetalSd     MetalSd       None   \n",
       "1459          1965     Gable  CompShg     HdBoard     HdBoard       None   \n",
       "\n",
       "      MasVnrArea ExterQual ExterCond Foundation BsmtQual BsmtCond  \\\n",
       "0          196.0        Gd        TA      PConc       Gd       TA   \n",
       "1            0.0        TA        TA     CBlock       Gd       TA   \n",
       "2          162.0        Gd        TA      PConc       Gd       TA   \n",
       "3            0.0        TA        TA     BrkTil       TA       Gd   \n",
       "4          350.0        Gd        TA      PConc       Gd       TA   \n",
       "...          ...       ...       ...        ...      ...      ...   \n",
       "1455         0.0        TA        TA      PConc       Gd       TA   \n",
       "1456       119.0        TA        TA     CBlock       Gd       TA   \n",
       "1457         0.0        Ex        Gd      Stone       TA       Gd   \n",
       "1458         0.0        TA        TA     CBlock       TA       TA   \n",
       "1459         0.0        Gd        TA     CBlock       TA       TA   \n",
       "\n",
       "     BsmtExposure BsmtFinType1  BsmtFinSF1 BsmtFinType2  BsmtFinSF2  \\\n",
       "0              No          GLQ         706          Unf           0   \n",
       "1              Gd          ALQ         978          Unf           0   \n",
       "2              Mn          GLQ         486          Unf           0   \n",
       "3              No          ALQ         216          Unf           0   \n",
       "4              Av          GLQ         655          Unf           0   \n",
       "...           ...          ...         ...          ...         ...   \n",
       "1455           No          Unf           0          Unf           0   \n",
       "1456           No          ALQ         790          Rec         163   \n",
       "1457           No          GLQ         275          Unf           0   \n",
       "1458           Mn          GLQ          49          Rec        1029   \n",
       "1459           No          BLQ         830          LwQ         290   \n",
       "\n",
       "      BsmtUnfSF  TotalBsmtSF Heating HeatingQC CentralAir Electrical  \\\n",
       "0           150          856    GasA        Ex          Y      SBrkr   \n",
       "1           284         1262    GasA        Ex          Y      SBrkr   \n",
       "2           434          920    GasA        Ex          Y      SBrkr   \n",
       "3           540          756    GasA        Gd          Y      SBrkr   \n",
       "4           490         1145    GasA        Ex          Y      SBrkr   \n",
       "...         ...          ...     ...       ...        ...        ...   \n",
       "1455        953          953    GasA        Ex          Y      SBrkr   \n",
       "1456        589         1542    GasA        TA          Y      SBrkr   \n",
       "1457        877         1152    GasA        Ex          Y      SBrkr   \n",
       "1458          0         1078    GasA        Gd          Y      FuseA   \n",
       "1459        136         1256    GasA        Gd          Y      SBrkr   \n",
       "\n",
       "      1stFlrSF  2ndFlrSF  LowQualFinSF  GrLivArea  BsmtFullBath  BsmtHalfBath  \\\n",
       "0          856       854             0       1710             1             0   \n",
       "1         1262         0             0       1262             0             1   \n",
       "2          920       866             0       1786             1             0   \n",
       "3          961       756             0       1717             1             0   \n",
       "4         1145      1053             0       2198             1             0   \n",
       "...        ...       ...           ...        ...           ...           ...   \n",
       "1455       953       694             0       1647             0             0   \n",
       "1456      2073         0             0       2073             1             0   \n",
       "1457      1188      1152             0       2340             0             0   \n",
       "1458      1078         0             0       1078             1             0   \n",
       "1459      1256         0             0       1256             1             0   \n",
       "\n",
       "      FullBath  HalfBath  BedroomAbvGr  KitchenAbvGr KitchenQual  \\\n",
       "0            2         1             3             1          Gd   \n",
       "1            2         0             3             1          TA   \n",
       "2            2         1             3             1          Gd   \n",
       "3            1         0             3             1          Gd   \n",
       "4            2         1             4             1          Gd   \n",
       "...        ...       ...           ...           ...         ...   \n",
       "1455         2         1             3             1          TA   \n",
       "1456         2         0             3             1          TA   \n",
       "1457         2         0             4             1          Gd   \n",
       "1458         1         0             2             1          Gd   \n",
       "1459         1         1             3             1          TA   \n",
       "\n",
       "      TotRmsAbvGrd Functional  Fireplaces FireplaceQu GarageType  GarageYrBlt  \\\n",
       "0                8        Typ           0         NaN     Attchd       2003.0   \n",
       "1                6        Typ           1          TA     Attchd       1976.0   \n",
       "2                6        Typ           1          TA     Attchd       2001.0   \n",
       "3                7        Typ           1          Gd     Detchd       1998.0   \n",
       "4                9        Typ           1          TA     Attchd       2000.0   \n",
       "...            ...        ...         ...         ...        ...          ...   \n",
       "1455             7        Typ           1          TA     Attchd       1999.0   \n",
       "1456             7       Min1           2          TA     Attchd       1978.0   \n",
       "1457             9        Typ           2          Gd     Attchd       1941.0   \n",
       "1458             5        Typ           0         NaN     Attchd       1950.0   \n",
       "1459             6        Typ           0         NaN     Attchd       1965.0   \n",
       "\n",
       "     GarageFinish  GarageCars  GarageArea GarageQual GarageCond PavedDrive  \\\n",
       "0             RFn           2         548         TA         TA          Y   \n",
       "1             RFn           2         460         TA         TA          Y   \n",
       "2             RFn           2         608         TA         TA          Y   \n",
       "3             Unf           3         642         TA         TA          Y   \n",
       "4             RFn           3         836         TA         TA          Y   \n",
       "...           ...         ...         ...        ...        ...        ...   \n",
       "1455          RFn           2         460         TA         TA          Y   \n",
       "1456          Unf           2         500         TA         TA          Y   \n",
       "1457          RFn           1         252         TA         TA          Y   \n",
       "1458          Unf           1         240         TA         TA          Y   \n",
       "1459          Fin           1         276         TA         TA          Y   \n",
       "\n",
       "      WoodDeckSF  OpenPorchSF  EnclosedPorch  3SsnPorch  ScreenPorch  \\\n",
       "0              0           61              0          0            0   \n",
       "1            298            0              0          0            0   \n",
       "2              0           42              0          0            0   \n",
       "3              0           35            272          0            0   \n",
       "4            192           84              0          0            0   \n",
       "...          ...          ...            ...        ...          ...   \n",
       "1455           0           40              0          0            0   \n",
       "1456         349            0              0          0            0   \n",
       "1457           0           60              0          0            0   \n",
       "1458         366            0            112          0            0   \n",
       "1459         736           68              0          0            0   \n",
       "\n",
       "      PoolArea PoolQC  Fence MiscFeature  MiscVal  MoSold  YrSold SaleType  \\\n",
       "0            0    NaN    NaN         NaN        0       2    2008       WD   \n",
       "1            0    NaN    NaN         NaN        0       5    2007       WD   \n",
       "2            0    NaN    NaN         NaN        0       9    2008       WD   \n",
       "3            0    NaN    NaN         NaN        0       2    2006       WD   \n",
       "4            0    NaN    NaN         NaN        0      12    2008       WD   \n",
       "...        ...    ...    ...         ...      ...     ...     ...      ...   \n",
       "1455         0    NaN    NaN         NaN        0       8    2007       WD   \n",
       "1456         0    NaN  MnPrv         NaN        0       2    2010       WD   \n",
       "1457         0    NaN  GdPrv        Shed     2500       5    2010       WD   \n",
       "1458         0    NaN    NaN         NaN        0       4    2010       WD   \n",
       "1459         0    NaN    NaN         NaN        0       6    2008       WD   \n",
       "\n",
       "     SaleCondition  SalePrice  \n",
       "0           Normal     208500  \n",
       "1           Normal     181500  \n",
       "2           Normal     223500  \n",
       "3          Abnorml     140000  \n",
       "4           Normal     250000  \n",
       "...            ...        ...  \n",
       "1455        Normal     175000  \n",
       "1456        Normal     210000  \n",
       "1457        Normal     266500  \n",
       "1458        Normal     142125  \n",
       "1459        Normal     147500  \n",
       "\n",
       "[1460 rows x 81 columns]"
      ]
     },
     "execution_count": 2,
     "metadata": {},
     "output_type": "execute_result"
    }
   ],
   "source": [
    "df = pd.read_csv(\"train.csv\")\n",
    "pd.set_option('display.max_columns',300)\n",
    "df"
   ]
  },
  {
   "cell_type": "markdown",
   "id": "6ad04fcf-f705-4f27-8a43-c28bd1a422e7",
   "metadata": {
    "jp-MarkdownHeadingCollapsed": true,
    "tags": []
   },
   "source": [
    "## 2.3 Leyenda."
   ]
  },
  {
   "cell_type": "markdown",
   "id": "59c07f82-b8a3-4185-b299-f6874e7a0bfe",
   "metadata": {
    "jp-MarkdownHeadingCollapsed": true,
    "tags": []
   },
   "source": [
    "### 2.3.1 Obtener el nombre de cada columna."
   ]
  },
  {
   "cell_type": "code",
   "execution_count": 3,
   "id": "5c79b32e-c469-4350-82a3-2de1bef1681d",
   "metadata": {},
   "outputs": [
    {
     "data": {
      "text/plain": [
       "array(['Id', 'MSSubClass', 'MSZoning', 'LotFrontage', 'LotArea', 'Street',\n",
       "       'Alley', 'LotShape', 'LandContour', 'Utilities', 'LotConfig',\n",
       "       'LandSlope', 'Neighborhood', 'Condition1', 'Condition2',\n",
       "       'BldgType', 'HouseStyle', 'OverallQual', 'OverallCond',\n",
       "       'YearBuilt', 'YearRemodAdd', 'RoofStyle', 'RoofMatl',\n",
       "       'Exterior1st', 'Exterior2nd', 'MasVnrType', 'MasVnrArea',\n",
       "       'ExterQual', 'ExterCond', 'Foundation', 'BsmtQual', 'BsmtCond',\n",
       "       'BsmtExposure', 'BsmtFinType1', 'BsmtFinSF1', 'BsmtFinType2',\n",
       "       'BsmtFinSF2', 'BsmtUnfSF', 'TotalBsmtSF', 'Heating', 'HeatingQC',\n",
       "       'CentralAir', 'Electrical', '1stFlrSF', '2ndFlrSF', 'LowQualFinSF',\n",
       "       'GrLivArea', 'BsmtFullBath', 'BsmtHalfBath', 'FullBath',\n",
       "       'HalfBath', 'BedroomAbvGr', 'KitchenAbvGr', 'KitchenQual',\n",
       "       'TotRmsAbvGrd', 'Functional', 'Fireplaces', 'FireplaceQu',\n",
       "       'GarageType', 'GarageYrBlt', 'GarageFinish', 'GarageCars',\n",
       "       'GarageArea', 'GarageQual', 'GarageCond', 'PavedDrive',\n",
       "       'WoodDeckSF', 'OpenPorchSF', 'EnclosedPorch', '3SsnPorch',\n",
       "       'ScreenPorch', 'PoolArea', 'PoolQC', 'Fence', 'MiscFeature',\n",
       "       'MiscVal', 'MoSold', 'YrSold', 'SaleType', 'SaleCondition',\n",
       "       'SalePrice'], dtype=object)"
      ]
     },
     "execution_count": 3,
     "metadata": {},
     "output_type": "execute_result"
    }
   ],
   "source": [
    "df.columns.values"
   ]
  },
  {
   "cell_type": "markdown",
   "id": "c3ada5aa-f238-4c48-b4ca-c5e9a27a8c19",
   "metadata": {
    "jp-MarkdownHeadingCollapsed": true,
    "tags": []
   },
   "source": [
    "### 2.3.2 Leyenda."
   ]
  },
  {
   "cell_type": "markdown",
   "id": "208f382f-ecaa-4848-9a1d-f69e49c18e07",
   "metadata": {},
   "source": [
    "##### SalePrice - el precio de venta de la propiedad en dólares. Esta es la variable de destino que está tratando de predecir.\n",
    "MSSubClass : la clase de construcción\n",
    "MSZoning : La clasificación general de zonificación\n",
    "LotFrontage : Pies lineales de calle conectados a la propiedad\n",
    "LotArea : tamaño del lote en pies cuadrados\n",
    "Street : Tipo de acceso por carretera\n",
    "Alley : Tipo de acceso al callejón\n",
    "LotShape : forma general de la propiedad\n",
    "LandContour : Planitud de la propiedad\n",
    "Utilidades : Tipo de utilidades disponibles\n",
    "LotConfig : Configuración del lote\n",
    "LandSlope : Pendiente de la propiedad\n",
    "Neighborhood : Ubicaciones físicas dentro de los límites de la ciudad de Ames\n",
    "Condition1 : Proximidad a carretera principal o vía férrea\n",
    "Condition2 : Proximidad a la carretera principal o vía férrea (si hay una segunda presente)\n",
    "BldgType : Tipo de vivienda\n",
    "HouseStyle : estilo de vivienda\n",
    "OverallQual : Material general y calidad de acabado\n",
    "OverallCond : Calificación de condición general\n",
    "YearBuilt : Fecha de construcción original\n",
    "YearRemodAdd : fecha de remodelación\n",
    "RoofStyle : Tipo de techo\n",
    "RoofMatl : material del techo\n",
    "Exterior1st : revestimiento exterior de la casa\n",
    "Exterior2nd : revestimiento exterior de la casa (si hay más de un material)\n",
    "MasVnrType : tipo de chapa de mampostería\n",
    "MasVnrArea : Área de revestimiento de mampostería en pies cuadrados\n",
    "ExterQual : calidad del material exterior\n",
    "ExterCond : Estado actual del material en el exterior\n",
    "Foundation : Tipo de fundación\n",
    "BsmtQual : Altura del sótano\n",
    "BsmtCond : Estado general del sótano\n",
    "BsmtExposure : muros de sótanos a nivel de jardín o salida\n",
    "BsmtFinType1 : Calidad del área terminada del sótano\n",
    "BsmtFinSF1 : Tipo 1 pies cuadrados terminados\n",
    "BsmtFinType2 : calidad de la segunda área terminada (si está presente)\n",
    "BsmtFinSF2 : Tipo 2 pies cuadrados terminados\n",
    "BsmtUnfSF : Pies cuadrados de área de sótano sin terminar\n",
    "TotalBsmtSF : Pies cuadrados totales del área del sótano\n",
    "Heating : Tipo de calefacción\n",
    "HeatingQC : Calidad y condición de la calefacción\n",
    "CentralAir : aire acondicionado central\n",
    "Electrical : Sistema eléctrico\n",
    "1stFlrSF : pies cuadrados del primer piso\n",
    "2ndFlrSF : pies cuadrados del segundo piso\n",
    "LowQualFinSF : Pies cuadrados terminados de baja calidad (todos los pisos)\n",
    "GrLivArea : Pies cuadrados de superficie habitable sobre el nivel del suelo (suelo)\n",
    "BsmtFullBath : Baños completos del sótano\n",
    "BsmtHalfBath : Medios baños del sótano\n",
    "FullBath : Baños completos sobre rasante\n",
    "HalfBath : Medios baños sobre el nivel del suelo\n",
    "Dormitorio : número de dormitorios por encima del nivel del sótano\n",
    "Cocina : Número de cocinas\n",
    "KitchenQual : Calidad de la cocina\n",
    "TotRmsAbvGrd : Habitaciones totales sobre rasante (no incluye baños)\n",
    "Funcional : calificación de la funcionalidad del hogar\n",
    "Chimeneas : Número de chimeneas\n",
    "FireplaceQu : calidad de chimenea\n",
    "GarageType : ubicación del garaje\n",
    "GarageYrBlt : año en que se construyó el garaje\n",
    "GarageFinish : Acabado interior del garaje\n",
    "GarageCars : tamaño del garaje en capacidad de automóviles\n",
    "GarageArea : tamaño del garaje en pies cuadrados\n",
    "GarageQual : calidad de garaje\n",
    "GarageCond : Estado del garaje\n",
    "PavedDrive : entrada pavimentada\n",
    "WoodDeckSF : Área de la cubierta de madera en pies cuadrados\n",
    "OpenPorchSF : área de porche abierto en pies cuadrados\n",
    "EnclosedPorch : área de porche cerrado en pies cuadrados\n",
    "3SsnPorch : Área de porche de tres estaciones en pies cuadrados\n",
    "ScreenPorch : área de porche de pantalla en pies cuadrados\n",
    "PoolArea : área de la piscina en pies cuadrados\n",
    "PoolQC : calidad de la piscina\n",
    "Cerca : calidad de la cerca\n",
    "MiscFeature : característica miscelánea no incluida en otras categorías\n",
    "MiscVal : $Valor de la característica miscelánea\n",
    "MoSold : Mes vendido\n",
    "Año de venta : Año de venta\n",
    "SaleType : Tipo de venta\n",
    "SaleCondition : Condición de venta"
   ]
  },
  {
   "cell_type": "markdown",
   "id": "56a83805-4869-49a4-a4ea-96b1a45c2550",
   "metadata": {
    "jp-MarkdownHeadingCollapsed": true,
    "tags": []
   },
   "source": [
    "## 2.4 Primeras descripciones y conclusiones."
   ]
  },
  {
   "cell_type": "code",
   "execution_count": 4,
   "id": "9c1a2400-15d1-425c-8a2a-5cce875823a9",
   "metadata": {},
   "outputs": [
    {
     "name": "stdout",
     "output_type": "stream",
     "text": [
      "<class 'pandas.core.frame.DataFrame'>\n",
      "RangeIndex: 1460 entries, 0 to 1459\n",
      "Data columns (total 81 columns):\n",
      " #   Column         Non-Null Count  Dtype  \n",
      "---  ------         --------------  -----  \n",
      " 0   Id             1460 non-null   int64  \n",
      " 1   MSSubClass     1460 non-null   int64  \n",
      " 2   MSZoning       1460 non-null   object \n",
      " 3   LotFrontage    1201 non-null   float64\n",
      " 4   LotArea        1460 non-null   int64  \n",
      " 5   Street         1460 non-null   object \n",
      " 6   Alley          91 non-null     object \n",
      " 7   LotShape       1460 non-null   object \n",
      " 8   LandContour    1460 non-null   object \n",
      " 9   Utilities      1460 non-null   object \n",
      " 10  LotConfig      1460 non-null   object \n",
      " 11  LandSlope      1460 non-null   object \n",
      " 12  Neighborhood   1460 non-null   object \n",
      " 13  Condition1     1460 non-null   object \n",
      " 14  Condition2     1460 non-null   object \n",
      " 15  BldgType       1460 non-null   object \n",
      " 16  HouseStyle     1460 non-null   object \n",
      " 17  OverallQual    1460 non-null   int64  \n",
      " 18  OverallCond    1460 non-null   int64  \n",
      " 19  YearBuilt      1460 non-null   int64  \n",
      " 20  YearRemodAdd   1460 non-null   int64  \n",
      " 21  RoofStyle      1460 non-null   object \n",
      " 22  RoofMatl       1460 non-null   object \n",
      " 23  Exterior1st    1460 non-null   object \n",
      " 24  Exterior2nd    1460 non-null   object \n",
      " 25  MasVnrType     1452 non-null   object \n",
      " 26  MasVnrArea     1452 non-null   float64\n",
      " 27  ExterQual      1460 non-null   object \n",
      " 28  ExterCond      1460 non-null   object \n",
      " 29  Foundation     1460 non-null   object \n",
      " 30  BsmtQual       1423 non-null   object \n",
      " 31  BsmtCond       1423 non-null   object \n",
      " 32  BsmtExposure   1422 non-null   object \n",
      " 33  BsmtFinType1   1423 non-null   object \n",
      " 34  BsmtFinSF1     1460 non-null   int64  \n",
      " 35  BsmtFinType2   1422 non-null   object \n",
      " 36  BsmtFinSF2     1460 non-null   int64  \n",
      " 37  BsmtUnfSF      1460 non-null   int64  \n",
      " 38  TotalBsmtSF    1460 non-null   int64  \n",
      " 39  Heating        1460 non-null   object \n",
      " 40  HeatingQC      1460 non-null   object \n",
      " 41  CentralAir     1460 non-null   object \n",
      " 42  Electrical     1459 non-null   object \n",
      " 43  1stFlrSF       1460 non-null   int64  \n",
      " 44  2ndFlrSF       1460 non-null   int64  \n",
      " 45  LowQualFinSF   1460 non-null   int64  \n",
      " 46  GrLivArea      1460 non-null   int64  \n",
      " 47  BsmtFullBath   1460 non-null   int64  \n",
      " 48  BsmtHalfBath   1460 non-null   int64  \n",
      " 49  FullBath       1460 non-null   int64  \n",
      " 50  HalfBath       1460 non-null   int64  \n",
      " 51  BedroomAbvGr   1460 non-null   int64  \n",
      " 52  KitchenAbvGr   1460 non-null   int64  \n",
      " 53  KitchenQual    1460 non-null   object \n",
      " 54  TotRmsAbvGrd   1460 non-null   int64  \n",
      " 55  Functional     1460 non-null   object \n",
      " 56  Fireplaces     1460 non-null   int64  \n",
      " 57  FireplaceQu    770 non-null    object \n",
      " 58  GarageType     1379 non-null   object \n",
      " 59  GarageYrBlt    1379 non-null   float64\n",
      " 60  GarageFinish   1379 non-null   object \n",
      " 61  GarageCars     1460 non-null   int64  \n",
      " 62  GarageArea     1460 non-null   int64  \n",
      " 63  GarageQual     1379 non-null   object \n",
      " 64  GarageCond     1379 non-null   object \n",
      " 65  PavedDrive     1460 non-null   object \n",
      " 66  WoodDeckSF     1460 non-null   int64  \n",
      " 67  OpenPorchSF    1460 non-null   int64  \n",
      " 68  EnclosedPorch  1460 non-null   int64  \n",
      " 69  3SsnPorch      1460 non-null   int64  \n",
      " 70  ScreenPorch    1460 non-null   int64  \n",
      " 71  PoolArea       1460 non-null   int64  \n",
      " 72  PoolQC         7 non-null      object \n",
      " 73  Fence          281 non-null    object \n",
      " 74  MiscFeature    54 non-null     object \n",
      " 75  MiscVal        1460 non-null   int64  \n",
      " 76  MoSold         1460 non-null   int64  \n",
      " 77  YrSold         1460 non-null   int64  \n",
      " 78  SaleType       1460 non-null   object \n",
      " 79  SaleCondition  1460 non-null   object \n",
      " 80  SalePrice      1460 non-null   int64  \n",
      "dtypes: float64(3), int64(35), object(43)\n",
      "memory usage: 924.0+ KB\n"
     ]
    }
   ],
   "source": [
    "df.info()"
   ]
  },
  {
   "cell_type": "code",
   "execution_count": 5,
   "id": "3ad044f6-d7c1-4be3-9fcc-91ac4509bdb7",
   "metadata": {},
   "outputs": [
    {
     "data": {
      "text/html": [
       "<div>\n",
       "<style scoped>\n",
       "    .dataframe tbody tr th:only-of-type {\n",
       "        vertical-align: middle;\n",
       "    }\n",
       "\n",
       "    .dataframe tbody tr th {\n",
       "        vertical-align: top;\n",
       "    }\n",
       "\n",
       "    .dataframe thead th {\n",
       "        text-align: right;\n",
       "    }\n",
       "</style>\n",
       "<table border=\"1\" class=\"dataframe\">\n",
       "  <thead>\n",
       "    <tr style=\"text-align: right;\">\n",
       "      <th></th>\n",
       "      <th>Id</th>\n",
       "      <th>MSSubClass</th>\n",
       "      <th>LotFrontage</th>\n",
       "      <th>LotArea</th>\n",
       "      <th>OverallQual</th>\n",
       "      <th>OverallCond</th>\n",
       "      <th>YearBuilt</th>\n",
       "      <th>YearRemodAdd</th>\n",
       "      <th>MasVnrArea</th>\n",
       "      <th>BsmtFinSF1</th>\n",
       "      <th>BsmtFinSF2</th>\n",
       "      <th>BsmtUnfSF</th>\n",
       "      <th>TotalBsmtSF</th>\n",
       "      <th>1stFlrSF</th>\n",
       "      <th>2ndFlrSF</th>\n",
       "      <th>LowQualFinSF</th>\n",
       "      <th>GrLivArea</th>\n",
       "      <th>BsmtFullBath</th>\n",
       "      <th>BsmtHalfBath</th>\n",
       "      <th>FullBath</th>\n",
       "      <th>HalfBath</th>\n",
       "      <th>BedroomAbvGr</th>\n",
       "      <th>KitchenAbvGr</th>\n",
       "      <th>TotRmsAbvGrd</th>\n",
       "      <th>Fireplaces</th>\n",
       "      <th>GarageYrBlt</th>\n",
       "      <th>GarageCars</th>\n",
       "      <th>GarageArea</th>\n",
       "      <th>WoodDeckSF</th>\n",
       "      <th>OpenPorchSF</th>\n",
       "      <th>EnclosedPorch</th>\n",
       "      <th>3SsnPorch</th>\n",
       "      <th>ScreenPorch</th>\n",
       "      <th>PoolArea</th>\n",
       "      <th>MiscVal</th>\n",
       "      <th>MoSold</th>\n",
       "      <th>YrSold</th>\n",
       "      <th>SalePrice</th>\n",
       "    </tr>\n",
       "  </thead>\n",
       "  <tbody>\n",
       "    <tr>\n",
       "      <th>count</th>\n",
       "      <td>1460.000000</td>\n",
       "      <td>1460.000000</td>\n",
       "      <td>1201.000000</td>\n",
       "      <td>1460.000000</td>\n",
       "      <td>1460.000000</td>\n",
       "      <td>1460.000000</td>\n",
       "      <td>1460.000000</td>\n",
       "      <td>1460.000000</td>\n",
       "      <td>1452.000000</td>\n",
       "      <td>1460.000000</td>\n",
       "      <td>1460.000000</td>\n",
       "      <td>1460.000000</td>\n",
       "      <td>1460.000000</td>\n",
       "      <td>1460.000000</td>\n",
       "      <td>1460.000000</td>\n",
       "      <td>1460.000000</td>\n",
       "      <td>1460.000000</td>\n",
       "      <td>1460.000000</td>\n",
       "      <td>1460.000000</td>\n",
       "      <td>1460.000000</td>\n",
       "      <td>1460.000000</td>\n",
       "      <td>1460.000000</td>\n",
       "      <td>1460.000000</td>\n",
       "      <td>1460.000000</td>\n",
       "      <td>1460.000000</td>\n",
       "      <td>1379.000000</td>\n",
       "      <td>1460.000000</td>\n",
       "      <td>1460.000000</td>\n",
       "      <td>1460.000000</td>\n",
       "      <td>1460.000000</td>\n",
       "      <td>1460.000000</td>\n",
       "      <td>1460.000000</td>\n",
       "      <td>1460.000000</td>\n",
       "      <td>1460.000000</td>\n",
       "      <td>1460.000000</td>\n",
       "      <td>1460.000000</td>\n",
       "      <td>1460.000000</td>\n",
       "      <td>1460.000000</td>\n",
       "    </tr>\n",
       "    <tr>\n",
       "      <th>mean</th>\n",
       "      <td>730.500000</td>\n",
       "      <td>56.897260</td>\n",
       "      <td>70.049958</td>\n",
       "      <td>10516.828082</td>\n",
       "      <td>6.099315</td>\n",
       "      <td>5.575342</td>\n",
       "      <td>1971.267808</td>\n",
       "      <td>1984.865753</td>\n",
       "      <td>103.685262</td>\n",
       "      <td>443.639726</td>\n",
       "      <td>46.549315</td>\n",
       "      <td>567.240411</td>\n",
       "      <td>1057.429452</td>\n",
       "      <td>1162.626712</td>\n",
       "      <td>346.992466</td>\n",
       "      <td>5.844521</td>\n",
       "      <td>1515.463699</td>\n",
       "      <td>0.425342</td>\n",
       "      <td>0.057534</td>\n",
       "      <td>1.565068</td>\n",
       "      <td>0.382877</td>\n",
       "      <td>2.866438</td>\n",
       "      <td>1.046575</td>\n",
       "      <td>6.517808</td>\n",
       "      <td>0.613014</td>\n",
       "      <td>1978.506164</td>\n",
       "      <td>1.767123</td>\n",
       "      <td>472.980137</td>\n",
       "      <td>94.244521</td>\n",
       "      <td>46.660274</td>\n",
       "      <td>21.954110</td>\n",
       "      <td>3.409589</td>\n",
       "      <td>15.060959</td>\n",
       "      <td>2.758904</td>\n",
       "      <td>43.489041</td>\n",
       "      <td>6.321918</td>\n",
       "      <td>2007.815753</td>\n",
       "      <td>180921.195890</td>\n",
       "    </tr>\n",
       "    <tr>\n",
       "      <th>std</th>\n",
       "      <td>421.610009</td>\n",
       "      <td>42.300571</td>\n",
       "      <td>24.284752</td>\n",
       "      <td>9981.264932</td>\n",
       "      <td>1.382997</td>\n",
       "      <td>1.112799</td>\n",
       "      <td>30.202904</td>\n",
       "      <td>20.645407</td>\n",
       "      <td>181.066207</td>\n",
       "      <td>456.098091</td>\n",
       "      <td>161.319273</td>\n",
       "      <td>441.866955</td>\n",
       "      <td>438.705324</td>\n",
       "      <td>386.587738</td>\n",
       "      <td>436.528436</td>\n",
       "      <td>48.623081</td>\n",
       "      <td>525.480383</td>\n",
       "      <td>0.518911</td>\n",
       "      <td>0.238753</td>\n",
       "      <td>0.550916</td>\n",
       "      <td>0.502885</td>\n",
       "      <td>0.815778</td>\n",
       "      <td>0.220338</td>\n",
       "      <td>1.625393</td>\n",
       "      <td>0.644666</td>\n",
       "      <td>24.689725</td>\n",
       "      <td>0.747315</td>\n",
       "      <td>213.804841</td>\n",
       "      <td>125.338794</td>\n",
       "      <td>66.256028</td>\n",
       "      <td>61.119149</td>\n",
       "      <td>29.317331</td>\n",
       "      <td>55.757415</td>\n",
       "      <td>40.177307</td>\n",
       "      <td>496.123024</td>\n",
       "      <td>2.703626</td>\n",
       "      <td>1.328095</td>\n",
       "      <td>79442.502883</td>\n",
       "    </tr>\n",
       "    <tr>\n",
       "      <th>min</th>\n",
       "      <td>1.000000</td>\n",
       "      <td>20.000000</td>\n",
       "      <td>21.000000</td>\n",
       "      <td>1300.000000</td>\n",
       "      <td>1.000000</td>\n",
       "      <td>1.000000</td>\n",
       "      <td>1872.000000</td>\n",
       "      <td>1950.000000</td>\n",
       "      <td>0.000000</td>\n",
       "      <td>0.000000</td>\n",
       "      <td>0.000000</td>\n",
       "      <td>0.000000</td>\n",
       "      <td>0.000000</td>\n",
       "      <td>334.000000</td>\n",
       "      <td>0.000000</td>\n",
       "      <td>0.000000</td>\n",
       "      <td>334.000000</td>\n",
       "      <td>0.000000</td>\n",
       "      <td>0.000000</td>\n",
       "      <td>0.000000</td>\n",
       "      <td>0.000000</td>\n",
       "      <td>0.000000</td>\n",
       "      <td>0.000000</td>\n",
       "      <td>2.000000</td>\n",
       "      <td>0.000000</td>\n",
       "      <td>1900.000000</td>\n",
       "      <td>0.000000</td>\n",
       "      <td>0.000000</td>\n",
       "      <td>0.000000</td>\n",
       "      <td>0.000000</td>\n",
       "      <td>0.000000</td>\n",
       "      <td>0.000000</td>\n",
       "      <td>0.000000</td>\n",
       "      <td>0.000000</td>\n",
       "      <td>0.000000</td>\n",
       "      <td>1.000000</td>\n",
       "      <td>2006.000000</td>\n",
       "      <td>34900.000000</td>\n",
       "    </tr>\n",
       "    <tr>\n",
       "      <th>25%</th>\n",
       "      <td>365.750000</td>\n",
       "      <td>20.000000</td>\n",
       "      <td>59.000000</td>\n",
       "      <td>7553.500000</td>\n",
       "      <td>5.000000</td>\n",
       "      <td>5.000000</td>\n",
       "      <td>1954.000000</td>\n",
       "      <td>1967.000000</td>\n",
       "      <td>0.000000</td>\n",
       "      <td>0.000000</td>\n",
       "      <td>0.000000</td>\n",
       "      <td>223.000000</td>\n",
       "      <td>795.750000</td>\n",
       "      <td>882.000000</td>\n",
       "      <td>0.000000</td>\n",
       "      <td>0.000000</td>\n",
       "      <td>1129.500000</td>\n",
       "      <td>0.000000</td>\n",
       "      <td>0.000000</td>\n",
       "      <td>1.000000</td>\n",
       "      <td>0.000000</td>\n",
       "      <td>2.000000</td>\n",
       "      <td>1.000000</td>\n",
       "      <td>5.000000</td>\n",
       "      <td>0.000000</td>\n",
       "      <td>1961.000000</td>\n",
       "      <td>1.000000</td>\n",
       "      <td>334.500000</td>\n",
       "      <td>0.000000</td>\n",
       "      <td>0.000000</td>\n",
       "      <td>0.000000</td>\n",
       "      <td>0.000000</td>\n",
       "      <td>0.000000</td>\n",
       "      <td>0.000000</td>\n",
       "      <td>0.000000</td>\n",
       "      <td>5.000000</td>\n",
       "      <td>2007.000000</td>\n",
       "      <td>129975.000000</td>\n",
       "    </tr>\n",
       "    <tr>\n",
       "      <th>50%</th>\n",
       "      <td>730.500000</td>\n",
       "      <td>50.000000</td>\n",
       "      <td>69.000000</td>\n",
       "      <td>9478.500000</td>\n",
       "      <td>6.000000</td>\n",
       "      <td>5.000000</td>\n",
       "      <td>1973.000000</td>\n",
       "      <td>1994.000000</td>\n",
       "      <td>0.000000</td>\n",
       "      <td>383.500000</td>\n",
       "      <td>0.000000</td>\n",
       "      <td>477.500000</td>\n",
       "      <td>991.500000</td>\n",
       "      <td>1087.000000</td>\n",
       "      <td>0.000000</td>\n",
       "      <td>0.000000</td>\n",
       "      <td>1464.000000</td>\n",
       "      <td>0.000000</td>\n",
       "      <td>0.000000</td>\n",
       "      <td>2.000000</td>\n",
       "      <td>0.000000</td>\n",
       "      <td>3.000000</td>\n",
       "      <td>1.000000</td>\n",
       "      <td>6.000000</td>\n",
       "      <td>1.000000</td>\n",
       "      <td>1980.000000</td>\n",
       "      <td>2.000000</td>\n",
       "      <td>480.000000</td>\n",
       "      <td>0.000000</td>\n",
       "      <td>25.000000</td>\n",
       "      <td>0.000000</td>\n",
       "      <td>0.000000</td>\n",
       "      <td>0.000000</td>\n",
       "      <td>0.000000</td>\n",
       "      <td>0.000000</td>\n",
       "      <td>6.000000</td>\n",
       "      <td>2008.000000</td>\n",
       "      <td>163000.000000</td>\n",
       "    </tr>\n",
       "    <tr>\n",
       "      <th>75%</th>\n",
       "      <td>1095.250000</td>\n",
       "      <td>70.000000</td>\n",
       "      <td>80.000000</td>\n",
       "      <td>11601.500000</td>\n",
       "      <td>7.000000</td>\n",
       "      <td>6.000000</td>\n",
       "      <td>2000.000000</td>\n",
       "      <td>2004.000000</td>\n",
       "      <td>166.000000</td>\n",
       "      <td>712.250000</td>\n",
       "      <td>0.000000</td>\n",
       "      <td>808.000000</td>\n",
       "      <td>1298.250000</td>\n",
       "      <td>1391.250000</td>\n",
       "      <td>728.000000</td>\n",
       "      <td>0.000000</td>\n",
       "      <td>1776.750000</td>\n",
       "      <td>1.000000</td>\n",
       "      <td>0.000000</td>\n",
       "      <td>2.000000</td>\n",
       "      <td>1.000000</td>\n",
       "      <td>3.000000</td>\n",
       "      <td>1.000000</td>\n",
       "      <td>7.000000</td>\n",
       "      <td>1.000000</td>\n",
       "      <td>2002.000000</td>\n",
       "      <td>2.000000</td>\n",
       "      <td>576.000000</td>\n",
       "      <td>168.000000</td>\n",
       "      <td>68.000000</td>\n",
       "      <td>0.000000</td>\n",
       "      <td>0.000000</td>\n",
       "      <td>0.000000</td>\n",
       "      <td>0.000000</td>\n",
       "      <td>0.000000</td>\n",
       "      <td>8.000000</td>\n",
       "      <td>2009.000000</td>\n",
       "      <td>214000.000000</td>\n",
       "    </tr>\n",
       "    <tr>\n",
       "      <th>max</th>\n",
       "      <td>1460.000000</td>\n",
       "      <td>190.000000</td>\n",
       "      <td>313.000000</td>\n",
       "      <td>215245.000000</td>\n",
       "      <td>10.000000</td>\n",
       "      <td>9.000000</td>\n",
       "      <td>2010.000000</td>\n",
       "      <td>2010.000000</td>\n",
       "      <td>1600.000000</td>\n",
       "      <td>5644.000000</td>\n",
       "      <td>1474.000000</td>\n",
       "      <td>2336.000000</td>\n",
       "      <td>6110.000000</td>\n",
       "      <td>4692.000000</td>\n",
       "      <td>2065.000000</td>\n",
       "      <td>572.000000</td>\n",
       "      <td>5642.000000</td>\n",
       "      <td>3.000000</td>\n",
       "      <td>2.000000</td>\n",
       "      <td>3.000000</td>\n",
       "      <td>2.000000</td>\n",
       "      <td>8.000000</td>\n",
       "      <td>3.000000</td>\n",
       "      <td>14.000000</td>\n",
       "      <td>3.000000</td>\n",
       "      <td>2010.000000</td>\n",
       "      <td>4.000000</td>\n",
       "      <td>1418.000000</td>\n",
       "      <td>857.000000</td>\n",
       "      <td>547.000000</td>\n",
       "      <td>552.000000</td>\n",
       "      <td>508.000000</td>\n",
       "      <td>480.000000</td>\n",
       "      <td>738.000000</td>\n",
       "      <td>15500.000000</td>\n",
       "      <td>12.000000</td>\n",
       "      <td>2010.000000</td>\n",
       "      <td>755000.000000</td>\n",
       "    </tr>\n",
       "  </tbody>\n",
       "</table>\n",
       "</div>"
      ],
      "text/plain": [
       "                Id   MSSubClass  LotFrontage        LotArea  OverallQual  \\\n",
       "count  1460.000000  1460.000000  1201.000000    1460.000000  1460.000000   \n",
       "mean    730.500000    56.897260    70.049958   10516.828082     6.099315   \n",
       "std     421.610009    42.300571    24.284752    9981.264932     1.382997   \n",
       "min       1.000000    20.000000    21.000000    1300.000000     1.000000   \n",
       "25%     365.750000    20.000000    59.000000    7553.500000     5.000000   \n",
       "50%     730.500000    50.000000    69.000000    9478.500000     6.000000   \n",
       "75%    1095.250000    70.000000    80.000000   11601.500000     7.000000   \n",
       "max    1460.000000   190.000000   313.000000  215245.000000    10.000000   \n",
       "\n",
       "       OverallCond    YearBuilt  YearRemodAdd   MasVnrArea   BsmtFinSF1  \\\n",
       "count  1460.000000  1460.000000   1460.000000  1452.000000  1460.000000   \n",
       "mean      5.575342  1971.267808   1984.865753   103.685262   443.639726   \n",
       "std       1.112799    30.202904     20.645407   181.066207   456.098091   \n",
       "min       1.000000  1872.000000   1950.000000     0.000000     0.000000   \n",
       "25%       5.000000  1954.000000   1967.000000     0.000000     0.000000   \n",
       "50%       5.000000  1973.000000   1994.000000     0.000000   383.500000   \n",
       "75%       6.000000  2000.000000   2004.000000   166.000000   712.250000   \n",
       "max       9.000000  2010.000000   2010.000000  1600.000000  5644.000000   \n",
       "\n",
       "        BsmtFinSF2    BsmtUnfSF  TotalBsmtSF     1stFlrSF     2ndFlrSF  \\\n",
       "count  1460.000000  1460.000000  1460.000000  1460.000000  1460.000000   \n",
       "mean     46.549315   567.240411  1057.429452  1162.626712   346.992466   \n",
       "std     161.319273   441.866955   438.705324   386.587738   436.528436   \n",
       "min       0.000000     0.000000     0.000000   334.000000     0.000000   \n",
       "25%       0.000000   223.000000   795.750000   882.000000     0.000000   \n",
       "50%       0.000000   477.500000   991.500000  1087.000000     0.000000   \n",
       "75%       0.000000   808.000000  1298.250000  1391.250000   728.000000   \n",
       "max    1474.000000  2336.000000  6110.000000  4692.000000  2065.000000   \n",
       "\n",
       "       LowQualFinSF    GrLivArea  BsmtFullBath  BsmtHalfBath     FullBath  \\\n",
       "count   1460.000000  1460.000000   1460.000000   1460.000000  1460.000000   \n",
       "mean       5.844521  1515.463699      0.425342      0.057534     1.565068   \n",
       "std       48.623081   525.480383      0.518911      0.238753     0.550916   \n",
       "min        0.000000   334.000000      0.000000      0.000000     0.000000   \n",
       "25%        0.000000  1129.500000      0.000000      0.000000     1.000000   \n",
       "50%        0.000000  1464.000000      0.000000      0.000000     2.000000   \n",
       "75%        0.000000  1776.750000      1.000000      0.000000     2.000000   \n",
       "max      572.000000  5642.000000      3.000000      2.000000     3.000000   \n",
       "\n",
       "          HalfBath  BedroomAbvGr  KitchenAbvGr  TotRmsAbvGrd   Fireplaces  \\\n",
       "count  1460.000000   1460.000000   1460.000000   1460.000000  1460.000000   \n",
       "mean      0.382877      2.866438      1.046575      6.517808     0.613014   \n",
       "std       0.502885      0.815778      0.220338      1.625393     0.644666   \n",
       "min       0.000000      0.000000      0.000000      2.000000     0.000000   \n",
       "25%       0.000000      2.000000      1.000000      5.000000     0.000000   \n",
       "50%       0.000000      3.000000      1.000000      6.000000     1.000000   \n",
       "75%       1.000000      3.000000      1.000000      7.000000     1.000000   \n",
       "max       2.000000      8.000000      3.000000     14.000000     3.000000   \n",
       "\n",
       "       GarageYrBlt   GarageCars   GarageArea   WoodDeckSF  OpenPorchSF  \\\n",
       "count  1379.000000  1460.000000  1460.000000  1460.000000  1460.000000   \n",
       "mean   1978.506164     1.767123   472.980137    94.244521    46.660274   \n",
       "std      24.689725     0.747315   213.804841   125.338794    66.256028   \n",
       "min    1900.000000     0.000000     0.000000     0.000000     0.000000   \n",
       "25%    1961.000000     1.000000   334.500000     0.000000     0.000000   \n",
       "50%    1980.000000     2.000000   480.000000     0.000000    25.000000   \n",
       "75%    2002.000000     2.000000   576.000000   168.000000    68.000000   \n",
       "max    2010.000000     4.000000  1418.000000   857.000000   547.000000   \n",
       "\n",
       "       EnclosedPorch    3SsnPorch  ScreenPorch     PoolArea       MiscVal  \\\n",
       "count    1460.000000  1460.000000  1460.000000  1460.000000   1460.000000   \n",
       "mean       21.954110     3.409589    15.060959     2.758904     43.489041   \n",
       "std        61.119149    29.317331    55.757415    40.177307    496.123024   \n",
       "min         0.000000     0.000000     0.000000     0.000000      0.000000   \n",
       "25%         0.000000     0.000000     0.000000     0.000000      0.000000   \n",
       "50%         0.000000     0.000000     0.000000     0.000000      0.000000   \n",
       "75%         0.000000     0.000000     0.000000     0.000000      0.000000   \n",
       "max       552.000000   508.000000   480.000000   738.000000  15500.000000   \n",
       "\n",
       "            MoSold       YrSold      SalePrice  \n",
       "count  1460.000000  1460.000000    1460.000000  \n",
       "mean      6.321918  2007.815753  180921.195890  \n",
       "std       2.703626     1.328095   79442.502883  \n",
       "min       1.000000  2006.000000   34900.000000  \n",
       "25%       5.000000  2007.000000  129975.000000  \n",
       "50%       6.000000  2008.000000  163000.000000  \n",
       "75%       8.000000  2009.000000  214000.000000  \n",
       "max      12.000000  2010.000000  755000.000000  "
      ]
     },
     "execution_count": 5,
     "metadata": {},
     "output_type": "execute_result"
    }
   ],
   "source": [
    "# Ver las características estadísticas de los datos\n",
    "df.describe()"
   ]
  },
  {
   "cell_type": "markdown",
   "id": "6f186b8e-e779-4ce1-ba70-a5ee5960a857",
   "metadata": {
    "jp-MarkdownHeadingCollapsed": true,
    "tags": []
   },
   "source": [
    "# 3. VISUALIZACIÓN DEL DATASET."
   ]
  },
  {
   "cell_type": "markdown",
   "id": "fdec6e96-92f2-4264-b881-9447c1ee1c5c",
   "metadata": {
    "jp-MarkdownHeadingCollapsed": true,
    "tags": []
   },
   "source": [
    "## 3.1 Revisión e imputación de nulos."
   ]
  },
  {
   "cell_type": "markdown",
   "id": "9e8679bf-8414-4846-a797-ba988b0300a3",
   "metadata": {
    "jp-MarkdownHeadingCollapsed": true,
    "tags": []
   },
   "source": [
    "### 3.1.1 Hallar nulos."
   ]
  },
  {
   "cell_type": "code",
   "execution_count": 6,
   "id": "67378bba-dab4-4590-958a-c435ddaa1397",
   "metadata": {},
   "outputs": [
    {
     "data": {
      "text/plain": [
       "PoolQC         1453\n",
       "MiscFeature    1406\n",
       "Alley          1369\n",
       "Fence          1179\n",
       "FireplaceQu     690\n",
       "               ... \n",
       "ExterQual         0\n",
       "Exterior2nd       0\n",
       "Exterior1st       0\n",
       "RoofMatl          0\n",
       "SalePrice         0\n",
       "Length: 81, dtype: int64"
      ]
     },
     "execution_count": 6,
     "metadata": {},
     "output_type": "execute_result"
    }
   ],
   "source": [
    "df.isna().sum().sort_values(ascending = False)"
   ]
  },
  {
   "cell_type": "code",
   "execution_count": 7,
   "id": "5c4df107-14ca-4ffb-a599-757ded8cf287",
   "metadata": {},
   "outputs": [],
   "source": [
    "# borramos los que tienen nan superiores al 50%\n",
    "df.drop(['PoolQC','MiscFeature','Alley','Fence','FireplaceQu'], axis=1, inplace = True)"
   ]
  },
  {
   "cell_type": "code",
   "execution_count": 8,
   "id": "1f5b9ea6-5cf7-4002-8f75-9f53eccc0903",
   "metadata": {},
   "outputs": [
    {
     "data": {
      "text/plain": [
       "LotFrontage     259\n",
       "GarageType       81\n",
       "GarageCond       81\n",
       "GarageYrBlt      81\n",
       "GarageFinish     81\n",
       "               ... \n",
       "BsmtUnfSF         0\n",
       "TotalBsmtSF       0\n",
       "MSSubClass        0\n",
       "HeatingQC         0\n",
       "SalePrice         0\n",
       "Length: 76, dtype: int64"
      ]
     },
     "execution_count": 8,
     "metadata": {},
     "output_type": "execute_result"
    }
   ],
   "source": [
    "df.isna().sum().sort_values(ascending = False)"
   ]
  },
  {
   "cell_type": "markdown",
   "id": "00d059a9-2221-4504-ac21-be94130d922c",
   "metadata": {
    "jp-MarkdownHeadingCollapsed": true,
    "tags": []
   },
   "source": [
    "### 3.2.2 Mapa de calor."
   ]
  },
  {
   "cell_type": "code",
   "execution_count": 9,
   "id": "f9ccb7df-7aba-41a9-876a-ba104d05b408",
   "metadata": {},
   "outputs": [
    {
     "data": {
      "text/plain": [
       "<AxesSubplot:>"
      ]
     },
     "execution_count": 9,
     "metadata": {},
     "output_type": "execute_result"
    },
    {
     "data": {
      "image/png": "[encoded data removed]",
      "text/plain": [
       "<Figure size 640x480 with 1 Axes>"
      ]
     },
     "metadata": {},
     "output_type": "display_data"
    }
   ],
   "source": [
    "sns.heatmap(df.isnull(), yticklabels=False, cbar=False, cmap='Reds')"
   ]
  },
  {
   "cell_type": "markdown",
   "id": "3583ee94-8abd-406d-a53e-f8511ebba34f",
   "metadata": {
    "jp-MarkdownHeadingCollapsed": true,
    "tags": []
   },
   "source": [
    "### 3.2.3 Imputación de nulos."
   ]
  },
  {
   "cell_type": "code",
   "execution_count": 10,
   "id": "49c87ad6-ae71-4479-b9f4-9424c16e426a",
   "metadata": {},
   "outputs": [
    {
     "data": {
      "text/plain": [
       "numpy.float64"
      ]
     },
     "execution_count": 10,
     "metadata": {},
     "output_type": "execute_result"
    }
   ],
   "source": [
    "# Imputamos LotFrontage\n",
    "type(df['LotFrontage'][0])"
   ]
  },
  {
   "cell_type": "code",
   "execution_count": 11,
   "id": "ab476ea4-0ac9-4140-af09-2e490bedccd8",
   "metadata": {},
   "outputs": [],
   "source": [
    "df.loc[(df['LotFrontage'].isnull() == True), 'LotFrontage'] = df['LotFrontage'].mean()"
   ]
  },
  {
   "cell_type": "code",
   "execution_count": 12,
   "id": "530ea4cb-2ce4-4c7a-a4df-11804ed09c34",
   "metadata": {},
   "outputs": [
    {
     "data": {
      "text/plain": [
       "GarageType      81\n",
       "GarageYrBlt     81\n",
       "GarageFinish    81\n",
       "GarageQual      81\n",
       "GarageCond      81\n",
       "                ..\n",
       "BsmtFinSF2       0\n",
       "BsmtUnfSF        0\n",
       "TotalBsmtSF      0\n",
       "MSSubClass       0\n",
       "SalePrice        0\n",
       "Length: 76, dtype: int64"
      ]
     },
     "execution_count": 12,
     "metadata": {},
     "output_type": "execute_result"
    }
   ],
   "source": [
    "df.isna().sum().sort_values(ascending = False)"
   ]
  },
  {
   "cell_type": "code",
   "execution_count": 13,
   "id": "648241d9-1726-420a-a91a-d5ff12ecfbed",
   "metadata": {},
   "outputs": [
    {
     "data": {
      "text/plain": [
       "str"
      ]
     },
     "execution_count": 13,
     "metadata": {},
     "output_type": "execute_result"
    }
   ],
   "source": [
    "# Imputamos GarageType\n",
    "type(df['GarageType'][0])"
   ]
  },
  {
   "cell_type": "code",
   "execution_count": 14,
   "id": "3245c8aa-9136-4220-a596-634c195dce53",
   "metadata": {},
   "outputs": [],
   "source": [
    "# importamos la librería statistics para obtener la moda de los datos categóricos\n",
    "import statistics as stat\n",
    "df.loc[(df['GarageType'].isnull() == True), 'GarageType'] = stat.mode(df['GarageType'])"
   ]
  },
  {
   "cell_type": "code",
   "execution_count": 15,
   "id": "2f4e4668-b9f3-4468-988b-510d3de699c7",
   "metadata": {},
   "outputs": [
    {
     "data": {
      "text/plain": [
       "GarageYrBlt     81\n",
       "GarageFinish    81\n",
       "GarageQual      81\n",
       "GarageCond      81\n",
       "BsmtExposure    38\n",
       "                ..\n",
       "BsmtFinSF2       0\n",
       "BsmtUnfSF        0\n",
       "TotalBsmtSF      0\n",
       "MSSubClass       0\n",
       "SalePrice        0\n",
       "Length: 76, dtype: int64"
      ]
     },
     "execution_count": 15,
     "metadata": {},
     "output_type": "execute_result"
    }
   ],
   "source": [
    "df.isna().sum().sort_values(ascending = False)"
   ]
  },
  {
   "cell_type": "code",
   "execution_count": 16,
   "id": "220cd3fe-5b14-44fc-87bf-523005fb774e",
   "metadata": {},
   "outputs": [
    {
     "data": {
      "text/plain": [
       "numpy.float64"
      ]
     },
     "execution_count": 16,
     "metadata": {},
     "output_type": "execute_result"
    }
   ],
   "source": [
    "# Imputamos GarageYrBlt\n",
    "type(df['GarageYrBlt'][0])"
   ]
  },
  {
   "cell_type": "code",
   "execution_count": 17,
   "id": "c3575664-e45d-4f42-8149-cf7c754afd7c",
   "metadata": {},
   "outputs": [],
   "source": [
    "df.loc[(df['GarageYrBlt'].isnull() == True), 'GarageYrBlt'] = df['GarageYrBlt'].mean()"
   ]
  },
  {
   "cell_type": "code",
   "execution_count": 18,
   "id": "34c02f96-6bf0-4e22-8051-303a25fa1a81",
   "metadata": {},
   "outputs": [
    {
     "data": {
      "text/plain": [
       "GarageFinish    81\n",
       "GarageQual      81\n",
       "GarageCond      81\n",
       "BsmtExposure    38\n",
       "BsmtFinType2    38\n",
       "                ..\n",
       "BsmtFinSF2       0\n",
       "BsmtUnfSF        0\n",
       "TotalBsmtSF      0\n",
       "MSSubClass       0\n",
       "SalePrice        0\n",
       "Length: 76, dtype: int64"
      ]
     },
     "execution_count": 18,
     "metadata": {},
     "output_type": "execute_result"
    }
   ],
   "source": [
    "df.isna().sum().sort_values(ascending = False)"
   ]
  },
  {
   "cell_type": "code",
   "execution_count": 19,
   "id": "c325325a-1c8d-4c27-886c-4ab3027400e5",
   "metadata": {},
   "outputs": [
    {
     "data": {
      "text/plain": [
       "str"
      ]
     },
     "execution_count": 19,
     "metadata": {},
     "output_type": "execute_result"
    }
   ],
   "source": [
    "# Imputamos GarageFinish\n",
    "type(df['GarageFinish'][0])"
   ]
  },
  {
   "cell_type": "code",
   "execution_count": 20,
   "id": "0c15801d-90ce-41c2-9ae4-6366617cb261",
   "metadata": {},
   "outputs": [],
   "source": [
    "df.loc[(df['GarageFinish'].isnull() == True), 'GarageFinish'] = stat.mode(df['GarageFinish'])"
   ]
  },
  {
   "cell_type": "code",
   "execution_count": 21,
   "id": "0b93c352-0926-48f7-b165-c397dc90ca65",
   "metadata": {},
   "outputs": [
    {
     "data": {
      "text/plain": [
       "GarageQual      81\n",
       "GarageCond      81\n",
       "BsmtExposure    38\n",
       "BsmtFinType2    38\n",
       "BsmtFinType1    37\n",
       "                ..\n",
       "BsmtFinSF2       0\n",
       "BsmtUnfSF        0\n",
       "TotalBsmtSF      0\n",
       "MSSubClass       0\n",
       "SalePrice        0\n",
       "Length: 76, dtype: int64"
      ]
     },
     "execution_count": 21,
     "metadata": {},
     "output_type": "execute_result"
    }
   ],
   "source": [
    "df.isna().sum().sort_values(ascending = False)"
   ]
  },
  {
   "cell_type": "code",
   "execution_count": 22,
   "id": "aac3628c-1790-4133-83f0-0787e2317a21",
   "metadata": {},
   "outputs": [
    {
     "data": {
      "text/plain": [
       "str"
      ]
     },
     "execution_count": 22,
     "metadata": {},
     "output_type": "execute_result"
    }
   ],
   "source": [
    "# Imputamos GarageQual\n",
    "type(df['GarageQual'][0])"
   ]
  },
  {
   "cell_type": "code",
   "execution_count": 23,
   "id": "68dedc11-aaae-4bef-b479-e57a5c0ff035",
   "metadata": {},
   "outputs": [],
   "source": [
    "df.loc[(df['GarageQual'].isnull() == True), 'GarageQual'] = stat.mode(df['GarageQual'])"
   ]
  },
  {
   "cell_type": "code",
   "execution_count": 24,
   "id": "f7f09572-ec90-4808-a106-68283ec10302",
   "metadata": {},
   "outputs": [
    {
     "data": {
      "text/plain": [
       "GarageCond      81\n",
       "BsmtFinType2    38\n",
       "BsmtExposure    38\n",
       "BsmtFinType1    37\n",
       "BsmtQual        37\n",
       "                ..\n",
       "BsmtFinSF2       0\n",
       "BsmtUnfSF        0\n",
       "TotalBsmtSF      0\n",
       "MSSubClass       0\n",
       "SalePrice        0\n",
       "Length: 76, dtype: int64"
      ]
     },
     "execution_count": 24,
     "metadata": {},
     "output_type": "execute_result"
    }
   ],
   "source": [
    "df.isna().sum().sort_values(ascending = False)"
   ]
  },
  {
   "cell_type": "code",
   "execution_count": 25,
   "id": "95c6e5f8-1c72-4b37-ac43-873590fedaf4",
   "metadata": {},
   "outputs": [
    {
     "data": {
      "text/plain": [
       "str"
      ]
     },
     "execution_count": 25,
     "metadata": {},
     "output_type": "execute_result"
    }
   ],
   "source": [
    "# Imputamos GarageCond\n",
    "type(df['GarageCond'][0])"
   ]
  },
  {
   "cell_type": "code",
   "execution_count": 26,
   "id": "32bb7263-5436-4d00-9491-cbcb0fe77e6b",
   "metadata": {},
   "outputs": [],
   "source": [
    "df.loc[(df['GarageCond'].isnull() == True), 'GarageCond'] = stat.mode(df['GarageCond'])"
   ]
  },
  {
   "cell_type": "code",
   "execution_count": 27,
   "id": "6a219140-57f0-403b-af14-2ccae54bb302",
   "metadata": {},
   "outputs": [
    {
     "data": {
      "text/plain": [
       "BsmtFinType2    38\n",
       "BsmtExposure    38\n",
       "BsmtFinType1    37\n",
       "BsmtQual        37\n",
       "BsmtCond        37\n",
       "                ..\n",
       "BsmtFinSF2       0\n",
       "BsmtUnfSF        0\n",
       "TotalBsmtSF      0\n",
       "MSSubClass       0\n",
       "SalePrice        0\n",
       "Length: 76, dtype: int64"
      ]
     },
     "execution_count": 27,
     "metadata": {},
     "output_type": "execute_result"
    }
   ],
   "source": [
    "df.isna().sum().sort_values(ascending = False)"
   ]
  },
  {
   "cell_type": "code",
   "execution_count": 28,
   "id": "04dd45bf-6e81-42e2-b699-0622bae0bbef",
   "metadata": {},
   "outputs": [
    {
     "data": {
      "text/plain": [
       "str"
      ]
     },
     "execution_count": 28,
     "metadata": {},
     "output_type": "execute_result"
    }
   ],
   "source": [
    "# Imputamos BsmtFinType2\n",
    "type(df['BsmtFinType2'][0])"
   ]
  },
  {
   "cell_type": "code",
   "execution_count": 29,
   "id": "e81d4c5f-f662-4d87-8471-d3e300119312",
   "metadata": {},
   "outputs": [],
   "source": [
    "df.loc[(df['BsmtFinType2'].isnull() == True), 'BsmtFinType2'] = stat.mode(df['BsmtFinType2'])"
   ]
  },
  {
   "cell_type": "code",
   "execution_count": 30,
   "id": "99c442c4-41c5-4f93-a954-729bdb889b51",
   "metadata": {},
   "outputs": [
    {
     "data": {
      "text/plain": [
       "BsmtExposure    38\n",
       "BsmtFinType1    37\n",
       "BsmtQual        37\n",
       "BsmtCond        37\n",
       "MasVnrType       8\n",
       "                ..\n",
       "BsmtFinSF2       0\n",
       "BsmtUnfSF        0\n",
       "TotalBsmtSF      0\n",
       "MSSubClass       0\n",
       "SalePrice        0\n",
       "Length: 76, dtype: int64"
      ]
     },
     "execution_count": 30,
     "metadata": {},
     "output_type": "execute_result"
    }
   ],
   "source": [
    "df.isna().sum().sort_values(ascending = False)"
   ]
  },
  {
   "cell_type": "code",
   "execution_count": 31,
   "id": "65794d0d-65fa-41c2-ac73-0fd6a823247c",
   "metadata": {},
   "outputs": [
    {
     "data": {
      "text/plain": [
       "str"
      ]
     },
     "execution_count": 31,
     "metadata": {},
     "output_type": "execute_result"
    }
   ],
   "source": [
    "# Imputamos BsmtExposure\n",
    "type(df['BsmtExposure'][0])"
   ]
  },
  {
   "cell_type": "code",
   "execution_count": 32,
   "id": "9d08c9bd-de6e-4a31-b37b-c3cf0f77abe7",
   "metadata": {},
   "outputs": [],
   "source": [
    "df.loc[(df['BsmtExposure'].isnull() == True), 'BsmtExposure'] = stat.mode(df['BsmtExposure'])"
   ]
  },
  {
   "cell_type": "code",
   "execution_count": 33,
   "id": "a473c86f-caf7-4683-9d8f-30a62326e498",
   "metadata": {},
   "outputs": [
    {
     "data": {
      "text/plain": [
       "BsmtCond        37\n",
       "BsmtQual        37\n",
       "BsmtFinType1    37\n",
       "MasVnrType       8\n",
       "MasVnrArea       8\n",
       "                ..\n",
       "Exterior2nd      0\n",
       "Exterior1st      0\n",
       "RoofMatl         0\n",
       "RoofStyle        0\n",
       "SalePrice        0\n",
       "Length: 76, dtype: int64"
      ]
     },
     "execution_count": 33,
     "metadata": {},
     "output_type": "execute_result"
    }
   ],
   "source": [
    "df.isna().sum().sort_values(ascending = False)"
   ]
  },
  {
   "cell_type": "code",
   "execution_count": 34,
   "id": "6234b4bc-5302-4371-8ccc-9899f6068cc9",
   "metadata": {},
   "outputs": [
    {
     "data": {
      "text/plain": [
       "str"
      ]
     },
     "execution_count": 34,
     "metadata": {},
     "output_type": "execute_result"
    }
   ],
   "source": [
    "# Imputamos BsmtCond\n",
    "type(df['BsmtCond'][0])"
   ]
  },
  {
   "cell_type": "code",
   "execution_count": 35,
   "id": "df226b5a-c794-438d-9459-2cd9c49b3bf5",
   "metadata": {},
   "outputs": [],
   "source": [
    "df.loc[(df['BsmtCond'].isnull() == True), 'BsmtCond'] = stat.mode(df['BsmtCond'])"
   ]
  },
  {
   "cell_type": "code",
   "execution_count": 36,
   "id": "fbd74ac1-73c2-4be8-ac34-956844b5a900",
   "metadata": {},
   "outputs": [
    {
     "data": {
      "text/plain": [
       "BsmtQual        37\n",
       "BsmtFinType1    37\n",
       "MasVnrType       8\n",
       "MasVnrArea       8\n",
       "Electrical       1\n",
       "                ..\n",
       "Exterior2nd      0\n",
       "Exterior1st      0\n",
       "RoofMatl         0\n",
       "RoofStyle        0\n",
       "SalePrice        0\n",
       "Length: 76, dtype: int64"
      ]
     },
     "execution_count": 36,
     "metadata": {},
     "output_type": "execute_result"
    }
   ],
   "source": [
    "df.isna().sum().sort_values(ascending = False)"
   ]
  },
  {
   "cell_type": "code",
   "execution_count": 37,
   "id": "9ed8a5d6-9119-4d15-ac76-0d6c0e3ce2a8",
   "metadata": {},
   "outputs": [
    {
     "data": {
      "text/plain": [
       "str"
      ]
     },
     "execution_count": 37,
     "metadata": {},
     "output_type": "execute_result"
    }
   ],
   "source": [
    "# Imputamos BsmtQual\n",
    "type(df['BsmtQual'][0])"
   ]
  },
  {
   "cell_type": "code",
   "execution_count": 38,
   "id": "33cac9ff-cfd3-46f2-95e1-3dee5a769ea1",
   "metadata": {},
   "outputs": [],
   "source": [
    "df.loc[(df['BsmtQual'].isnull() == True), 'BsmtQual'] = stat.mode(df['BsmtQual'])"
   ]
  },
  {
   "cell_type": "code",
   "execution_count": 39,
   "id": "a893f551-3436-4157-bf8c-69a78a961ad7",
   "metadata": {},
   "outputs": [
    {
     "data": {
      "text/plain": [
       "BsmtFinType1    37\n",
       "MasVnrType       8\n",
       "MasVnrArea       8\n",
       "Electrical       1\n",
       "HalfBath         0\n",
       "                ..\n",
       "ExterQual        0\n",
       "Exterior2nd      0\n",
       "Exterior1st      0\n",
       "RoofMatl         0\n",
       "SalePrice        0\n",
       "Length: 76, dtype: int64"
      ]
     },
     "execution_count": 39,
     "metadata": {},
     "output_type": "execute_result"
    }
   ],
   "source": [
    "df.isna().sum().sort_values(ascending = False)"
   ]
  },
  {
   "cell_type": "code",
   "execution_count": 40,
   "id": "c85b2185-dd91-4578-8a1f-93f597eced00",
   "metadata": {},
   "outputs": [
    {
     "data": {
      "text/plain": [
       "str"
      ]
     },
     "execution_count": 40,
     "metadata": {},
     "output_type": "execute_result"
    }
   ],
   "source": [
    "# Imputamos BsmtFinType1\n",
    "type(df['BsmtFinType1'][0])"
   ]
  },
  {
   "cell_type": "code",
   "execution_count": 41,
   "id": "ad81579d-bca4-445a-aeb9-0761edddae4a",
   "metadata": {},
   "outputs": [],
   "source": [
    "df.loc[(df['BsmtFinType1'].isnull() == True), 'BsmtFinType1'] = stat.mode(df['BsmtFinType1'])"
   ]
  },
  {
   "cell_type": "code",
   "execution_count": 42,
   "id": "54dfd10e-d705-48fc-9c63-4ae5a74be40a",
   "metadata": {},
   "outputs": [
    {
     "data": {
      "text/plain": [
       "MasVnrType     8\n",
       "MasVnrArea     8\n",
       "Electrical     1\n",
       "Id             0\n",
       "HalfBath       0\n",
       "              ..\n",
       "ExterQual      0\n",
       "Exterior2nd    0\n",
       "Exterior1st    0\n",
       "RoofMatl       0\n",
       "SalePrice      0\n",
       "Length: 76, dtype: int64"
      ]
     },
     "execution_count": 42,
     "metadata": {},
     "output_type": "execute_result"
    }
   ],
   "source": [
    "df.isna().sum().sort_values(ascending = False)"
   ]
  },
  {
   "cell_type": "code",
   "execution_count": 43,
   "id": "0ccb8279-8afa-4c97-9e1f-c176e8a99693",
   "metadata": {},
   "outputs": [
    {
     "data": {
      "text/plain": [
       "str"
      ]
     },
     "execution_count": 43,
     "metadata": {},
     "output_type": "execute_result"
    }
   ],
   "source": [
    "# Imputamos MasVnrType\n",
    "type(df['MasVnrType'][0])"
   ]
  },
  {
   "cell_type": "code",
   "execution_count": 44,
   "id": "86b265f2-25bd-4d03-8669-3fe1f3ac2c6d",
   "metadata": {},
   "outputs": [],
   "source": [
    "df.loc[(df['MasVnrType'].isnull() == True), 'MasVnrType'] = stat.mode(df['MasVnrType'])"
   ]
  },
  {
   "cell_type": "code",
   "execution_count": 45,
   "id": "f221acb3-1cfd-4555-9470-256a0424a285",
   "metadata": {},
   "outputs": [
    {
     "data": {
      "text/plain": [
       "MasVnrArea     8\n",
       "Electrical     1\n",
       "Id             0\n",
       "HalfBath       0\n",
       "Fireplaces     0\n",
       "              ..\n",
       "MasVnrType     0\n",
       "Exterior2nd    0\n",
       "Exterior1st    0\n",
       "RoofMatl       0\n",
       "SalePrice      0\n",
       "Length: 76, dtype: int64"
      ]
     },
     "execution_count": 45,
     "metadata": {},
     "output_type": "execute_result"
    }
   ],
   "source": [
    "df.isna().sum().sort_values(ascending = False)"
   ]
  },
  {
   "cell_type": "code",
   "execution_count": 46,
   "id": "f02dc4f0-d32f-4dc2-b6a2-0dc8c39ba312",
   "metadata": {},
   "outputs": [
    {
     "data": {
      "text/plain": [
       "numpy.float64"
      ]
     },
     "execution_count": 46,
     "metadata": {},
     "output_type": "execute_result"
    }
   ],
   "source": [
    "# Imputamos MasVnrArea\n",
    "type(df['MasVnrArea'][0])"
   ]
  },
  {
   "cell_type": "code",
   "execution_count": 47,
   "id": "03ebff38-c655-4bd2-99d6-912beec0478c",
   "metadata": {},
   "outputs": [],
   "source": [
    "df.loc[(df['MasVnrArea'].isnull() == True), 'MasVnrArea'] = df['MasVnrArea'].mean()"
   ]
  },
  {
   "cell_type": "code",
   "execution_count": 48,
   "id": "e62660ec-a68c-4f2e-b121-3e1d18826c89",
   "metadata": {},
   "outputs": [
    {
     "data": {
      "text/plain": [
       "Electrical     1\n",
       "Id             0\n",
       "FullBath       0\n",
       "Fireplaces     0\n",
       "Functional     0\n",
       "              ..\n",
       "MasVnrType     0\n",
       "Exterior2nd    0\n",
       "Exterior1st    0\n",
       "RoofMatl       0\n",
       "SalePrice      0\n",
       "Length: 76, dtype: int64"
      ]
     },
     "execution_count": 48,
     "metadata": {},
     "output_type": "execute_result"
    }
   ],
   "source": [
    "df.isna().sum().sort_values(ascending = False)"
   ]
  },
  {
   "cell_type": "code",
   "execution_count": 49,
   "id": "013f626f-d799-49dd-a82c-765d75757cd6",
   "metadata": {},
   "outputs": [
    {
     "data": {
      "text/plain": [
       "str"
      ]
     },
     "execution_count": 49,
     "metadata": {},
     "output_type": "execute_result"
    }
   ],
   "source": [
    "# Imputamos Electrical\n",
    "type(df['Electrical'][0])"
   ]
  },
  {
   "cell_type": "code",
   "execution_count": 50,
   "id": "da959112-f986-42e9-bcef-b9c8adec397c",
   "metadata": {},
   "outputs": [],
   "source": [
    "df.loc[(df['Electrical'].isnull() == True), 'Electrical'] = stat.mode(df['Electrical'])"
   ]
  },
  {
   "cell_type": "code",
   "execution_count": 51,
   "id": "a63f999c-b42c-4abe-9e34-6c18bc13d176",
   "metadata": {},
   "outputs": [
    {
     "data": {
      "text/plain": [
       "Id              0\n",
       "FullBath        0\n",
       "Fireplaces      0\n",
       "Functional      0\n",
       "TotRmsAbvGrd    0\n",
       "               ..\n",
       "MasVnrType      0\n",
       "Exterior2nd     0\n",
       "Exterior1st     0\n",
       "RoofMatl        0\n",
       "SalePrice       0\n",
       "Length: 76, dtype: int64"
      ]
     },
     "execution_count": 51,
     "metadata": {},
     "output_type": "execute_result"
    }
   ],
   "source": [
    "df.isna().sum().sort_values(ascending = False)"
   ]
  },
  {
   "cell_type": "code",
   "execution_count": 52,
   "id": "2d25c873-e02d-43ce-8d08-f9f33eed3d86",
   "metadata": {},
   "outputs": [
    {
     "data": {
      "text/plain": [
       "<AxesSubplot:>"
      ]
     },
     "execution_count": 52,
     "metadata": {},
     "output_type": "execute_result"
    },
    {
     "data": {
      "image/png": "[encoded data removed]",
      "text/plain": [
       "<Figure size 640x480 with 1 Axes>"
      ]
     },
     "metadata": {},
     "output_type": "display_data"
    }
   ],
   "source": [
    "sns.heatmap(df.isnull(), yticklabels=False, cbar=False, cmap='Reds')"
   ]
  },
  {
   "cell_type": "markdown",
   "id": "a9145914-554d-4a9d-9b90-c7a86e276d80",
   "metadata": {
    "jp-MarkdownHeadingCollapsed": true,
    "tags": []
   },
   "source": [
    "## 3.3 Datos duplicados."
   ]
  },
  {
   "cell_type": "code",
   "execution_count": 53,
   "id": "fc032631-0614-4995-aec9-6f75bdc3bc4a",
   "metadata": {},
   "outputs": [
    {
     "data": {
      "text/plain": [
       "0"
      ]
     },
     "execution_count": 53,
     "metadata": {},
     "output_type": "execute_result"
    }
   ],
   "source": [
    "df.duplicated().sum()"
   ]
  },
  {
   "cell_type": "markdown",
   "id": "53a80e1b-2520-44ec-8d1e-a38e160b0c66",
   "metadata": {
    "jp-MarkdownHeadingCollapsed": true,
    "tags": []
   },
   "source": [
    "## 3.4 Eliminar datos inservibles."
   ]
  },
  {
   "cell_type": "code",
   "execution_count": 54,
   "id": "490ea1fa-9d9f-4889-bde8-ca9bed05eb37",
   "metadata": {},
   "outputs": [],
   "source": [
    "# Observaremos los histogramas de cada variable para decidir si eliminar alguna de ellas.\n",
    "#df.hist(bins = 20, figsize = (60, 40), color ='g', alpha = 0.8, ec = 'black')"
   ]
  },
  {
   "cell_type": "code",
   "execution_count": 55,
   "id": "965d9f07-eed3-4713-b4c4-3693443e2380",
   "metadata": {},
   "outputs": [],
   "source": [
    "df.drop(['Id'], axis=1, inplace = True)"
   ]
  },
  {
   "cell_type": "markdown",
   "id": "9837a7e9-a308-47df-b7a0-16b86ed02c89",
   "metadata": {
    "jp-MarkdownHeadingCollapsed": true,
    "tags": []
   },
   "source": [
    "## 3.5 Observación de las columnas (variables, atributos, etc)."
   ]
  },
  {
   "cell_type": "code",
   "execution_count": 56,
   "id": "e568e507-22fd-4a48-a28b-7699c18b721f",
   "metadata": {},
   "outputs": [
    {
     "data": {
      "text/plain": [
       "75"
      ]
     },
     "execution_count": 56,
     "metadata": {},
     "output_type": "execute_result"
    }
   ],
   "source": [
    "# Cantidad de columnas\n",
    "cantidad_columnas = len(df.columns)\n",
    "cantidad_columnas"
   ]
  },
  {
   "cell_type": "markdown",
   "id": "7036f3e3-fc0a-4fee-abfb-8b2b78de9b1f",
   "metadata": {
    "jp-MarkdownHeadingCollapsed": true,
    "tags": []
   },
   "source": [
    "## 3.6 Gráficos."
   ]
  },
  {
   "cell_type": "markdown",
   "id": "d108e46b-d1ed-44a3-b52b-ec1673efd767",
   "metadata": {
    "jp-MarkdownHeadingCollapsed": true,
    "tags": []
   },
   "source": [
    "## 3.7 Correlaciones entre variables independientes."
   ]
  },
  {
   "cell_type": "markdown",
   "id": "556ce895-26f3-4aa2-a856-957449217a02",
   "metadata": {
    "tags": []
   },
   "source": [
    "### 3.7.1 Matriz de correlaciones."
   ]
  },
  {
   "cell_type": "code",
   "execution_count": 57,
   "id": "8bc10c89-196e-4e79-aebb-67bfc28234e9",
   "metadata": {},
   "outputs": [],
   "source": [
    "#correlations = df.corr()\n",
    "#f, ax = plt.subplots(figsize = (20,20))\n",
    "#sns.heatmap(correlations, annot = True)"
   ]
  },
  {
   "cell_type": "markdown",
   "id": "0ddb4af2-dacb-4326-9b56-0e96073b5069",
   "metadata": {
    "jp-MarkdownHeadingCollapsed": true,
    "tags": []
   },
   "source": [
    "# 4. PREPROCESADO DE LOS DATOS."
   ]
  },
  {
   "cell_type": "markdown",
   "id": "b6b9d346-163c-4880-9ccd-42d7620dedd6",
   "metadata": {
    "jp-MarkdownHeadingCollapsed": true,
    "tags": []
   },
   "source": [
    "## 4.1 Preprocesado del conjunto de variables predictoras."
   ]
  },
  {
   "cell_type": "markdown",
   "id": "687c0481-ae78-462c-b5c3-4e90f1eac301",
   "metadata": {
    "jp-MarkdownHeadingCollapsed": true,
    "tags": []
   },
   "source": [
    "### 4.1.1 Transformación de las variables categóricas a numéricas: función GETDUMMIES."
   ]
  },
  {
   "cell_type": "code",
   "execution_count": 58,
   "id": "0bd4625b-ad56-4a3c-9e35-d47254e4abb6",
   "metadata": {},
   "outputs": [],
   "source": [
    "X_dm = pd.get_dummies(df, drop_first = True)"
   ]
  },
  {
   "cell_type": "markdown",
   "id": "44eed48f-b461-44db-bfc6-2183c75a887c",
   "metadata": {
    "jp-MarkdownHeadingCollapsed": true,
    "tags": []
   },
   "source": [
    "### 4.1.2 Eliminación de la columna Target: \"SalesPrice\"."
   ]
  },
  {
   "cell_type": "code",
   "execution_count": 59,
   "id": "658a89ce-e31e-4da1-887a-620ad563b9a7",
   "metadata": {},
   "outputs": [],
   "source": [
    "X_dm.drop(['SalePrice'], axis=1, inplace = True)"
   ]
  },
  {
   "cell_type": "markdown",
   "id": "5f83039d-f162-498d-8f2b-be3af50d9eca",
   "metadata": {
    "jp-MarkdownHeadingCollapsed": true,
    "tags": []
   },
   "source": [
    "### 4.1.3 Escalamiento de las variables."
   ]
  },
  {
   "cell_type": "code",
   "execution_count": 60,
   "id": "c9a60a61-78ec-452f-8b7a-a59ee6b8df3f",
   "metadata": {},
   "outputs": [],
   "source": [
    "from sklearn.preprocessing import MinMaxScaler\n",
    "sc = MinMaxScaler()\n",
    "X_sc = sc.fit_transform(X_dm)"
   ]
  },
  {
   "cell_type": "code",
   "execution_count": 61,
   "id": "3458ccf5-d505-4259-a9d1-4a9de40df381",
   "metadata": {},
   "outputs": [
    {
     "data": {
      "text/plain": [
       "array([[0.23529412, 0.15068493, 0.0334198 , ..., 0.        , 1.        ,\n",
       "        0.        ],\n",
       "       [0.        , 0.20205479, 0.03879502, ..., 0.        , 1.        ,\n",
       "        0.        ],\n",
       "       [0.23529412, 0.1609589 , 0.04650728, ..., 0.        , 1.        ,\n",
       "        0.        ],\n",
       "       ...,\n",
       "       [0.29411765, 0.15410959, 0.03618687, ..., 0.        , 1.        ,\n",
       "        0.        ],\n",
       "       [0.        , 0.1609589 , 0.03934189, ..., 0.        , 1.        ,\n",
       "        0.        ],\n",
       "       [0.        , 0.18493151, 0.04037019, ..., 0.        , 1.        ,\n",
       "        0.        ]])"
      ]
     },
     "execution_count": 61,
     "metadata": {},
     "output_type": "execute_result"
    }
   ],
   "source": [
    "X_sc"
   ]
  },
  {
   "cell_type": "code",
   "execution_count": 62,
   "id": "e1442b62-a529-40f8-8597-2789621f69da",
   "metadata": {},
   "outputs": [
    {
     "data": {
      "text/plain": [
       "0       208500\n",
       "1       181500\n",
       "2       223500\n",
       "3       140000\n",
       "4       250000\n",
       "         ...  \n",
       "1455    175000\n",
       "1456    210000\n",
       "1457    266500\n",
       "1458    142125\n",
       "1459    147500\n",
       "Name: SalePrice, Length: 1460, dtype: int64"
      ]
     },
     "execution_count": 62,
     "metadata": {},
     "output_type": "execute_result"
    }
   ],
   "source": [
    "y = df['SalePrice']\n",
    "y"
   ]
  },
  {
   "cell_type": "markdown",
   "id": "3a2c55f9-6a1f-45e6-a1b8-a9cddfc43562",
   "metadata": {
    "jp-MarkdownHeadingCollapsed": true,
    "tags": []
   },
   "source": [
    "## 4.2 Separación en entrenamiento y testing."
   ]
  },
  {
   "cell_type": "code",
   "execution_count": 63,
   "id": "071658fe-1dff-43db-88c8-8061271d7ca7",
   "metadata": {},
   "outputs": [],
   "source": [
    "from sklearn.model_selection import train_test_split\n",
    "X_train, X_test, y_train, y_test = train_test_split(X_sc, y, test_size=0.3)"
   ]
  },
  {
   "cell_type": "code",
   "execution_count": 64,
   "id": "143588d7-c06f-440b-ba68-ce30ffb77fe2",
   "metadata": {},
   "outputs": [
    {
     "data": {
      "text/plain": [
       "(1022, 232)"
      ]
     },
     "execution_count": 64,
     "metadata": {},
     "output_type": "execute_result"
    }
   ],
   "source": [
    "X_train.shape # Dimensiones de las observaciones de entrenamiento"
   ]
  },
  {
   "cell_type": "code",
   "execution_count": 65,
   "id": "ceb32844-6ab3-4ff0-a52f-f13172049595",
   "metadata": {},
   "outputs": [
    {
     "data": {
      "text/plain": [
       "(438, 232)"
      ]
     },
     "execution_count": 65,
     "metadata": {},
     "output_type": "execute_result"
    }
   ],
   "source": [
    "X_test.shape # Dimensiones de las dimensiones de testing"
   ]
  },
  {
   "cell_type": "markdown",
   "id": "55845fbb-adc7-4047-a1b3-146991549605",
   "metadata": {
    "tags": []
   },
   "source": [
    "# 5. MACHINE LEARNING: RANDOM FOREST."
   ]
  },
  {
   "cell_type": "markdown",
   "id": "e5899c64-cbe9-4fdd-add1-77ddd04b72dc",
   "metadata": {
    "tags": []
   },
   "source": [
    "## 5.1 Entrenamiento y Evaluación del modelo random forest."
   ]
  },
  {
   "cell_type": "code",
   "execution_count": 66,
   "id": "d8173092-bdcb-436a-b9ce-abe7069c5c9d",
   "metadata": {},
   "outputs": [],
   "source": [
    "from sklearn.ensemble import RandomForestRegressor\n",
    "regression = RandomForestRegressor(n_estimators=10000, random_state = 0)\n",
    "regression.fit(X_train, y_train)\n",
    "\n",
    "# Predicción\n",
    "y_pred = regression.predict(X_test)"
   ]
  },
  {
   "cell_type": "code",
   "execution_count": 67,
   "id": "75963dca-0032-4d07-86b4-0568e318de59",
   "metadata": {},
   "outputs": [],
   "source": [
    "from sklearn.metrics import mean_squared_error, r2_score"
   ]
  },
  {
   "cell_type": "code",
   "execution_count": 68,
   "id": "fd8fdf8d-698f-406b-839c-1b79cfe39e01",
   "metadata": {},
   "outputs": [
    {
     "data": {
      "text/plain": [
       "0.9808619786128432"
      ]
     },
     "execution_count": 68,
     "metadata": {},
     "output_type": "execute_result"
    }
   ],
   "source": [
    "regression.score(X_train,y_train)"
   ]
  },
  {
   "cell_type": "code",
   "execution_count": 69,
   "id": "75368ae5-b714-44b4-9bec-fd252bc9f969",
   "metadata": {},
   "outputs": [
    {
     "data": {
      "text/plain": [
       "0.8566451439964592"
      ]
     },
     "execution_count": 69,
     "metadata": {},
     "output_type": "execute_result"
    }
   ],
   "source": [
    "r2_score(y_test, y_pred)"
   ]
  },
  {
   "cell_type": "code",
   "execution_count": 70,
   "id": "66c58030-6d14-4886-944f-b4c2b518e658",
   "metadata": {},
   "outputs": [],
   "source": [
    "y_pred_comparacion = pd.DataFrame(y_pred)"
   ]
  },
  {
   "cell_type": "code",
   "execution_count": 71,
   "id": "3cc0efeb-7f38-44d2-a5ec-c2cc0f3da359",
   "metadata": {},
   "outputs": [],
   "source": [
    "y_test_comparacion = pd.DataFrame(y_test)"
   ]
  },
  {
   "cell_type": "code",
   "execution_count": 72,
   "id": "4fbd559a-0be4-4a6e-8e5c-624288f6c2a1",
   "metadata": {},
   "outputs": [
    {
     "data": {
      "text/html": [
       "<div>\n",
       "<style scoped>\n",
       "    .dataframe tbody tr th:only-of-type {\n",
       "        vertical-align: middle;\n",
       "    }\n",
       "\n",
       "    .dataframe tbody tr th {\n",
       "        vertical-align: top;\n",
       "    }\n",
       "\n",
       "    .dataframe thead th {\n",
       "        text-align: right;\n",
       "    }\n",
       "</style>\n",
       "<table border=\"1\" class=\"dataframe\">\n",
       "  <thead>\n",
       "    <tr style=\"text-align: right;\">\n",
       "      <th></th>\n",
       "      <th>0</th>\n",
       "      <th>Real_SalePrice</th>\n",
       "    </tr>\n",
       "  </thead>\n",
       "  <tbody>\n",
       "    <tr>\n",
       "      <th>0</th>\n",
       "      <td>196625.1871</td>\n",
       "      <td>227680</td>\n",
       "    </tr>\n",
       "    <tr>\n",
       "      <th>1</th>\n",
       "      <td>139582.7967</td>\n",
       "      <td>160000</td>\n",
       "    </tr>\n",
       "    <tr>\n",
       "      <th>2</th>\n",
       "      <td>147898.8569</td>\n",
       "      <td>155000</td>\n",
       "    </tr>\n",
       "    <tr>\n",
       "      <th>3</th>\n",
       "      <td>137093.3279</td>\n",
       "      <td>127500</td>\n",
       "    </tr>\n",
       "    <tr>\n",
       "      <th>4</th>\n",
       "      <td>205458.9479</td>\n",
       "      <td>215000</td>\n",
       "    </tr>\n",
       "    <tr>\n",
       "      <th>...</th>\n",
       "      <td>...</td>\n",
       "      <td>...</td>\n",
       "    </tr>\n",
       "    <tr>\n",
       "      <th>433</th>\n",
       "      <td>133952.7239</td>\n",
       "      <td>120000</td>\n",
       "    </tr>\n",
       "    <tr>\n",
       "      <th>434</th>\n",
       "      <td>255869.6635</td>\n",
       "      <td>284000</td>\n",
       "    </tr>\n",
       "    <tr>\n",
       "      <th>435</th>\n",
       "      <td>344198.2085</td>\n",
       "      <td>350000</td>\n",
       "    </tr>\n",
       "    <tr>\n",
       "      <th>436</th>\n",
       "      <td>142641.6287</td>\n",
       "      <td>97500</td>\n",
       "    </tr>\n",
       "    <tr>\n",
       "      <th>437</th>\n",
       "      <td>115471.8573</td>\n",
       "      <td>112000</td>\n",
       "    </tr>\n",
       "  </tbody>\n",
       "</table>\n",
       "<p>438 rows × 2 columns</p>\n",
       "</div>"
      ],
      "text/plain": [
       "               0  Real_SalePrice\n",
       "0    196625.1871          227680\n",
       "1    139582.7967          160000\n",
       "2    147898.8569          155000\n",
       "3    137093.3279          127500\n",
       "4    205458.9479          215000\n",
       "..           ...             ...\n",
       "433  133952.7239          120000\n",
       "434  255869.6635          284000\n",
       "435  344198.2085          350000\n",
       "436  142641.6287           97500\n",
       "437  115471.8573          112000\n",
       "\n",
       "[438 rows x 2 columns]"
      ]
     },
     "execution_count": 72,
     "metadata": {},
     "output_type": "execute_result"
    }
   ],
   "source": [
    "# Data Frame con las predicciones\n",
    "y_pred_comparacion['Real_SalePrice'] = y_test_comparacion.values\n",
    "y_pred_comparacion"
   ]
  },
  {
   "cell_type": "markdown",
   "id": "86a893dc-d8c1-4a4c-9562-9f41791682fc",
   "metadata": {
    "tags": []
   },
   "source": [
    "## 5.2 Predicción."
   ]
  },
  {
   "cell_type": "markdown",
   "id": "6143f623-2450-448c-879c-17a291feded5",
   "metadata": {
    "jp-MarkdownHeadingCollapsed": true,
    "tags": []
   },
   "source": [
    "#### Cargar set de datos, imputación de nulos y eliminación de columnas."
   ]
  },
  {
   "cell_type": "code",
   "execution_count": 73,
   "id": "fd3abc1a-85c9-4c16-8373-7bf21f0c4cfc",
   "metadata": {},
   "outputs": [],
   "source": [
    "# leer dataset\n",
    "df_test = pd.read_csv(\"test.csv\")"
   ]
  },
  {
   "cell_type": "code",
   "execution_count": 74,
   "id": "baa15862-04f1-4c39-99c1-887fadf60d05",
   "metadata": {},
   "outputs": [],
   "source": [
    "df_test.drop(['Id'], axis=1, inplace = True)"
   ]
  },
  {
   "cell_type": "code",
   "execution_count": 75,
   "id": "7562233f-c6e3-4b2c-a643-11bca4e3b988",
   "metadata": {},
   "outputs": [
    {
     "data": {
      "text/plain": [
       "PoolQC           1456\n",
       "MiscFeature      1408\n",
       "Alley            1352\n",
       "Fence            1169\n",
       "FireplaceQu       730\n",
       "                 ... \n",
       "Electrical          0\n",
       "1stFlrSF            0\n",
       "2ndFlrSF            0\n",
       "LowQualFinSF        0\n",
       "SaleCondition       0\n",
       "Length: 79, dtype: int64"
      ]
     },
     "execution_count": 75,
     "metadata": {},
     "output_type": "execute_result"
    }
   ],
   "source": [
    "df_test.isna().sum().sort_values(ascending = False)"
   ]
  },
  {
   "cell_type": "code",
   "execution_count": 76,
   "id": "1d0fb911-19f7-40eb-ac63-cc0ed8a445b4",
   "metadata": {},
   "outputs": [],
   "source": [
    "# borramos los que tienen nan superiores al 50%\n",
    "df_test.drop(['PoolQC','MiscFeature','Alley','Fence','FireplaceQu'], axis=1, inplace = True)"
   ]
  },
  {
   "cell_type": "markdown",
   "id": "8a3ce45d-eeca-4570-bc77-b4f7dce42649",
   "metadata": {
    "jp-MarkdownHeadingCollapsed": true,
    "tags": []
   },
   "source": [
    "#### Imputación de nulos."
   ]
  },
  {
   "cell_type": "code",
   "execution_count": 77,
   "id": "06d815f8-74da-4e48-a18a-16ee3240c90d",
   "metadata": {},
   "outputs": [],
   "source": [
    "df_test.loc[(df_test['LotFrontage'].isnull() == True), 'LotFrontage'] = df_test['LotFrontage'].mean()"
   ]
  },
  {
   "cell_type": "code",
   "execution_count": 78,
   "id": "03aaeb35-8840-493a-8343-f161f992ee9c",
   "metadata": {},
   "outputs": [],
   "source": [
    "df_test.loc[(df_test['GarageType'].isnull() == True), 'GarageType'] = stat.mode(df_test['GarageType'])"
   ]
  },
  {
   "cell_type": "code",
   "execution_count": 79,
   "id": "1802b34c-19a3-4e94-8d28-9d45ae7526eb",
   "metadata": {},
   "outputs": [],
   "source": [
    "df_test.loc[(df_test['GarageYrBlt'].isnull() == True), 'GarageYrBlt'] = df_test['GarageYrBlt'].mean()"
   ]
  },
  {
   "cell_type": "code",
   "execution_count": 80,
   "id": "210b0109-1059-4e61-99ea-65dae4d38489",
   "metadata": {},
   "outputs": [],
   "source": [
    "df_test.loc[(df_test['GarageFinish'].isnull() == True), 'GarageFinish'] = stat.mode(df_test['GarageFinish'])"
   ]
  },
  {
   "cell_type": "code",
   "execution_count": 81,
   "id": "294b0c0a-09b3-4d99-a88e-4a113671b664",
   "metadata": {},
   "outputs": [],
   "source": [
    "df_test.loc[(df_test['GarageQual'].isnull() == True), 'GarageQual'] = stat.mode(df_test['GarageQual'])"
   ]
  },
  {
   "cell_type": "code",
   "execution_count": 82,
   "id": "a0a3ce5f-6fd5-407d-b5c3-d92c2e39cb0a",
   "metadata": {},
   "outputs": [],
   "source": [
    "df_test.loc[(df_test['GarageCond'].isnull() == True), 'GarageCond'] = stat.mode(df_test['GarageCond'])"
   ]
  },
  {
   "cell_type": "code",
   "execution_count": 83,
   "id": "eb1c4055-948e-446d-8ecf-a08a913a6497",
   "metadata": {},
   "outputs": [],
   "source": [
    "df_test.loc[(df_test['BsmtFinType2'].isnull() == True), 'BsmtFinType2'] = stat.mode(df_test['BsmtFinType2'])"
   ]
  },
  {
   "cell_type": "code",
   "execution_count": 84,
   "id": "ba81bce1-188b-41b5-b8c3-d8ab601cc894",
   "metadata": {},
   "outputs": [],
   "source": [
    "df_test.loc[(df_test['BsmtExposure'].isnull() == True), 'BsmtExposure'] = stat.mode(df_test['BsmtExposure'])"
   ]
  },
  {
   "cell_type": "code",
   "execution_count": 85,
   "id": "dc435669-848e-4186-82d9-d7b0ae90f378",
   "metadata": {},
   "outputs": [],
   "source": [
    "df_test.loc[(df_test['BsmtCond'].isnull() == True), 'BsmtCond'] = stat.mode(df_test['BsmtCond'])"
   ]
  },
  {
   "cell_type": "code",
   "execution_count": 86,
   "id": "a3adb081-1e57-460f-a8a8-bc9141eced05",
   "metadata": {},
   "outputs": [],
   "source": [
    "df_test.loc[(df_test['BsmtQual'].isnull() == True), 'BsmtQual'] = stat.mode(df_test['BsmtQual'])"
   ]
  },
  {
   "cell_type": "code",
   "execution_count": 87,
   "id": "08f04b3e-6b2b-4aab-99f6-c9c234734e5a",
   "metadata": {},
   "outputs": [],
   "source": [
    "df_test.loc[(df_test['BsmtFinType1'].isnull() == True), 'BsmtFinType1'] = stat.mode(df_test['BsmtFinType1'])"
   ]
  },
  {
   "cell_type": "code",
   "execution_count": 88,
   "id": "a8166978-5d55-42d7-8c78-237417592475",
   "metadata": {},
   "outputs": [],
   "source": [
    "df_test.loc[(df_test['MasVnrType'].isnull() == True), 'MasVnrType'] = stat.mode(df_test['MasVnrType'])"
   ]
  },
  {
   "cell_type": "code",
   "execution_count": 89,
   "id": "33ae6e8b-923e-40bb-878a-ddc44152257f",
   "metadata": {},
   "outputs": [],
   "source": [
    "df_test.loc[(df_test['MasVnrArea'].isnull() == True), 'MasVnrArea'] = df_test['MasVnrArea'].mean()"
   ]
  },
  {
   "cell_type": "code",
   "execution_count": 90,
   "id": "241e4846-17fb-4d5d-a93b-4166029e62e2",
   "metadata": {},
   "outputs": [],
   "source": [
    "df_test.loc[(df_test['MSZoning'].isnull() == True), 'MSZoning'] = stat.mode(df_test['MSZoning'])"
   ]
  },
  {
   "cell_type": "code",
   "execution_count": 91,
   "id": "f797a73c-d800-41e2-a57c-45d00457118b",
   "metadata": {},
   "outputs": [],
   "source": [
    "df_test.loc[(df_test['BsmtHalfBath'].isnull() == True), 'BsmtHalfBath'] = stat.mode(df_test['BsmtHalfBath'])"
   ]
  },
  {
   "cell_type": "code",
   "execution_count": 92,
   "id": "8de78c05-aaa3-4b2e-9212-bb1ca1c6326d",
   "metadata": {},
   "outputs": [],
   "source": [
    "df_test.loc[(df_test['Functional'].isnull() == True), 'Functional'] = stat.mode(df_test['Functional'])"
   ]
  },
  {
   "cell_type": "code",
   "execution_count": 93,
   "id": "19ed6576-fe1f-4490-81db-38451bbb2a6c",
   "metadata": {},
   "outputs": [],
   "source": [
    "df_test.loc[(df_test['Utilities'].isnull() == True), 'Utilities'] = stat.mode(df_test['Utilities'])"
   ]
  },
  {
   "cell_type": "code",
   "execution_count": 94,
   "id": "2fccc778-d85f-49d7-bdf3-b4f5c2782d45",
   "metadata": {},
   "outputs": [],
   "source": [
    "df_test.loc[(df_test['BsmtFullBath'].isnull() == True), 'BsmtFullBath'] = df_test['BsmtFullBath'].mean()"
   ]
  },
  {
   "cell_type": "code",
   "execution_count": 95,
   "id": "fedaaad0-28ba-4c35-8d42-b0cab1ce37e3",
   "metadata": {},
   "outputs": [],
   "source": [
    "df_test.loc[(df_test['TotalBsmtSF'].isnull() == True), 'TotalBsmtSF'] = df_test['TotalBsmtSF'].mean()"
   ]
  },
  {
   "cell_type": "code",
   "execution_count": 96,
   "id": "b42b67fd-c885-4703-9f0d-35b7ce303a55",
   "metadata": {},
   "outputs": [],
   "source": [
    "df_test.loc[(df_test['Exterior1st'].isnull() == True), 'Exterior1st'] = stat.mode(df_test['Exterior1st'])"
   ]
  },
  {
   "cell_type": "code",
   "execution_count": 97,
   "id": "ed866bf8-976c-4726-b740-1a24c921a835",
   "metadata": {},
   "outputs": [],
   "source": [
    "df_test.loc[(df_test['SaleType'].isnull() == True), 'SaleType'] = stat.mode(df_test['SaleType'])"
   ]
  },
  {
   "cell_type": "code",
   "execution_count": 98,
   "id": "855c432e-6dae-40a4-be99-8cff2cf5fb62",
   "metadata": {},
   "outputs": [],
   "source": [
    "df_test.loc[(df_test['Exterior2nd'].isnull() == True), 'Exterior2nd'] = stat.mode(df_test['Exterior2nd'])"
   ]
  },
  {
   "cell_type": "code",
   "execution_count": 99,
   "id": "e764a679-56ad-45b7-bdd2-e5af4f3ec5ae",
   "metadata": {},
   "outputs": [],
   "source": [
    "df_test.loc[(df_test['BsmtUnfSF'].isnull() == True), 'BsmtUnfSF'] = df_test['BsmtUnfSF'].mean()"
   ]
  },
  {
   "cell_type": "code",
   "execution_count": 100,
   "id": "5baa9818-7be9-46b4-ad46-2bf90ceae574",
   "metadata": {},
   "outputs": [],
   "source": [
    "df_test.loc[(df_test['BsmtFinSF2'].isnull() == True), 'BsmtFinSF2'] = df_test['BsmtFinSF2'].mean()"
   ]
  },
  {
   "cell_type": "code",
   "execution_count": 101,
   "id": "89528f93-d912-4863-be47-c7854dce732b",
   "metadata": {},
   "outputs": [],
   "source": [
    "df_test.loc[(df_test['GarageCars'].isnull() == True), 'GarageCars'] = df_test['GarageCars'].mean()"
   ]
  },
  {
   "cell_type": "code",
   "execution_count": 102,
   "id": "41517cbf-db62-4701-931b-bfda190221b2",
   "metadata": {},
   "outputs": [],
   "source": [
    "df_test.loc[(df_test['GarageArea'].isnull() == True), 'GarageArea'] = df_test['GarageArea'].mean()"
   ]
  },
  {
   "cell_type": "code",
   "execution_count": 103,
   "id": "a0e4f852-276c-44c3-be45-86ba3e761253",
   "metadata": {},
   "outputs": [],
   "source": [
    "df_test.loc[(df_test['KitchenQual'].isnull() == True), 'KitchenQual'] = stat.mode(df_test['KitchenQual'])"
   ]
  },
  {
   "cell_type": "code",
   "execution_count": 104,
   "id": "aa157010-fbb7-4acf-9f2c-e105b26844be",
   "metadata": {},
   "outputs": [],
   "source": [
    "df_test.loc[(df_test['BsmtFinSF1'].isnull() == True), 'BsmtFinSF1'] = df_test['BsmtFinSF1'].mean()"
   ]
  },
  {
   "cell_type": "code",
   "execution_count": 105,
   "id": "bd105d59-98f7-458e-a30f-33d07a22c38d",
   "metadata": {},
   "outputs": [
    {
     "data": {
      "text/plain": [
       "<AxesSubplot:>"
      ]
     },
     "execution_count": 105,
     "metadata": {},
     "output_type": "execute_result"
    },
    {
     "data": {
      "image/png": "[encoded data removed]",
      "text/plain": [
       "<Figure size 640x480 with 1 Axes>"
      ]
     },
     "metadata": {},
     "output_type": "display_data"
    }
   ],
   "source": [
    "sns.heatmap(df_test.isnull(), yticklabels=False, cbar=False, cmap='Reds')"
   ]
  },
  {
   "cell_type": "markdown",
   "id": "2548274f-191a-4826-bf21-cb3d446a35e7",
   "metadata": {
    "jp-MarkdownHeadingCollapsed": true,
    "tags": []
   },
   "source": [
    "#### Eliminar variables, get dummies e imputaciones."
   ]
  },
  {
   "cell_type": "code",
   "execution_count": 106,
   "id": "47a13bad-7b83-4e36-aae7-0b973ce8e7fc",
   "metadata": {},
   "outputs": [],
   "source": [
    "# función get dummies\n",
    "X_test = pd.get_dummies(df_test, drop_first = True)"
   ]
  },
  {
   "cell_type": "code",
   "execution_count": 107,
   "id": "a36639f5-f4a9-4d41-92a0-1c2b4effbd04",
   "metadata": {},
   "outputs": [],
   "source": [
    "# No todas las variables serán iguales en los sets de entrenamiento y test.\n",
    "# Por lo que agregaremos las filas faltantes de train a test.\n",
    "X_test = X_test.reindex(labels=X_dm.columns,axis=1)"
   ]
  },
  {
   "cell_type": "code",
   "execution_count": 108,
   "id": "b40ba081-610f-458c-8a29-cca6b1dbe6dd",
   "metadata": {},
   "outputs": [
    {
     "data": {
      "text/plain": [
       "Exterior1st_ImStucc      1459\n",
       "RoofMatl_CompShg         1459\n",
       "Heating_GasA             1459\n",
       "Heating_OthW             1459\n",
       "Utilities_NoSeWa         1459\n",
       "                         ... \n",
       "Condition1_Norm             0\n",
       "Condition1_PosA             0\n",
       "Condition1_PosN             0\n",
       "Condition1_RRAe             0\n",
       "SaleCondition_Partial       0\n",
       "Length: 232, dtype: int64"
      ]
     },
     "execution_count": 108,
     "metadata": {},
     "output_type": "execute_result"
    }
   ],
   "source": [
    "# Obtenemos columnas con NaN en toda su extensión\n",
    "X_test.isna().sum().sort_values(ascending = False)"
   ]
  },
  {
   "cell_type": "code",
   "execution_count": 109,
   "id": "01e1e2f7-c459-4bf4-9674-8f204ecb3b23",
   "metadata": {},
   "outputs": [],
   "source": [
    "# Por lo que imputaremos por cero todas los datos"
   ]
  },
  {
   "cell_type": "code",
   "execution_count": 110,
   "id": "ed20f7a0-b67d-4f57-ad0b-2420667f3059",
   "metadata": {},
   "outputs": [],
   "source": [
    "X_test.loc[(X_test['Exterior1st_ImStucc'].isnull() == True), 'Exterior1st_ImStucc'] = 0"
   ]
  },
  {
   "cell_type": "code",
   "execution_count": 111,
   "id": "050ac845-815c-48f5-b695-840ec0915944",
   "metadata": {},
   "outputs": [],
   "source": [
    "X_test.loc[(X_test['Condition2_RRAe'].isnull() == True), 'Condition2_RRAe'] = 0"
   ]
  },
  {
   "cell_type": "code",
   "execution_count": 112,
   "id": "5bf8420c-d455-443f-9863-ce1975e95a9e",
   "metadata": {},
   "outputs": [],
   "source": [
    "X_test.loc[(X_test['Utilities_NoSeWa'].isnull() == True), 'Utilities_NoSeWa'] = 0"
   ]
  },
  {
   "cell_type": "code",
   "execution_count": 113,
   "id": "66d711a3-49f2-421d-a032-20fcd034d877",
   "metadata": {},
   "outputs": [],
   "source": [
    "X_test.loc[(X_test['Exterior2nd_Other'].isnull() == True), 'Exterior2nd_Other'] = 0"
   ]
  },
  {
   "cell_type": "code",
   "execution_count": 114,
   "id": "5a92bdd7-ad09-43f1-a4ee-e44cd71f9a08",
   "metadata": {},
   "outputs": [],
   "source": [
    "X_test.loc[(X_test['Heating_OthW'].isnull() == True), 'Heating_OthW'] = 0"
   ]
  },
  {
   "cell_type": "code",
   "execution_count": 115,
   "id": "d625e7a7-b604-4bcc-99f0-a648986fb044",
   "metadata": {},
   "outputs": [],
   "source": [
    "X_test.loc[(X_test['RoofMatl_CompShg'].isnull() == True), 'RoofMatl_CompShg'] = 0"
   ]
  },
  {
   "cell_type": "code",
   "execution_count": 116,
   "id": "25fa8c10-6310-440a-a98d-933a932d48ff",
   "metadata": {},
   "outputs": [],
   "source": [
    "X_test.loc[(X_test['RoofMatl_Metal'].isnull() == True), 'RoofMatl_Metal'] = 0"
   ]
  },
  {
   "cell_type": "code",
   "execution_count": 117,
   "id": "5d6757fd-8665-46a6-9484-0f49ff5b31b9",
   "metadata": {},
   "outputs": [],
   "source": [
    "X_test.loc[(X_test['GarageQual_Fa'].isnull() == True), 'GarageQual_Fa'] = 0"
   ]
  },
  {
   "cell_type": "code",
   "execution_count": 118,
   "id": "def86140-7475-48fe-8f1f-572a75d7df2c",
   "metadata": {},
   "outputs": [],
   "source": [
    "X_test.loc[(X_test['Electrical_Mix'].isnull() == True), 'Electrical_Mix'] = 0"
   ]
  },
  {
   "cell_type": "code",
   "execution_count": 119,
   "id": "420a0b22-27cd-471e-989e-f8bd437080c9",
   "metadata": {},
   "outputs": [],
   "source": [
    "X_test.loc[(X_test['Heating_GasA'].isnull() == True), 'Heating_GasA'] = 0"
   ]
  },
  {
   "cell_type": "code",
   "execution_count": 120,
   "id": "20a65875-b201-4a01-a4a6-662104292a4e",
   "metadata": {},
   "outputs": [],
   "source": [
    "X_test.loc[(X_test['RoofMatl_Membran'].isnull() == True), 'RoofMatl_Membran'] = 0"
   ]
  },
  {
   "cell_type": "code",
   "execution_count": 121,
   "id": "1e6fefd0-9c95-48c3-a611-0687c84b4523",
   "metadata": {},
   "outputs": [],
   "source": [
    "X_test.loc[(X_test['Condition2_RRAn'].isnull() == True), 'Condition2_RRAn'] = 0"
   ]
  },
  {
   "cell_type": "code",
   "execution_count": 122,
   "id": "3f51b5ae-3ee7-4d99-8b98-2dd732a49f8d",
   "metadata": {},
   "outputs": [],
   "source": [
    "X_test.loc[(X_test['Condition2_RRNn'].isnull() == True), 'Condition2_RRNn'] = 0"
   ]
  },
  {
   "cell_type": "code",
   "execution_count": 123,
   "id": "f42e9c58-9965-4351-95ad-ef430279f1fd",
   "metadata": {},
   "outputs": [],
   "source": [
    "X_test.loc[(X_test['Exterior1st_Stone'].isnull() == True), 'Exterior1st_Stone'] = 0"
   ]
  },
  {
   "cell_type": "code",
   "execution_count": 124,
   "id": "552f93bc-3e16-4c3c-93ad-d202852b27e7",
   "metadata": {},
   "outputs": [],
   "source": [
    "X_test.loc[(X_test['RoofMatl_Roll'].isnull() == True), 'RoofMatl_Roll'] = 0"
   ]
  },
  {
   "cell_type": "code",
   "execution_count": 125,
   "id": "61f163af-ecc3-4afe-a3c2-c19ebac5631c",
   "metadata": {},
   "outputs": [],
   "source": [
    "X_test.loc[(X_test['HouseStyle_2.5Fin'].isnull() == True), 'HouseStyle_2.5Fin'] = 0"
   ]
  },
  {
   "cell_type": "code",
   "execution_count": 126,
   "id": "45db7d53-2e12-4fbe-b77f-0b19ab4a955d",
   "metadata": {},
   "outputs": [
    {
     "data": {
      "text/plain": [
       "MSSubClass               0\n",
       "Foundation_Wood          0\n",
       "MasVnrType_Stone         0\n",
       "ExterQual_Fa             0\n",
       "ExterQual_Gd             0\n",
       "                        ..\n",
       "Condition1_PosN          0\n",
       "Condition1_RRAe          0\n",
       "Condition1_RRAn          0\n",
       "Condition1_RRNe          0\n",
       "SaleCondition_Partial    0\n",
       "Length: 232, dtype: int64"
      ]
     },
     "execution_count": 126,
     "metadata": {},
     "output_type": "execute_result"
    }
   ],
   "source": [
    "X_test.isna().sum().sort_values(ascending = False)"
   ]
  },
  {
   "cell_type": "markdown",
   "id": "43c906ad-3b7e-4fa7-bd71-1d6a1f76b4ec",
   "metadata": {
    "jp-MarkdownHeadingCollapsed": true,
    "tags": []
   },
   "source": [
    "#### Escalamiento de las variables."
   ]
  },
  {
   "cell_type": "code",
   "execution_count": 127,
   "id": "380afc33-fb69-47b9-b2f8-b982406fe72b",
   "metadata": {},
   "outputs": [],
   "source": [
    "# Escalamiento de las variables\n",
    "X_sc_test = sc.fit_transform(X_test)"
   ]
  },
  {
   "cell_type": "code",
   "execution_count": 128,
   "id": "7ef49cdc-6eb9-4042-929f-f02bbc484e4d",
   "metadata": {},
   "outputs": [
    {
     "data": {
      "text/plain": [
       "array([[0.        , 0.32960894, 0.18414656, ..., 0.        , 1.        ,\n",
       "        0.        ],\n",
       "       [0.        , 0.33519553, 0.23212407, ..., 0.        , 1.        ,\n",
       "        0.        ],\n",
       "       [0.23529412, 0.29608939, 0.22419735, ..., 0.        , 1.        ,\n",
       "        0.        ],\n",
       "       ...,\n",
       "       [0.        , 0.77653631, 0.33611464, ..., 0.        , 0.        ,\n",
       "        0.        ],\n",
       "       [0.38235294, 0.22905028, 0.16272447, ..., 0.        , 1.        ,\n",
       "        0.        ],\n",
       "       [0.23529412, 0.29608939, 0.14795937, ..., 0.        , 1.        ,\n",
       "        0.        ]])"
      ]
     },
     "execution_count": 128,
     "metadata": {},
     "output_type": "execute_result"
    }
   ],
   "source": [
    "X_sc_test"
   ]
  },
  {
   "cell_type": "code",
   "execution_count": 129,
   "id": "a606d6e8-87a6-4385-87e1-25e6489e5c25",
   "metadata": {},
   "outputs": [
    {
     "data": {
      "text/plain": [
       "(1459, 232)"
      ]
     },
     "execution_count": 129,
     "metadata": {},
     "output_type": "execute_result"
    }
   ],
   "source": [
    "X_sc_test.shape # Dimensiones de las observaciones de entrenamiento"
   ]
  },
  {
   "cell_type": "markdown",
   "id": "8e57ccd3-6d38-46e9-9afb-6950295a10b6",
   "metadata": {
    "tags": []
   },
   "source": [
    "#### Predicción del conjunto de test, creación del DataFrame y Exporte a CSV."
   ]
  },
  {
   "cell_type": "code",
   "execution_count": 130,
   "id": "d396b4ff-33f1-4fc6-bb80-a9c4f8dc268a",
   "metadata": {},
   "outputs": [],
   "source": [
    "# Predicción\n",
    "y_pred_test = regression.predict(X_sc_test)"
   ]
  },
  {
   "cell_type": "code",
   "execution_count": 131,
   "id": "89c9d6ac-431f-4f35-b04f-f85b72738432",
   "metadata": {},
   "outputs": [
    {
     "data": {
      "text/plain": [
       "array([137796.8789, 160898.5915, 199780.8033, ..., 158619.3956,\n",
       "       133869.6675, 268431.9207])"
      ]
     },
     "execution_count": 131,
     "metadata": {},
     "output_type": "execute_result"
    }
   ],
   "source": [
    "# Revisamos\n",
    "y_pred_test"
   ]
  },
  {
   "cell_type": "code",
   "execution_count": 132,
   "id": "aeeecce0-c1ff-425d-adf9-f25d2ba28ac6",
   "metadata": {},
   "outputs": [
    {
     "name": "stderr",
     "output_type": "stream",
     "text": [
      "C:\\Users\\Danko\\AppData\\Local\\Temp\\ipykernel_9292\\2624255848.py:8: SettingWithCopyWarning: \n",
      "A value is trying to be set on a copy of a slice from a DataFrame.\n",
      "Try using .loc[row_indexer,col_indexer] = value instead\n",
      "\n",
      "See the caveats in the documentation: https://pandas.pydata.org/pandas-docs/stable/user_guide/indexing.html#returning-a-view-versus-a-copy\n",
      "  df_entrega['SalePrice'] = df_salesprice.values\n"
     ]
    }
   ],
   "source": [
    "# Vamos a transformar el array de y_pred en un data frame\n",
    "df_salesprice = pd.DataFrame(y_pred_test)\n",
    "# y obtener la columna salesprice desde el data frame de test\n",
    "df_test = pd.read_csv(\"test.csv\")\n",
    "# crearé un df de entrega con la columna Id  \n",
    "df_entrega = df_test[['Id']]\n",
    "# y le agregaré la columna SalePrice\n",
    "df_entrega['SalePrice'] = df_salesprice.values"
   ]
  },
  {
   "cell_type": "code",
   "execution_count": 133,
   "id": "2c505e62-f232-4c4a-b3ee-76049fd75f49",
   "metadata": {},
   "outputs": [],
   "source": [
    "df_entrega.to_csv('prediction.csv', index=False)"
   ]
  }
 ],
 "metadata": {
  "kernelspec": {
   "display_name": "Python 3 (ipykernel)",
   "language": "python",
   "name": "python3"
  },
  "language_info": {
   "codemirror_mode": {
    "name": "ipython",
    "version": 3
   },
   "file_extension": ".py",
   "mimetype": "text/x-python",
   "name": "python",
   "nbconvert_exporter": "python",
   "pygments_lexer": "ipython3",
   "version": "3.9.13"
  }
 },
 "nbformat": 4,
 "nbformat_minor": 5
}
