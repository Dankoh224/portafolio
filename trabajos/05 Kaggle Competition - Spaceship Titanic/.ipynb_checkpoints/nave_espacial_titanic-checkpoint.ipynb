{
 "cells": [
  {
   "cell_type": "markdown",
   "id": "8c70db7d-e5eb-4952-b269-75ab88a876df",
   "metadata": {},
   "source": [
    "<div align=\"center\">\n",
    "    <h1> <b>COMPETENCIA KAGGLE BÁSICO</b></h1>\n",
    "    <h1> <b>NAVE ESPACIAL TITANIC</b></h1><br>\n",
    "</div>\n",
    "<div>\n",
    "    <h3> <b>Algoritmos: Regresión Logística.</b></h3>\n",
    "</div>"
   ]
  },
  {
   "cell_type": "markdown",
   "id": "48ebdee3-04ce-4861-b6f2-38c61017764d",
   "metadata": {
    "id": "M27qF7CTrBqc",
    "jp-MarkdownHeadingCollapsed": true,
    "tags": []
   },
   "source": [
    "# 1. ENUNCIADO DEL PROBLEMA Y CASO PRÁCTICO."
   ]
  },
  {
   "cell_type": "markdown",
   "id": "afc6a036-8c4c-45fe-af53-6655db134087",
   "metadata": {
    "id": "Z2ZMlH-gtOxf"
   },
   "source": [
    "<div align=\"center\">\n",
    "    <div>\n",
    "    <img src=\"http://localhost:8888/files/Dropbox/00%20Programacion/00_portafolio/practica/03%20nave%20espacial%20titanic/anomalia.jpg?_xsrf=2%7C2b57709b%7Cc53e7d037a3517317e6e50f26270553b%7C1686317232\" alt=\"Fashion MNIST sprite\"  width=\"500\">\n",
    "    </div>\n",
    "    <b>Figura 1. Anomalía Galáctica</b>\n",
    "</div>"
   ]
  },
  {
   "cell_type": "markdown",
   "id": "f5d26f53-167b-452b-bddb-e9e66f70523f",
   "metadata": {
    "jp-MarkdownHeadingCollapsed": true,
    "tags": []
   },
   "source": [
    "## 1.1 Entendimiento del Problema."
   ]
  },
  {
   "cell_type": "markdown",
   "id": "8b212a3e-1b9b-4f93-a53b-784c4bea9eca",
   "metadata": {
    "id": "qANsbnOpp6Ft"
   },
   "source": [
    "#### Bienvenido al año 2912, donde se necesitan tus habilidades de ciencia de datos para resolver un misterio cósmico. Hemos recibido una transmisión desde cuatro años luz de distancia y las cosas no pintan bien.\n",
    "\n",
    "#### La nave espacial Titanic fue un transatlántico de pasajeros interestelar lanzado hace un mes. Con casi 13.000 pasajeros a bordo, la nave emprendió su viaje inaugural transportando emigrantes de nuestro sistema solar a tres exoplanetas recientemente habitables que orbitan estrellas cercanas.\n",
    "\n",
    "#### Mientras rodeaba Alpha Centauri en ruta hacia su primer destino, el tórrido 55 Cancri E, la desprevenida nave espacial Titanic chocó con una anomalía del espacio-tiempo escondida dentro de una nube de polvo. Lamentablemente, tuvo un destino similar al de su homónimo de 1000 años antes. Aunque la nave permaneció intacta, ¡casi la mitad de los pasajeros fueron transportados a una dimensión alternativa!\n",
    "\n",
    "#### Para ayudar a las tripulaciones de rescate y recuperar a los pasajeros perdidos, debe predecir qué pasajeros fueron transportados por la anomalía utilizando los registros recuperados del sistema informático dañado de la nave espacial.\n",
    "\n",
    "#### ¡Ayuda a salvarlos y cambia la historia!"
   ]
  },
  {
   "cell_type": "markdown",
   "id": "e3f367d7-93da-4ba2-9534-aef7e1dcf533",
   "metadata": {
    "jp-MarkdownHeadingCollapsed": true,
    "tags": []
   },
   "source": [
    "## 1.2 Objetivo del Estudio y Características del Cliente."
   ]
  },
  {
   "cell_type": "markdown",
   "id": "5c6c41e5-17fb-41ff-835e-94cb61053d67",
   "metadata": {
    "id": "ladNLq1WqDY6"
   },
   "source": [
    "#### En esta competencia, tu tarea es predecir si un pasajero fue transportado a una dimensión alternativa durante la colisión de la nave espacial Titanic con la anomalía del espacio-tiempo. Para ayudarlo a hacer estas predicciones, se le proporciona un conjunto de registros personales recuperados del sistema informático dañado del barco.\n",
    "\n",
    "#### 1) PassengerId- Un Id único para cada pasajero. Cada Id toma la forma gggg_ppdonde ggggindica un grupo con el que viaja el pasajero y ppes su número dentro del grupo. Las personas en un grupo a menudo son miembros de la familia, pero no siempre.\n",
    "#### 2) HomePlanet- El planeta del que partió el pasajero, normalmente su planeta de residencia permanente.\n",
    "#### 3) CryoSleep- Indica si el pasajero eligió ser puesto en animación suspendida durante la duración del viaje. Los pasajeros en criosueño están confinados en sus cabinas.\n",
    "#### 4) Cabin- El número de cabina donde se hospeda el pasajero. Toma la forma deck/num/side, deck: cubierta; num: número y side: P de Babor o S de Estribor.\n",
    "#### 5) Destination- El planeta al que desembarcará el pasajero.\n",
    "#### 6) Age- La edad del pasajero.\n",
    "#### 7) VIP- Si el pasajero ha pagado por servicio VIP especial durante el viaje.\n",
    "#### 8) RoomService, FoodCourt, ShoppingMall, Spa, VRDeck- Monto que el pasajero ha facturado en cada uno de los muchos servicios de lujo del Spaceship Titanic .\n",
    "#### 9) Name- El nombre y apellido del pasajero.\n",
    "#### 10) Transported- Si el pasajero fue transportado a otra dimensión. Este es el objetivo, la columna que está tratando de predecir."
   ]
  },
  {
   "cell_type": "markdown",
   "id": "152123dc-3f09-4aa2-86ce-32acbfe639bb",
   "metadata": {
    "id": "uAE6Icc0uylP",
    "jp-MarkdownHeadingCollapsed": true,
    "tags": []
   },
   "source": [
    "# 2. IMPORTAR LAS LIBRERÍAS Y OBTENER INFORMACIÓN GENERAL."
   ]
  },
  {
   "cell_type": "markdown",
   "id": "800185e7-7589-49a6-9c7f-715d6b40ee47",
   "metadata": {
    "jp-MarkdownHeadingCollapsed": true,
    "tags": []
   },
   "source": [
    "## 2.1 Importe de librerías."
   ]
  },
  {
   "cell_type": "code",
   "execution_count": 1,
   "id": "6a1014ea-0925-4236-951d-08c3a4df3aaa",
   "metadata": {
    "id": "YBp2qDPb8pDo"
   },
   "outputs": [],
   "source": [
    "import pandas as pd\n",
    "import numpy as np\n",
    "import seaborn as sns\n",
    "import matplotlib.pyplot as plt\n",
    "import plotly.express as px"
   ]
  },
  {
   "cell_type": "markdown",
   "id": "513389be-faae-4da5-8895-e14211eaeeda",
   "metadata": {
    "jp-MarkdownHeadingCollapsed": true,
    "tags": []
   },
   "source": [
    "## 2.2 Cargar y Leer el Dataset. Configuración de la vista."
   ]
  },
  {
   "cell_type": "code",
   "execution_count": 2,
   "id": "fcebe978-b03b-4282-88a7-d74cecacbbf2",
   "metadata": {
    "id": "tjIiJdM4u1IE"
   },
   "outputs": [
    {
     "data": {
      "text/html": [
       "<div>\n",
       "<style scoped>\n",
       "    .dataframe tbody tr th:only-of-type {\n",
       "        vertical-align: middle;\n",
       "    }\n",
       "\n",
       "    .dataframe tbody tr th {\n",
       "        vertical-align: top;\n",
       "    }\n",
       "\n",
       "    .dataframe thead th {\n",
       "        text-align: right;\n",
       "    }\n",
       "</style>\n",
       "<table border=\"1\" class=\"dataframe\">\n",
       "  <thead>\n",
       "    <tr style=\"text-align: right;\">\n",
       "      <th></th>\n",
       "      <th>PassengerId</th>\n",
       "      <th>HomePlanet</th>\n",
       "      <th>CryoSleep</th>\n",
       "      <th>Cabin</th>\n",
       "      <th>Destination</th>\n",
       "      <th>Age</th>\n",
       "      <th>VIP</th>\n",
       "      <th>RoomService</th>\n",
       "      <th>FoodCourt</th>\n",
       "      <th>ShoppingMall</th>\n",
       "      <th>Spa</th>\n",
       "      <th>VRDeck</th>\n",
       "      <th>Name</th>\n",
       "      <th>Transported</th>\n",
       "    </tr>\n",
       "  </thead>\n",
       "  <tbody>\n",
       "    <tr>\n",
       "      <th>0</th>\n",
       "      <td>0001_01</td>\n",
       "      <td>Europa</td>\n",
       "      <td>False</td>\n",
       "      <td>B/0/P</td>\n",
       "      <td>TRAPPIST-1e</td>\n",
       "      <td>39.0</td>\n",
       "      <td>False</td>\n",
       "      <td>0.0</td>\n",
       "      <td>0.0</td>\n",
       "      <td>0.0</td>\n",
       "      <td>0.0</td>\n",
       "      <td>0.0</td>\n",
       "      <td>Maham Ofracculy</td>\n",
       "      <td>False</td>\n",
       "    </tr>\n",
       "    <tr>\n",
       "      <th>1</th>\n",
       "      <td>0002_01</td>\n",
       "      <td>Earth</td>\n",
       "      <td>False</td>\n",
       "      <td>F/0/S</td>\n",
       "      <td>TRAPPIST-1e</td>\n",
       "      <td>24.0</td>\n",
       "      <td>False</td>\n",
       "      <td>109.0</td>\n",
       "      <td>9.0</td>\n",
       "      <td>25.0</td>\n",
       "      <td>549.0</td>\n",
       "      <td>44.0</td>\n",
       "      <td>Juanna Vines</td>\n",
       "      <td>True</td>\n",
       "    </tr>\n",
       "    <tr>\n",
       "      <th>2</th>\n",
       "      <td>0003_01</td>\n",
       "      <td>Europa</td>\n",
       "      <td>False</td>\n",
       "      <td>A/0/S</td>\n",
       "      <td>TRAPPIST-1e</td>\n",
       "      <td>58.0</td>\n",
       "      <td>True</td>\n",
       "      <td>43.0</td>\n",
       "      <td>3576.0</td>\n",
       "      <td>0.0</td>\n",
       "      <td>6715.0</td>\n",
       "      <td>49.0</td>\n",
       "      <td>Altark Susent</td>\n",
       "      <td>False</td>\n",
       "    </tr>\n",
       "    <tr>\n",
       "      <th>3</th>\n",
       "      <td>0003_02</td>\n",
       "      <td>Europa</td>\n",
       "      <td>False</td>\n",
       "      <td>A/0/S</td>\n",
       "      <td>TRAPPIST-1e</td>\n",
       "      <td>33.0</td>\n",
       "      <td>False</td>\n",
       "      <td>0.0</td>\n",
       "      <td>1283.0</td>\n",
       "      <td>371.0</td>\n",
       "      <td>3329.0</td>\n",
       "      <td>193.0</td>\n",
       "      <td>Solam Susent</td>\n",
       "      <td>False</td>\n",
       "    </tr>\n",
       "    <tr>\n",
       "      <th>4</th>\n",
       "      <td>0004_01</td>\n",
       "      <td>Earth</td>\n",
       "      <td>False</td>\n",
       "      <td>F/1/S</td>\n",
       "      <td>TRAPPIST-1e</td>\n",
       "      <td>16.0</td>\n",
       "      <td>False</td>\n",
       "      <td>303.0</td>\n",
       "      <td>70.0</td>\n",
       "      <td>151.0</td>\n",
       "      <td>565.0</td>\n",
       "      <td>2.0</td>\n",
       "      <td>Willy Santantines</td>\n",
       "      <td>True</td>\n",
       "    </tr>\n",
       "  </tbody>\n",
       "</table>\n",
       "</div>"
      ],
      "text/plain": [
       "  PassengerId HomePlanet CryoSleep  Cabin  Destination   Age    VIP  \\\n",
       "0     0001_01     Europa     False  B/0/P  TRAPPIST-1e  39.0  False   \n",
       "1     0002_01      Earth     False  F/0/S  TRAPPIST-1e  24.0  False   \n",
       "2     0003_01     Europa     False  A/0/S  TRAPPIST-1e  58.0   True   \n",
       "3     0003_02     Europa     False  A/0/S  TRAPPIST-1e  33.0  False   \n",
       "4     0004_01      Earth     False  F/1/S  TRAPPIST-1e  16.0  False   \n",
       "\n",
       "   RoomService  FoodCourt  ShoppingMall     Spa  VRDeck               Name  \\\n",
       "0          0.0        0.0           0.0     0.0     0.0    Maham Ofracculy   \n",
       "1        109.0        9.0          25.0   549.0    44.0       Juanna Vines   \n",
       "2         43.0     3576.0           0.0  6715.0    49.0      Altark Susent   \n",
       "3          0.0     1283.0         371.0  3329.0   193.0       Solam Susent   \n",
       "4        303.0       70.0         151.0   565.0     2.0  Willy Santantines   \n",
       "\n",
       "   Transported  \n",
       "0        False  \n",
       "1         True  \n",
       "2        False  \n",
       "3        False  \n",
       "4         True  "
      ]
     },
     "execution_count": 2,
     "metadata": {},
     "output_type": "execute_result"
    }
   ],
   "source": [
    "# Leer el dataset\n",
    "df = pd.read_csv(\"train.csv\")\n",
    "# A mi me gusta ver todas las columnas, así que realizaré una modificación en la configuración de pandas.\n",
    "# Esta función recibe dos argumentos: el nombre de la opción y la cantidad de columnas que queremos visualizar. \n",
    "pd.set_option('display.max_columns',100) # lo mismo para las filas con max_rows\n",
    "df.head()"
   ]
  },
  {
   "cell_type": "markdown",
   "id": "cb25c657-cd79-4a20-a8b7-d3337e5c9cd3",
   "metadata": {
    "jp-MarkdownHeadingCollapsed": true,
    "tags": []
   },
   "source": [
    "## 2.3 Leyenda."
   ]
  },
  {
   "cell_type": "markdown",
   "id": "52042c54-ce50-46b2-8190-79f792509c6c",
   "metadata": {},
   "source": [
    "### 2.3.1 Obtener el nombre de cada columna."
   ]
  },
  {
   "cell_type": "code",
   "execution_count": 3,
   "id": "2ad35c24-c00f-464b-a17c-92c33940a3fc",
   "metadata": {},
   "outputs": [
    {
     "data": {
      "text/plain": [
       "Index(['PassengerId', 'HomePlanet', 'CryoSleep', 'Cabin', 'Destination', 'Age',\n",
       "       'VIP', 'RoomService', 'FoodCourt', 'ShoppingMall', 'Spa', 'VRDeck',\n",
       "       'Name', 'Transported'],\n",
       "      dtype='object')"
      ]
     },
     "execution_count": 3,
     "metadata": {},
     "output_type": "execute_result"
    }
   ],
   "source": [
    "df.columns"
   ]
  },
  {
   "cell_type": "markdown",
   "id": "06dbf6bd-d0d9-4dcb-b17c-5cf08be10fdf",
   "metadata": {},
   "source": [
    "### 2.3.2 Leyenda."
   ]
  },
  {
   "cell_type": "markdown",
   "id": "bb109f47-555c-4f03-9efb-e73639cb35f1",
   "metadata": {
    "tags": []
   },
   "source": [
    "#### 'PassengerId': id pasajero\n",
    "#### 'HomePlanet': planeta natal\n",
    "#### 'CryoSleep': sueño criogénico (true / false)\n",
    "#### 'Cabin': número de la cabina (letra cubierta, num y P de Babor o S de Estribor.\n",
    "#### 'Destination': planeta de destino\n",
    "#### 'Age': edad\n",
    "#### 'VIP': si tomó o no el servicio VIP\n",
    "#### 'RoomService': monto facturado en servicios a la habitación\n",
    "#### 'FoodCourt': monto facturado en el patio de comida\n",
    "#### 'ShoppingMall': monto facturado en centro comercial\n",
    "#### 'Spa': monto facturado en SPAs\n",
    "#### 'VRDeck': monto facturado en plataforma de realidad virtual\n",
    "#### 'Name': nombre pasajero\n",
    "#### 'Transported': si el pasajero fue o no transportado a otra dimensión"
   ]
  },
  {
   "cell_type": "markdown",
   "id": "50f069ee-3db6-43b9-943b-d66c75532d3c",
   "metadata": {
    "jp-MarkdownHeadingCollapsed": true,
    "tags": []
   },
   "source": [
    "## 2.4 Primeras descripciones y conclusiones."
   ]
  },
  {
   "cell_type": "code",
   "execution_count": 4,
   "id": "fe59e7f9-8bd2-404d-995e-df4bce2396c2",
   "metadata": {
    "id": "q4_wPDKCu5Uc"
   },
   "outputs": [
    {
     "name": "stdout",
     "output_type": "stream",
     "text": [
      "<class 'pandas.core.frame.DataFrame'>\n",
      "RangeIndex: 8693 entries, 0 to 8692\n",
      "Data columns (total 14 columns):\n",
      " #   Column        Non-Null Count  Dtype  \n",
      "---  ------        --------------  -----  \n",
      " 0   PassengerId   8693 non-null   object \n",
      " 1   HomePlanet    8492 non-null   object \n",
      " 2   CryoSleep     8476 non-null   object \n",
      " 3   Cabin         8494 non-null   object \n",
      " 4   Destination   8511 non-null   object \n",
      " 5   Age           8514 non-null   float64\n",
      " 6   VIP           8490 non-null   object \n",
      " 7   RoomService   8512 non-null   float64\n",
      " 8   FoodCourt     8510 non-null   float64\n",
      " 9   ShoppingMall  8485 non-null   float64\n",
      " 10  Spa           8510 non-null   float64\n",
      " 11  VRDeck        8505 non-null   float64\n",
      " 12  Name          8493 non-null   object \n",
      " 13  Transported   8693 non-null   bool   \n",
      "dtypes: bool(1), float64(6), object(7)\n",
      "memory usage: 891.5+ KB\n"
     ]
    }
   ],
   "source": [
    "df.info()"
   ]
  },
  {
   "cell_type": "code",
   "execution_count": 5,
   "id": "3fed6b09-7416-4bac-9171-b2b1f8870518",
   "metadata": {},
   "outputs": [],
   "source": [
    "# Tenemos 8693 registros, 14 columnas, 6 flotantes, 1 boleano y 7 objetos."
   ]
  },
  {
   "cell_type": "code",
   "execution_count": 6,
   "id": "b63dc17a-a87a-472b-a0f0-5bbb01b00906",
   "metadata": {
    "id": "E7puy9-xxS4A",
    "tags": []
   },
   "outputs": [
    {
     "data": {
      "text/html": [
       "<div>\n",
       "<style scoped>\n",
       "    .dataframe tbody tr th:only-of-type {\n",
       "        vertical-align: middle;\n",
       "    }\n",
       "\n",
       "    .dataframe tbody tr th {\n",
       "        vertical-align: top;\n",
       "    }\n",
       "\n",
       "    .dataframe thead th {\n",
       "        text-align: right;\n",
       "    }\n",
       "</style>\n",
       "<table border=\"1\" class=\"dataframe\">\n",
       "  <thead>\n",
       "    <tr style=\"text-align: right;\">\n",
       "      <th></th>\n",
       "      <th>Age</th>\n",
       "      <th>RoomService</th>\n",
       "      <th>FoodCourt</th>\n",
       "      <th>ShoppingMall</th>\n",
       "      <th>Spa</th>\n",
       "      <th>VRDeck</th>\n",
       "    </tr>\n",
       "  </thead>\n",
       "  <tbody>\n",
       "    <tr>\n",
       "      <th>count</th>\n",
       "      <td>8514.000000</td>\n",
       "      <td>8512.000000</td>\n",
       "      <td>8510.000000</td>\n",
       "      <td>8485.000000</td>\n",
       "      <td>8510.000000</td>\n",
       "      <td>8505.000000</td>\n",
       "    </tr>\n",
       "    <tr>\n",
       "      <th>mean</th>\n",
       "      <td>28.827930</td>\n",
       "      <td>224.687617</td>\n",
       "      <td>458.077203</td>\n",
       "      <td>173.729169</td>\n",
       "      <td>311.138778</td>\n",
       "      <td>304.854791</td>\n",
       "    </tr>\n",
       "    <tr>\n",
       "      <th>std</th>\n",
       "      <td>14.489021</td>\n",
       "      <td>666.717663</td>\n",
       "      <td>1611.489240</td>\n",
       "      <td>604.696458</td>\n",
       "      <td>1136.705535</td>\n",
       "      <td>1145.717189</td>\n",
       "    </tr>\n",
       "    <tr>\n",
       "      <th>min</th>\n",
       "      <td>0.000000</td>\n",
       "      <td>0.000000</td>\n",
       "      <td>0.000000</td>\n",
       "      <td>0.000000</td>\n",
       "      <td>0.000000</td>\n",
       "      <td>0.000000</td>\n",
       "    </tr>\n",
       "    <tr>\n",
       "      <th>25%</th>\n",
       "      <td>19.000000</td>\n",
       "      <td>0.000000</td>\n",
       "      <td>0.000000</td>\n",
       "      <td>0.000000</td>\n",
       "      <td>0.000000</td>\n",
       "      <td>0.000000</td>\n",
       "    </tr>\n",
       "    <tr>\n",
       "      <th>50%</th>\n",
       "      <td>27.000000</td>\n",
       "      <td>0.000000</td>\n",
       "      <td>0.000000</td>\n",
       "      <td>0.000000</td>\n",
       "      <td>0.000000</td>\n",
       "      <td>0.000000</td>\n",
       "    </tr>\n",
       "    <tr>\n",
       "      <th>75%</th>\n",
       "      <td>38.000000</td>\n",
       "      <td>47.000000</td>\n",
       "      <td>76.000000</td>\n",
       "      <td>27.000000</td>\n",
       "      <td>59.000000</td>\n",
       "      <td>46.000000</td>\n",
       "    </tr>\n",
       "    <tr>\n",
       "      <th>max</th>\n",
       "      <td>79.000000</td>\n",
       "      <td>14327.000000</td>\n",
       "      <td>29813.000000</td>\n",
       "      <td>23492.000000</td>\n",
       "      <td>22408.000000</td>\n",
       "      <td>24133.000000</td>\n",
       "    </tr>\n",
       "  </tbody>\n",
       "</table>\n",
       "</div>"
      ],
      "text/plain": [
       "               Age   RoomService     FoodCourt  ShoppingMall           Spa  \\\n",
       "count  8514.000000   8512.000000   8510.000000   8485.000000   8510.000000   \n",
       "mean     28.827930    224.687617    458.077203    173.729169    311.138778   \n",
       "std      14.489021    666.717663   1611.489240    604.696458   1136.705535   \n",
       "min       0.000000      0.000000      0.000000      0.000000      0.000000   \n",
       "25%      19.000000      0.000000      0.000000      0.000000      0.000000   \n",
       "50%      27.000000      0.000000      0.000000      0.000000      0.000000   \n",
       "75%      38.000000     47.000000     76.000000     27.000000     59.000000   \n",
       "max      79.000000  14327.000000  29813.000000  23492.000000  22408.000000   \n",
       "\n",
       "             VRDeck  \n",
       "count   8505.000000  \n",
       "mean     304.854791  \n",
       "std     1145.717189  \n",
       "min        0.000000  \n",
       "25%        0.000000  \n",
       "50%        0.000000  \n",
       "75%       46.000000  \n",
       "max    24133.000000  "
      ]
     },
     "execution_count": 6,
     "metadata": {},
     "output_type": "execute_result"
    }
   ],
   "source": [
    "# Ver las características estadísticas de los datos\n",
    "df.describe()"
   ]
  },
  {
   "cell_type": "markdown",
   "id": "b24e4574-bd47-4835-839c-6ec8c0d82b85",
   "metadata": {
    "id": "hMq3-KWOx0e1"
   },
   "source": [
    "#### Descripción general:\n",
    "\n",
    "#### 1.- El promedio de las edad de los pasajeros es de 29 años. El menor de ellos tiene 0 años y el mayor 79 años. El 75% de la tripulación, es menor de 38 años. Un 25% de la tripulación tiene entre 38 y 79 años. Un 25% de la tripulación tiene menos de 19 años de edad.\n",
    "#### 2.- El gasto promedio de los servicios de habitación es de 224 dólares.\n",
    "#### 3.- El gasto promedio en el patio de comida por pasajero es de 458 dolares. \n",
    "#### 4.- El gasto promedio de los gastos en el mall es de 174 dolares.\n",
    "#### 5.- El gasto promedio en SPA por pasajero es de 311 dolares.\n",
    "#### 6.- El gasto promedio de realidad virtual es de 305 dolares.\n",
    "#### 7.- Al menos el 50% de la tripulación no posee gastos en ningún servicio de lujo del Spaceship Titanic. Un 25% de la tripulación ha gastado 50 dolares en promedio entre los servicios de lujo.\n",
    "#### 8.- El gasto más elevado realizado por un pasajero en un servicio de lujo, fue en el patio de comidas, con un gasto de 29813 dolares."
   ]
  },
  {
   "cell_type": "markdown",
   "id": "36111644-5463-40e4-91d1-af5cbbf8254e",
   "metadata": {
    "id": "LlszUhNNyrl_",
    "tags": []
   },
   "source": [
    "# 3. VISUALIZACIÓN DEL DATASET."
   ]
  },
  {
   "cell_type": "markdown",
   "id": "0fb69125-61ec-4f59-b80c-01a161aa883c",
   "metadata": {
    "tags": []
   },
   "source": [
    "## 3.1 Transformar entradas de texto en entradas numéricas."
   ]
  },
  {
   "cell_type": "code",
   "execution_count": 7,
   "id": "a09624fe-f0cf-48ea-a03b-ffa4dc9987f5",
   "metadata": {},
   "outputs": [
    {
     "name": "stdout",
     "output_type": "stream",
     "text": [
      "<class 'pandas.core.frame.DataFrame'>\n",
      "RangeIndex: 8693 entries, 0 to 8692\n",
      "Data columns (total 14 columns):\n",
      " #   Column        Non-Null Count  Dtype  \n",
      "---  ------        --------------  -----  \n",
      " 0   PassengerId   8693 non-null   object \n",
      " 1   HomePlanet    8492 non-null   object \n",
      " 2   CryoSleep     8476 non-null   object \n",
      " 3   Cabin         8494 non-null   object \n",
      " 4   Destination   8511 non-null   object \n",
      " 5   Age           8514 non-null   float64\n",
      " 6   VIP           8490 non-null   object \n",
      " 7   RoomService   8512 non-null   float64\n",
      " 8   FoodCourt     8510 non-null   float64\n",
      " 9   ShoppingMall  8485 non-null   float64\n",
      " 10  Spa           8510 non-null   float64\n",
      " 11  VRDeck        8505 non-null   float64\n",
      " 12  Name          8493 non-null   object \n",
      " 13  Transported   8693 non-null   bool   \n",
      "dtypes: bool(1), float64(6), object(7)\n",
      "memory usage: 891.5+ KB\n"
     ]
    }
   ],
   "source": [
    "df.info()"
   ]
  },
  {
   "cell_type": "code",
   "execution_count": 8,
   "id": "1c1e3e9d-b86f-4db1-9411-6d38e7b356ee",
   "metadata": {},
   "outputs": [
    {
     "data": {
      "text/plain": [
       "False    5439\n",
       "True     3037\n",
       "Name: CryoSleep, dtype: int64"
      ]
     },
     "execution_count": 8,
     "metadata": {},
     "output_type": "execute_result"
    }
   ],
   "source": [
    "# Revisemos cuántas respuestas hay en cada columna.\n",
    "df['CryoSleep'].value_counts()"
   ]
  },
  {
   "cell_type": "code",
   "execution_count": 9,
   "id": "63055f42-5610-4b38-8de1-f3e83b64d5d5",
   "metadata": {},
   "outputs": [
    {
     "data": {
      "text/plain": [
       "False    8291\n",
       "True      199\n",
       "Name: VIP, dtype: int64"
      ]
     },
     "execution_count": 9,
     "metadata": {},
     "output_type": "execute_result"
    }
   ],
   "source": [
    "df['VIP'].value_counts()"
   ]
  },
  {
   "cell_type": "code",
   "execution_count": 10,
   "id": "2f74b2ae-287e-4209-b384-b7b1b9e28a3b",
   "metadata": {},
   "outputs": [
    {
     "data": {
      "text/plain": [
       "True     4378\n",
       "False    4315\n",
       "Name: Transported, dtype: int64"
      ]
     },
     "execution_count": 10,
     "metadata": {},
     "output_type": "execute_result"
    }
   ],
   "source": [
    "df['Transported'].value_counts()"
   ]
  },
  {
   "cell_type": "markdown",
   "id": "f5041ac0-a8af-4ccc-9b34-68e49f9501e8",
   "metadata": {},
   "source": [
    "### Función lambda."
   ]
  },
  {
   "cell_type": "code",
   "execution_count": 11,
   "id": "5a87f443-937f-48c3-9997-27d723694837",
   "metadata": {
    "id": "ZiVkQqEPMDDD"
   },
   "outputs": [],
   "source": [
    "# Ahora reemplazamos la columna 'CryoSleep', 'VIP' y 'Transported' por enteros usando la función lamda.\n",
    "df['CryoSleep'] = df['CryoSleep'].apply(lambda x: 1 if x == True else 0)\n",
    "df['VIP'] = df['VIP'].apply(lambda x: 1 if x == True else 0)\n",
    "df['Transported'] = df['Transported'].apply(lambda x: 1 if x == True else 0)"
   ]
  },
  {
   "cell_type": "code",
   "execution_count": 12,
   "id": "049ac4b3-a0ba-4ee2-b3c5-a1b21c9cb8e1",
   "metadata": {},
   "outputs": [
    {
     "name": "stdout",
     "output_type": "stream",
     "text": [
      "<class 'pandas.core.frame.DataFrame'>\n",
      "RangeIndex: 8693 entries, 0 to 8692\n",
      "Data columns (total 14 columns):\n",
      " #   Column        Non-Null Count  Dtype  \n",
      "---  ------        --------------  -----  \n",
      " 0   PassengerId   8693 non-null   object \n",
      " 1   HomePlanet    8492 non-null   object \n",
      " 2   CryoSleep     8693 non-null   int64  \n",
      " 3   Cabin         8494 non-null   object \n",
      " 4   Destination   8511 non-null   object \n",
      " 5   Age           8514 non-null   float64\n",
      " 6   VIP           8693 non-null   int64  \n",
      " 7   RoomService   8512 non-null   float64\n",
      " 8   FoodCourt     8510 non-null   float64\n",
      " 9   ShoppingMall  8485 non-null   float64\n",
      " 10  Spa           8510 non-null   float64\n",
      " 11  VRDeck        8505 non-null   float64\n",
      " 12  Name          8493 non-null   object \n",
      " 13  Transported   8693 non-null   int64  \n",
      "dtypes: float64(6), int64(3), object(5)\n",
      "memory usage: 950.9+ KB\n"
     ]
    }
   ],
   "source": [
    "# Revisamos\n",
    "df.info()"
   ]
  },
  {
   "cell_type": "markdown",
   "id": "09165845-e724-463a-9374-55c610999f02",
   "metadata": {
    "tags": []
   },
   "source": [
    "## 3.2 Revisión e imputación de nulos."
   ]
  },
  {
   "cell_type": "markdown",
   "id": "466c0b12-bb4f-4e31-93e7-537fa366104a",
   "metadata": {
    "jp-MarkdownHeadingCollapsed": true,
    "tags": []
   },
   "source": [
    "### 3.2.1 Hallar nulos."
   ]
  },
  {
   "cell_type": "code",
   "execution_count": 13,
   "id": "fb916c18-adf2-45c3-9def-0384096914ae",
   "metadata": {
    "id": "ICj3NLbqqmve"
   },
   "outputs": [
    {
     "data": {
      "text/plain": [
       "ShoppingMall    208\n",
       "HomePlanet      201\n",
       "Name            200\n",
       "Cabin           199\n",
       "VRDeck          188\n",
       "FoodCourt       183\n",
       "Spa             183\n",
       "Destination     182\n",
       "RoomService     181\n",
       "Age             179\n",
       "PassengerId       0\n",
       "CryoSleep         0\n",
       "VIP               0\n",
       "Transported       0\n",
       "dtype: int64"
      ]
     },
     "execution_count": 13,
     "metadata": {},
     "output_type": "execute_result"
    }
   ],
   "source": [
    "# Veamos si nos faltan datos (cantidad de datos nulos)\n",
    "# Se puede revisar y contar cuántos son usando la función .isna y también se puede ordenar en forma\n",
    "# ascendente.\n",
    "df.isna().sum().sort_values(ascending = False)"
   ]
  },
  {
   "cell_type": "markdown",
   "id": "d073099e-6757-4cbe-8e30-688a67b6afc6",
   "metadata": {
    "jp-MarkdownHeadingCollapsed": true,
    "tags": []
   },
   "source": [
    "### 3.2.2 Mapa de calor."
   ]
  },
  {
   "cell_type": "code",
   "execution_count": 14,
   "id": "018673b4-204a-4126-85f0-feb6a5dd5cf3",
   "metadata": {},
   "outputs": [
    {
     "data": {
      "text/plain": [
       "<AxesSubplot:>"
      ]
     },
     "execution_count": 14,
     "metadata": {},
     "output_type": "execute_result"
    },
    {
     "data": {
      "image/png": "[encoded data removed]",
      "text/plain": [
       "<Figure size 640x480 with 1 Axes>"
      ]
     },
     "metadata": {},
     "output_type": "display_data"
    }
   ],
   "source": [
    "# No hay nulos y con esto es suficiente, pero si se quiere se puede hacer el mapa de calor:\n",
    "# 1.- El dataset con la función isnull, se borran las etiquetas en el eje y.\n",
    "# 2.- Se borra la barra de color que sale en la zona de leyenda\n",
    "# 3.- Se agrega la paleta de colores\n",
    "sns.heatmap(df.isnull(), yticklabels=False, cbar=False, cmap='Reds')"
   ]
  },
  {
   "cell_type": "markdown",
   "id": "5a70d2fc-b9c8-4fb1-b08e-4b1a8647a1c4",
   "metadata": {
    "jp-MarkdownHeadingCollapsed": true,
    "tags": []
   },
   "source": [
    "### 3.2.3 Imputación de nulos"
   ]
  },
  {
   "cell_type": "code",
   "execution_count": 15,
   "id": "f2111d1f-56fa-4086-b7b0-5847ca6e695c",
   "metadata": {},
   "outputs": [
    {
     "data": {
      "text/plain": [
       "Earth     4602\n",
       "Europa    2131\n",
       "Mars      1759\n",
       "Name: HomePlanet, dtype: int64"
      ]
     },
     "execution_count": 15,
     "metadata": {},
     "output_type": "execute_result"
    }
   ],
   "source": [
    "# HomePlanet\n",
    "df['HomePlanet'].value_counts()"
   ]
  },
  {
   "cell_type": "code",
   "execution_count": 16,
   "id": "43ccfa0c-9454-41de-abcf-3619862f1cad",
   "metadata": {},
   "outputs": [],
   "source": [
    "df.loc[(df['HomePlanet'].isnull() == True), 'HomePlanet'] = 'Earth'"
   ]
  },
  {
   "cell_type": "code",
   "execution_count": 17,
   "id": "9200139a-fb3f-45e8-868a-588c33253e39",
   "metadata": {},
   "outputs": [],
   "source": [
    "# ShoppingMall (entero)\n",
    "df.loc[(df['ShoppingMall'].isnull() == True), 'ShoppingMall'] = df['ShoppingMall'].mean"
   ]
  },
  {
   "cell_type": "code",
   "execution_count": 18,
   "id": "d341e9da-6785-44a4-baed-7b190f11aa92",
   "metadata": {},
   "outputs": [],
   "source": [
    "# VRDeck\n",
    "df.loc[(df['VRDeck'].isnull() == True), 'VRDeck'] = df['VRDeck'].mean"
   ]
  },
  {
   "cell_type": "code",
   "execution_count": 19,
   "id": "6712dd7c-aa88-4aca-be53-807f62e83c97",
   "metadata": {},
   "outputs": [],
   "source": [
    "# FoodCourt\n",
    "df.loc[(df['FoodCourt'].isnull() == True), 'FoodCourt'] = df['FoodCourt'].mean"
   ]
  },
  {
   "cell_type": "code",
   "execution_count": 20,
   "id": "0bb52d12-d980-4ac5-bf61-2ebfe8ccbd7d",
   "metadata": {},
   "outputs": [],
   "source": [
    "# Spa\n",
    "df.loc[(df['Spa'].isnull() == True), 'Spa'] =  df['Spa'].mean"
   ]
  },
  {
   "cell_type": "code",
   "execution_count": 21,
   "id": "54437b96-cccd-4a11-9eb4-1ac6bd7e0d1a",
   "metadata": {},
   "outputs": [
    {
     "data": {
      "text/plain": [
       "TRAPPIST-1e      5915\n",
       "55 Cancri e      1800\n",
       "PSO J318.5-22     796\n",
       "Name: Destination, dtype: int64"
      ]
     },
     "execution_count": 21,
     "metadata": {},
     "output_type": "execute_result"
    }
   ],
   "source": [
    "# Destination\n",
    "df['Destination'].value_counts()"
   ]
  },
  {
   "cell_type": "code",
   "execution_count": 22,
   "id": "6e83008b-ebc9-4b15-a292-98a250ec64b9",
   "metadata": {},
   "outputs": [],
   "source": [
    "df.loc[(df['Destination'].isnull() == True), 'Destination'] = 'TRAPPIST-1e'"
   ]
  },
  {
   "cell_type": "code",
   "execution_count": 23,
   "id": "216bb0a5-e8e8-4ef3-a326-8fd1b4dbc90b",
   "metadata": {},
   "outputs": [],
   "source": [
    "# RoomService\n",
    "df.loc[(df['RoomService'].isnull() == True), 'RoomService'] = df['RoomService'].mean"
   ]
  },
  {
   "cell_type": "code",
   "execution_count": 24,
   "id": "c6667b7e-f5af-4020-980d-451da4baba3b",
   "metadata": {},
   "outputs": [],
   "source": [
    "# Age\n",
    "df.loc[(df['Age'].isnull() == True), 'Age'] = df['Age'].mean"
   ]
  },
  {
   "cell_type": "code",
   "execution_count": 25,
   "id": "4a1bce87-0ba3-4e04-bcab-8a1bdbcb692f",
   "metadata": {},
   "outputs": [
    {
     "data": {
      "text/plain": [
       "<AxesSubplot:>"
      ]
     },
     "execution_count": 25,
     "metadata": {},
     "output_type": "execute_result"
    },
    {
     "data": {
      "image/png": "[encoded data removed]",
      "text/plain": [
       "<Figure size 640x480 with 1 Axes>"
      ]
     },
     "metadata": {},
     "output_type": "display_data"
    }
   ],
   "source": [
    "sns.heatmap(df.isnull(), yticklabels=False, cbar=False, cmap='Reds')"
   ]
  },
  {
   "cell_type": "code",
   "execution_count": 26,
   "id": "665583e5-b77e-4f25-9e7c-3f010874a6d8",
   "metadata": {},
   "outputs": [
    {
     "data": {
      "text/plain": [
       "Name            200\n",
       "Cabin           199\n",
       "PassengerId       0\n",
       "HomePlanet        0\n",
       "CryoSleep         0\n",
       "Destination       0\n",
       "Age               0\n",
       "VIP               0\n",
       "RoomService       0\n",
       "FoodCourt         0\n",
       "ShoppingMall      0\n",
       "Spa               0\n",
       "VRDeck            0\n",
       "Transported       0\n",
       "dtype: int64"
      ]
     },
     "execution_count": 26,
     "metadata": {},
     "output_type": "execute_result"
    }
   ],
   "source": [
    "df.isna().sum().sort_values(ascending = False)"
   ]
  },
  {
   "cell_type": "markdown",
   "id": "02a48935-1310-48f2-95c3-e23d1684eeb0",
   "metadata": {
    "jp-MarkdownHeadingCollapsed": true,
    "tags": []
   },
   "source": [
    "## 3.3 Datos duplicados."
   ]
  },
  {
   "cell_type": "code",
   "execution_count": 27,
   "id": "3ac0784a-36fb-4e5d-96f7-e2f7604ed95c",
   "metadata": {},
   "outputs": [
    {
     "data": {
      "text/plain": [
       "0"
      ]
     },
     "execution_count": 27,
     "metadata": {},
     "output_type": "execute_result"
    }
   ],
   "source": [
    "df.duplicated().sum()"
   ]
  },
  {
   "cell_type": "markdown",
   "id": "e7fb92e4-df94-4cb9-bae5-ee9197bbc402",
   "metadata": {
    "id": "BfDQRuNj4_b8",
    "jp-MarkdownHeadingCollapsed": true,
    "tags": []
   },
   "source": [
    "## 3.4 Eliminar datos inservibles."
   ]
  },
  {
   "cell_type": "code",
   "execution_count": 28,
   "id": "b186aae4-df55-4945-8fc2-207fb92d0ebc",
   "metadata": {},
   "outputs": [
    {
     "data": {
      "text/plain": [
       "array([[<AxesSubplot:title={'center':'CryoSleep'}>,\n",
       "        <AxesSubplot:title={'center':'VIP'}>],\n",
       "       [<AxesSubplot:title={'center':'Transported'}>, <AxesSubplot:>]],\n",
       "      dtype=object)"
      ]
     },
     "execution_count": 28,
     "metadata": {},
     "output_type": "execute_result"
    },
    {
     "data": {
      "image/png": "[encoded data removed]",
      "text/plain": [
       "<Figure size 500x500 with 4 Axes>"
      ]
     },
     "metadata": {},
     "output_type": "display_data"
    }
   ],
   "source": [
    "# Observaremos los histogramas de cada variable para decidir si eliminar alguna de ellas...\n",
    "df.hist(bins = 30, figsize = (5, 5), color ='r')"
   ]
  },
  {
   "cell_type": "markdown",
   "id": "43ba095b-16ae-49a5-b43a-136d7b124b3e",
   "metadata": {},
   "source": [
    "#### 1.- Eliminaremos la variable PassengerID, también la variable name y cabin."
   ]
  },
  {
   "cell_type": "code",
   "execution_count": 29,
   "id": "745d88c6-eae4-4a7e-95e0-d29e3716e5b2",
   "metadata": {},
   "outputs": [],
   "source": [
    "# Inplace hace el cambio en el propio objeto en memoria y ajusta el data frame sin crear otra variable.\n",
    "df.drop(['PassengerId','Name','Cabin'], axis=1, inplace = True)"
   ]
  },
  {
   "cell_type": "code",
   "execution_count": 30,
   "id": "14fe597f-9332-4022-ab2b-3f71cbe9589a",
   "metadata": {},
   "outputs": [
    {
     "data": {
      "text/html": [
       "<div>\n",
       "<style scoped>\n",
       "    .dataframe tbody tr th:only-of-type {\n",
       "        vertical-align: middle;\n",
       "    }\n",
       "\n",
       "    .dataframe tbody tr th {\n",
       "        vertical-align: top;\n",
       "    }\n",
       "\n",
       "    .dataframe thead th {\n",
       "        text-align: right;\n",
       "    }\n",
       "</style>\n",
       "<table border=\"1\" class=\"dataframe\">\n",
       "  <thead>\n",
       "    <tr style=\"text-align: right;\">\n",
       "      <th></th>\n",
       "      <th>HomePlanet</th>\n",
       "      <th>CryoSleep</th>\n",
       "      <th>Destination</th>\n",
       "      <th>Age</th>\n",
       "      <th>VIP</th>\n",
       "      <th>RoomService</th>\n",
       "      <th>FoodCourt</th>\n",
       "      <th>ShoppingMall</th>\n",
       "      <th>Spa</th>\n",
       "      <th>VRDeck</th>\n",
       "      <th>Transported</th>\n",
       "    </tr>\n",
       "  </thead>\n",
       "  <tbody>\n",
       "    <tr>\n",
       "      <th>0</th>\n",
       "      <td>Europa</td>\n",
       "      <td>0</td>\n",
       "      <td>TRAPPIST-1e</td>\n",
       "      <td>39.0</td>\n",
       "      <td>0</td>\n",
       "      <td>0.0</td>\n",
       "      <td>0.0</td>\n",
       "      <td>0.0</td>\n",
       "      <td>0.0</td>\n",
       "      <td>0.0</td>\n",
       "      <td>0</td>\n",
       "    </tr>\n",
       "    <tr>\n",
       "      <th>1</th>\n",
       "      <td>Earth</td>\n",
       "      <td>0</td>\n",
       "      <td>TRAPPIST-1e</td>\n",
       "      <td>24.0</td>\n",
       "      <td>0</td>\n",
       "      <td>109.0</td>\n",
       "      <td>9.0</td>\n",
       "      <td>25.0</td>\n",
       "      <td>549.0</td>\n",
       "      <td>44.0</td>\n",
       "      <td>1</td>\n",
       "    </tr>\n",
       "    <tr>\n",
       "      <th>2</th>\n",
       "      <td>Europa</td>\n",
       "      <td>0</td>\n",
       "      <td>TRAPPIST-1e</td>\n",
       "      <td>58.0</td>\n",
       "      <td>1</td>\n",
       "      <td>43.0</td>\n",
       "      <td>3576.0</td>\n",
       "      <td>0.0</td>\n",
       "      <td>6715.0</td>\n",
       "      <td>49.0</td>\n",
       "      <td>0</td>\n",
       "    </tr>\n",
       "    <tr>\n",
       "      <th>3</th>\n",
       "      <td>Europa</td>\n",
       "      <td>0</td>\n",
       "      <td>TRAPPIST-1e</td>\n",
       "      <td>33.0</td>\n",
       "      <td>0</td>\n",
       "      <td>0.0</td>\n",
       "      <td>1283.0</td>\n",
       "      <td>371.0</td>\n",
       "      <td>3329.0</td>\n",
       "      <td>193.0</td>\n",
       "      <td>0</td>\n",
       "    </tr>\n",
       "    <tr>\n",
       "      <th>4</th>\n",
       "      <td>Earth</td>\n",
       "      <td>0</td>\n",
       "      <td>TRAPPIST-1e</td>\n",
       "      <td>16.0</td>\n",
       "      <td>0</td>\n",
       "      <td>303.0</td>\n",
       "      <td>70.0</td>\n",
       "      <td>151.0</td>\n",
       "      <td>565.0</td>\n",
       "      <td>2.0</td>\n",
       "      <td>1</td>\n",
       "    </tr>\n",
       "    <tr>\n",
       "      <th>...</th>\n",
       "      <td>...</td>\n",
       "      <td>...</td>\n",
       "      <td>...</td>\n",
       "      <td>...</td>\n",
       "      <td>...</td>\n",
       "      <td>...</td>\n",
       "      <td>...</td>\n",
       "      <td>...</td>\n",
       "      <td>...</td>\n",
       "      <td>...</td>\n",
       "      <td>...</td>\n",
       "    </tr>\n",
       "    <tr>\n",
       "      <th>8688</th>\n",
       "      <td>Europa</td>\n",
       "      <td>0</td>\n",
       "      <td>55 Cancri e</td>\n",
       "      <td>41.0</td>\n",
       "      <td>1</td>\n",
       "      <td>0.0</td>\n",
       "      <td>6819.0</td>\n",
       "      <td>0.0</td>\n",
       "      <td>1643.0</td>\n",
       "      <td>74.0</td>\n",
       "      <td>0</td>\n",
       "    </tr>\n",
       "    <tr>\n",
       "      <th>8689</th>\n",
       "      <td>Earth</td>\n",
       "      <td>1</td>\n",
       "      <td>PSO J318.5-22</td>\n",
       "      <td>18.0</td>\n",
       "      <td>0</td>\n",
       "      <td>0.0</td>\n",
       "      <td>0.0</td>\n",
       "      <td>0.0</td>\n",
       "      <td>0.0</td>\n",
       "      <td>0.0</td>\n",
       "      <td>0</td>\n",
       "    </tr>\n",
       "    <tr>\n",
       "      <th>8690</th>\n",
       "      <td>Earth</td>\n",
       "      <td>0</td>\n",
       "      <td>TRAPPIST-1e</td>\n",
       "      <td>26.0</td>\n",
       "      <td>0</td>\n",
       "      <td>0.0</td>\n",
       "      <td>0.0</td>\n",
       "      <td>1872.0</td>\n",
       "      <td>1.0</td>\n",
       "      <td>0.0</td>\n",
       "      <td>1</td>\n",
       "    </tr>\n",
       "    <tr>\n",
       "      <th>8691</th>\n",
       "      <td>Europa</td>\n",
       "      <td>0</td>\n",
       "      <td>55 Cancri e</td>\n",
       "      <td>32.0</td>\n",
       "      <td>0</td>\n",
       "      <td>0.0</td>\n",
       "      <td>1049.0</td>\n",
       "      <td>0.0</td>\n",
       "      <td>353.0</td>\n",
       "      <td>3235.0</td>\n",
       "      <td>0</td>\n",
       "    </tr>\n",
       "    <tr>\n",
       "      <th>8692</th>\n",
       "      <td>Europa</td>\n",
       "      <td>0</td>\n",
       "      <td>TRAPPIST-1e</td>\n",
       "      <td>44.0</td>\n",
       "      <td>0</td>\n",
       "      <td>126.0</td>\n",
       "      <td>4688.0</td>\n",
       "      <td>0.0</td>\n",
       "      <td>0.0</td>\n",
       "      <td>12.0</td>\n",
       "      <td>1</td>\n",
       "    </tr>\n",
       "  </tbody>\n",
       "</table>\n",
       "<p>8693 rows × 11 columns</p>\n",
       "</div>"
      ],
      "text/plain": [
       "     HomePlanet  CryoSleep    Destination   Age  VIP RoomService FoodCourt  \\\n",
       "0        Europa          0    TRAPPIST-1e  39.0    0         0.0       0.0   \n",
       "1         Earth          0    TRAPPIST-1e  24.0    0       109.0       9.0   \n",
       "2        Europa          0    TRAPPIST-1e  58.0    1        43.0    3576.0   \n",
       "3        Europa          0    TRAPPIST-1e  33.0    0         0.0    1283.0   \n",
       "4         Earth          0    TRAPPIST-1e  16.0    0       303.0      70.0   \n",
       "...         ...        ...            ...   ...  ...         ...       ...   \n",
       "8688     Europa          0    55 Cancri e  41.0    1         0.0    6819.0   \n",
       "8689      Earth          1  PSO J318.5-22  18.0    0         0.0       0.0   \n",
       "8690      Earth          0    TRAPPIST-1e  26.0    0         0.0       0.0   \n",
       "8691     Europa          0    55 Cancri e  32.0    0         0.0    1049.0   \n",
       "8692     Europa          0    TRAPPIST-1e  44.0    0       126.0    4688.0   \n",
       "\n",
       "     ShoppingMall     Spa  VRDeck  Transported  \n",
       "0             0.0     0.0     0.0            0  \n",
       "1            25.0   549.0    44.0            1  \n",
       "2             0.0  6715.0    49.0            0  \n",
       "3           371.0  3329.0   193.0            0  \n",
       "4           151.0   565.0     2.0            1  \n",
       "...           ...     ...     ...          ...  \n",
       "8688          0.0  1643.0    74.0            0  \n",
       "8689          0.0     0.0     0.0            0  \n",
       "8690       1872.0     1.0     0.0            1  \n",
       "8691          0.0   353.0  3235.0            0  \n",
       "8692          0.0     0.0    12.0            1  \n",
       "\n",
       "[8693 rows x 11 columns]"
      ]
     },
     "execution_count": 30,
     "metadata": {},
     "output_type": "execute_result"
    }
   ],
   "source": [
    "# Revisar\n",
    "df"
   ]
  },
  {
   "cell_type": "markdown",
   "id": "6558965d-143c-440a-a0f4-fdacce92a984",
   "metadata": {
    "jp-MarkdownHeadingCollapsed": true,
    "tags": []
   },
   "source": [
    "## 3.5 Observación de las columnas (variables, atributos, etc)."
   ]
  },
  {
   "cell_type": "code",
   "execution_count": 31,
   "id": "f0ab8e81-4cff-49c0-bb89-4bbea82127b5",
   "metadata": {},
   "outputs": [
    {
     "data": {
      "text/plain": [
       "11"
      ]
     },
     "execution_count": 31,
     "metadata": {},
     "output_type": "execute_result"
    }
   ],
   "source": [
    "# Cantidad de columnas\n",
    "cantidad_columnas = len(df.columns)\n",
    "cantidad_columnas"
   ]
  },
  {
   "cell_type": "code",
   "execution_count": 32,
   "id": "7d09f16b-68f6-41a1-b158-e11a36b40996",
   "metadata": {},
   "outputs": [
    {
     "data": {
      "text/plain": [
       "Index(['HomePlanet', 'CryoSleep', 'Destination', 'Age', 'VIP', 'RoomService',\n",
       "       'FoodCourt', 'ShoppingMall', 'Spa', 'VRDeck', 'Transported'],\n",
       "      dtype='object')"
      ]
     },
     "execution_count": 32,
     "metadata": {},
     "output_type": "execute_result"
    }
   ],
   "source": [
    "# Nombre de cada columna\n",
    "df.columns"
   ]
  },
  {
   "cell_type": "markdown",
   "id": "4ecbca13-8b46-489e-abbc-ca5cd5165cc6",
   "metadata": {
    "tags": []
   },
   "source": [
    "## 3.6 Gráficos."
   ]
  },
  {
   "cell_type": "markdown",
   "id": "2470798e-ec3c-4744-baf4-2b6f46d81186",
   "metadata": {},
   "source": [
    "### 3.6.1 Transformar variables objetos a enteros"
   ]
  },
  {
   "cell_type": "code",
   "execution_count": 33,
   "id": "b8826e3a-55e8-4c7f-9ee3-60a1c1ca0863",
   "metadata": {},
   "outputs": [
    {
     "ename": "TypeError",
     "evalue": "int() argument must be a string, a bytes-like object or a number, not 'method'",
     "output_type": "error",
     "traceback": [
      "\u001b[1;31m---------------------------------------------------------------------------\u001b[0m",
      "\u001b[1;31mTypeError\u001b[0m                                 Traceback (most recent call last)",
      "\u001b[1;32m~\\AppData\\Local\\Temp\\ipykernel_1664\\2372901398.py\u001b[0m in \u001b[0;36m<module>\u001b[1;34m\u001b[0m\n\u001b[1;32m----> 1\u001b[1;33m \u001b[0mdf\u001b[0m\u001b[1;33m.\u001b[0m\u001b[0mAge\u001b[0m \u001b[1;33m=\u001b[0m \u001b[0mdf\u001b[0m\u001b[1;33m.\u001b[0m\u001b[0mAge\u001b[0m\u001b[1;33m.\u001b[0m\u001b[0mastype\u001b[0m\u001b[1;33m(\u001b[0m\u001b[0mint\u001b[0m\u001b[1;33m)\u001b[0m\u001b[1;33m\u001b[0m\u001b[1;33m\u001b[0m\u001b[0m\n\u001b[0m",
      "\u001b[1;32m~\\anaconda3\\lib\\site-packages\\pandas\\core\\generic.py\u001b[0m in \u001b[0;36mastype\u001b[1;34m(self, dtype, copy, errors)\u001b[0m\n\u001b[0;32m   5910\u001b[0m         \u001b[1;32melse\u001b[0m\u001b[1;33m:\u001b[0m\u001b[1;33m\u001b[0m\u001b[1;33m\u001b[0m\u001b[0m\n\u001b[0;32m   5911\u001b[0m             \u001b[1;31m# else, only a single dtype is given\u001b[0m\u001b[1;33m\u001b[0m\u001b[1;33m\u001b[0m\u001b[0m\n\u001b[1;32m-> 5912\u001b[1;33m             \u001b[0mnew_data\u001b[0m \u001b[1;33m=\u001b[0m \u001b[0mself\u001b[0m\u001b[1;33m.\u001b[0m\u001b[0m_mgr\u001b[0m\u001b[1;33m.\u001b[0m\u001b[0mastype\u001b[0m\u001b[1;33m(\u001b[0m\u001b[0mdtype\u001b[0m\u001b[1;33m=\u001b[0m\u001b[0mdtype\u001b[0m\u001b[1;33m,\u001b[0m \u001b[0mcopy\u001b[0m\u001b[1;33m=\u001b[0m\u001b[0mcopy\u001b[0m\u001b[1;33m,\u001b[0m \u001b[0merrors\u001b[0m\u001b[1;33m=\u001b[0m\u001b[0merrors\u001b[0m\u001b[1;33m)\u001b[0m\u001b[1;33m\u001b[0m\u001b[1;33m\u001b[0m\u001b[0m\n\u001b[0m\u001b[0;32m   5913\u001b[0m             \u001b[1;32mreturn\u001b[0m \u001b[0mself\u001b[0m\u001b[1;33m.\u001b[0m\u001b[0m_constructor\u001b[0m\u001b[1;33m(\u001b[0m\u001b[0mnew_data\u001b[0m\u001b[1;33m)\u001b[0m\u001b[1;33m.\u001b[0m\u001b[0m__finalize__\u001b[0m\u001b[1;33m(\u001b[0m\u001b[0mself\u001b[0m\u001b[1;33m,\u001b[0m \u001b[0mmethod\u001b[0m\u001b[1;33m=\u001b[0m\u001b[1;34m\"astype\"\u001b[0m\u001b[1;33m)\u001b[0m\u001b[1;33m\u001b[0m\u001b[1;33m\u001b[0m\u001b[0m\n\u001b[0;32m   5914\u001b[0m \u001b[1;33m\u001b[0m\u001b[0m\n",
      "\u001b[1;32m~\\anaconda3\\lib\\site-packages\\pandas\\core\\internals\\managers.py\u001b[0m in \u001b[0;36mastype\u001b[1;34m(self, dtype, copy, errors)\u001b[0m\n\u001b[0;32m    417\u001b[0m \u001b[1;33m\u001b[0m\u001b[0m\n\u001b[0;32m    418\u001b[0m     \u001b[1;32mdef\u001b[0m \u001b[0mastype\u001b[0m\u001b[1;33m(\u001b[0m\u001b[0mself\u001b[0m\u001b[1;33m:\u001b[0m \u001b[0mT\u001b[0m\u001b[1;33m,\u001b[0m \u001b[0mdtype\u001b[0m\u001b[1;33m,\u001b[0m \u001b[0mcopy\u001b[0m\u001b[1;33m:\u001b[0m \u001b[0mbool\u001b[0m \u001b[1;33m=\u001b[0m \u001b[1;32mFalse\u001b[0m\u001b[1;33m,\u001b[0m \u001b[0merrors\u001b[0m\u001b[1;33m:\u001b[0m \u001b[0mstr\u001b[0m \u001b[1;33m=\u001b[0m \u001b[1;34m\"raise\"\u001b[0m\u001b[1;33m)\u001b[0m \u001b[1;33m->\u001b[0m \u001b[0mT\u001b[0m\u001b[1;33m:\u001b[0m\u001b[1;33m\u001b[0m\u001b[1;33m\u001b[0m\u001b[0m\n\u001b[1;32m--> 419\u001b[1;33m         \u001b[1;32mreturn\u001b[0m \u001b[0mself\u001b[0m\u001b[1;33m.\u001b[0m\u001b[0mapply\u001b[0m\u001b[1;33m(\u001b[0m\u001b[1;34m\"astype\"\u001b[0m\u001b[1;33m,\u001b[0m \u001b[0mdtype\u001b[0m\u001b[1;33m=\u001b[0m\u001b[0mdtype\u001b[0m\u001b[1;33m,\u001b[0m \u001b[0mcopy\u001b[0m\u001b[1;33m=\u001b[0m\u001b[0mcopy\u001b[0m\u001b[1;33m,\u001b[0m \u001b[0merrors\u001b[0m\u001b[1;33m=\u001b[0m\u001b[0merrors\u001b[0m\u001b[1;33m)\u001b[0m\u001b[1;33m\u001b[0m\u001b[1;33m\u001b[0m\u001b[0m\n\u001b[0m\u001b[0;32m    420\u001b[0m \u001b[1;33m\u001b[0m\u001b[0m\n\u001b[0;32m    421\u001b[0m     def convert(\n",
      "\u001b[1;32m~\\anaconda3\\lib\\site-packages\\pandas\\core\\internals\\managers.py\u001b[0m in \u001b[0;36mapply\u001b[1;34m(self, f, align_keys, ignore_failures, **kwargs)\u001b[0m\n\u001b[0;32m    302\u001b[0m                     \u001b[0mapplied\u001b[0m \u001b[1;33m=\u001b[0m \u001b[0mb\u001b[0m\u001b[1;33m.\u001b[0m\u001b[0mapply\u001b[0m\u001b[1;33m(\u001b[0m\u001b[0mf\u001b[0m\u001b[1;33m,\u001b[0m \u001b[1;33m**\u001b[0m\u001b[0mkwargs\u001b[0m\u001b[1;33m)\u001b[0m\u001b[1;33m\u001b[0m\u001b[1;33m\u001b[0m\u001b[0m\n\u001b[0;32m    303\u001b[0m                 \u001b[1;32melse\u001b[0m\u001b[1;33m:\u001b[0m\u001b[1;33m\u001b[0m\u001b[1;33m\u001b[0m\u001b[0m\n\u001b[1;32m--> 304\u001b[1;33m                     \u001b[0mapplied\u001b[0m \u001b[1;33m=\u001b[0m \u001b[0mgetattr\u001b[0m\u001b[1;33m(\u001b[0m\u001b[0mb\u001b[0m\u001b[1;33m,\u001b[0m \u001b[0mf\u001b[0m\u001b[1;33m)\u001b[0m\u001b[1;33m(\u001b[0m\u001b[1;33m**\u001b[0m\u001b[0mkwargs\u001b[0m\u001b[1;33m)\u001b[0m\u001b[1;33m\u001b[0m\u001b[1;33m\u001b[0m\u001b[0m\n\u001b[0m\u001b[0;32m    305\u001b[0m             \u001b[1;32mexcept\u001b[0m \u001b[1;33m(\u001b[0m\u001b[0mTypeError\u001b[0m\u001b[1;33m,\u001b[0m \u001b[0mNotImplementedError\u001b[0m\u001b[1;33m)\u001b[0m\u001b[1;33m:\u001b[0m\u001b[1;33m\u001b[0m\u001b[1;33m\u001b[0m\u001b[0m\n\u001b[0;32m    306\u001b[0m                 \u001b[1;32mif\u001b[0m \u001b[1;32mnot\u001b[0m \u001b[0mignore_failures\u001b[0m\u001b[1;33m:\u001b[0m\u001b[1;33m\u001b[0m\u001b[1;33m\u001b[0m\u001b[0m\n",
      "\u001b[1;32m~\\anaconda3\\lib\\site-packages\\pandas\\core\\internals\\blocks.py\u001b[0m in \u001b[0;36mastype\u001b[1;34m(self, dtype, copy, errors)\u001b[0m\n\u001b[0;32m    578\u001b[0m         \u001b[0mvalues\u001b[0m \u001b[1;33m=\u001b[0m \u001b[0mself\u001b[0m\u001b[1;33m.\u001b[0m\u001b[0mvalues\u001b[0m\u001b[1;33m\u001b[0m\u001b[1;33m\u001b[0m\u001b[0m\n\u001b[0;32m    579\u001b[0m \u001b[1;33m\u001b[0m\u001b[0m\n\u001b[1;32m--> 580\u001b[1;33m         \u001b[0mnew_values\u001b[0m \u001b[1;33m=\u001b[0m \u001b[0mastype_array_safe\u001b[0m\u001b[1;33m(\u001b[0m\u001b[0mvalues\u001b[0m\u001b[1;33m,\u001b[0m \u001b[0mdtype\u001b[0m\u001b[1;33m,\u001b[0m \u001b[0mcopy\u001b[0m\u001b[1;33m=\u001b[0m\u001b[0mcopy\u001b[0m\u001b[1;33m,\u001b[0m \u001b[0merrors\u001b[0m\u001b[1;33m=\u001b[0m\u001b[0merrors\u001b[0m\u001b[1;33m)\u001b[0m\u001b[1;33m\u001b[0m\u001b[1;33m\u001b[0m\u001b[0m\n\u001b[0m\u001b[0;32m    581\u001b[0m \u001b[1;33m\u001b[0m\u001b[0m\n\u001b[0;32m    582\u001b[0m         \u001b[0mnew_values\u001b[0m \u001b[1;33m=\u001b[0m \u001b[0mmaybe_coerce_values\u001b[0m\u001b[1;33m(\u001b[0m\u001b[0mnew_values\u001b[0m\u001b[1;33m)\u001b[0m\u001b[1;33m\u001b[0m\u001b[1;33m\u001b[0m\u001b[0m\n",
      "\u001b[1;32m~\\anaconda3\\lib\\site-packages\\pandas\\core\\dtypes\\cast.py\u001b[0m in \u001b[0;36mastype_array_safe\u001b[1;34m(values, dtype, copy, errors)\u001b[0m\n\u001b[0;32m   1290\u001b[0m \u001b[1;33m\u001b[0m\u001b[0m\n\u001b[0;32m   1291\u001b[0m     \u001b[1;32mtry\u001b[0m\u001b[1;33m:\u001b[0m\u001b[1;33m\u001b[0m\u001b[1;33m\u001b[0m\u001b[0m\n\u001b[1;32m-> 1292\u001b[1;33m         \u001b[0mnew_values\u001b[0m \u001b[1;33m=\u001b[0m \u001b[0mastype_array\u001b[0m\u001b[1;33m(\u001b[0m\u001b[0mvalues\u001b[0m\u001b[1;33m,\u001b[0m \u001b[0mdtype\u001b[0m\u001b[1;33m,\u001b[0m \u001b[0mcopy\u001b[0m\u001b[1;33m=\u001b[0m\u001b[0mcopy\u001b[0m\u001b[1;33m)\u001b[0m\u001b[1;33m\u001b[0m\u001b[1;33m\u001b[0m\u001b[0m\n\u001b[0m\u001b[0;32m   1293\u001b[0m     \u001b[1;32mexcept\u001b[0m \u001b[1;33m(\u001b[0m\u001b[0mValueError\u001b[0m\u001b[1;33m,\u001b[0m \u001b[0mTypeError\u001b[0m\u001b[1;33m)\u001b[0m\u001b[1;33m:\u001b[0m\u001b[1;33m\u001b[0m\u001b[1;33m\u001b[0m\u001b[0m\n\u001b[0;32m   1294\u001b[0m         \u001b[1;31m# e.g. astype_nansafe can fail on object-dtype of strings\u001b[0m\u001b[1;33m\u001b[0m\u001b[1;33m\u001b[0m\u001b[0m\n",
      "\u001b[1;32m~\\anaconda3\\lib\\site-packages\\pandas\\core\\dtypes\\cast.py\u001b[0m in \u001b[0;36mastype_array\u001b[1;34m(values, dtype, copy)\u001b[0m\n\u001b[0;32m   1235\u001b[0m \u001b[1;33m\u001b[0m\u001b[0m\n\u001b[0;32m   1236\u001b[0m     \u001b[1;32melse\u001b[0m\u001b[1;33m:\u001b[0m\u001b[1;33m\u001b[0m\u001b[1;33m\u001b[0m\u001b[0m\n\u001b[1;32m-> 1237\u001b[1;33m         \u001b[0mvalues\u001b[0m \u001b[1;33m=\u001b[0m \u001b[0mastype_nansafe\u001b[0m\u001b[1;33m(\u001b[0m\u001b[0mvalues\u001b[0m\u001b[1;33m,\u001b[0m \u001b[0mdtype\u001b[0m\u001b[1;33m,\u001b[0m \u001b[0mcopy\u001b[0m\u001b[1;33m=\u001b[0m\u001b[0mcopy\u001b[0m\u001b[1;33m)\u001b[0m\u001b[1;33m\u001b[0m\u001b[1;33m\u001b[0m\u001b[0m\n\u001b[0m\u001b[0;32m   1238\u001b[0m \u001b[1;33m\u001b[0m\u001b[0m\n\u001b[0;32m   1239\u001b[0m     \u001b[1;31m# in pandas we don't store numpy str dtypes, so convert to object\u001b[0m\u001b[1;33m\u001b[0m\u001b[1;33m\u001b[0m\u001b[0m\n",
      "\u001b[1;32m~\\anaconda3\\lib\\site-packages\\pandas\\core\\dtypes\\cast.py\u001b[0m in \u001b[0;36mastype_nansafe\u001b[1;34m(arr, dtype, copy, skipna)\u001b[0m\n\u001b[0;32m   1152\u001b[0m         \u001b[1;31m# work around NumPy brokenness, #1987\u001b[0m\u001b[1;33m\u001b[0m\u001b[1;33m\u001b[0m\u001b[0m\n\u001b[0;32m   1153\u001b[0m         \u001b[1;32mif\u001b[0m \u001b[0mnp\u001b[0m\u001b[1;33m.\u001b[0m\u001b[0missubdtype\u001b[0m\u001b[1;33m(\u001b[0m\u001b[0mdtype\u001b[0m\u001b[1;33m.\u001b[0m\u001b[0mtype\u001b[0m\u001b[1;33m,\u001b[0m \u001b[0mnp\u001b[0m\u001b[1;33m.\u001b[0m\u001b[0minteger\u001b[0m\u001b[1;33m)\u001b[0m\u001b[1;33m:\u001b[0m\u001b[1;33m\u001b[0m\u001b[1;33m\u001b[0m\u001b[0m\n\u001b[1;32m-> 1154\u001b[1;33m             \u001b[1;32mreturn\u001b[0m \u001b[0mlib\u001b[0m\u001b[1;33m.\u001b[0m\u001b[0mastype_intsafe\u001b[0m\u001b[1;33m(\u001b[0m\u001b[0marr\u001b[0m\u001b[1;33m,\u001b[0m \u001b[0mdtype\u001b[0m\u001b[1;33m)\u001b[0m\u001b[1;33m\u001b[0m\u001b[1;33m\u001b[0m\u001b[0m\n\u001b[0m\u001b[0;32m   1155\u001b[0m \u001b[1;33m\u001b[0m\u001b[0m\n\u001b[0;32m   1156\u001b[0m         \u001b[1;31m# if we have a datetime/timedelta array of objects\u001b[0m\u001b[1;33m\u001b[0m\u001b[1;33m\u001b[0m\u001b[0m\n",
      "\u001b[1;32m~\\anaconda3\\lib\\site-packages\\pandas\\_libs\\lib.pyx\u001b[0m in \u001b[0;36mpandas._libs.lib.astype_intsafe\u001b[1;34m()\u001b[0m\n",
      "\u001b[1;31mTypeError\u001b[0m: int() argument must be a string, a bytes-like object or a number, not 'method'"
     ]
    }
   ],
   "source": [
    "df.Age = df.Age.astype(int)"
   ]
  },
  {
   "cell_type": "markdown",
   "id": "10c1c527-ae18-444b-8b64-e76ca5ee6015",
   "metadata": {
    "jp-MarkdownHeadingCollapsed": true,
    "tags": []
   },
   "source": [
    "### 3.6.1 Separar la variable Transported."
   ]
  },
  {
   "cell_type": "markdown",
   "id": "28d3206d-764b-49ce-af82-3bf7f0e60c83",
   "metadata": {},
   "source": [
    "##### La variable predictora en este proyecto es 'Transported' y para comparar usando la función describe, debo separar esta variable.\n",
    "##### 1.- Los que se transportan (1).\n",
    "##### 2.- Los que NO se transportan (0). "
   ]
  },
  {
   "cell_type": "markdown",
   "id": "21cc6e0e-59df-4982-9dbe-4e1c3ebf04ae",
   "metadata": {
    "tags": []
   },
   "source": [
    "#### Pasajeros que se transportan y que NO se transportan."
   ]
  },
  {
   "cell_type": "code",
   "execution_count": null,
   "id": "875179a0-2819-4171-afaf-bca160236d8d",
   "metadata": {
    "id": "uBDltyUy5o1L"
   },
   "outputs": [],
   "source": [
    "# Contamos el número de pasajeros que se transportaron y que no se transportaron\n",
    "# Estamos ante un conjunto de datos equilibrado (la misma cantidad en ambos grupos)\n",
    "transported = df[df['Transported'] == 1]\n",
    "no_transported = df[df['Transported'] == 0]\n",
    "print(\"El total de pasajeros es {},\"\n",
    "      \" los que no se transportaron son {}\"\n",
    "      \" y los que si se transportaron son {}.\".format(len(df),len(no_transported),len(transported)))\n",
    "\n",
    "print(\"Por lo tanto, un {:.1f}% de los pasajeros\"\n",
    "      \" se transportó.\".format(len(transported)*100/len(df)))"
   ]
  },
  {
   "cell_type": "markdown",
   "id": "fc39161a-f58c-480a-b9b2-b4d9a0924331",
   "metadata": {
    "id": "nPPQHIxyx7YZ",
    "tags": []
   },
   "source": [
    "### 3.6.2 Comparación entre No sobrevivientes y sobrevivientes."
   ]
  },
  {
   "cell_type": "code",
   "execution_count": null,
   "id": "ae67bfc0-7d11-40e3-b120-07515b624623",
   "metadata": {},
   "outputs": [],
   "source": [
    "no_transported.describe()"
   ]
  },
  {
   "cell_type": "code",
   "execution_count": null,
   "id": "957f470a-2f52-4bbe-8adb-c27372142e6f",
   "metadata": {},
   "outputs": [],
   "source": [
    "transported.describe()"
   ]
  },
  {
   "cell_type": "markdown",
   "id": "2deac16f-fb26-4f13-9fb4-efc70818fe22",
   "metadata": {
    "id": "B5SXd3txxv7V"
   },
   "source": [
    "#### Conclusiones:\n",
    "##### 1.-"
   ]
  },
  {
   "cell_type": "markdown",
   "id": "a757150a-d414-4bfe-9902-37df47159f20",
   "metadata": {
    "id": "nPPQHIxyx7YZ"
   },
   "source": [
    "### 3.6.2 Comparación entre No sobrevivientes y sobrevivientes mediante gráficos de barra."
   ]
  },
  {
   "cell_type": "code",
   "execution_count": null,
   "id": "7e7821c6-b498-422b-80dc-9e96975600cb",
   "metadata": {},
   "outputs": [],
   "source": [
    "df.info()"
   ]
  },
  {
   "cell_type": "code",
   "execution_count": null,
   "id": "391eea1e-700d-478b-87b4-992d7860450a",
   "metadata": {},
   "outputs": [],
   "source": [
    "px.histogram(df, x='HomePlanet', color = 'Transported', text_auto=True,\n",
    "             title='Transportados según Planeta de Origen', barmode='group', barnorm='',\n",
    "             width=800, height=400, color_discrete_sequence=['#B71C1C','#0A1172'])"
   ]
  },
  {
   "cell_type": "markdown",
   "id": "749c80ec-e03d-4ea7-afb7-6b4590f1055e",
   "metadata": {
    "tags": []
   },
   "source": [
    "#### Conclusiones:\n",
    "##### 1.- Claramente se observa mayor probabilidad de sobrevivir al pertenecer a primera clase, la misma probabilidad de sobrevivir o morir si se es de segunda clase, y una alta probabilidad de morir si eres de tercera clase. Falleció un 37% de la primera clase, un 53% de la segunda clase y un 76% de la tercera clase."
   ]
  },
  {
   "cell_type": "code",
   "execution_count": null,
   "id": "a2abdce4-767b-4e5e-b83c-151270e68b60",
   "metadata": {},
   "outputs": [],
   "source": [
    "px.histogram(df, x='CryoSleep', color = 'Transported', text_auto=True,\n",
    "             title='Transportados según Sueño Criogénico', barmode='group', barnorm='',\n",
    "             width=800, height=400, color_discrete_sequence=['#B71C1C','#0A1172'])"
   ]
  },
  {
   "cell_type": "markdown",
   "id": "a6e26ba1-7484-438b-9448-7499c4f76ace",
   "metadata": {},
   "source": [
    "#### Conclusiones:\n",
    "##### 1.- Sobrevivieron 109 hombres y 233 mujeres.\n",
    "##### 2.- El 74% de las mujeres y el 19% de los hombres sobrevivió.\n",
    "##### 3.- Ser hombre o mujer es un factor muy poderoso a la hora de sobrevivir en este hundimiento."
   ]
  },
  {
   "cell_type": "code",
   "execution_count": null,
   "id": "dc19556e-911c-41ae-b6c4-9b1ec53bffd0",
   "metadata": {},
   "outputs": [],
   "source": [
    "px.histogram(df, x='Destination', color = 'Transported', text_auto=True,\n",
    "             title='Transportados según Planeta de Destino', barmode='group', barnorm='',\n",
    "             width=800, height=400, color_discrete_sequence=['#B71C1C','#0A1172'])"
   ]
  },
  {
   "cell_type": "markdown",
   "id": "f63eb3fa-34c8-43f6-ba19-7b93b96e33a6",
   "metadata": {},
   "source": [
    "#### Conclusiones:\n",
    "##### 1.- Las personas que más sobrevivieron son las que tenían entre 20 y 40 años.\n",
    "##### 2.- Para todas las edades hay una alta probabilidad de NO sobrevivir, sin embargo, las presonas de 10, de 20 a 22, de 46 a 48 y de 64 a 76, tenían altas probabilidades de morir. Por otra parte, las personas de 0 a 2, de 4 a 6, de 12 a 16, de 48 a 50, de 62 a 64, tenían altas probabilidades de sobrevivir.\n",
    "##### 3.- La forma de la distribución es normal."
   ]
  },
  {
   "cell_type": "code",
   "execution_count": null,
   "id": "d858803d-ec2f-4159-8c79-5db0e16161dd",
   "metadata": {},
   "outputs": [],
   "source": [
    "px.histogram(df, x='VIP', color = 'Transported', text_auto=True,\n",
    "             title='Transportados según clientes VIP', barmode='group', barnorm='',\n",
    "             width=800, height=400, color_discrete_sequence=['#B71C1C','#0A1172'])"
   ]
  },
  {
   "cell_type": "markdown",
   "id": "b8085c29-7d74-436b-8218-03b28bb2f582",
   "metadata": {},
   "source": [
    "#### Conclusiones:\n",
    "##### 1.- Al parecer, las personas que se embarcaron en el puerto S, tienen una menor probabilidad de sobrevivenciay los pasajeros embarcados en C, tienen las probabilidades más altas de sobreviviencia. "
   ]
  },
  {
   "cell_type": "code",
   "execution_count": null,
   "id": "1498181e-8920-4e6e-9862-5d2f47835c43",
   "metadata": {},
   "outputs": [],
   "source": [
    "# Realizaremos lo mismo con las demás variables\n",
    "plt.figure(figsize = [15,4])\n",
    "sns.countplot(x = 'Age', hue = 'Transported', data = df)"
   ]
  },
  {
   "cell_type": "markdown",
   "id": "4190b680-9ef4-4a25-ac2c-0839f6cfb84e",
   "metadata": {
    "id": "btcWqUnfPcxW",
    "jp-MarkdownHeadingCollapsed": true,
    "tags": []
   },
   "source": [
    "## 3.7 Correlaciones."
   ]
  },
  {
   "cell_type": "markdown",
   "id": "06550115-e7c5-4b9d-8c27-53eb2c9e0a92",
   "metadata": {},
   "source": [
    "### 3.7.1 Matriz de correlaciones."
   ]
  },
  {
   "cell_type": "code",
   "execution_count": null,
   "id": "2dcd89f2-7ef0-414a-ad99-d8e8da5d740b",
   "metadata": {
    "id": "zBy4m89a08Sj"
   },
   "outputs": [],
   "source": [
    "correlations = df.corr()\n",
    "f, ax = plt.subplots(figsize = (5,3))\n",
    "sns.heatmap(correlations, annot = True)\n"
   ]
  },
  {
   "cell_type": "markdown",
   "id": "a008d435-65ab-41b8-b2aa-ea6acc1c53a3",
   "metadata": {},
   "source": [
    "#### Observaciones:\n",
    "#### 1.- Variable Survived con Pclass (-), con Sex (-) y con Fare (+).\n",
    "#### 2.- Variable Pclass con Age (-) y con Fare (-).\n",
    "#### 3.- Age con SibSp (-) y con Parch (-).\n",
    "#### 4.- SibSp con Parch (+)\n",
    "#### 5.- Parch con Fare (+)"
   ]
  },
  {
   "cell_type": "markdown",
   "id": "15679b63-9bbd-4827-bc9f-b582bf071bb5",
   "metadata": {
    "id": "Y0GmpAjG3GiH",
    "jp-MarkdownHeadingCollapsed": true,
    "tags": []
   },
   "source": [
    "# 4. Crear los data sets para posterior entrenamiento y testing. Normalización o escalamiento de las variables."
   ]
  },
  {
   "cell_type": "markdown",
   "id": "3bdb529d-88d5-4cb4-b374-54ab61dee686",
   "metadata": {
    "tags": []
   },
   "source": [
    "## 4.3 Escalamiento de las variables: último punto de la limpieza de datos."
   ]
  },
  {
   "cell_type": "code",
   "execution_count": null,
   "id": "018ec0ff-b677-48f3-963a-04ea6cca1aa8",
   "metadata": {},
   "outputs": [],
   "source": [
    "X = df.iloc[:, 1:6].values\n",
    "y = df.iloc[:, 0].values"
   ]
  },
  {
   "cell_type": "code",
   "execution_count": null,
   "id": "5732f789-0b37-4189-867d-404fb3a2fe1f",
   "metadata": {},
   "outputs": [],
   "source": [
    "# Importamos la biblioteca a usar\n",
    "from sklearn.preprocessing import MinMaxScaler\n",
    "sc = MinMaxScaler()\n",
    "X = sc.fit_transform(X)"
   ]
  },
  {
   "cell_type": "code",
   "execution_count": null,
   "id": "01137899-a72c-44db-9305-003657745ce2",
   "metadata": {},
   "outputs": [],
   "source": [
    "# revisamos\n",
    "X"
   ]
  },
  {
   "cell_type": "markdown",
   "id": "e12c15e9-c3ab-49c4-a758-ff9aa7521630",
   "metadata": {},
   "source": [
    "#### Excelente, se ha creado un array con todos los datos escalados para que los algoritmos no infravaloren a los datos más pequeños o sobrevaloren a los más grandes."
   ]
  },
  {
   "cell_type": "markdown",
   "id": "33369cc9-32c8-4854-8eb4-76ca491cb579",
   "metadata": {},
   "source": [
    "#### y por otro lado, tenemos un array con todos los valores de la variable a predecir"
   ]
  },
  {
   "cell_type": "markdown",
   "id": "495c243d-ba14-44dd-b288-af43cc64e801",
   "metadata": {},
   "source": [
    "## 5.1 Redes neuronales artificiales."
   ]
  },
  {
   "cell_type": "markdown",
   "id": "c5537b41-31cc-4542-b2f0-b68d3bdebe75",
   "metadata": {
    "id": "2LGXlsW-qY6T"
   },
   "source": [
    "![alt text](https://drive.google.com/uc?id=1zC0o6mkPWhlIwbs1J2LXTVv1IjtTgBLw)"
   ]
  },
  {
   "cell_type": "markdown",
   "id": "c70e1e2a-2344-44be-a5ff-0521a1fc60a7",
   "metadata": {},
   "source": [
    "## 5.2 Clasificador de regresión logística."
   ]
  },
  {
   "cell_type": "markdown",
   "id": "b66c57dd-0c64-41e5-837c-b63944974a10",
   "metadata": {
    "id": "RAhjTl8rqfEP"
   },
   "source": [
    "![alt text](https://drive.google.com/uc?id=1JahiZRxjM1gd1cdSlJXBsSmR3cCrZEwr)"
   ]
  },
  {
   "cell_type": "markdown",
   "id": "e8c6986e-e1eb-427c-8421-3d620e073a94",
   "metadata": {
    "id": "BSf1ttexqoAy"
   },
   "source": [
    "![alt text](https://drive.google.com/uc?id=1Vf81FJgCX518kr8FFS-sgzT6Nu7yjMQA)"
   ]
  },
  {
   "cell_type": "markdown",
   "id": "717a54b7-1c9c-4ef9-b7c8-999a3b3af84f",
   "metadata": {
    "id": "mEyfNrkaqxLi"
   },
   "source": [
    "![alt text](https://drive.google.com/uc?id=11_L_2NlgtZJulG5BI6Lj8MMGpO5F_QJV)"
   ]
  },
  {
   "cell_type": "markdown",
   "id": "8ce7ea98-f5aa-4b0c-9c5f-ccab7870c27e",
   "metadata": {},
   "source": [
    "## 5.3 Clasificador de bosques aleatorios."
   ]
  },
  {
   "cell_type": "markdown",
   "id": "4265c6bc-2c5b-4814-b4a2-0acd13bcaf64",
   "metadata": {
    "id": "FfBciHaVq2i8"
   },
   "source": [
    "![alt text](https://drive.google.com/uc?id=1azYXfWAiUl1LkzEJXYN-GRZneTfzMsVV)"
   ]
  },
  {
   "cell_type": "markdown",
   "id": "712df695-67c5-469e-8674-525359e740a6",
   "metadata": {
    "id": "lweiI-Krrfvc"
   },
   "source": [
    "## 5.4 Matriz de confusión."
   ]
  },
  {
   "cell_type": "markdown",
   "id": "9886452e-6e1e-4682-9c6a-6540e54df809",
   "metadata": {},
   "source": [
    "### 5.4.1 Matriz de confusión."
   ]
  },
  {
   "cell_type": "markdown",
   "id": "170815b5-592e-4d15-b27e-0a1c16d3a59c",
   "metadata": {
    "id": "FbyUpOKkrCxV"
   },
   "source": [
    "![alt text](https://drive.google.com/uc?id=1Mj1ZhIqcnJl1tfIHeq6R6T8LVzbodtqa)"
   ]
  },
  {
   "cell_type": "markdown",
   "id": "8be2f18d-a2e9-4b6e-9efc-c5372de9e7d2",
   "metadata": {},
   "source": [
    "### 5.4.2 Verdaderos positivos y negativos y errores del tipo I y II. "
   ]
  },
  {
   "cell_type": "markdown",
   "id": "97e9de20-296b-45a2-8db2-e80c0dad4fca",
   "metadata": {
    "id": "O4E1szzdrMpA"
   },
   "source": [
    "![alt text](https://drive.google.com/uc?id=1095MBU9oYD1eE65fTrz-8sFgYbbvwAuH)"
   ]
  },
  {
   "cell_type": "markdown",
   "id": "3311117e-02d8-4f8d-a221-220f3a0e3b11",
   "metadata": {},
   "source": [
    "### 5.4.3 Precisión, exahustividad y F-score."
   ]
  },
  {
   "cell_type": "markdown",
   "id": "45152da2-8d2f-429b-8e95-0b7145710c84",
   "metadata": {
    "id": "hXpQYgD0uCBj"
   },
   "source": [
    "![alt text](https://drive.google.com/uc?id=1OojsDQecO-69GQFDYsULNhqgxAP9PrU3)"
   ]
  },
  {
   "cell_type": "markdown",
   "id": "0483f51b-44e5-41b4-95a8-6fc3b3ffc42e",
   "metadata": {
    "id": "mDlTGjekuF4I"
   },
   "source": [
    "![alt text](https://drive.google.com/uc?id=1G1-il6xFMUuz3nd78kvwiP3mcuXqZM3U)"
   ]
  },
  {
   "cell_type": "markdown",
   "id": "20cdafba-b692-426a-970c-efcd2cdd04ad",
   "metadata": {
    "id": "otudfveOME9P",
    "jp-MarkdownHeadingCollapsed": true,
    "tags": []
   },
   "source": [
    "# 5. Entrenamiento y evaluación de un clasificador con Regresión Logística."
   ]
  },
  {
   "cell_type": "code",
   "execution_count": null,
   "id": "7ac7bee6-7079-4e30-8e0a-c8f795fb352d",
   "metadata": {
    "id": "RgFq3h993cIz"
   },
   "outputs": [],
   "source": [
    "# Creamos el modelo de entrenamiento\n",
    "from sklearn.model_selection import train_test_split # Importamos la función de entrenamiento\n",
    "X_train, X_test, y_train, y_test = train_test_split(X, y, test_size=0.25) # Creamos los objetos para el entrenamiento"
   ]
  },
  {
   "cell_type": "code",
   "execution_count": null,
   "id": "0b6bc58c-8292-45ae-98cb-82d6fe193408",
   "metadata": {
    "id": "DqIp8uvJ3cGi"
   },
   "outputs": [],
   "source": [
    "X_train.shape # Dimensiones de las observaciones que tenemos"
   ]
  },
  {
   "cell_type": "code",
   "execution_count": null,
   "id": "5f016208-5a14-4fcc-ba5a-d3a121147c7f",
   "metadata": {
    "id": "d4wfApza3cEc"
   },
   "outputs": [],
   "source": [
    "X_test.shape # Dimensiones para las dimensiones del testing"
   ]
  },
  {
   "cell_type": "code",
   "execution_count": null,
   "id": "eda1e0c5-f520-4c8f-8830-7e113daf35f9",
   "metadata": {
    "id": "f-yF03L-MMz0"
   },
   "outputs": [],
   "source": [
    "# Creamos el modelo de regresión logistica\n",
    "from sklearn.linear_model import LogisticRegression # modelo de regresión\n",
    "from sklearn.metrics import accuracy_score # modelo para medir el accuracy\n",
    "\n",
    "model = LogisticRegression() # Creamos el objeto \"modelo\"\n",
    "model.fit(X_train,y_train) # Ajustamos los valores del modelo a los datos del conjunto de entrenamiento \n",
    "\n",
    "# Predicción\n",
    "y_pred = model.predict(X_test)"
   ]
  },
  {
   "cell_type": "code",
   "execution_count": null,
   "id": "6d04c7ca-f00c-430a-9413-36213157c5b1",
   "metadata": {
    "id": "jDj4uNvjNWkK"
   },
   "outputs": [],
   "source": [
    "# Revisamos\n",
    "y_pred"
   ]
  },
  {
   "cell_type": "code",
   "execution_count": null,
   "id": "54313d68-2410-43b3-b86b-53c15dd62b39",
   "metadata": {
    "id": "7mlqam98MgCG"
   },
   "outputs": [],
   "source": [
    "# Probamos el resultado con los KPIs\n",
    "from sklearn.metrics import confusion_matrix, classification_report # para las matrices de confusión y otras cosas"
   ]
  },
  {
   "cell_type": "code",
   "execution_count": null,
   "id": "9dfe2c07-5fc7-480f-91cf-5be698c55dac",
   "metadata": {},
   "outputs": [],
   "source": [
    "# Tasa de acierto\n",
    "print(\"La tasa de acierto es de un {}%.\".format(100*accuracy_score(y_test,y_pred)))"
   ]
  },
  {
   "cell_type": "code",
   "execution_count": null,
   "id": "8bcf70fb-8b62-4b2c-af6a-da344fc9495c",
   "metadata": {
    "id": "OSfFqmKHNuJe"
   },
   "outputs": [],
   "source": [
    "# Matriz de confusion (me gusto más este formato que el anterior, usaré este) \n",
    "def plot_matriz(y_test,y_pred):\n",
    "  cm = confusion_matrix(y_test, y_pred)\n",
    "  sns.set(font_scale=1)\n",
    "  sns.heatmap(cm, annot=True,cmap='Blues',fmt='g')\n",
    "  plt.title(\"Matriz de confusion\")\n",
    "  plt.xlabel(\"Valores predichos\")\n",
    "  plt.ylabel(\"Valores reales\")\n",
    "  plt.show()\n",
    "# Graficar\n",
    "plot_matriz(y_test,y_pred)"
   ]
  },
  {
   "cell_type": "code",
   "execution_count": null,
   "id": "31ebaafd-9ffb-4057-806f-91bc891260ca",
   "metadata": {},
   "outputs": [],
   "source": [
    "# classification_report\n",
    "print(classification_report(y_test,y_pred))"
   ]
  },
  {
   "cell_type": "markdown",
   "id": "b781f4c8-b7a0-476d-a176-eca604bc06e4",
   "metadata": {
    "id": "o0LevjwDP3Zk",
    "jp-MarkdownHeadingCollapsed": true,
    "tags": []
   },
   "source": [
    "# 6. Entrenamiento y evaluación de un clasificador con Bosques Aleatorios."
   ]
  },
  {
   "cell_type": "code",
   "execution_count": null,
   "id": "332e4b87-efd0-4b98-bb78-083a77fa8f34",
   "metadata": {
    "id": "A9CInUwvP9nF"
   },
   "outputs": [],
   "source": [
    "# Vamos a obtener el modelo de ensamblamiento\n",
    "from sklearn.ensemble import RandomForestClassifier\n",
    "\n",
    "model2 = RandomForestClassifier(n_estimators=250, random_state=0)\n",
    "model2.fit(X_train,y_train)"
   ]
  },
  {
   "cell_type": "code",
   "execution_count": null,
   "id": "b447dec3-720a-4be3-835b-0abe988cf0f6",
   "metadata": {
    "id": "X5x0CZkgQSsY"
   },
   "outputs": [],
   "source": [
    "y_pred = model2.predict(X_test)"
   ]
  },
  {
   "cell_type": "code",
   "execution_count": null,
   "id": "ab918232-f258-4210-9248-f73f29018a0f",
   "metadata": {},
   "outputs": [],
   "source": [
    "# Revisamos\n",
    "y_pred"
   ]
  },
  {
   "cell_type": "code",
   "execution_count": null,
   "id": "97fd2088-5810-46fb-818a-50bb1d1d563c",
   "metadata": {},
   "outputs": [],
   "source": [
    "# Probamos el resultado con los KPIs\n",
    "# Tasa de acierto\n",
    "print(\"La tasa de acierto es de un {}%.\".format(100*accuracy_score(y_test,y_pred)))"
   ]
  },
  {
   "cell_type": "code",
   "execution_count": null,
   "id": "8330f81c-0bbd-471b-a5c9-37b31833defb",
   "metadata": {},
   "outputs": [],
   "source": [
    "# Matriz de confusion\n",
    "def plot_matriz(y_test,y_pred):\n",
    "  cm = confusion_matrix(y_test, y_pred)\n",
    "  sns.set(font_scale=1)\n",
    "  sns.heatmap(cm, annot=True,cmap='Blues',fmt='g')\n",
    "  plt.title(\"Matriz de confusion\")\n",
    "  plt.xlabel(\"Valores predichos\")\n",
    "  plt.ylabel(\"Valores reales\")\n",
    "  plt.show()\n",
    "# Graficar\n",
    "plot_matriz(y_test,y_pred)"
   ]
  },
  {
   "cell_type": "code",
   "execution_count": null,
   "id": "b93fe1be-196c-44ad-9d26-82ac3cb880ed",
   "metadata": {},
   "outputs": [],
   "source": [
    "# classification_report\n",
    "print(classification_report(y_test,y_pred))"
   ]
  },
  {
   "cell_type": "markdown",
   "id": "85455f61-9a20-4013-8fb3-a06652ceb417",
   "metadata": {
    "tags": []
   },
   "source": [
    "# 7. Predicción."
   ]
  },
  {
   "cell_type": "code",
   "execution_count": null,
   "id": "ea97f256-2af5-45d3-a0d2-381237a5a7b1",
   "metadata": {
    "id": "A9CInUwvP9nF"
   },
   "outputs": [],
   "source": [
    "# Vamos a predecir con el csv de test\n",
    "df_test = pd.read_csv(\"test.csv\")"
   ]
  },
  {
   "cell_type": "code",
   "execution_count": null,
   "id": "fa56da42-d39b-4f1f-8122-1a722fededdb",
   "metadata": {},
   "outputs": [],
   "source": [
    "# revisión de duplicados\n",
    "df_test.duplicated().sum()"
   ]
  },
  {
   "cell_type": "code",
   "execution_count": null,
   "id": "6d36d024-5ca2-4664-9350-80f3e49afb0e",
   "metadata": {},
   "outputs": [],
   "source": [
    "# Eliminaremos las variables que decidimos eliminar anteriormente.\n",
    "df_test.drop(['PassengerId','Name','Ticket','Cabin','SibSp','Parch'], axis=1, inplace = True)"
   ]
  },
  {
   "cell_type": "code",
   "execution_count": null,
   "id": "3f716ff0-45a4-45a3-92f9-fbe1842fc8f3",
   "metadata": {},
   "outputs": [],
   "source": [
    "# cambiaremos Sex a variable numérica\n",
    "df_test['Sex'].value_counts()"
   ]
  },
  {
   "cell_type": "code",
   "execution_count": null,
   "id": "881a1ea3-5de3-49ca-adb3-f2a42facccad",
   "metadata": {
    "id": "ZiVkQqEPMDDD"
   },
   "outputs": [],
   "source": [
    "df_test['Sex'] = df_test['Sex'].apply(lambda x: 1 if x == 'male' else 0)"
   ]
  },
  {
   "cell_type": "code",
   "execution_count": null,
   "id": "840b6cd9-6511-434e-b83f-896ee3fb69e0",
   "metadata": {},
   "outputs": [],
   "source": [
    "# Cambiaremos Embarked a variable numérica\n",
    "df_test['Embarked'].value_counts()"
   ]
  },
  {
   "cell_type": "code",
   "execution_count": null,
   "id": "70dcfc3f-6314-4616-8840-9268809e3c57",
   "metadata": {},
   "outputs": [],
   "source": [
    "df_test['Embarked'] = df_test['Embarked'].apply(lambda x: 1 if x == 'S'\n",
    "                                                else (2 if x == 'C' else 3))"
   ]
  },
  {
   "cell_type": "code",
   "execution_count": null,
   "id": "e999d835-249b-4668-9c03-c23df21e1ff1",
   "metadata": {
    "id": "ICj3NLbqqmve"
   },
   "outputs": [],
   "source": [
    "# Hallar e imputar nulos\n",
    "df_test.isna().sum().sort_values(ascending = False)"
   ]
  },
  {
   "cell_type": "code",
   "execution_count": null,
   "id": "d523efcd-128f-4110-95a0-28d4826335d7",
   "metadata": {},
   "outputs": [],
   "source": [
    "df_test.loc[(df_test['Age'].isnull() == True), 'Age'] = df_test['Age'].mean()"
   ]
  },
  {
   "cell_type": "code",
   "execution_count": null,
   "id": "f8d3ed60-ac02-4d95-8460-a1362b1bc18c",
   "metadata": {},
   "outputs": [],
   "source": [
    "df_test.loc[(df_test['Fare'].isnull() == True), 'Fare'] = df_test['Fare'].mean()"
   ]
  },
  {
   "cell_type": "code",
   "execution_count": null,
   "id": "e6ebe50d-03f0-4430-83df-d3f8cfc5ed22",
   "metadata": {},
   "outputs": [],
   "source": [
    "#revisamos\n",
    "df_test.isna().sum().sort_values(ascending = False)"
   ]
  },
  {
   "cell_type": "code",
   "execution_count": null,
   "id": "559d77d4-637e-4703-b99c-01ea486a006b",
   "metadata": {},
   "outputs": [],
   "source": [
    "# preprocesado del conjunto de variables X\n",
    "df_test"
   ]
  },
  {
   "cell_type": "code",
   "execution_count": null,
   "id": "a085e78c-145d-4e9a-97d3-2ab68187ad1d",
   "metadata": {},
   "outputs": [],
   "source": [
    "X_test = df_test.iloc[:, :5].values"
   ]
  },
  {
   "cell_type": "code",
   "execution_count": null,
   "id": "f76dda04-2519-4841-8201-fe9b3262b88d",
   "metadata": {},
   "outputs": [],
   "source": [
    "# Escalamos\n",
    "sc = MinMaxScaler()\n",
    "X_test = sc.fit_transform(X_test)"
   ]
  },
  {
   "cell_type": "code",
   "execution_count": null,
   "id": "35357bd8-8dc8-4a9d-a5f8-bd85d696b7d0",
   "metadata": {},
   "outputs": [],
   "source": [
    "# revisamos\n",
    "X_test"
   ]
  },
  {
   "cell_type": "code",
   "execution_count": null,
   "id": "07c80c29-cb63-4572-9c43-47af9cb38075",
   "metadata": {},
   "outputs": [],
   "source": [
    "y_pred = model2.predict(X_test)\n",
    "y_pred.shape"
   ]
  },
  {
   "cell_type": "code",
   "execution_count": null,
   "id": "1de29238-6413-4e72-90f9-79235ecb95f7",
   "metadata": {},
   "outputs": [],
   "source": [
    "y_pred"
   ]
  },
  {
   "cell_type": "markdown",
   "id": "e2d9a124-6c47-43ec-9397-9683878ecb28",
   "metadata": {
    "tags": []
   },
   "source": [
    "# 8. Insertar Scoring."
   ]
  },
  {
   "cell_type": "markdown",
   "id": "7e73b6ea-01b6-41eb-bd59-89a92b924fc4",
   "metadata": {
    "tags": []
   },
   "source": [
    "## 8.1 Insertar el Scoring de Survivor para la visualización de datos."
   ]
  },
  {
   "cell_type": "code",
   "execution_count": null,
   "id": "def26de0-b8d5-475c-962c-9362fcfe27bc",
   "metadata": {},
   "outputs": [],
   "source": [
    "# Vamos a transformar el array de y_pred en un data frame\n",
    "df_survivor = pd.DataFrame(y_pred)\n",
    "# y obtener la columna survivor desde el data frame de test\n",
    "df_test = pd.read_csv(\"test.csv\")\n",
    "# crearé un df de entrega con la columna Id pasajeros \n",
    "df_entrega = df_test[['PassengerId']]\n",
    "# y le agregaré la columna sobrevivientes\n",
    "df_entrega['Survived'] = df_survivor.loc[:,0].values"
   ]
  },
  {
   "cell_type": "code",
   "execution_count": null,
   "id": "05c6c936-c19f-452e-9251-a162c57e2737",
   "metadata": {},
   "outputs": [],
   "source": [
    "# revisamos\n",
    "df_entrega"
   ]
  },
  {
   "cell_type": "markdown",
   "id": "0f12487f-8e91-4286-90fe-6e1c8174e653",
   "metadata": {},
   "source": [
    "## 8.2 Crear Csv para subir a competencia."
   ]
  },
  {
   "cell_type": "code",
   "execution_count": null,
   "id": "c0e2efcb-f761-4edb-a3df-fac497d10071",
   "metadata": {},
   "outputs": [],
   "source": [
    "df_entrega.to_csv('prediction.csv', index=False)"
   ]
  },
  {
   "cell_type": "markdown",
   "id": "6725e75e-5303-4aa4-946f-60497698785a",
   "metadata": {},
   "source": [
    "<div align=\"center\">\n",
    "    <h1> <b>FIN</b></h1>\n",
    "</div>"
   ]
  }
 ],
 "metadata": {
  "kernelspec": {
   "display_name": "Python 3 (ipykernel)",
   "language": "python",
   "name": "python3"
  },
  "language_info": {
   "codemirror_mode": {
    "name": "ipython",
    "version": 3
   },
   "file_extension": ".py",
   "mimetype": "text/x-python",
   "name": "python",
   "nbconvert_exporter": "python",
   "pygments_lexer": "ipython3",
   "version": "3.9.13"
  }
 },
 "nbformat": 4,
 "nbformat_minor": 5
}
